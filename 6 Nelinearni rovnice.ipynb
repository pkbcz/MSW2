{
 "cells": [
  {
   "cell_type": "markdown",
   "metadata": {},
   "source": [
    "# Matematický software "
   ]
  },
  {
   "cell_type": "markdown",
   "metadata": {},
   "source": [
    "## Cv. 6 - Nelineární rovnice\n",
    "\n",
    "Prezentace: [POSEL](MS6_soubory/NelinearniRovnice.pdf)"
   ]
  },
  {
   "cell_type": "markdown",
   "metadata": {},
   "source": [
    "### Cognitive Apprenticeship\n",
    "\n",
    "V tomto cvičení si ukážeme 3 metody, které nám pomohou vyhledat kořen nelineární rovnice."
   ]
  },
  {
   "cell_type": "code",
   "execution_count": null,
   "metadata": {},
   "outputs": [],
   "source": [
    "!python -m pip install matplotlib"
   ]
  },
  {
   "cell_type": "code",
   "execution_count": null,
   "metadata": {},
   "outputs": [],
   "source": [
    "!python -m pip install numpy"
   ]
  },
  {
   "cell_type": "code",
   "execution_count": null,
   "metadata": {},
   "outputs": [],
   "source": [
    "!python -m pip install scipy"
   ]
  },
  {
   "cell_type": "code",
   "execution_count": 54,
   "metadata": {},
   "outputs": [],
   "source": [
    "import numpy as np\n",
    "import matplotlib.pyplot as plt\n",
    "import scipy"
   ]
  },
  {
   "cell_type": "markdown",
   "metadata": {},
   "source": [
    "#### Funkce"
   ]
  },
  {
   "cell_type": "code",
   "execution_count": 103,
   "metadata": {},
   "outputs": [
    {
     "data": {
      "image/png": "[encoded data removed]",
      "text/plain": [
       "<Figure size 432x288 with 1 Axes>"
      ]
     },
     "metadata": {
      "needs_background": "light"
     },
     "output_type": "display_data"
    }
   ],
   "source": [
    "def f(x):\n",
    "    return 10 -x**2\n",
    "\n",
    "a0 = 0\n",
    "b0 = 4\n",
    "x = np.linspace(a0, b0, 100)\n",
    "plt.plot(x, f(x), \"r.\")\n",
    "plt.plot(x, [0]*len(x), \"b-\")\n",
    "plt.show()"
   ]
  },
  {
   "cell_type": "markdown",
   "metadata": {},
   "source": [
    "#### CACv.6.1: Bisekce (půlení intervalu)\n",
    "\n",
    "<img src=\"MS6_soubory/bisekce.png\" alt=\"Drawing\" style=\"width: 600px;\"/>"
   ]
  },
  {
   "cell_type": "code",
   "execution_count": 104,
   "metadata": {},
   "outputs": [
    {
     "name": "stdout",
     "output_type": "stream",
     "text": [
      "0 2.0\n",
      "1 3.0\n",
      "2 3.5\n",
      "[2.  3.  3.5]\n"
     ]
    },
    {
     "data": {
      "image/png": "[encoded data removed]",
      "text/plain": [
       "<Figure size 432x288 with 1 Axes>"
      ]
     },
     "metadata": {
      "needs_background": "light"
     },
     "output_type": "display_data"
    }
   ],
   "source": [
    "a = a0\n",
    "b = b0\n",
    "n = 3\n",
    "xs = np.empty(shape=[n])\n",
    "\n",
    "for i in range(n):\n",
    "    x = (a + b)/2\n",
    "    if f(a)*f(x) < 0:\n",
    "        b = x\n",
    "    else:\n",
    "        a = x\n",
    "    print(i, x)\n",
    "    xs[i] = x\n",
    "\n",
    "print(xs)\n",
    "x = np.linspace(a0, b0, 100)\n",
    "plt.plot(x, f(x), \"r\")\n",
    "plt.plot(xs, f(xs), \"bo\")\n",
    "plt.show()"
   ]
  },
  {
   "cell_type": "markdown",
   "metadata": {},
   "source": [
    "<img src=\"MS6_soubory/stopbisekce.png\" alt=\"Drawing\" style=\"width: 400px;\"/>"
   ]
  },
  {
   "cell_type": "code",
   "execution_count": 105,
   "metadata": {},
   "outputs": [
    {
     "name": "stdout",
     "output_type": "stream",
     "text": [
      "2.0\n",
      "3.0\n",
      "3.5\n",
      "3.25\n",
      "3.125\n",
      "3.1875\n",
      "3.15625\n",
      "3.171875\n",
      "3.1640625\n",
      "3.16015625\n",
      "3.162109375\n",
      "3.1630859375\n",
      "3.16259765625\n",
      "3.162353515625\n",
      "3.162353515625\n"
     ]
    },
    {
     "data": {
      "image/png": "[encoded data removed]",
      "text/plain": [
       "<Figure size 432x288 with 1 Axes>"
      ]
     },
     "metadata": {
      "needs_background": "light"
     },
     "output_type": "display_data"
    }
   ],
   "source": [
    "a = a0\n",
    "b = b0\n",
    "eps = 0.001\n",
    "\n",
    "while b**2 - a**2 > 2*eps:\n",
    "    x = (a + b)/2\n",
    "    if f(a)*f(x) < 0:\n",
    "        b = x\n",
    "    else:\n",
    "        a = x\n",
    "    print(x)\n",
    "\n",
    "print(x)\n",
    "plt.plot(x, f(x), \"bo\")\n",
    "plt.plot(np.linspace(a0, b0, 100), f(np.linspace(a0, b0, 100)), \"r\")\n",
    "plt.show()"
   ]
  },
  {
   "cell_type": "code",
   "execution_count": 106,
   "metadata": {},
   "outputs": [
    {
     "name": "stdout",
     "output_type": "stream",
     "text": [
      "3.162277660167092\n"
     ]
    }
   ],
   "source": [
    "from scipy import optimize\n",
    "\n",
    "x = optimize.bisect(f, a0, b0)\n",
    "print(x)"
   ]
  },
  {
   "cell_type": "markdown",
   "metadata": {},
   "source": [
    "#### CACv.6.2: Regula falsi (metoda tětiv)\n",
    "\n",
    "<img src=\"MS6_soubory/regulafalsi.png\" alt=\"Drawing\" style=\"width: 350px;\"/>"
   ]
  },
  {
   "cell_type": "code",
   "execution_count": 107,
   "metadata": {},
   "outputs": [
    {
     "name": "stdout",
     "output_type": "stream",
     "text": [
      "3.162261467346213\n"
     ]
    }
   ],
   "source": [
    "a = a0\n",
    "b = b0\n",
    "delta = 1E-3\n",
    "\n",
    "xnew = (a+b)/2\n",
    "xold = a\n",
    "while abs(xnew - xold) > delta:\n",
    "    xold = xnew\n",
    "    xnew = a - f(a)*(b-a)/(f(b)-f(a))\n",
    "    if f(a)*f(xnew) < 0:\n",
    "        b = xnew\n",
    "    else:\n",
    "        a = xnew\n",
    "print(xnew)"
   ]
  },
  {
   "cell_type": "markdown",
   "metadata": {},
   "source": [
    "#### CACv.6.3: Newtonova metoda (metoda tečen)\n",
    "\n",
    "<img src=\"MS6_soubory/newton.png\" alt=\"Drawing\" style=\"width: 300px;\"/>"
   ]
  },
  {
   "cell_type": "code",
   "execution_count": 108,
   "metadata": {},
   "outputs": [
    {
     "name": "stdout",
     "output_type": "stream",
     "text": [
      "3.1622776604441363\n"
     ]
    }
   ],
   "source": [
    "#derivace pomoci centralni diference\n",
    "def df(x, h = 1E-3):\n",
    "    return (f(x+h)-f(x-h))/(2*h)\n",
    "\n",
    "a = a0\n",
    "b = b0\n",
    "delta = 1E-3\n",
    "\n",
    "xnew = (a+b)/2\n",
    "xold = a\n",
    "while abs(xnew - xold) > delta:\n",
    "    xold = xnew\n",
    "    xnew = xold - f(xold)/df(xold)\n",
    "print(xnew)"
   ]
  },
  {
   "cell_type": "code",
   "execution_count": 109,
   "metadata": {},
   "outputs": [
    {
     "name": "stdout",
     "output_type": "stream",
     "text": [
      "3.1622776601683795\n"
     ]
    }
   ],
   "source": [
    "from scipy import optimize\n",
    "\n",
    "x = optimize.newton(f, x0=(a0+b0/2))\n",
    "print(x)"
   ]
  },
  {
   "cell_type": "markdown",
   "metadata": {},
   "source": [
    "### Samostatná cvičení"
   ]
  },
  {
   "cell_type": "markdown",
   "metadata": {},
   "source": [
    "#### SCv.6.1: Nalezněte kořeny funkcí\n",
    "\n",
    "<img src=\"MS6_soubory/cviceni_koreny.png\" alt=\"Drawing\" style=\"width: 600px;\"/>"
   ]
  },
  {
   "cell_type": "code",
   "execution_count": 98,
   "metadata": {},
   "outputs": [],
   "source": [
    "def plot_result(f, a0, b0, x, title):\n",
    "    print(\"root: \", x)\n",
    "    plt.title(title)\n",
    "    plt.plot(x, f(x), \"bo\")\n",
    "    plt.plot(np.linspace(a0, b0, 100), f(np.linspace(a0, b0, 100)), \"r\")\n",
    "    plt.show()"
   ]
  },
  {
   "cell_type": "code",
   "execution_count": 99,
   "metadata": {},
   "outputs": [],
   "source": [
    "def bisekce(f, a0, b0, eps=1E-3):\n",
    "    a, b = a0, b0\n",
    "    while b**2 - a**2 > 2*eps:\n",
    "        x = (a + b)/2\n",
    "        if f(a)*f(x) < 0:\n",
    "            b = x\n",
    "        else:\n",
    "            a = x\n",
    "    return x"
   ]
  },
  {
   "cell_type": "code",
   "execution_count": 100,
   "metadata": {},
   "outputs": [],
   "source": [
    "def regula_falsi(f, a0, b0, delta=1E-3):\n",
    "    a, b = a0, b0\n",
    "    xnew = (a+b)/2\n",
    "    xold = a\n",
    "    while abs(xnew - xold) > delta:\n",
    "        xold = xnew\n",
    "        xnew = a - f(a)*(b-a)/(f(b)-f(a))\n",
    "        if f(a)*f(xnew) < 0:\n",
    "            b = xnew\n",
    "        else:\n",
    "            a = xnew\n",
    "    return xnew"
   ]
  },
  {
   "cell_type": "code",
   "execution_count": 101,
   "metadata": {},
   "outputs": [],
   "source": [
    "def newton(f, a0, b0, delta=1E-3):\n",
    "    a, b = a0, b0\n",
    "    def df(x, h = 1E-3):\n",
    "        return (f(x+h)-f(x-h))/(2*h)\n",
    "    xnew = (a+b)/2\n",
    "    xold = a\n",
    "    while abs(xnew - xold) > delta:\n",
    "        xold = xnew\n",
    "        xnew = xold - f(xold)/df(xold)\n",
    "    return xnew"
   ]
  },
  {
   "cell_type": "code",
   "execution_count": 102,
   "metadata": {},
   "outputs": [
    {
     "name": "stdout",
     "output_type": "stream",
     "text": [
      "root:  0.5675048828125\n"
     ]
    },
    {
     "data": {
      "image/png": "[encoded data removed]",
      "text/plain": [
       "<Figure size 432x288 with 1 Axes>"
      ]
     },
     "metadata": {
      "needs_background": "light"
     },
     "output_type": "display_data"
    },
    {
     "name": "stdout",
     "output_type": "stream",
     "text": [
      "root:  1.8951017515189241\n"
     ]
    },
    {
     "data": {
      "image/png": "[encoded data removed]",
      "text/plain": [
       "<Figure size 432x288 with 1 Axes>"
      ]
     },
     "metadata": {
      "needs_background": "light"
     },
     "output_type": "display_data"
    },
    {
     "name": "stdout",
     "output_type": "stream",
     "text": [
      "root:  0.8306590728485705\n"
     ]
    },
    {
     "data": {
      "image/png": "[encoded data removed]",
      "text/plain": [
       "<Figure size 432x288 with 1 Axes>"
      ]
     },
     "metadata": {
      "needs_background": "light"
     },
     "output_type": "display_data"
    },
    {
     "name": "stdout",
     "output_type": "stream",
     "text": [
      "root:  0.567143290364994\n"
     ]
    },
    {
     "data": {
      "image/png": "[encoded data removed]",
      "text/plain": [
       "<Figure size 432x288 with 1 Axes>"
      ]
     },
     "metadata": {
      "needs_background": "light"
     },
     "output_type": "display_data"
    },
    {
     "name": "stdout",
     "output_type": "stream",
     "text": [
      "root:  1.1623398356584347\n"
     ]
    },
    {
     "data": {
      "image/png": "[encoded data removed]",
      "text/plain": [
       "<Figure size 432x288 with 1 Axes>"
      ]
     },
     "metadata": {
      "needs_background": "light"
     },
     "output_type": "display_data"
    }
   ],
   "source": [
    "func = lambda x: x + np.log(x)\n",
    "plot_result(f=func, a0=0.1, b0=4, x=bisekce(f=func, a0=0.1, b0=4), title=\"x + ln(x)\")\n",
    "\n",
    "func = lambda x: np.sin(x) - 0.5*x\n",
    "plot_result(f=func, a0=0.1, b0=4, x=regula_falsi(f=func, a0=0.1, b0=4), title=\"sin(x) - 0.5*x\")\n",
    "\n",
    "func = lambda x: np.exp(x) + x**2 - 3\n",
    "plot_result(f=func, a0=0.1, b0=4, x=regula_falsi(f=func, a0=0.1, b0=4), title=\"exp(x) + x**2 - 3\")\n",
    "\n",
    "func = lambda x: x - np.exp(-x)\n",
    "plot_result(f=func, a0=0.1, b0=4, x=newton(f=func, a0=0.1, b0=4), title=\"x - exp(-x)\")\n",
    "\n",
    "func = lambda x: x*np.arctan(x) - 1\n",
    "plot_result(f=func, a0=0.1, b0=4, x=newton(f=func, a0=0.1, b0=4),  title=\"x*arctan(x) - 1\")"
   ]
  }
 ],
 "metadata": {
  "interpreter": {
   "hash": "bb3f59eb9c7d53cb6c2b99d3c5d391d8b3618a198a44fa91b3bf4167c685e33a"
  },
  "kernelspec": {
   "display_name": "Python 3.10.1 64-bit ('.venv': venv)",
   "language": "python",
   "name": "python3"
  },
  "language_info": {
   "codemirror_mode": {
    "name": "ipython",
    "version": 3
   },
   "file_extension": ".py",
   "mimetype": "text/x-python",
   "name": "python",
   "nbconvert_exporter": "python",
   "pygments_lexer": "ipython3",
   "version": "3.10.1"
  },
  "orig_nbformat": 4
 },
 "nbformat": 4,
 "nbformat_minor": 2
}
