{
 "cells": [
  {
   "cell_type": "markdown",
   "metadata": {},
   "source": [
    "## NumPy\n",
    "(https://naucse.python.cz/lessons/intro/numpy/)\n",
    "\n",
    "základní vědecká a analytická knihovna\n",
    "\n",
    "- n-rozměrné homogenní pole\n",
    "- API pro práci s ním"
   ]
  },
  {
   "cell_type": "markdown",
   "metadata": {},
   "source": [
    "## Definice polí"
   ]
  },
  {
   "cell_type": "code",
   "execution_count": 57,
   "metadata": {},
   "outputs": [
    {
     "data": {
      "text/plain": [
       "(array([1, 2, 3, 4]),\n",
       " array([[1, 2, 3],\n",
       "        [4, 5, 6],\n",
       "        [7, 8, 9]]))"
      ]
     },
     "execution_count": 57,
     "metadata": {},
     "output_type": "execute_result"
    }
   ],
   "source": [
    "import numpy\n",
    "vector = numpy.array([1, 2, 3, 4])                      # vektor\n",
    "array = numpy.array([[1, 2, 3], [4, 5, 6], [7, 8, 9]])  # pole 3 × 3\n",
    "vector, array"
   ]
  },
  {
   "cell_type": "markdown",
   "metadata": {},
   "source": [
    "Srovnání se seznamem (list)"
   ]
  },
  {
   "cell_type": "code",
   "execution_count": 58,
   "metadata": {},
   "outputs": [
    {
     "data": {
      "text/plain": [
       "[[1, 2, 3], [4, 5, 6], [7, 8, 9]]"
      ]
     },
     "execution_count": 58,
     "metadata": {},
     "output_type": "execute_result"
    }
   ],
   "source": [
    "seznam = [[1, 2, 3], [4, 5, 6], [7, 8, 9]]\n",
    "seznam\n"
   ]
  },
  {
   "cell_type": "markdown",
   "metadata": {},
   "source": [
    "Možnost převést seznam na pole"
   ]
  },
  {
   "cell_type": "code",
   "execution_count": 59,
   "metadata": {},
   "outputs": [
    {
     "data": {
      "text/plain": [
       "array([[1, 2, 3],\n",
       "       [4, 5, 6],\n",
       "       [7, 8, 9]])"
      ]
     },
     "execution_count": 59,
     "metadata": {},
     "output_type": "execute_result"
    }
   ],
   "source": [
    "a1 = numpy.array(seznam)\n",
    "a1"
   ]
  },
  {
   "cell_type": "markdown",
   "metadata": {},
   "source": [
    "#### Vlastnosti pole\n",
    "- tvar (velikost) pole - shape (např. matice 3×3)\n",
    "- datový typ pole - shape (typ prvků)"
   ]
  },
  {
   "cell_type": "code",
   "execution_count": 60,
   "metadata": {},
   "outputs": [
    {
     "name": "stdout",
     "output_type": "stream",
     "text": [
      "(3, 3)\n"
     ]
    },
    {
     "data": {
      "text/plain": [
       "dtype('int32')"
      ]
     },
     "execution_count": 60,
     "metadata": {},
     "output_type": "execute_result"
    }
   ],
   "source": [
    "print(array.shape)              # tvar (-> n-tice)\n",
    "array.dtype                     # typ"
   ]
  },
  {
   "cell_type": "markdown",
   "metadata": {},
   "source": [
    "Pole větších řádů"
   ]
  },
  {
   "cell_type": "code",
   "execution_count": 61,
   "metadata": {},
   "outputs": [
    {
     "name": "stdout",
     "output_type": "stream",
     "text": [
      "(2, 2, 2)\n"
     ]
    },
    {
     "data": {
      "text/plain": [
       "array([[[1, 2],\n",
       "        [3, 4]],\n",
       "\n",
       "       [[5, 6],\n",
       "        [7, 8]]])"
      ]
     },
     "execution_count": 61,
     "metadata": {},
     "output_type": "execute_result"
    }
   ],
   "source": [
    "krychle = numpy.array([[[1, 2], [3, 4]], [[5, 6], [7, 8]]])\n",
    "print(krychle.shape)\n",
    "krychle"
   ]
  },
  {
   "cell_type": "markdown",
   "metadata": {},
   "source": [
    "## Základní operace\n",
    "- probíhá po všech prvcích"
   ]
  },
  {
   "cell_type": "code",
   "execution_count": 62,
   "metadata": {},
   "outputs": [
    {
     "data": {
      "text/plain": [
       "array([[1, 2, 3],\n",
       "       [4, 5, 6],\n",
       "       [7, 8, 9]])"
      ]
     },
     "execution_count": 62,
     "metadata": {},
     "output_type": "execute_result"
    }
   ],
   "source": [
    "array = numpy.array([[1, 2, 3], [4, 5, 6], [7, 8, 9]])  # pole 3 × 3\n",
    "array                                                   # výpis pole"
   ]
  },
  {
   "cell_type": "markdown",
   "metadata": {},
   "source": [
    "Přičtení skalární hodnoty"
   ]
  },
  {
   "cell_type": "code",
   "execution_count": 63,
   "metadata": {},
   "outputs": [
    {
     "data": {
      "text/plain": [
       "(array([[0, 1, 2],\n",
       "        [3, 4, 5],\n",
       "        [6, 7, 8]]),\n",
       " array([[-1, -2, -3],\n",
       "        [-4, -5, -6],\n",
       "        [-7, -8, -9]]))"
      ]
     },
     "execution_count": 63,
     "metadata": {},
     "output_type": "execute_result"
    }
   ],
   "source": [
    "array - 1, - array"
   ]
  },
  {
   "cell_type": "markdown",
   "metadata": {},
   "source": [
    "Násobení skalární hodnotou"
   ]
  },
  {
   "cell_type": "code",
   "execution_count": 64,
   "metadata": {},
   "outputs": [
    {
     "data": {
      "text/plain": [
       "(array([[ 2,  4,  6],\n",
       "        [ 8, 10, 12],\n",
       "        [14, 16, 18]]),\n",
       " array([[0.5, 1. , 1.5],\n",
       "        [2. , 2.5, 3. ],\n",
       "        [3.5, 4. , 4.5]]))"
      ]
     },
     "execution_count": 64,
     "metadata": {},
     "output_type": "execute_result"
    }
   ],
   "source": [
    "array * 2, array / 2"
   ]
  },
  {
   "cell_type": "markdown",
   "metadata": {},
   "source": [
    "Celočíselné dělení"
   ]
  },
  {
   "cell_type": "code",
   "execution_count": 65,
   "metadata": {},
   "outputs": [
    {
     "data": {
      "text/plain": [
       "(array([[0, 1, 1],\n",
       "        [2, 2, 3],\n",
       "        [3, 4, 4]], dtype=int32),\n",
       " array([[1, 0, 1],\n",
       "        [0, 1, 0],\n",
       "        [1, 0, 1]], dtype=int32))"
      ]
     },
     "execution_count": 65,
     "metadata": {},
     "output_type": "execute_result"
    }
   ],
   "source": [
    "array // 2, array % 2"
   ]
  },
  {
   "cell_type": "markdown",
   "metadata": {},
   "source": [
    "Porovnání"
   ]
  },
  {
   "cell_type": "code",
   "execution_count": 66,
   "metadata": {},
   "outputs": [
    {
     "data": {
      "text/plain": [
       "array([[False, False, False],\n",
       "       [ True,  True,  True],\n",
       "       [ True,  True,  True]])"
      ]
     },
     "execution_count": 66,
     "metadata": {},
     "output_type": "execute_result"
    }
   ],
   "source": [
    "array > 3"
   ]
  },
  {
   "cell_type": "markdown",
   "metadata": {},
   "source": [
    "Logické spojení operací přes bitové operátory & (a) a | (nebo)\n",
    "- neintuitivní priorita (nutno závorkovat)\n",
    "- (Python neumožňuje předefinovat chování operátorů and a or)"
   ]
  },
  {
   "cell_type": "code",
   "execution_count": 67,
   "metadata": {},
   "outputs": [
    {
     "data": {
      "text/plain": [
       "array([[False, False, False],\n",
       "       [ True,  True,  True],\n",
       "       [False, False, False]])"
      ]
     },
     "execution_count": 67,
     "metadata": {},
     "output_type": "execute_result"
    }
   ],
   "source": [
    "(array > 3) & (array < 7)"
   ]
  },
  {
   "cell_type": "markdown",
   "metadata": {},
   "source": [
    "## Operace s dalšími poli\n",
    "opět po prvcích"
   ]
  },
  {
   "cell_type": "markdown",
   "metadata": {},
   "source": [
    "definujeme druhé pole"
   ]
  },
  {
   "cell_type": "code",
   "execution_count": 68,
   "metadata": {},
   "outputs": [
    {
     "data": {
      "text/plain": [
       "(array([[1, 2, 3],\n",
       "        [4, 5, 6],\n",
       "        [7, 8, 9]]),\n",
       " array([[0, 1, 0],\n",
       "        [1, 0, 1],\n",
       "        [0, 1, 0]]))"
      ]
     },
     "execution_count": 68,
     "metadata": {},
     "output_type": "execute_result"
    }
   ],
   "source": [
    "a2 = numpy.array([[0, 1, 0], [1, 0, 1], [0, 1, 0]])\n",
    "a1, a2              # výpis obou polí"
   ]
  },
  {
   "cell_type": "markdown",
   "metadata": {},
   "source": [
    "Sčítání polí"
   ]
  },
  {
   "cell_type": "code",
   "execution_count": 69,
   "metadata": {},
   "outputs": [
    {
     "data": {
      "text/plain": [
       "array([[1, 3, 3],\n",
       "       [5, 5, 7],\n",
       "       [7, 9, 9]])"
      ]
     },
     "execution_count": 69,
     "metadata": {},
     "output_type": "execute_result"
    }
   ],
   "source": [
    "a1 + a2"
   ]
  },
  {
   "cell_type": "markdown",
   "metadata": {},
   "source": [
    "Násobení (po prvcích)"
   ]
  },
  {
   "cell_type": "code",
   "execution_count": 70,
   "metadata": {},
   "outputs": [
    {
     "data": {
      "text/plain": [
       "array([[0, 2, 0],\n",
       "       [4, 0, 6],\n",
       "       [0, 8, 0]])"
      ]
     },
     "execution_count": 70,
     "metadata": {},
     "output_type": "execute_result"
    }
   ],
   "source": [
    "a1 * a2"
   ]
  },
  {
   "cell_type": "markdown",
   "metadata": {},
   "source": [
    "Seznam převeden na pole automaticky"
   ]
  },
  {
   "cell_type": "code",
   "execution_count": 71,
   "metadata": {},
   "outputs": [
    {
     "name": "stdout",
     "output_type": "stream",
     "text": [
      "[[1, 2, 3], [4, 5, 6], [7, 8, 9]]\n"
     ]
    },
    {
     "data": {
      "text/plain": [
       "array([[ 1,  4,  9],\n",
       "       [16, 25, 36],\n",
       "       [49, 64, 81]])"
      ]
     },
     "execution_count": 71,
     "metadata": {},
     "output_type": "execute_result"
    }
   ],
   "source": [
    "print(seznam)\n",
    "a1 * seznam"
   ]
  },
  {
   "cell_type": "markdown",
   "metadata": {},
   "source": [
    "## Indexování, výběr"
   ]
  },
  {
   "cell_type": "code",
   "execution_count": 72,
   "metadata": {},
   "outputs": [
    {
     "data": {
      "text/plain": [
       "array([[1, 2, 3],\n",
       "       [4, 5, 6],\n",
       "       [7, 8, 9]])"
      ]
     },
     "execution_count": 72,
     "metadata": {},
     "output_type": "execute_result"
    }
   ],
   "source": [
    "array"
   ]
  },
  {
   "cell_type": "markdown",
   "metadata": {},
   "source": [
    "Pole se chová jako sekvence menších polí\n",
    "- 1. řádek"
   ]
  },
  {
   "cell_type": "code",
   "execution_count": 73,
   "metadata": {},
   "outputs": [
    {
     "data": {
      "text/plain": [
       "array([1, 2, 3])"
      ]
     },
     "execution_count": 73,
     "metadata": {},
     "output_type": "execute_result"
    }
   ],
   "source": [
    "array[0]            # 1. řádek"
   ]
  },
  {
   "cell_type": "markdown",
   "metadata": {},
   "source": [
    "- poslední řádek"
   ]
  },
  {
   "cell_type": "code",
   "execution_count": 74,
   "metadata": {},
   "outputs": [
    {
     "data": {
      "text/plain": [
       "array([7, 8, 9])"
      ]
     },
     "execution_count": 74,
     "metadata": {},
     "output_type": "execute_result"
    }
   ],
   "source": [
    "array[-1]           # poslední řádek"
   ]
  },
  {
   "cell_type": "markdown",
   "metadata": {},
   "source": [
    "- rozsah"
   ]
  },
  {
   "cell_type": "code",
   "execution_count": 75,
   "metadata": {},
   "outputs": [
    {
     "data": {
      "text/plain": [
       "array([[1, 2, 3],\n",
       "       [4, 5, 6]])"
      ]
     },
     "execution_count": 75,
     "metadata": {},
     "output_type": "execute_result"
    }
   ],
   "source": [
    "array[:-1]          # 1. až předposlední"
   ]
  },
  {
   "cell_type": "markdown",
   "metadata": {},
   "source": [
    "- prvek"
   ]
  },
  {
   "cell_type": "code",
   "execution_count": 76,
   "metadata": {},
   "outputs": [
    {
     "data": {
      "text/plain": [
       "2"
      ]
     },
     "execution_count": 76,
     "metadata": {},
     "output_type": "execute_result"
    }
   ],
   "source": [
    "array[0][1]         # 1. řádek, 2. sloupec"
   ]
  },
  {
   "cell_type": "markdown",
   "metadata": {},
   "source": [
    "- přístup k prvku v NumPy lze i pomocí n-tice"
   ]
  },
  {
   "cell_type": "code",
   "execution_count": 77,
   "metadata": {},
   "outputs": [
    {
     "data": {
      "text/plain": [
       "2"
      ]
     },
     "execution_count": 77,
     "metadata": {},
     "output_type": "execute_result"
    }
   ],
   "source": [
    "array[0, 1]         # 1. řádek, 2. sloupec"
   ]
  },
  {
   "cell_type": "code",
   "execution_count": 78,
   "metadata": {},
   "outputs": [
    {
     "data": {
      "text/plain": [
       "array([[2, 3],\n",
       "       [5, 6]])"
      ]
     },
     "execution_count": 78,
     "metadata": {},
     "output_type": "execute_result"
    }
   ],
   "source": [
    "array[:-1, 1:]      # 1. až předposlední řádek, od 2. sloupce"
   ]
  },
  {
   "cell_type": "markdown",
   "metadata": {},
   "source": [
    "Výběr řádku a sloupce\n",
    "- pomocí \":\""
   ]
  },
  {
   "cell_type": "code",
   "execution_count": 79,
   "metadata": {},
   "outputs": [
    {
     "data": {
      "text/plain": [
       "array([7, 8, 9])"
      ]
     },
     "execution_count": 79,
     "metadata": {},
     "output_type": "execute_result"
    }
   ],
   "source": [
    "array[2, :]     # 3. řádek (totéž jako array[2])"
   ]
  },
  {
   "cell_type": "code",
   "execution_count": 80,
   "metadata": {},
   "outputs": [
    {
     "data": {
      "text/plain": [
       "array([3, 6, 9])"
      ]
     },
     "execution_count": 80,
     "metadata": {},
     "output_type": "execute_result"
    }
   ],
   "source": [
    "array[:, 2]     # 3. sloupec"
   ]
  },
  {
   "cell_type": "markdown",
   "metadata": {},
   "source": [
    "Výběr prvků pomocí pole logických hodnot"
   ]
  },
  {
   "cell_type": "code",
   "execution_count": 81,
   "metadata": {},
   "outputs": [
    {
     "name": "stdout",
     "output_type": "stream",
     "text": [
      "[[1 2 3]\n",
      " [4 5 6]\n",
      " [7 8 9]] \n",
      " [[False False False]\n",
      " [False  True  True]\n",
      " [ True  True  True]]\n"
     ]
    },
    {
     "data": {
      "text/plain": [
       "array([5, 6, 7, 8, 9])"
      ]
     },
     "execution_count": 81,
     "metadata": {},
     "output_type": "execute_result"
    }
   ],
   "source": [
    "vetsi = array > 4       # vpravo matice, obsahuje True a False\n",
    "print(array, \"\\n\", vetsi)\n",
    "array[vetsi]"
   ]
  },
  {
   "cell_type": "markdown",
   "metadata": {},
   "source": [
    "Změna pořadí řádků a sloupců, kopie řádků a sloupců"
   ]
  },
  {
   "cell_type": "code",
   "execution_count": 82,
   "metadata": {},
   "outputs": [
    {
     "data": {
      "text/plain": [
       "array([[1, 2, 3],\n",
       "       [7, 8, 9],\n",
       "       [4, 5, 6],\n",
       "       [4, 5, 6]])"
      ]
     },
     "execution_count": 82,
     "metadata": {},
     "output_type": "execute_result"
    }
   ],
   "source": [
    "array[[0, 2, 1, 1]]     # řádky 0, 2, 1 a 1"
   ]
  },
  {
   "cell_type": "code",
   "execution_count": 83,
   "metadata": {},
   "outputs": [
    {
     "data": {
      "text/plain": [
       "array([[3, 3, 1, 1],\n",
       "       [6, 6, 4, 4],\n",
       "       [9, 9, 7, 7]])"
      ]
     },
     "execution_count": 83,
     "metadata": {},
     "output_type": "execute_result"
    }
   ],
   "source": [
    "array[:, [2, 2, 0, 0]]      # sloupce 2, 2, 0, 0"
   ]
  },
  {
   "cell_type": "markdown",
   "metadata": {},
   "source": [
    "## Operace s různě velkými poli\n",
    "- odpovídající dimenze se \"rozšíří\" (jako u skaláru) - broadcasting"
   ]
  },
  {
   "cell_type": "markdown",
   "metadata": {},
   "source": [
    "Přičtení vektoru"
   ]
  },
  {
   "cell_type": "code",
   "execution_count": 84,
   "metadata": {},
   "outputs": [
    {
     "data": {
      "text/plain": [
       "(array([[1, 2, 3],\n",
       "        [4, 5, 6],\n",
       "        [7, 8, 9]]),\n",
       " array([[ 2,  2, 13],\n",
       "        [ 5,  5, 16],\n",
       "        [ 8,  8, 19]]))"
      ]
     },
     "execution_count": 84,
     "metadata": {},
     "output_type": "execute_result"
    }
   ],
   "source": [
    "b = numpy.array([1, 0, 10])       # (stejné velikosti)\n",
    "array, array + b"
   ]
  },
  {
   "cell_type": "code",
   "execution_count": 85,
   "metadata": {},
   "outputs": [
    {
     "name": "stdout",
     "output_type": "stream",
     "text": [
      "Původní:\n",
      " [[1 2 3]\n",
      " [4 5 6]\n",
      " [7 8 9]]\n",
      "Přičtení řádkového vektoru:\n",
      " [[ 2  2 13]\n",
      " [ 5  5 16]\n",
      " [ 8  8 19]]\n",
      "Násobení řádkovým vektorem:\n",
      " [[ 1  0 30]\n",
      " [ 4  0 60]\n",
      " [ 7  0 90]]\n",
      "Násobení sloupcovým vektorem:\n",
      " [[ 1  2  3]\n",
      " [ 0  0  0]\n",
      " [70 80 90]]\n"
     ]
    }
   ],
   "source": [
    "print(\"Původní:\\n\", array)\n",
    "print(\"Přičtení řádkového vektoru:\\n\", array + [1, 0, 10])\n",
    "print(\"Násobení řádkovým vektorem:\\n\", array * [1, 0, 10])\n",
    "print(\"Násobení sloupcovým vektorem:\\n\", array * [[1], [0], [10]])"
   ]
  },
  {
   "cell_type": "markdown",
   "metadata": {},
   "source": [
    "## Editace polí"
   ]
  },
  {
   "cell_type": "code",
   "execution_count": 86,
   "metadata": {},
   "outputs": [
    {
     "data": {
      "text/plain": [
       "array([[100,   2,   3],\n",
       "       [  4, 200,   6],\n",
       "       [  7,   8,   9]])"
      ]
     },
     "execution_count": 86,
     "metadata": {},
     "output_type": "execute_result"
    }
   ],
   "source": [
    "array[0, 0] = 100\n",
    "array[1][1] = 200               # jiný způsob\n",
    "array"
   ]
  },
  {
   "cell_type": "markdown",
   "metadata": {},
   "source": [
    "lze měnit jakýkoliv výběr, funguje rozšiřování (broadcasting)"
   ]
  },
  {
   "cell_type": "code",
   "execution_count": 87,
   "metadata": {},
   "outputs": [
    {
     "name": "stdout",
     "output_type": "stream",
     "text": [
      "[[100 100 100]\n",
      " [  4 200   6]\n",
      " [  7   8   9]]\n",
      "[[100 500 100]\n",
      " [  4 500   6]\n",
      " [  7 500   9]]\n"
     ]
    },
    {
     "data": {
      "text/plain": [
       "array([[100, 100, 100],\n",
       "       [100, 100, 100],\n",
       "       [100, 100, 100]])"
      ]
     },
     "execution_count": 87,
     "metadata": {},
     "output_type": "execute_result"
    }
   ],
   "source": [
    "array[0] = 100\n",
    "print(array)\n",
    "array[:, 1] = 500\n",
    "print(array)\n",
    "array[:] = 100\n",
    "array"
   ]
  },
  {
   "cell_type": "markdown",
   "metadata": {},
   "source": [
    "Editace rozšířeným přiřazením"
   ]
  },
  {
   "cell_type": "code",
   "execution_count": 88,
   "metadata": {},
   "outputs": [
    {
     "data": {
      "text/plain": [
       "array([[200, 200, 200],\n",
       "       [200, 200, 200],\n",
       "       [200, 200, 200]])"
      ]
     },
     "execution_count": 88,
     "metadata": {},
     "output_type": "execute_result"
    }
   ],
   "source": [
    "array *= 2\n",
    "array"
   ]
  },
  {
   "cell_type": "markdown",
   "metadata": {},
   "source": [
    "Operace array = array * 2 dává stejný výsledek, ale vytvoří nové pole, které pak přiřadí do původní proměnné"
   ]
  },
  {
   "cell_type": "markdown",
   "metadata": {},
   "source": [
    "## Tvoření matic pomocí funkcí"
   ]
  },
  {
   "cell_type": "markdown",
   "metadata": {},
   "source": [
    "Naplnění matice m × n libovolným stejným číslem"
   ]
  },
  {
   "cell_type": "code",
   "execution_count": 89,
   "metadata": {},
   "outputs": [
    {
     "data": {
      "text/plain": [
       "array([[3.14, 3.14, 3.14, 3.14],\n",
       "       [3.14, 3.14, 3.14, 3.14],\n",
       "       [3.14, 3.14, 3.14, 3.14],\n",
       "       [3.14, 3.14, 3.14, 3.14]])"
      ]
     },
     "execution_count": 89,
     "metadata": {},
     "output_type": "execute_result"
    }
   ],
   "source": [
    "numpy.full((4, 4), 3.14)"
   ]
  },
  {
   "cell_type": "markdown",
   "metadata": {},
   "source": [
    "Naplnění matice m × n nulami (jedničkami)"
   ]
  },
  {
   "cell_type": "code",
   "execution_count": 90,
   "metadata": {},
   "outputs": [
    {
     "data": {
      "text/plain": [
       "(array([[0., 0., 0., 0.],\n",
       "        [0., 0., 0., 0.],\n",
       "        [0., 0., 0., 0.],\n",
       "        [0., 0., 0., 0.]]),\n",
       " array([[1., 1., 1., 1.],\n",
       "        [1., 1., 1., 1.],\n",
       "        [1., 1., 1., 1.],\n",
       "        [1., 1., 1., 1.]]))"
      ]
     },
     "execution_count": 90,
     "metadata": {},
     "output_type": "execute_result"
    }
   ],
   "source": [
    "numpy.zeros((4, 4)), numpy.ones((4, 4))"
   ]
  },
  {
   "cell_type": "markdown",
   "metadata": {},
   "source": [
    "Jednotková a diagonální matice (vždy čtvercové)"
   ]
  },
  {
   "cell_type": "code",
   "execution_count": 91,
   "metadata": {},
   "outputs": [
    {
     "data": {
      "text/plain": [
       "(array([[1., 0., 0., 0.],\n",
       "        [0., 1., 0., 0.],\n",
       "        [0., 0., 1., 0.],\n",
       "        [0., 0., 0., 1.]]),\n",
       " array([[1, 0, 0, 0],\n",
       "        [0, 2, 0, 0],\n",
       "        [0, 0, 3, 0],\n",
       "        [0, 0, 0, 4]]))"
      ]
     },
     "execution_count": 91,
     "metadata": {},
     "output_type": "execute_result"
    }
   ],
   "source": [
    "numpy.eye(4), numpy.diag([1, 2, 3, 4])"
   ]
  },
  {
   "cell_type": "markdown",
   "metadata": {},
   "source": [
    "Vždy lze specifikovat datový typ"
   ]
  },
  {
   "cell_type": "code",
   "execution_count": 92,
   "metadata": {},
   "outputs": [
    {
     "name": "stdout",
     "output_type": "stream",
     "text": [
      "int8\n"
     ]
    },
    {
     "data": {
      "text/plain": [
       "array([[0, 0, 0, 0],\n",
       "       [0, 0, 0, 0],\n",
       "       [0, 0, 0, 0],\n",
       "       [0, 0, 0, 0]], dtype=int8)"
      ]
     },
     "execution_count": 92,
     "metadata": {},
     "output_type": "execute_result"
    }
   ],
   "source": [
    "int_zeros = numpy.zeros((4, 4), dtype='int8')\n",
    "print(int_zeros.dtype)\n",
    "int_zeros"
   ]
  },
  {
   "cell_type": "markdown",
   "metadata": {},
   "source": [
    "### Jednorozměrná pole"
   ]
  },
  {
   "cell_type": "markdown",
   "metadata": {},
   "source": [
    "arange\n",
    "- začátek, konec, přírůstek"
   ]
  },
  {
   "cell_type": "code",
   "execution_count": 93,
   "metadata": {},
   "outputs": [
    {
     "name": "stdout",
     "output_type": "stream",
     "text": [
      "[ 0  1  2  3  4  5  6  7  8  9 10 11 12 13 14 15 16 17 18 19]\n",
      "[ 4  6  8 10 12 14 16 18]\n"
     ]
    }
   ],
   "source": [
    "print(numpy.arange(20))\n",
    "print(numpy.arange(4, 20, 2))       # od, do, přírůstek"
   ]
  },
  {
   "cell_type": "markdown",
   "metadata": {},
   "source": [
    "Jdou i reálná čísla, ale pozor na chyby"
   ]
  },
  {
   "cell_type": "code",
   "execution_count": 94,
   "metadata": {},
   "outputs": [
    {
     "data": {
      "text/plain": [
       "19.8"
      ]
     },
     "execution_count": 94,
     "metadata": {},
     "output_type": "execute_result"
    }
   ],
   "source": [
    "numpy.arange(0.0, 20.0, 0.3)[-1]"
   ]
  },
  {
   "cell_type": "markdown",
   "metadata": {},
   "source": [
    "linspace\n",
    "- pro reálná čísla vhodnější - rovnoměrné dělení\n",
    "- začátek a konec intervalu plus počet prvků"
   ]
  },
  {
   "cell_type": "code",
   "execution_count": 95,
   "metadata": {},
   "outputs": [
    {
     "data": {
      "text/plain": [
       "array([ 0.        ,  0.68965517,  1.37931034,  2.06896552,  2.75862069,\n",
       "        3.44827586,  4.13793103,  4.82758621,  5.51724138,  6.20689655,\n",
       "        6.89655172,  7.5862069 ,  8.27586207,  8.96551724,  9.65517241,\n",
       "       10.34482759, 11.03448276, 11.72413793, 12.4137931 , 13.10344828,\n",
       "       13.79310345, 14.48275862, 15.17241379, 15.86206897, 16.55172414,\n",
       "       17.24137931, 17.93103448, 18.62068966, 19.31034483, 20.        ])"
      ]
     },
     "execution_count": 95,
     "metadata": {},
     "output_type": "execute_result"
    }
   ],
   "source": [
    "numpy.linspace(0, 20, num=30)"
   ]
  },
  {
   "cell_type": "markdown",
   "metadata": {},
   "source": [
    "## Změna tvaru pole"
   ]
  },
  {
   "cell_type": "code",
   "execution_count": 96,
   "metadata": {},
   "outputs": [
    {
     "data": {
      "text/plain": [
       "array([ 0,  1,  2,  3,  4,  5,  6,  7,  8,  9, 10, 11])"
      ]
     },
     "execution_count": 96,
     "metadata": {},
     "output_type": "execute_result"
    }
   ],
   "source": [
    "array = numpy.arange(12)            # výchozí pole\n",
    "array"
   ]
  },
  {
   "cell_type": "markdown",
   "metadata": {},
   "source": [
    "reshape\n",
    "- musí odpovídat velikost"
   ]
  },
  {
   "cell_type": "code",
   "execution_count": 97,
   "metadata": {},
   "outputs": [
    {
     "data": {
      "text/plain": [
       "(array([[ 0,  1,  2,  3],\n",
       "        [ 4,  5,  6,  7],\n",
       "        [ 8,  9, 10, 11]]),\n",
       " array([[ 0,  1,  2],\n",
       "        [ 3,  4,  5],\n",
       "        [ 6,  7,  8],\n",
       "        [ 9, 10, 11]]))"
      ]
     },
     "execution_count": 97,
     "metadata": {},
     "output_type": "execute_result"
    }
   ],
   "source": [
    "a2 = array.reshape((3, 4))\n",
    "a3 = array.reshape((4, 3))\n",
    "a2, a3"
   ]
  },
  {
   "cell_type": "markdown",
   "metadata": {},
   "source": [
    "Pozor na editaci!\n",
    "- jedná se o stejné pole"
   ]
  },
  {
   "cell_type": "code",
   "execution_count": 98,
   "metadata": {},
   "outputs": [
    {
     "data": {
      "text/plain": [
       "(array([[  0,   1,   2,   3],\n",
       "        [  4,   5,   6,   7],\n",
       "        [  8,   9, 100,  11]]),\n",
       " array([  0,   1,   2,   3,   4,   5,   6,   7,   8,   9, 100,  11]),\n",
       " array([[  0,   1,   2],\n",
       "        [  3,   4,   5],\n",
       "        [  6,   7,   8],\n",
       "        [  9, 100,  11]]))"
      ]
     },
     "execution_count": 98,
     "metadata": {},
     "output_type": "execute_result"
    }
   ],
   "source": [
    "a2[2,2] = 100               # 3. řádek, 3. sloupec\n",
    "a2, array, a3"
   ]
  },
  {
   "cell_type": "markdown",
   "metadata": {},
   "source": [
    "Pro kopii dat copy"
   ]
  },
  {
   "cell_type": "code",
   "execution_count": 99,
   "metadata": {},
   "outputs": [
    {
     "data": {
      "text/plain": [
       "(array([[ 0,  1,  2,  3],\n",
       "        [ 4,  5,  6,  7],\n",
       "        [ 8,  9, 10, 11]]),\n",
       " array([[  0,   1,   2],\n",
       "        [  3,   4,   5],\n",
       "        [  6,   7,   8],\n",
       "        [  9, 100,  11]]))"
      ]
     },
     "execution_count": 99,
     "metadata": {},
     "output_type": "execute_result"
    }
   ],
   "source": [
    "a2 = array.reshape((3, 4)).copy()\n",
    "a2[2, 2] = 10\n",
    "a2, a3"
   ]
  },
  {
   "cell_type": "markdown",
   "metadata": {},
   "source": [
    "Transpozice"
   ]
  },
  {
   "cell_type": "code",
   "execution_count": 100,
   "metadata": {},
   "outputs": [
    {
     "data": {
      "text/plain": [
       "array([[ 0,  4,  8],\n",
       "       [ 1,  5,  9],\n",
       "       [ 2,  6, 10],\n",
       "       [ 3,  7, 11]])"
      ]
     },
     "execution_count": 100,
     "metadata": {},
     "output_type": "execute_result"
    }
   ],
   "source": [
    "a2.T"
   ]
  },
  {
   "cell_type": "markdown",
   "metadata": {},
   "source": [
    "## Datové typy"
   ]
  },
  {
   "cell_type": "code",
   "execution_count": 101,
   "metadata": {},
   "outputs": [
    {
     "name": "stdout",
     "output_type": "stream",
     "text": [
      "[0 0 0 0]\n",
      "[0. 0. 0. 0.]\n",
      "[False False False False]\n"
     ]
    }
   ],
   "source": [
    "print(numpy.zeros(4, dtype=int))\n",
    "print(numpy.zeros(4, dtype=float))\n",
    "print(numpy.zeros(4, dtype=bool))"
   ]
  },
  {
   "cell_type": "markdown",
   "metadata": {},
   "source": [
    "Pokud uložíme různé datové typy, výsledkem je string \n",
    "\n",
    "(zde little-endian 32 character string)"
   ]
  },
  {
   "cell_type": "code",
   "execution_count": 102,
   "metadata": {},
   "outputs": [
    {
     "data": {
      "text/plain": [
       "array(['0', '3.14', 'ahoj'], dtype='<U32')"
      ]
     },
     "execution_count": 102,
     "metadata": {},
     "output_type": "execute_result"
    }
   ],
   "source": [
    "numpy.array([0, 3.14, \"ahoj\"])"
   ]
  },
  {
   "cell_type": "markdown",
   "metadata": {},
   "source": [
    "Nejobecnější typ je object"
   ]
  },
  {
   "cell_type": "code",
   "execution_count": 103,
   "metadata": {},
   "outputs": [
    {
     "data": {
      "text/plain": [
       "array([0, 3.14, 'ahoj'], dtype=object)"
      ]
     },
     "execution_count": 103,
     "metadata": {},
     "output_type": "execute_result"
    }
   ],
   "source": [
    "numpy.array([0, 3.14, \"ahoj\"], dtype=object)"
   ]
  },
  {
   "cell_type": "markdown",
   "metadata": {},
   "source": [
    "Další možnosti: Klasické řetězcové specifikace, bytestring (ukončeny \\0), složené datové typy (records)"
   ]
  },
  {
   "cell_type": "markdown",
   "metadata": {},
   "source": [
    "## Maticové násobení\n",
    "původně funkce dot, od Pythonu 3.5 operátor @ (mATrix multiplication),"
   ]
  },
  {
   "cell_type": "code",
   "execution_count": 104,
   "metadata": {},
   "outputs": [
    {
     "data": {
      "text/plain": [
       "array([[ 1,  4,  9],\n",
       "       [ 4, 10, 18],\n",
       "       [ 7, 16, 27]])"
      ]
     },
     "execution_count": 104,
     "metadata": {},
     "output_type": "execute_result"
    }
   ],
   "source": [
    "array1 = numpy.array([[1, 2, 3], [4, 5, 6], [7, 8, 9]])\n",
    "array2 = numpy.array([[1, 0, 0], [0, 2, 0], [0, 0, 3]])\n",
    "array1 @ array2"
   ]
  },
  {
   "cell_type": "markdown",
   "metadata": {},
   "source": [
    "## Booleovské hodnoty polí"
   ]
  },
  {
   "cell_type": "code",
   "execution_count": 105,
   "metadata": {},
   "outputs": [
    {
     "name": "stdout",
     "output_type": "stream",
     "text": [
      "Alespoň jeden prvek je nenulový\n",
      "Pole obsahuje nějaké prvky\n"
     ]
    }
   ],
   "source": [
    "E = numpy.eye(3)\n",
    "if E.any():\n",
    "    print('Alespoň jeden prvek je nenulový')\n",
    "if E.all():\n",
    "    print('Všechny prvky jsou nenulové')\n",
    "if E.size:\n",
    "    print('Pole obsahuje nějaké prvky')"
   ]
  },
  {
   "cell_type": "markdown",
   "metadata": {},
   "source": [
    "## Aplikace funkcí\n",
    "např. vytvoříme hodnoty z intervalu 0 až $\\pi$ s dělením na 1000 dílků a spočítáme sinus "
   ]
  },
  {
   "cell_type": "code",
   "execution_count": 106,
   "metadata": {},
   "outputs": [
    {
     "data": {
      "text/plain": [
       "array([0.        , 0.00314474, 0.00628947, 0.00943421, 0.01257895,\n",
       "       0.01572369, 0.01886842, 0.02201316, 0.0251579 , 0.02830264])"
      ]
     },
     "execution_count": 106,
     "metadata": {},
     "output_type": "execute_result"
    }
   ],
   "source": [
    "array = numpy.linspace(0, numpy.pi, num=1000)   # vytvoření pole\n",
    "array[:10]                                      # výpis prvních 10 prvků"
   ]
  },
  {
   "cell_type": "code",
   "execution_count": 107,
   "metadata": {},
   "outputs": [
    {
     "data": {
      "text/plain": [
       "array([0.        , 0.00314473, 0.00628943, 0.00943407, 0.01257862,\n",
       "       0.01572304, 0.0188673 , 0.02201138, 0.02515525, 0.02829886])"
      ]
     },
     "execution_count": 107,
     "metadata": {},
     "output_type": "execute_result"
    }
   ],
   "source": [
    "sinus = numpy.sin(array)                        # použití funkce sin\n",
    "sinus[:10]                                      # výpis prvních 10 prvků"
   ]
  },
  {
   "cell_type": "markdown",
   "metadata": {},
   "source": [
    "## Práce se soubory\n",
    "Nejdříve vytvoříme textový soubor s daty\n",
    "- writefile (file) - magický příkaz, vytvoří soubor a zapíše do něj to, co následuje"
   ]
  },
  {
   "cell_type": "code",
   "execution_count": 112,
   "metadata": {},
   "outputs": [
    {
     "name": "stdout",
     "output_type": "stream",
     "text": [
      "Overwriting ascii_data_1.txt\n"
     ]
    }
   ],
   "source": [
    "%%writefile ascii_data_1.txt         \n",
    " 1    -6.1    -6.1    -6.1 1\n",
    " 2   -15.4   -15.4   -15.4 1\n",
    " 3   -15.0   -15.0   -15.0 1\n",
    " 4   -19.3   -19.3   -19.3 1\n",
    " 5   -16.8   -16.8   -16.8 1\n",
    " 6   -11.4   -11.4   -11.4 1\n",
    " 7    -7.6    -7.6    -7.6 1\n",
    " 8    -7.1    -7.1    -7.1 1\n",
    " 9   -10.1   -10.1   -10.1 1\n",
    "10    -9.5    -9.5    -9.5 1"
   ]
  },
  {
   "cell_type": "markdown",
   "metadata": {},
   "source": [
    "Pokusíme se načíst data ze souboru"
   ]
  },
  {
   "cell_type": "code",
   "execution_count": 113,
   "metadata": {},
   "outputs": [
    {
     "data": {
      "text/plain": [
       "(array([[  1. ,  -6.1,  -6.1,  -6.1,   1. ],\n",
       "        [  2. , -15.4, -15.4, -15.4,   1. ],\n",
       "        [  3. , -15. , -15. , -15. ,   1. ],\n",
       "        [  4. , -19.3, -19.3, -19.3,   1. ],\n",
       "        [  5. , -16.8, -16.8, -16.8,   1. ],\n",
       "        [  6. , -11.4, -11.4, -11.4,   1. ],\n",
       "        [  7. ,  -7.6,  -7.6,  -7.6,   1. ],\n",
       "        [  8. ,  -7.1,  -7.1,  -7.1,   1. ],\n",
       "        [  9. , -10.1, -10.1, -10.1,   1. ],\n",
       "        [ 10. ,  -9.5,  -9.5,  -9.5,   1. ]]),\n",
       " array([[  1. ,  -6.1,  -6.1,  -6.1,   1. ],\n",
       "        [  2. , -15.4, -15.4, -15.4,   1. ],\n",
       "        [  3. , -15. , -15. , -15. ,   1. ],\n",
       "        [  4. , -19.3, -19.3, -19.3,   1. ],\n",
       "        [  5. , -16.8, -16.8, -16.8,   1. ],\n",
       "        [  6. , -11.4, -11.4, -11.4,   1. ],\n",
       "        [  7. ,  -7.6,  -7.6,  -7.6,   1. ],\n",
       "        [  8. ,  -7.1,  -7.1,  -7.1,   1. ],\n",
       "        [  9. , -10.1, -10.1, -10.1,   1. ],\n",
       "        [ 10. ,  -9.5,  -9.5,  -9.5,   1. ]]))"
      ]
     },
     "execution_count": 113,
     "metadata": {},
     "output_type": "execute_result"
    }
   ],
   "source": [
    "data1 = numpy.genfromtxt('ascii_data_1.txt')\n",
    "data2 = numpy.loadtxt('ascii_data_1.txt')\n",
    "data1, data2"
   ]
  },
  {
   "cell_type": "markdown",
   "metadata": {},
   "source": [
    "Opětovné uložení"
   ]
  },
  {
   "cell_type": "code",
   "execution_count": 114,
   "metadata": {},
   "outputs": [
    {
     "name": "stdout",
     "output_type": "stream",
     "text": [
      "     1   -6.1   -6.1   -6.1      1\n",
      "     2  -15.4  -15.4  -15.4      1\n",
      "     3    -15    -15    -15      1\n",
      "     4  -19.3  -19.3  -19.3      1\n",
      "     5  -16.8  -16.8  -16.8      1\n",
      "     6  -11.4  -11.4  -11.4      1\n",
      "     7   -7.6   -7.6   -7.6      1\n",
      "     8   -7.1   -7.1   -7.1      1\n",
      "     9  -10.1  -10.1  -10.1      1\n",
      "    10   -9.5   -9.5   -9.5      1\n",
      "\n"
     ]
    }
   ],
   "source": [
    "numpy.savetxt(\"ascii_data_1_new.txt\", data1, fmt=\"%6g\")     # uložíme pod jiným jménem\n",
    "print(open(\"ascii_data_1_new.txt\", \"r\").read())             # přesvědčíme se"
   ]
  },
  {
   "cell_type": "markdown",
   "metadata": {},
   "source": [
    "Je možné používat i vlastní NumPy formát, příkazy jsou stejné bez txt (save, load)"
   ]
  },
  {
   "cell_type": "markdown",
   "metadata": {},
   "source": [
    "## Srovnání rychlosti"
   ]
  },
  {
   "cell_type": "markdown",
   "metadata": {},
   "source": [
    "#### Násobení vektorů"
   ]
  },
  {
   "cell_type": "markdown",
   "metadata": {},
   "source": [
    "Klasicky (bez NumPy)"
   ]
  },
  {
   "cell_type": "code",
   "execution_count": null,
   "metadata": {},
   "outputs": [
    {
     "name": "stdout",
     "output_type": "stream",
     "text": [
      "333328333350000\n",
      "<class 'int'>\n"
     ]
    },
    {
     "data": {
      "text/plain": [
       "1.421875"
      ]
     },
     "metadata": {},
     "output_type": "display_data"
    }
   ],
   "source": [
    "from time import process_time\n",
    "mez = 100000\n",
    "opak = 100\n",
    "\n",
    "def nasobeni(l1, l2):\n",
    "    dot = 0\n",
    "    for i, j in zip(l1, l2):\n",
    "        dot += i*j\n",
    "    #dot2 = 0\n",
    "    #for i in range(mez):\n",
    "    #    dot2 += l1[i]*l2[i]\n",
    "    return dot\n",
    "\n",
    "\n",
    "list1 = list(range(mez))            # 0 až mez-1\n",
    "list2 = list(range(mez))\n",
    "\n",
    "start = process_time()              # začátek měření času\n",
    "for i in range(opak):\n",
    "    dot = nasobeni(list1, list2)\n",
    "end = process_time()                # konec měření času\n",
    "\n",
    "print(dot)\n",
    "print(type(dot))\n",
    "round(end - start, 10)"
   ]
  },
  {
   "cell_type": "markdown",
   "metadata": {},
   "source": [
    "Pomocí NumPy"
   ]
  },
  {
   "cell_type": "code",
   "execution_count": null,
   "metadata": {},
   "outputs": [
    {
     "name": "stdout",
     "output_type": "stream",
     "text": [
      "333328333350000\n",
      "<class 'numpy.int64'>\n"
     ]
    },
    {
     "data": {
      "text/plain": [
       "0.0625"
      ]
     },
     "metadata": {},
     "output_type": "display_data"
    }
   ],
   "source": [
    "import numpy\n",
    "arr1 = numpy.arange(mez, dtype=numpy.int64)\n",
    "arr2 = numpy.arange(mez, dtype=numpy.int64)\n",
    "\n",
    "start = process_time()              # začátek měření času\n",
    "for i in range(opak):\n",
    "    dot = arr1 @ arr2\n",
    "    #dot = numpy.dot(arr1, arr2)\n",
    "end = process_time()                # konec měření času\n",
    "\n",
    "print(dot)\n",
    "print(type(dot))\n",
    "round(end - start, 10)"
   ]
  },
  {
   "cell_type": "markdown",
   "metadata": {},
   "source": [
    "#### Výpočet funkčních hodnot"
   ]
  },
  {
   "cell_type": "markdown",
   "metadata": {},
   "source": [
    "Klasicky (bez NumPy)"
   ]
  },
  {
   "cell_type": "code",
   "execution_count": null,
   "metadata": {},
   "outputs": [
    {
     "data": {
      "text/plain": [
       "0.359375"
      ]
     },
     "metadata": {},
     "output_type": "display_data"
    }
   ],
   "source": [
    "import math\n",
    "mez = 1000000\n",
    "\n",
    "list1 = list(range(mez))\n",
    "list2=[0]*mez\n",
    "start = process_time()\n",
    "for i in range(len(list2)):\n",
    "    c=math.sin(list1[i])\n",
    "end = process_time()\n",
    "round(end - start, 10)"
   ]
  },
  {
   "cell_type": "markdown",
   "metadata": {},
   "source": [
    "Pomocí NumPy"
   ]
  },
  {
   "cell_type": "code",
   "execution_count": null,
   "metadata": {},
   "outputs": [
    {
     "data": {
      "text/plain": [
       "0.03125"
      ]
     },
     "metadata": {},
     "output_type": "display_data"
    }
   ],
   "source": [
    "arr1 = numpy.arange(mez, dtype=numpy.int64)\n",
    "start = process_time()\n",
    "arr2 = numpy.sin(arr1)\n",
    "end = process_time()\n",
    "round(end - start, 10)"
   ]
  },
  {
   "cell_type": "markdown",
   "metadata": {},
   "source": [
    "#### Mazání"
   ]
  },
  {
   "cell_type": "markdown",
   "metadata": {},
   "source": [
    "Klasicky (bez NumPy)"
   ]
  },
  {
   "cell_type": "code",
   "execution_count": null,
   "metadata": {},
   "outputs": [
    {
     "data": {
      "text/plain": [
       "0.03125"
      ]
     },
     "metadata": {},
     "output_type": "display_data"
    }
   ],
   "source": [
    "list1 = list(range(mez))\n",
    "start = process_time()\n",
    "del list1\n",
    "end = process_time()\n",
    "round(end - start, 10)"
   ]
  },
  {
   "cell_type": "markdown",
   "metadata": {},
   "source": [
    "Pomocí NumPy"
   ]
  },
  {
   "cell_type": "code",
   "execution_count": null,
   "metadata": {},
   "outputs": [
    {
     "data": {
      "text/plain": [
       "0.015625"
      ]
     },
     "metadata": {},
     "output_type": "display_data"
    }
   ],
   "source": [
    "arr1 = numpy.arange(mez, dtype=numpy.int64)\n",
    "start = process_time()\n",
    "del arr1\n",
    "end = process_time()\n",
    "round(end - start, 10)"
   ]
  },
  {
   "cell_type": "markdown",
   "metadata": {},
   "source": [
    "## Lineární algebra s numpy.linalg\n",
    "Základní operace, doplněno v SciPy\n",
    "\n",
    "Několik příkladů:"
   ]
  },
  {
   "cell_type": "code",
   "execution_count": null,
   "metadata": {},
   "outputs": [
    {
     "name": "stdout",
     "output_type": "stream",
     "text": [
      "[[1 2]\n",
      " [3 4]] <class 'numpy.ndarray'>\n"
     ]
    }
   ],
   "source": [
    "import numpy\n",
    "a = numpy.array([[1, 2], [3, 4]])           # array\n",
    "print(a, type(a))"
   ]
  },
  {
   "cell_type": "markdown",
   "metadata": {},
   "source": [
    "Výpočet determinantu"
   ]
  },
  {
   "cell_type": "code",
   "execution_count": null,
   "metadata": {},
   "outputs": [
    {
     "data": {
      "text/plain": [
       "-2.0000000000000004"
      ]
     },
     "execution_count": 10,
     "metadata": {},
     "output_type": "execute_result"
    }
   ],
   "source": [
    "a = numpy.array([[1, 2], [3, 4]])\n",
    "numpy.linalg.det(a)"
   ]
  },
  {
   "cell_type": "markdown",
   "metadata": {},
   "source": [
    "Výpočet hodnosti matice"
   ]
  },
  {
   "cell_type": "code",
   "execution_count": null,
   "metadata": {},
   "outputs": [
    {
     "name": "stdout",
     "output_type": "stream",
     "text": [
      "2\n"
     ]
    },
    {
     "data": {
      "text/plain": [
       "4"
      ]
     },
     "execution_count": 11,
     "metadata": {},
     "output_type": "execute_result"
    }
   ],
   "source": [
    "from numpy.linalg import matrix_rank\n",
    "print(matrix_rank(a))\n",
    "matrix_rank(numpy.eye(4))"
   ]
  },
  {
   "cell_type": "code",
   "execution_count": null,
   "metadata": {},
   "outputs": [
    {
     "data": {
      "text/plain": [
       "3"
      ]
     },
     "execution_count": 121,
     "metadata": {},
     "output_type": "execute_result"
    }
   ],
   "source": [
    "I=numpy.eye(4)\n",
    "I[-1,-1] = 0\n",
    "matrix_rank(I)"
   ]
  },
  {
   "cell_type": "markdown",
   "metadata": {},
   "source": [
    "Stopa matice"
   ]
  },
  {
   "cell_type": "code",
   "execution_count": null,
   "metadata": {},
   "outputs": [
    {
     "data": {
      "text/plain": [
       "3.0"
      ]
     },
     "execution_count": 122,
     "metadata": {},
     "output_type": "execute_result"
    }
   ],
   "source": [
    "numpy.trace(numpy.eye(3))\n",
    "3.0"
   ]
  },
  {
   "cell_type": "code",
   "execution_count": null,
   "metadata": {},
   "outputs": [
    {
     "name": "stdout",
     "output_type": "stream",
     "text": [
      "[[[0 1]\n",
      "  [2 3]]\n",
      "\n",
      " [[4 5]\n",
      "  [6 7]]]\n"
     ]
    },
    {
     "data": {
      "text/plain": [
       "array([6, 8])"
      ]
     },
     "execution_count": 14,
     "metadata": {},
     "output_type": "execute_result"
    }
   ],
   "source": [
    "a = numpy.arange(8).reshape((2,2,2))        # 2×2×2\n",
    "print(a)\n",
    "numpy.trace(a)"
   ]
  },
  {
   "cell_type": "markdown",
   "metadata": {},
   "source": [
    "Inverze matice"
   ]
  },
  {
   "cell_type": "code",
   "execution_count": null,
   "metadata": {},
   "outputs": [
    {
     "name": "stdout",
     "output_type": "stream",
     "text": [
      "[[-2.   1. ]\n",
      " [ 1.5 -0.5]]\n",
      "[[1.0000000e+00 0.0000000e+00]\n",
      " [8.8817842e-16 1.0000000e+00]]\n"
     ]
    },
    {
     "data": {
      "text/plain": [
       "True"
      ]
     },
     "execution_count": 15,
     "metadata": {},
     "output_type": "execute_result"
    }
   ],
   "source": [
    "from numpy.linalg import inv\n",
    "a = numpy.array([[1., 2.], [3., 4.]])\n",
    "ainv = inv(a)\n",
    "print(ainv)\n",
    "print(a @ ainv)\n",
    "numpy.allclose(a @ ainv, numpy.eye(2))"
   ]
  },
  {
   "cell_type": "markdown",
   "metadata": {},
   "source": [
    "## Třída Matice\n",
    "pohodlné, ale nepřináší nic nového"
   ]
  },
  {
   "cell_type": "code",
   "execution_count": null,
   "metadata": {},
   "outputs": [
    {
     "data": {
      "text/plain": [
       "matrix([[1, 2],\n",
       "        [3, 4]])"
      ]
     },
     "execution_count": 125,
     "metadata": {},
     "output_type": "execute_result"
    }
   ],
   "source": [
    "A = numpy.mat('[1 2;3 4]')\n",
    "A"
   ]
  },
  {
   "cell_type": "markdown",
   "metadata": {},
   "source": [
    "Transpozice, inverze"
   ]
  },
  {
   "cell_type": "code",
   "execution_count": null,
   "metadata": {},
   "outputs": [
    {
     "data": {
      "text/plain": [
       "(matrix([[1, 3],\n",
       "         [2, 4]]),\n",
       " matrix([[-2. ,  1. ],\n",
       "         [ 1.5, -0.5]]))"
      ]
     },
     "execution_count": 126,
     "metadata": {},
     "output_type": "execute_result"
    }
   ],
   "source": [
    "A.T, A.I"
   ]
  },
  {
   "cell_type": "markdown",
   "metadata": {},
   "source": [
    "Násobení matic a vektorů"
   ]
  },
  {
   "cell_type": "code",
   "execution_count": null,
   "metadata": {},
   "outputs": [
    {
     "data": {
      "text/plain": [
       "(matrix([[23, 34]]),\n",
       " matrix([[17],\n",
       "         [39]]))"
      ]
     },
     "execution_count": 127,
     "metadata": {},
     "output_type": "execute_result"
    }
   ],
   "source": [
    "b = numpy.mat('[5 6]')\n",
    "b*A, A*b.T"
   ]
  },
  {
   "cell_type": "markdown",
   "metadata": {},
   "source": [
    "https://numpy.org/devdocs/reference/routines.linalg.html"
   ]
  }
 ],
 "metadata": {
  "interpreter": {
   "hash": "e83efde216936fbdf4bb348948dbe705ca6754d4c0e093cc59b59a9bd47ce075"
  },
  "kernelspec": {
   "display_name": "Python 3.9.2 64-bit",
   "language": "python",
   "name": "python3"
  },
  "language_info": {
   "codemirror_mode": {
    "name": "ipython",
    "version": 3
   },
   "file_extension": ".py",
   "mimetype": "text/x-python",
   "name": "python",
   "nbconvert_exporter": "python",
   "pygments_lexer": "ipython3",
   "version": "3.9.9"
  },
  "orig_nbformat": 4
 },
 "nbformat": 4,
 "nbformat_minor": 2
}
