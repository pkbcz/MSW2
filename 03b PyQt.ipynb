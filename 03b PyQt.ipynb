{
 "cells": [
  {
   "cell_type": "markdown",
   "metadata": {},
   "source": [
    "PyQt i PySide téměř naprosto totožné, můžeme použít libovolnou z nich\n",
    "- program bude fungovat v jakékoli verzi Qt (PyQt6, PySide6, PyQt5, PySide2)\n",
    "- pouze dílčí nekompatibility\n",
    "- stačí přepsat PySide6 na PyQt6"
   ]
  },
  {
   "cell_type": "code",
   "execution_count": null,
   "metadata": {},
   "outputs": [],
   "source": [
    "! pip install pyside6"
   ]
  },
  {
   "cell_type": "code",
   "execution_count": null,
   "metadata": {},
   "outputs": [],
   "source": [
    "! pip install pyqt6"
   ]
  },
  {
   "cell_type": "markdown",
   "metadata": {},
   "source": [
    "Základní objekty (v QtWidgets):\n",
    "- QApplication (obsluha aplikace)\n",
    "- QWidget (základní prázdný widget GUI)\n",
    "\n",
    "Poznámka:\n",
    "- mimo Jupyter notebook stačí vytvořit aplikaci pomocí app = QApplication(sys.argv)\n",
    "- nutno testovat pouze v prostředí Jupyter notebooku"
   ]
  },
  {
   "cell_type": "code",
   "execution_count": 1,
   "metadata": {},
   "outputs": [
    {
     "data": {
      "text/plain": [
       "0"
      ]
     },
     "execution_count": 1,
     "metadata": {},
     "output_type": "execute_result"
    }
   ],
   "source": [
    "import sys      # pouze pro přístup k argumentům příkazové řádku\n",
    "from PySide6.QtWidgets import QApplication, QWidget\n",
    "\n",
    "# podmínka nutná v Jupyter notebook\n",
    "app = QApplication.instance()       # potřebujeme právě jednu instanci QApplication\n",
    "if app == None:\n",
    "    app = QApplication(sys.argv)    # argumenty příkazové řádky (jde i QApplication([]))\n",
    "\n",
    "window = QWidget()                  # vytvoří Qt widget (hlavní okno)\n",
    "window.show()                       # zobrazí okno\n",
    "\n",
    "app.exec()                          # spustí smyčku\n",
    "\n",
    "# sem se dostaneme až po ukončení smyčky"
   ]
  },
  {
   "cell_type": "code",
   "execution_count": 3,
   "metadata": {},
   "outputs": [
    {
     "data": {
      "text/plain": [
       "0"
      ]
     },
     "execution_count": 3,
     "metadata": {},
     "output_type": "execute_result"
    }
   ],
   "source": [
    "import sys\n",
    "from PySide6.QtWidgets import QApplication, QPushButton\n",
    "\n",
    "app = QApplication.instance()\n",
    "if app == None:\n",
    "    app = QApplication(sys.argv)\n",
    "\n",
    "window = QPushButton(\"Stiskni\")     # místo okna vytvoří tlačítko\n",
    "window.show()\n",
    "\n",
    "app.exec()"
   ]
  },
  {
   "cell_type": "code",
   "execution_count": 4,
   "metadata": {},
   "outputs": [
    {
     "data": {
      "text/plain": [
       "0"
      ]
     },
     "execution_count": 4,
     "metadata": {},
     "output_type": "execute_result"
    }
   ],
   "source": [
    "import sys\n",
    "from PySide6.QtWidgets import QApplication, QMainWindow\n",
    "\n",
    "app = QApplication.instance()\n",
    "if app == None:\n",
    "    app = QApplication(sys.argv)\n",
    "\n",
    "window = QMainWindow()              # předpřipravený widget\n",
    "window.show()\n",
    "\n",
    "app.exec()"
   ]
  },
  {
   "cell_type": "markdown",
   "metadata": {},
   "source": [
    "Pro vytvoření vlastního okna je nejlepší vytvořit podtřídu QMainWindow\n",
    "- nastavení okna vložíme do konstruktoru \\__init__"
   ]
  },
  {
   "cell_type": "code",
   "execution_count": 6,
   "metadata": {},
   "outputs": [
    {
     "data": {
      "text/plain": [
       "0"
      ]
     },
     "execution_count": 6,
     "metadata": {},
     "output_type": "execute_result"
    }
   ],
   "source": [
    "import sys\n",
    "from PySide6.QtCore import QSize, Qt\n",
    "from PySide6.QtWidgets import QApplication, QMainWindow, QPushButton\n",
    "\n",
    "# Subclass QMainWindow to customize your application's main window\n",
    "class MainWindow(QMainWindow):\n",
    "    def __init__(self):\n",
    "        super().__init__()\n",
    "\n",
    "        #self.setFixedSize(QSize(500, 200))    # nastaví fixní velikost okna\n",
    "        #self.setMinimumSize(QSize(500, 200))  # minimální velikost\n",
    "        self.setMaximumSize(QSize(500, 200))  # maximální velikost\n",
    "        \n",
    "        self.setWindowTitle(\"Moje aplikace\")         # název okna\n",
    "        button = QPushButton(\"Stiskni!\")     # tlačítko\n",
    "        self.setCentralWidget(button)         # přidání tlačítka doprostřed okna\n",
    "\n",
    "app = QApplication.instance()\n",
    "if app == None:\n",
    "    app = QApplication(sys.argv)\n",
    "\n",
    "window = MainWindow()\n",
    "window.show()\n",
    "\n",
    "app.exec()"
   ]
  },
  {
   "cell_type": "markdown",
   "metadata": {},
   "source": [
    "Layout, vložení Comboboxu"
   ]
  },
  {
   "cell_type": "code",
   "execution_count": 46,
   "metadata": {},
   "outputs": [
    {
     "data": {
      "text/plain": [
       "0"
      ]
     },
     "execution_count": 46,
     "metadata": {},
     "output_type": "execute_result"
    }
   ],
   "source": [
    "import sys\n",
    "from PySide6.QtWidgets import QComboBox, QMainWindow, QApplication, QWidget, QVBoxLayout\n",
    "\n",
    "\n",
    "class MainWindow(QMainWindow):\n",
    "\n",
    "    def __init__(self):\n",
    "        super().__init__()\n",
    "\n",
    "        combobox1 = QComboBox()\n",
    "        combobox1.addItem('One')\n",
    "        combobox1.addItem('Two')\n",
    "        combobox1.addItem('Three')\n",
    "        combobox1.addItem('Four')\n",
    "\n",
    "        combobox2 = QComboBox()\n",
    "        combobox2.addItems(['One', 'Two', 'Three', 'Four'])\n",
    "\n",
    "        layout = QVBoxLayout()\n",
    "        layout.addWidget(combobox1)\n",
    "        layout.addWidget(combobox2)\n",
    "\n",
    "        container = QWidget()\n",
    "        container.setLayout(layout)\n",
    "\n",
    "        self.setCentralWidget(container)\n",
    "\n",
    "app = QApplication.instance()\n",
    "if app == None:\n",
    "    app = QApplication(sys.argv)\n",
    "\n",
    "w = MainWindow()\n",
    "w.show()\n",
    "app.exec()"
   ]
  },
  {
   "cell_type": "markdown",
   "metadata": {},
   "source": [
    "Vyhodnocení signálů"
   ]
  },
  {
   "cell_type": "code",
   "execution_count": 9,
   "metadata": {},
   "outputs": [
    {
     "data": {
      "text/plain": [
       "0"
      ]
     },
     "execution_count": 9,
     "metadata": {},
     "output_type": "execute_result"
    }
   ],
   "source": [
    "import sys\n",
    "from PySide6.QtWidgets import QComboBox, QMainWindow, QApplication\n",
    "\n",
    "\n",
    "class MainWindow(QMainWindow):\n",
    "\n",
    "    def __init__(self):                     # konstruktor\n",
    "        super().__init__()\n",
    "\n",
    "        combobox = QComboBox()\n",
    "        combobox.addItems(['One', 'Two', 'Three', 'Four'])\n",
    "\n",
    "        # Connect signals to the methods.\n",
    "        combobox.activated.connect(self.activated)\n",
    "        combobox.currentTextChanged.connect(self.text_changed)\n",
    "        combobox.currentIndexChanged.connect(self.index_changed)\n",
    "\n",
    "        self.setCentralWidget(combobox)\n",
    "\n",
    "    def activated(self, index):             # index aktivované položky\n",
    "        print(\"Activated index:\", index)\n",
    "\n",
    "    def text_changed(self, s):              # text změněné položky\n",
    "        print(\"Text changed:\", s)\n",
    "\n",
    "    def index_changed(self, index):         # index změněné položky\n",
    "        print(\"Index changed\", index)\n",
    "\n",
    "app = QApplication.instance()\n",
    "if app == None:\n",
    "    app = QApplication(sys.argv)\n",
    "\n",
    "w = MainWindow()\n",
    "w.show()\n",
    "app.exec()"
   ]
  },
  {
   "cell_type": "markdown",
   "metadata": {},
   "source": [
    "## Grafy"
   ]
  },
  {
   "cell_type": "markdown",
   "metadata": {},
   "source": [
    "Použití Qt a MatPlotLib"
   ]
  },
  {
   "cell_type": "code",
   "execution_count": 7,
   "metadata": {},
   "outputs": [
    {
     "data": {
      "text/plain": [
       "0"
      ]
     },
     "execution_count": 7,
     "metadata": {},
     "output_type": "execute_result"
    }
   ],
   "source": [
    "import sys\n",
    "from PySide6.QtWidgets import QMainWindow, QApplication\n",
    "from matplotlib.backends.backend_qt5agg import FigureCanvasQTAgg\n",
    "from matplotlib.figure import Figure\n",
    "\n",
    "app = QApplication.instance()\n",
    "if app == None:\n",
    "    app = QApplication(sys.argv)\n",
    "\n",
    "# generování grafu\n",
    "fig = Figure(figsize=(60,60), dpi=72, facecolor=(0.8,1,1), edgecolor=(0,0,0))\n",
    "ax = fig.add_subplot(111)           # přidá graf s osami (jde i přes fig.add_axes)\n",
    "ax.plot([0,1])                      # vykreslí úsečku\n",
    "\n",
    "canvas = FigureCanvasQTAgg(fig)     # generování plátna pro zobrazení grafu\n",
    "\n",
    "win = QMainWindow()                 # hlavní okno\n",
    "win.setCentralWidget(canvas)        # přidá plátno do okna\n",
    "\n",
    "win.show()\n",
    "app.exec()\n",
    "#sys.exit(app.exec())"
   ]
  },
  {
   "cell_type": "markdown",
   "metadata": {},
   "source": [
    "Vytvoření vlastních tříd"
   ]
  },
  {
   "cell_type": "code",
   "execution_count": 1,
   "metadata": {},
   "outputs": [
    {
     "data": {
      "text/plain": [
       "0"
      ]
     },
     "execution_count": 1,
     "metadata": {},
     "output_type": "execute_result"
    }
   ],
   "source": [
    "import sys\n",
    "from PySide6.QtWidgets import QMainWindow, QApplication\n",
    "from matplotlib.backends.backend_qt5agg import FigureCanvasQTAgg\n",
    "from matplotlib.figure import Figure\n",
    "\n",
    "class MplCanvas(FigureCanvasQTAgg):         # objekt maptlotlib FigureCanvas\n",
    "\n",
    "    def __init__(self, parent=None, width=5, height=4, dpi=100):\n",
    "        fig = Figure(figsize=(width, height), dpi=dpi)\n",
    "        self.axes = fig.add_subplot(111)\n",
    "        super(MplCanvas, self).__init__(fig)\n",
    "\n",
    "\n",
    "class MainWindow(QMainWindow):              # objekt hlavního okna\n",
    "\n",
    "    def __init__(self, *args, **kwargs):\n",
    "        super(MainWindow, self).__init__(*args, **kwargs)\n",
    "\n",
    "        canvas = MplCanvas(self, width=5, height=4, dpi=100)\n",
    "        canvas.axes.plot([0,1,2,3,4], [10,1,20,3,40])\n",
    "        self.setCentralWidget(canvas)\n",
    "\n",
    "        self.show()\n",
    "\n",
    "\n",
    "app = QApplication.instance()\n",
    "if app == None:\n",
    "    app = QApplication(sys.argv)\n",
    "\n",
    "w = MainWindow()                            # hlavní okno\n",
    "app.exec()"
   ]
  },
  {
   "cell_type": "markdown",
   "metadata": {},
   "source": [
    "Dynamické grafy"
   ]
  },
  {
   "cell_type": "code",
   "execution_count": 8,
   "metadata": {},
   "outputs": [
    {
     "ename": "TypeError",
     "evalue": "'PySide6.QtWidgets.QToolBar.__init__' called with wrong argument types:\n  PySide6.QtWidgets.QToolBar.__init__(Window)\nSupported signatures:\n  PySide6.QtWidgets.QToolBar.__init__(Optional[PySide6.QtWidgets.QWidget] = None)\n  PySide6.QtWidgets.QToolBar.__init__(str, Optional[PySide6.QtWidgets.QWidget] = None)",
     "output_type": "error",
     "traceback": [
      "\u001b[1;31m---------------------------------------------------------------------------\u001b[0m",
      "\u001b[1;31mTypeError\u001b[0m                                 Traceback (most recent call last)",
      "\u001b[1;32m~\\AppData\\Local\\Temp/ipykernel_18436/3416183193.py\u001b[0m in \u001b[0;36m<module>\u001b[1;34m\u001b[0m\n\u001b[0;32m     41\u001b[0m         \u001b[0mapp\u001b[0m \u001b[1;33m=\u001b[0m \u001b[0mQApplication\u001b[0m\u001b[1;33m(\u001b[0m\u001b[0msys\u001b[0m\u001b[1;33m.\u001b[0m\u001b[0margv\u001b[0m\u001b[1;33m)\u001b[0m\u001b[1;33m\u001b[0m\u001b[1;33m\u001b[0m\u001b[0m\n\u001b[0;32m     42\u001b[0m \u001b[1;33m\u001b[0m\u001b[0m\n\u001b[1;32m---> 43\u001b[1;33m     \u001b[0mmain\u001b[0m \u001b[1;33m=\u001b[0m \u001b[0mWindow\u001b[0m\u001b[1;33m(\u001b[0m\u001b[1;33m)\u001b[0m                                 \u001b[1;31m# objekt okna\u001b[0m\u001b[1;33m\u001b[0m\u001b[1;33m\u001b[0m\u001b[0m\n\u001b[0m\u001b[0;32m     44\u001b[0m     \u001b[0mmain\u001b[0m\u001b[1;33m.\u001b[0m\u001b[0mshow\u001b[0m\u001b[1;33m(\u001b[0m\u001b[1;33m)\u001b[0m\u001b[1;33m\u001b[0m\u001b[1;33m\u001b[0m\u001b[0m\n\u001b[0;32m     45\u001b[0m \u001b[1;33m\u001b[0m\u001b[0m\n",
      "\u001b[1;32m~\\AppData\\Local\\Temp/ipykernel_18436/3416183193.py\u001b[0m in \u001b[0;36m__init__\u001b[1;34m(self, parent)\u001b[0m\n\u001b[0;32m     17\u001b[0m \u001b[1;33m\u001b[0m\u001b[0m\n\u001b[0;32m     18\u001b[0m         \u001b[1;31m# navigační widget (parametry: Canvas widget a parent)\u001b[0m\u001b[1;33m\u001b[0m\u001b[1;33m\u001b[0m\u001b[0m\n\u001b[1;32m---> 19\u001b[1;33m         \u001b[0mself\u001b[0m\u001b[1;33m.\u001b[0m\u001b[0mtoolbar\u001b[0m \u001b[1;33m=\u001b[0m \u001b[0mNavigationToolbar\u001b[0m\u001b[1;33m(\u001b[0m\u001b[0mself\u001b[0m\u001b[1;33m.\u001b[0m\u001b[0mcanvas\u001b[0m\u001b[1;33m,\u001b[0m \u001b[0mself\u001b[0m\u001b[1;33m)\u001b[0m\u001b[1;33m\u001b[0m\u001b[1;33m\u001b[0m\u001b[0m\n\u001b[0m\u001b[0;32m     20\u001b[0m \u001b[1;33m\u001b[0m\u001b[0m\n\u001b[0;32m     21\u001b[0m         \u001b[0mself\u001b[0m\u001b[1;33m.\u001b[0m\u001b[0mbutton\u001b[0m \u001b[1;33m=\u001b[0m \u001b[0mQPushButton\u001b[0m\u001b[1;33m(\u001b[0m\u001b[1;34m'Plot'\u001b[0m\u001b[1;33m)\u001b[0m           \u001b[1;31m# tlačítko spojené s metodou 'plot'\u001b[0m\u001b[1;33m\u001b[0m\u001b[1;33m\u001b[0m\u001b[0m\n",
      "\u001b[1;32mc:\\Users\\P\\AppData\\Local\\Programs\\Python\\Python39\\lib\\site-packages\\matplotlib\\backends\\backend_qt.py\u001b[0m in \u001b[0;36m__init__\u001b[1;34m(self, canvas, parent, coordinates)\u001b[0m\n\u001b[0;32m    635\u001b[0m     \u001b[1;32mdef\u001b[0m \u001b[0m__init__\u001b[0m\u001b[1;33m(\u001b[0m\u001b[0mself\u001b[0m\u001b[1;33m,\u001b[0m \u001b[0mcanvas\u001b[0m\u001b[1;33m,\u001b[0m \u001b[0mparent\u001b[0m\u001b[1;33m,\u001b[0m \u001b[0mcoordinates\u001b[0m\u001b[1;33m=\u001b[0m\u001b[1;32mTrue\u001b[0m\u001b[1;33m)\u001b[0m\u001b[1;33m:\u001b[0m\u001b[1;33m\u001b[0m\u001b[1;33m\u001b[0m\u001b[0m\n\u001b[0;32m    636\u001b[0m         \u001b[1;34m\"\"\"coordinates: should we show the coordinates on the right?\"\"\"\u001b[0m\u001b[1;33m\u001b[0m\u001b[1;33m\u001b[0m\u001b[0m\n\u001b[1;32m--> 637\u001b[1;33m         \u001b[0mQtWidgets\u001b[0m\u001b[1;33m.\u001b[0m\u001b[0mQToolBar\u001b[0m\u001b[1;33m.\u001b[0m\u001b[0m__init__\u001b[0m\u001b[1;33m(\u001b[0m\u001b[0mself\u001b[0m\u001b[1;33m,\u001b[0m \u001b[0mparent\u001b[0m\u001b[1;33m)\u001b[0m\u001b[1;33m\u001b[0m\u001b[1;33m\u001b[0m\u001b[0m\n\u001b[0m\u001b[0;32m    638\u001b[0m         self.setAllowedAreas(QtCore.Qt.ToolBarArea(\n\u001b[0;32m    639\u001b[0m             \u001b[0m_to_int\u001b[0m\u001b[1;33m(\u001b[0m\u001b[0m_enum\u001b[0m\u001b[1;33m(\u001b[0m\u001b[1;34m\"QtCore.Qt.ToolBarArea\"\u001b[0m\u001b[1;33m)\u001b[0m\u001b[1;33m.\u001b[0m\u001b[0mTopToolBarArea\u001b[0m\u001b[1;33m)\u001b[0m \u001b[1;33m|\u001b[0m\u001b[1;33m\u001b[0m\u001b[1;33m\u001b[0m\u001b[0m\n",
      "\u001b[1;31mTypeError\u001b[0m: 'PySide6.QtWidgets.QToolBar.__init__' called with wrong argument types:\n  PySide6.QtWidgets.QToolBar.__init__(Window)\nSupported signatures:\n  PySide6.QtWidgets.QToolBar.__init__(Optional[PySide6.QtWidgets.QWidget] = None)\n  PySide6.QtWidgets.QToolBar.__init__(str, Optional[PySide6.QtWidgets.QWidget] = None)"
     ]
    },
    {
     "data": {
      "text/plain": [
       "<Figure size 432x288 with 0 Axes>"
      ]
     },
     "metadata": {},
     "output_type": "display_data"
    }
   ],
   "source": [
    "import sys\n",
    "from PyQt6.QtWidgets import QDialog, QApplication, QPushButton, QVBoxLayout\n",
    "from matplotlib.backends.backend_qt5agg import FigureCanvasQTAgg as FigureCanvas\n",
    "from matplotlib.backends.backend_qt5agg import NavigationToolbar2QT as NavigationToolbar\n",
    "import matplotlib.pyplot as plt\n",
    "import random\n",
    "  \n",
    "class Window(QDialog):                  # hlavní okno je dialog \n",
    "      \n",
    "    def __init__(self, parent=None):\n",
    "        super(Window, self).__init__(parent)\n",
    "\n",
    "        self.figure = plt.figure()      # instance obrázku k vykreslení \n",
    "\n",
    "        # widget Canvas (zobrazuje 'figure', parametr 'figure')\n",
    "        self.canvas = FigureCanvas(self.figure)     # widget canvas\n",
    "\n",
    "        # navigační widget (parametry: Canvas widget a parent)\n",
    "        self.toolbar = NavigationToolbar(self.canvas, self)\n",
    "\n",
    "        self.button = QPushButton('Plot')           # tlačítko spojené s metodou 'plot'\n",
    "        self.button.clicked.connect(self.plot)      # akce přidaná tlačítku\n",
    "\n",
    "        layout = QVBoxLayout()                      # vertikální box\n",
    "        layout.addWidget(self.toolbar)              # přidání toolbaru\n",
    "        layout.addWidget(self.canvas)               # přidání canvasu\n",
    "        layout.addWidget(self.button)               # přidání tlačítka\n",
    "        self.setLayout(layout)                      # přidání layoutu do okna\n",
    "\n",
    "\n",
    "    def plot(self):         # akce volaná po stisku tlačítka\n",
    "        data = [random.random() for i in range(10)] # náhodná data\n",
    "        self.figure.clear()                         # smazání starého obrázku\n",
    "        ax = self.figure.add_subplot(111)           # vytvoření osy\n",
    "        ax.plot(data, '*-')                         # vykreslení dat\n",
    "        self.canvas.draw()                          # obnovení canvasu\n",
    "\n",
    "if __name__ == '__main__':\n",
    "    app = QApplication.instance()\n",
    "    if app == None:\n",
    "        app = QApplication(sys.argv)\n",
    "  \n",
    "    main = Window()                                 # objekt okna\n",
    "    main.show()\n",
    "  \n",
    "    app.exec()"
   ]
  },
  {
   "cell_type": "markdown",
   "metadata": {},
   "source": [
    "Gaussova křivka pomocí SciPy"
   ]
  },
  {
   "cell_type": "code",
   "execution_count": 12,
   "metadata": {},
   "outputs": [],
   "source": [
    "import sys\n",
    "import numpy as np\n",
    "from scipy.stats import norm\n",
    "from matplotlib import pyplot as plt\n",
    "from matplotlib.figure import Figure\n",
    "from matplotlib.backends.backend_qt5agg import FigureCanvas #QTAgg as FigureCanvas\n",
    "from matplotlib.backends.backend_qt5agg import NavigationToolbar2QT as NavigationToolbar\n",
    "from PyQt6.QtWidgets import (\n",
    "    QApplication,\n",
    "    QWidget,\n",
    "    QDoubleSpinBox,\n",
    "    QVBoxLayout,\n",
    "    QHBoxLayout,\n",
    ")\n",
    "\n",
    "\n",
    "class PlotWidget(QWidget):\n",
    "    def __init__(self, parent=None):\n",
    "        super().__init__(parent)\n",
    "\n",
    "        #  widgety\n",
    "        self.canvas = FigureCanvas(Figure(figsize=(5, 3)))\n",
    "        self.axes = self.canvas.figure.subplots()\n",
    "        self.toolbar = NavigationToolbar(self.canvas, self)\n",
    "        self.mu_input = QDoubleSpinBox()\n",
    "        self.std_input = QDoubleSpinBox()\n",
    "        self.mu_input.setPrefix(\"μ: \")\n",
    "        self.std_input.setPrefix(\"σ: \")\n",
    "        self.std_input.setValue(10)\n",
    "\n",
    "        #  layout\n",
    "        input_layout = QHBoxLayout()\n",
    "        input_layout.addWidget(self.mu_input)\n",
    "        input_layout.addWidget(self.std_input)\n",
    "        vlayout = QVBoxLayout()\n",
    "        vlayout.addWidget(self.toolbar)\n",
    "        #vlayout.addToolBar(self.toolbar)\n",
    "        vlayout.addWidget(self.canvas)\n",
    "        vlayout.addLayout(input_layout)\n",
    "        self.setLayout(vlayout)\n",
    "\n",
    "        # spojení vstupů s matodou on_change\n",
    "        self.mu_input.valueChanged.connect(self.on_change)\n",
    "        self.std_input.valueChanged.connect(self.on_change)\n",
    "\n",
    "        self.on_change()\n",
    "\n",
    "    def on_change(self):\n",
    "        \"\"\" Aktualizace grafu současnými vstupnímu hodnotami \"\"\"\n",
    "        mu = self.mu_input.value()\n",
    "        std = self.std_input.value()\n",
    "\n",
    "        x = np.linspace(-100, 100)\n",
    "        y = norm.pdf(x, mu, std)\n",
    "\n",
    "        self.axes.clear()\n",
    "        self.axes.plot(x, y)\n",
    "        self.canvas.draw()\n",
    "\n",
    "\n",
    "if __name__ == \"__main__\":\n",
    "\n",
    "    app = QApplication.instance()\n",
    "    if app == None:\n",
    "        app = QApplication(sys.argv)    \n",
    "    w = PlotWidget()\n",
    "    w.show()\n",
    "    app.exec()"
   ]
  },
  {
   "cell_type": "code",
   "execution_count": 13,
   "metadata": {},
   "outputs": [
    {
     "data": {
      "text/plain": [
       "0"
      ]
     },
     "execution_count": 13,
     "metadata": {},
     "output_type": "execute_result"
    }
   ],
   "source": [
    "import sys, time\n",
    "import numpy as np\n",
    "\n",
    "from matplotlib.backends.backend_qt5agg import (\n",
    "    FigureCanvas, NavigationToolbar2QT as NavigationToolbar)\n",
    "from matplotlib.figure import Figure\n",
    "from PyQt6.QtWidgets import QMainWindow, QApplication, QWidget, QVBoxLayout\n",
    "\n",
    "\n",
    "\n",
    "class MainWindow(QMainWindow):\n",
    "    def __init__(self):\n",
    "        super().__init__()\n",
    "        self._main = QWidget()\n",
    "        self.setCentralWidget(self._main)\n",
    "        layout = QVBoxLayout(self._main)\n",
    "\n",
    "        static_canvas = FigureCanvas(Figure(figsize=(5, 3)))\n",
    "        # Ideally one would use self.addToolBar here, but it is slightly\n",
    "        # incompatible between PyQt6 and other bindings, so we just add the\n",
    "        # toolbar as a plain widget instead.\n",
    "        layout.addWidget(NavigationToolbar(static_canvas, self))\n",
    "        layout.addWidget(static_canvas)\n",
    "\n",
    "        dynamic_canvas = FigureCanvas(Figure(figsize=(5, 3)))\n",
    "        layout.addWidget(dynamic_canvas)\n",
    "        layout.addWidget(NavigationToolbar(dynamic_canvas, self))\n",
    "\n",
    "        self._static_ax = static_canvas.figure.subplots()\n",
    "        t = np.linspace(0, 10, 501)\n",
    "        self._static_ax.plot(t, np.tan(t), \".\")\n",
    "\n",
    "        self._dynamic_ax = dynamic_canvas.figure.subplots()\n",
    "        t = np.linspace(0, 10, 101)\n",
    "        # Set up a Line2D.\n",
    "        self._line, = self._dynamic_ax.plot(t, np.sin(t + time.time()))\n",
    "        self._timer = dynamic_canvas.new_timer(50)\n",
    "        self._timer.add_callback(self._update_canvas)\n",
    "        self._timer.start()\n",
    "\n",
    "    def _update_canvas(self):\n",
    "        t = np.linspace(0, 10, 101)\n",
    "        # Shift the sinusoid as a function of time.\n",
    "        self._line.set_data(t, np.sin(t + time.time()))\n",
    "        self._line.figure.canvas.draw()\n",
    "\n",
    "\n",
    "app = QApplication.instance()\n",
    "if app == None:\n",
    "    app = QApplication(sys.argv)\n",
    "\n",
    "w = MainWindow()\n",
    "w.show()\n",
    "w.activateWindow()\n",
    "w.raise_()\n",
    "app.exec()"
   ]
  }
 ],
 "metadata": {
  "interpreter": {
   "hash": "e83efde216936fbdf4bb348948dbe705ca6754d4c0e093cc59b59a9bd47ce075"
  },
  "kernelspec": {
   "display_name": "Python 3.9.2 64-bit",
   "language": "python",
   "name": "python3"
  },
  "language_info": {
   "codemirror_mode": {
    "name": "ipython",
    "version": 3
   },
   "file_extension": ".py",
   "mimetype": "text/x-python",
   "name": "python",
   "nbconvert_exporter": "python",
   "pygments_lexer": "ipython3",
   "version": "3.9.9"
  },
  "orig_nbformat": 4
 },
 "nbformat": 4,
 "nbformat_minor": 2
}
