{
 "cells": [
  {
   "attachments": {},
   "cell_type": "markdown",
   "metadata": {},
   "source": [
    "# SymPy\n",
    "knihovna pro symbolickou matematiku"
   ]
  },
  {
   "cell_type": "code",
   "execution_count": null,
   "metadata": {},
   "outputs": [],
   "source": [
    "!python -m pip install sympy"
   ]
  },
  {
   "cell_type": "code",
   "execution_count": 1,
   "metadata": {},
   "outputs": [],
   "source": [
    "#import sympy\n",
    "from sympy import *"
   ]
  },
  {
   "attachments": {},
   "cell_type": "markdown",
   "metadata": {},
   "source": [
    "výpočty symbolické"
   ]
  },
  {
   "cell_type": "code",
   "execution_count": 2,
   "metadata": {},
   "outputs": [
    {
     "name": "stdout",
     "output_type": "stream",
     "text": [
      "math: 2.8284271247461903\n",
      "sympy: 2*sqrt(2)\n",
      "latex: 2 \\sqrt{2}\n"
     ]
    },
    {
     "data": {
      "text/latex": [
       "$\\displaystyle 2 \\sqrt{2}$"
      ],
      "text/plain": [
       "2*sqrt(2)"
      ]
     },
     "execution_count": 2,
     "metadata": {},
     "output_type": "execute_result"
    }
   ],
   "source": [
    "import math\n",
    "print(\"math:\", math.sqrt(8))        # standardní funkce Pythonu\n",
    "print(\"sympy:\", sqrt(8))            # textový výsrup SymPy\n",
    "print(\"latex:\", latex(sqrt(8)))     # možnost exportu do textových editorů\n",
    "sqrt(8)                             # grafický výstup SymPy"
   ]
  },
  {
   "attachments": {},
   "cell_type": "markdown",
   "metadata": {},
   "source": [
    "vyhodnocení výrazu"
   ]
  },
  {
   "cell_type": "code",
   "execution_count": 5,
   "metadata": {},
   "outputs": [
    {
     "name": "stdout",
     "output_type": "stream",
     "text": [
      "2.82842712474619\n",
      "2.83\n",
      "pi\n",
      "3.141592653589793238462643383279502884197169399375105820974944592307816406286208998628034825342117068\n"
     ]
    }
   ],
   "source": [
    "print(sqrt(8).evalf())\n",
    "print(sqrt(8).evalf(3))         # na 3 platná čísla\n",
    "print(pi)\n",
    "print(pi.evalf(100))"
   ]
  },
  {
   "attachments": {},
   "cell_type": "markdown",
   "metadata": {},
   "source": [
    "### Desetinná čísla"
   ]
  },
  {
   "cell_type": "code",
   "execution_count": 12,
   "metadata": {},
   "outputs": [
    {
     "name": "stdout",
     "output_type": "stream",
     "text": [
      "0.5\n",
      "1/2\n",
      "1/2\n"
     ]
    },
    {
     "data": {
      "text/latex": [
       "$\\displaystyle \\frac{1}{2}$"
      ],
      "text/plain": [
       "1/2"
      ]
     },
     "execution_count": 12,
     "metadata": {},
     "output_type": "execute_result"
    }
   ],
   "source": [
    "print(1/2)\n",
    "print(Rational(1, 2))           # racionální číslo\n",
    "print(S(1)/2)                   # sympify (převádí objekt Pythonu na objekt SymPy)\n",
    "Rational(1, 2)                  # grafický výstup"
   ]
  },
  {
   "attachments": {},
   "cell_type": "markdown",
   "metadata": {},
   "source": [
    "#### Definice proměnných\n",
    "Symbol - nejdůležitější třída v SymPy\n",
    "- základ pro symbolické výpočty (proměnné SymPy jsou objekty třídy Symbols)\n",
    "\n",
    "Argument funkce Symbol() je řetězec obsahující symbol, který lze přiřadit proměnné\n",
    "- proměnné musí být definovány pomocí symbols\n",
    "- musí být definovány před použitím (jinak výjimka)"
   ]
  },
  {
   "cell_type": "code",
   "execution_count": 7,
   "metadata": {},
   "outputs": [
    {
     "data": {
      "text/latex": [
       "$\\displaystyle x + 0.5$"
      ],
      "text/plain": [
       "x + 0.5"
      ]
     },
     "execution_count": 7,
     "metadata": {},
     "output_type": "execute_result"
    }
   ],
   "source": [
    "x = Symbol('x')         # nebo x = symbols('x')\n",
    "x + 1/2"
   ]
  },
  {
   "attachments": {},
   "cell_type": "markdown",
   "metadata": {},
   "source": [
    "- více proměnných oddělujeme mezerou nebo čárkou"
   ]
  },
  {
   "cell_type": "code",
   "execution_count": 3,
   "metadata": {},
   "outputs": [
    {
     "data": {
      "text/latex": [
       "$\\displaystyle - 2 x + 2 z$"
      ],
      "text/plain": [
       "-2*x + 2*z"
      ]
     },
     "execution_count": 3,
     "metadata": {},
     "output_type": "execute_result"
    }
   ],
   "source": [
    "x, y, z = symbols('x y z')      # oddělené čárkou nebo mezerou\n",
    "z - 2*x + z                     # proměnné se seřadí automaticky"
   ]
  },
  {
   "attachments": {},
   "cell_type": "markdown",
   "metadata": {},
   "source": [
    "- můžeme definovat řecká písmena i indexy"
   ]
  },
  {
   "cell_type": "code",
   "execution_count": 22,
   "metadata": {},
   "outputs": [
    {
     "data": {
      "text/latex": [
       "$\\displaystyle \\frac{\\Psi + \\alpha + \\psi}{r_{s} + r^{2}_{s}}$"
      ],
      "text/plain": [
       "(Psi + alpha + psi)/(r_s + r_s^2)"
      ]
     },
     "execution_count": 22,
     "metadata": {},
     "output_type": "execute_result"
    }
   ],
   "source": [
    "alfa, psi, Psi = symbols(\"alpha psi Psi\")   # řecká písmena\n",
    "rs, rs2 = symbols(\"r_s, r_s^2\")             # indexy\n",
    "(alfa + Psi + psi) / (rs + rs2)"
   ]
  },
  {
   "attachments": {},
   "cell_type": "markdown",
   "metadata": {},
   "source": [
    "Fungují i rozsahy - vrátí n-tici"
   ]
  },
  {
   "cell_type": "code",
   "execution_count": 11,
   "metadata": {},
   "outputs": [
    {
     "name": "stdout",
     "output_type": "stream",
     "text": [
      "(a0, a1, a2, a3, a4)\n"
     ]
    },
    {
     "data": {
      "text/plain": [
       "(x1, x2, x3)"
      ]
     },
     "execution_count": 11,
     "metadata": {},
     "output_type": "execute_result"
    }
   ],
   "source": [
    "print(symbols('a:5'))               # pod. jako range: 5 hodnot (0 až 4)\n",
    "symbols('x(1:4)')                   # 1 až 3"
   ]
  },
  {
   "attachments": {},
   "cell_type": "markdown",
   "metadata": {},
   "source": [
    "Jiný způsob definování jednopísmenných proměnných\n",
    "- pomocí modulu sympy.abc"
   ]
  },
  {
   "cell_type": "code",
   "execution_count": 9,
   "metadata": {},
   "outputs": [
    {
     "data": {
      "text/latex": [
       "$\\displaystyle u - v + 3 w$"
      ],
      "text/plain": [
       "u - v + 3*w"
      ]
     },
     "execution_count": 9,
     "metadata": {},
     "output_type": "execute_result"
    }
   ],
   "source": [
    "from sympy.abc import u, v, w\n",
    "u + 3*w - v"
   ]
  },
  {
   "attachments": {},
   "cell_type": "markdown",
   "metadata": {},
   "source": [
    "#### Pojmenování výrazu a práce s ním"
   ]
  },
  {
   "cell_type": "code",
   "execution_count": 4,
   "metadata": {},
   "outputs": [
    {
     "data": {
      "text/latex": [
       "$\\displaystyle x + 2 y$"
      ],
      "text/plain": [
       "x + 2*y"
      ]
     },
     "execution_count": 4,
     "metadata": {},
     "output_type": "execute_result"
    }
   ],
   "source": [
    "x, y = symbols('x y')\n",
    "expr = x + 2*y\n",
    "expr"
   ]
  },
  {
   "cell_type": "code",
   "execution_count": 6,
   "metadata": {},
   "outputs": [
    {
     "data": {
      "text/latex": [
       "$\\displaystyle x + 2 y + 1$"
      ],
      "text/plain": [
       "x + 2*y + 1"
      ]
     },
     "execution_count": 6,
     "metadata": {},
     "output_type": "execute_result"
    }
   ],
   "source": [
    "expr + 1"
   ]
  },
  {
   "cell_type": "code",
   "execution_count": 7,
   "metadata": {},
   "outputs": [
    {
     "data": {
      "text/latex": [
       "$\\displaystyle 2 y$"
      ],
      "text/plain": [
       "2*y"
      ]
     },
     "execution_count": 7,
     "metadata": {},
     "output_type": "execute_result"
    }
   ],
   "source": [
    "expr - x"
   ]
  },
  {
   "cell_type": "code",
   "execution_count": 61,
   "metadata": {},
   "outputs": [
    {
     "data": {
      "text/latex": [
       "$\\displaystyle x \\left(x + 2 y\\right)$"
      ],
      "text/plain": [
       "x*(x + 2*y)"
      ]
     },
     "execution_count": 61,
     "metadata": {},
     "output_type": "execute_result"
    }
   ],
   "source": [
    "expr * x"
   ]
  },
  {
   "attachments": {},
   "cell_type": "markdown",
   "metadata": {},
   "source": [
    "Operace s výrazy"
   ]
  },
  {
   "cell_type": "code",
   "execution_count": 9,
   "metadata": {},
   "outputs": [
    {
     "data": {
      "text/latex": [
       "$\\displaystyle \\sin^{2}{\\left(x \\right)} + \\cos^{2}{\\left(x \\right)}$"
      ],
      "text/plain": [
       "sin(x)**2 + cos(x)**2"
      ]
     },
     "metadata": {},
     "output_type": "display_data"
    },
    {
     "data": {
      "text/latex": [
       "$\\displaystyle 1$"
      ],
      "text/plain": [
       "1"
      ]
     },
     "execution_count": 9,
     "metadata": {},
     "output_type": "execute_result"
    }
   ],
   "source": [
    "expr3 = sin(x)**2 + cos(x)**2 \n",
    "display(expr3)\n",
    "simplify(expr3)                 # zjednodušení"
   ]
  },
  {
   "attachments": {},
   "cell_type": "markdown",
   "metadata": {},
   "source": [
    "Existují i další varianty zjednodušení:\n",
    "- trigsimp (trigonometrické fce)\n",
    "- powsimp (mocniny)\n",
    "- combsimp (kombinatorika)"
   ]
  },
  {
   "cell_type": "code",
   "execution_count": 10,
   "metadata": {},
   "outputs": [
    {
     "data": {
      "text/latex": [
       "$\\displaystyle x^{2} + 2 x y$"
      ],
      "text/plain": [
       "x**2 + 2*x*y"
      ]
     },
     "execution_count": 10,
     "metadata": {},
     "output_type": "execute_result"
    }
   ],
   "source": [
    "expr2 = expand(expr * x)        # roznásobení\n",
    "expr2"
   ]
  },
  {
   "cell_type": "code",
   "execution_count": 11,
   "metadata": {},
   "outputs": [
    {
     "data": {
      "text/latex": [
       "$\\displaystyle x \\left(x + 2 y\\right)$"
      ],
      "text/plain": [
       "x*(x + 2*y)"
      ]
     },
     "execution_count": 11,
     "metadata": {},
     "output_type": "execute_result"
    }
   ],
   "source": [
    "factor(expr2)                   # převedení na součin"
   ]
  },
  {
   "cell_type": "code",
   "execution_count": 67,
   "metadata": {},
   "outputs": [
    {
     "data": {
      "text/plain": [
       "(1, [(x, 2), (x + 2*y, 1)])"
      ]
     },
     "execution_count": 67,
     "metadata": {},
     "output_type": "execute_result"
    }
   ],
   "source": [
    "expr4 = expr2*x\n",
    "factor_list(expr4)              # dvojice konstanta a seznam činitelů s mocninami"
   ]
  },
  {
   "attachments": {},
   "cell_type": "markdown",
   "metadata": {},
   "source": [
    "#### Nahrazení (substituce)\n",
    "- nahrazení všech výskytů \n",
    "    - číslem\n",
    "    - jinou proměnnou\n",
    "    - jiným výrazem"
   ]
  },
  {
   "cell_type": "code",
   "execution_count": 5,
   "metadata": {},
   "outputs": [
    {
     "name": "stdout",
     "output_type": "stream",
     "text": [
      "11\n"
     ]
    },
    {
     "data": {
      "text/latex": [
       "$\\displaystyle \\nu^{2} + \\nu + 5$"
      ],
      "text/plain": [
       "nu**2 + nu + 5"
      ]
     },
     "metadata": {},
     "output_type": "display_data"
    },
    {
     "data": {
      "text/latex": [
       "$\\displaystyle \\sin^{2}{\\left(\\phi \\right)} + \\sin{\\left(\\phi \\right)} + 5$"
      ],
      "text/plain": [
       "sin(phi)**2 + sin(phi) + 5"
      ]
     },
     "execution_count": 5,
     "metadata": {},
     "output_type": "execute_result"
    }
   ],
   "source": [
    "nu, phi = symbols(\"nu phi\")\n",
    "expr = 5 + x + x**2\n",
    "print(expr.subs(x, 2))      # nahrazení číslem\n",
    "display(expr.subs(x, nu))     # nahrazení jinou proměnnou\n",
    "expr.subs(x, sin(phi))      # nahrazení jiným výrazem"
   ]
  },
  {
   "attachments": {},
   "cell_type": "markdown",
   "metadata": {},
   "source": [
    "Číselné vyhodnocení výrazu "
   ]
  },
  {
   "cell_type": "code",
   "execution_count": 15,
   "metadata": {},
   "outputs": [
    {
     "name": "stdout",
     "output_type": "stream",
     "text": [
      "pi*r**2\n",
      "4*pi\n",
      "12.5663706143592\n",
      "12.5663706143592\n"
     ]
    }
   ],
   "source": [
    "r = symbols(\"r\")\n",
    "expr=pi*r**2 \n",
    "print(expr)\n",
    "print(expr.subs(r, 2))\n",
    "print(expr.subs(r, 2).evalf())\n",
    "print(expr.evalf(subs = {r:2}))"
   ]
  },
  {
   "attachments": {},
   "cell_type": "markdown",
   "metadata": {},
   "source": [
    "#### Funkce, integrace a derivace"
   ]
  },
  {
   "cell_type": "code",
   "execution_count": 6,
   "metadata": {},
   "outputs": [
    {
     "data": {
      "text/latex": [
       "$\\displaystyle e^{x} \\sin{\\left(x \\right)}$"
      ],
      "text/plain": [
       "exp(x)*sin(x)"
      ]
     },
     "execution_count": 6,
     "metadata": {},
     "output_type": "execute_result"
    }
   ],
   "source": [
    "#x, t, z, nu = symbols('x t z nu')\n",
    "fce = sin(x) * exp(x)\n",
    "fce"
   ]
  },
  {
   "cell_type": "code",
   "execution_count": 7,
   "metadata": {},
   "outputs": [
    {
     "data": {
      "text/latex": [
       "$\\displaystyle e^{x} \\sin{\\left(x \\right)} + e^{x} \\cos{\\left(x \\right)}$"
      ],
      "text/plain": [
       "exp(x)*sin(x) + exp(x)*cos(x)"
      ]
     },
     "execution_count": 7,
     "metadata": {},
     "output_type": "execute_result"
    }
   ],
   "source": [
    "dce = diff(fce, x)          # nebo jen diff(fce)\n",
    "dce"
   ]
  },
  {
   "cell_type": "code",
   "execution_count": 8,
   "metadata": {},
   "outputs": [
    {
     "data": {
      "text/latex": [
       "$\\displaystyle e^{x} \\sin{\\left(x \\right)}$"
      ],
      "text/plain": [
       "exp(x)*sin(x)"
      ]
     },
     "execution_count": 8,
     "metadata": {},
     "output_type": "execute_result"
    }
   ],
   "source": [
    "int = integrate(dce, x)     # nebo jen integrate(dce)\n",
    "int"
   ]
  },
  {
   "cell_type": "code",
   "execution_count": 9,
   "metadata": {},
   "outputs": [
    {
     "data": {
      "text/latex": [
       "$\\displaystyle \\log{\\left(x \\right)}$"
      ],
      "text/plain": [
       "log(x)"
      ]
     },
     "execution_count": 9,
     "metadata": {},
     "output_type": "execute_result"
    }
   ],
   "source": [
    "integrate(1/x, x)"
   ]
  },
  {
   "cell_type": "code",
   "execution_count": 229,
   "metadata": {},
   "outputs": [
    {
     "data": {
      "text/latex": [
       "$\\displaystyle \\frac{\\sqrt{2} \\sqrt{\\pi}}{2}$"
      ],
      "text/plain": [
       "sqrt(2)*sqrt(pi)/2"
      ]
     },
     "execution_count": 229,
     "metadata": {},
     "output_type": "execute_result"
    }
   ],
   "source": [
    "integrate(sin(x**2), (x, -oo, oo))  # určitý integrál"
   ]
  },
  {
   "attachments": {},
   "cell_type": "markdown",
   "metadata": {},
   "source": [
    "Limity"
   ]
  },
  {
   "cell_type": "code",
   "execution_count": 10,
   "metadata": {},
   "outputs": [
    {
     "data": {
      "text/latex": [
       "$\\displaystyle 1$"
      ],
      "text/plain": [
       "1"
      ]
     },
     "execution_count": 10,
     "metadata": {},
     "output_type": "execute_result"
    }
   ],
   "source": [
    "limit(sin(x)/x, x, 0)                       # výpočet limity"
   ]
  },
  {
   "cell_type": "code",
   "execution_count": 49,
   "metadata": {},
   "outputs": [
    {
     "data": {
      "text/latex": [
       "$\\displaystyle 0$"
      ],
      "text/plain": [
       "0"
      ]
     },
     "execution_count": 49,
     "metadata": {},
     "output_type": "execute_result"
    }
   ],
   "source": [
    "limit(1/x, x, oo)                           # limita v nekonečnu"
   ]
  },
  {
   "cell_type": "code",
   "execution_count": 22,
   "metadata": {},
   "outputs": [
    {
     "name": "stdout",
     "output_type": "stream",
     "text": [
      "oo\n",
      "oo\n"
     ]
    },
    {
     "data": {
      "text/latex": [
       "$\\displaystyle \\tilde{\\infty}$"
      ],
      "text/plain": [
       "zoo"
      ]
     },
     "metadata": {},
     "output_type": "display_data"
    },
    {
     "name": "stdout",
     "output_type": "stream",
     "text": [
      "-oo\n"
     ]
    }
   ],
   "source": [
    "\n",
    "print(limit(1/x, x, 0))                     # limita zprava\n",
    "print(limit(1/x, x, 0, dir=\"+\"))            # totéž (limita zprava)\n",
    "print(limit(1/x, x, 0, dir=\"+-\"))           # limita (-> complex infinity)\n",
    "print(limit(1/x, x, 0, dir=\"-\"))            # limita zleva\n"
   ]
  },
  {
   "attachments": {},
   "cell_type": "markdown",
   "metadata": {},
   "source": [
    "### Rovnice"
   ]
  },
  {
   "cell_type": "code",
   "execution_count": 23,
   "metadata": {},
   "outputs": [
    {
     "data": {
      "text/latex": [
       "$\\displaystyle x^{2} - 2$"
      ],
      "text/plain": [
       "x**2 - 2"
      ]
     },
     "execution_count": 23,
     "metadata": {},
     "output_type": "execute_result"
    }
   ],
   "source": [
    "F = x**2 - 2            # výraz\n",
    "F"
   ]
  },
  {
   "attachments": {},
   "cell_type": "markdown",
   "metadata": {},
   "source": [
    "řešením rozumíme položení rovnosti nule a hledání kořenů"
   ]
  },
  {
   "cell_type": "code",
   "execution_count": 34,
   "metadata": {},
   "outputs": [
    {
     "name": "stdout",
     "output_type": "stream",
     "text": [
      "[-sqrt(2), sqrt(2)]\n",
      "[-sqrt(2), sqrt(2)]\n",
      "[-sqrt(2), sqrt(2)]\n"
     ]
    }
   ],
   "source": [
    "print(solve(x**2 - 2, x))       # řešení rovnice x^2 - 2 = 0\n",
    "print(solve(F, x))              # zápis pomocí pojmenovaného výrazu\n",
    "print(solve(F))                 # zjednodušený zápis (jedna proměnná)"
   ]
  },
  {
   "attachments": {},
   "cell_type": "markdown",
   "metadata": {},
   "source": [
    "Rovnice s nenulovou pravou stranou"
   ]
  },
  {
   "cell_type": "code",
   "execution_count": 36,
   "metadata": {},
   "outputs": [
    {
     "data": {
      "text/latex": [
       "$\\displaystyle x^{2} - 2 = 5$"
      ],
      "text/plain": [
       "Eq(x**2 - 2, 5)"
      ]
     },
     "execution_count": 36,
     "metadata": {},
     "output_type": "execute_result"
    }
   ],
   "source": [
    "Eq(F, 5)"
   ]
  },
  {
   "cell_type": "code",
   "execution_count": 35,
   "metadata": {},
   "outputs": [
    {
     "data": {
      "text/plain": [
       "[-sqrt(7), sqrt(7)]"
      ]
     },
     "execution_count": 35,
     "metadata": {},
     "output_type": "execute_result"
    }
   ],
   "source": [
    "solve(Eq(F, 5))"
   ]
  },
  {
   "attachments": {},
   "cell_type": "markdown",
   "metadata": {},
   "source": [
    "#### Nedefinované funkce"
   ]
  },
  {
   "cell_type": "code",
   "execution_count": 235,
   "metadata": {},
   "outputs": [
    {
     "data": {
      "text/latex": [
       "$\\displaystyle f{\\left(x \\right)} + 1$"
      ],
      "text/plain": [
       "f(x) + 1"
      ]
     },
     "execution_count": 235,
     "metadata": {},
     "output_type": "execute_result"
    }
   ],
   "source": [
    "f = Function('f')\n",
    "f(x) + 1"
   ]
  },
  {
   "attachments": {},
   "cell_type": "markdown",
   "metadata": {},
   "source": [
    "Př.: Řešme obyčejnou diferenciální rovnici $y\"− y = e^t$"
   ]
  },
  {
   "cell_type": "code",
   "execution_count": 24,
   "metadata": {},
   "outputs": [
    {
     "name": "stdout",
     "output_type": "stream",
     "text": [
      "[-exp(t) + Derivative(y(t), (t, 2))]\n"
     ]
    },
    {
     "data": {
      "text/latex": [
       "$\\displaystyle y{\\left(t \\right)} = C_{2} e^{- t} + \\left(C_{1} + \\frac{t}{2}\\right) e^{t}$"
      ],
      "text/plain": [
       "Eq(y(t), C2*exp(-t) + (C1 + t/2)*exp(t))"
      ]
     },
     "execution_count": 24,
     "metadata": {},
     "output_type": "execute_result"
    }
   ],
   "source": [
    "y = Function('y')\n",
    "t = Symbol('t')\n",
    "# rovnice y′′− y = e^t\n",
    "L = y(t).diff(t, t) - y(t)      # druhá derivace podle t (nebo diff(t, 2))     \n",
    "R = exp(t)\n",
    "\n",
    "print(solve(Eq(L, R), y(t)))    # pouze vyjádří y\n",
    "dsolve(Eq(L, R), y(t))          # diferenciální rovnice"
   ]
  },
  {
   "attachments": {},
   "cell_type": "markdown",
   "metadata": {},
   "source": [
    "#### Matice"
   ]
  },
  {
   "cell_type": "code",
   "execution_count": 41,
   "metadata": {},
   "outputs": [
    {
     "data": {
      "text/latex": [
       "$\\displaystyle \\left[\\begin{matrix}1 & 2\\\\2 & 2\\end{matrix}\\right]$"
      ],
      "text/plain": [
       "Matrix([\n",
       "[1, 2],\n",
       "[2, 2]])"
      ]
     },
     "execution_count": 41,
     "metadata": {},
     "output_type": "execute_result"
    }
   ],
   "source": [
    "M = Matrix([[1, 2], [2, 2]]) \n",
    "M"
   ]
  },
  {
   "attachments": {},
   "cell_type": "markdown",
   "metadata": {},
   "source": [
    "Hledání vlastních čísel a vlastních vektorů"
   ]
  },
  {
   "cell_type": "code",
   "execution_count": 44,
   "metadata": {},
   "outputs": [
    {
     "name": "stdout",
     "output_type": "stream",
     "text": [
      "Vlastní čísla:\n",
      " {3/2 - sqrt(17)/2: 1, 3/2 + sqrt(17)/2: 1}\n",
      "\n",
      "Vlastní vektory:\n"
     ]
    },
    {
     "data": {
      "text/plain": [
       "[(3/2 - sqrt(17)/2,\n",
       "  1,\n",
       "  [Matrix([\n",
       "   [-sqrt(17)/4 - 1/4],\n",
       "   [                1]])]),\n",
       " (3/2 + sqrt(17)/2,\n",
       "  1,\n",
       "  [Matrix([\n",
       "   [-1/4 + sqrt(17)/4],\n",
       "   [                1]])])]"
      ]
     },
     "execution_count": 44,
     "metadata": {},
     "output_type": "execute_result"
    }
   ],
   "source": [
    "print(\"Vlastní čísla:\\n\", M.eigenvals())\n",
    "print(\"\\nVlastní vektory:\")\n",
    "M.eigenvects()"
   ]
  },
  {
   "attachments": {},
   "cell_type": "markdown",
   "metadata": {},
   "source": [
    "### Objekty, které se standardně nevyhodnocují"
   ]
  },
  {
   "attachments": {},
   "cell_type": "markdown",
   "metadata": {},
   "source": [
    "často nechceme ihned vypsat řešení, ale vypsat daný objekt"
   ]
  },
  {
   "cell_type": "code",
   "execution_count": 64,
   "metadata": {},
   "outputs": [
    {
     "name": "stdout",
     "output_type": "stream",
     "text": [
      "1\n",
      "Limit(sin(x)/x, x, 0, dir='+-')\n",
      "\\lim_{x \\to 0}\\left(\\frac{\\sin{\\left(x \\right)}}{x}\\right)\n"
     ]
    },
    {
     "data": {
      "text/latex": [
       "$\\displaystyle \\lim_{x \\to 0}\\left(\\frac{\\sin{\\left(x \\right)}}{x}\\right)$"
      ],
      "text/plain": [
       "Limit(sin(x)/x, x, 0, dir='+-')"
      ]
     },
     "execution_count": 64,
     "metadata": {},
     "output_type": "execute_result"
    }
   ],
   "source": [
    "print(limit(sin(x)/x, x, 0))            # výpočet limity\n",
    "\n",
    "L = Limit(sin(x)/x, x, 0, dir=\"+-\")     # výpis objektu (limity)\n",
    "print(L)                                # textový výstup\n",
    "print(latex(L))                         # pro export do textových editorů\n",
    "L                                       # grafický výstup"
   ]
  },
  {
   "attachments": {},
   "cell_type": "markdown",
   "metadata": {},
   "source": [
    "Vynucené vyhodnocení objektů "
   ]
  },
  {
   "cell_type": "code",
   "execution_count": 66,
   "metadata": {},
   "outputs": [
    {
     "data": {
      "text/latex": [
       "$\\displaystyle 1$"
      ],
      "text/plain": [
       "1"
      ]
     },
     "execution_count": 66,
     "metadata": {},
     "output_type": "execute_result"
    }
   ],
   "source": [
    "L.doit()                                # provede výpočet"
   ]
  },
  {
   "attachments": {},
   "cell_type": "markdown",
   "metadata": {},
   "source": [
    "Derivace"
   ]
  },
  {
   "cell_type": "code",
   "execution_count": 240,
   "metadata": {},
   "outputs": [
    {
     "name": "stdout",
     "output_type": "stream",
     "text": [
      "-2*sin(x)*cos(x)\n"
     ]
    },
    {
     "data": {
      "text/latex": [
       "$\\displaystyle \\frac{d}{d x} \\cos^{2}{\\left(x \\right)}$"
      ],
      "text/plain": [
       "Derivative(cos(x)**2, x)"
      ]
     },
     "execution_count": 240,
     "metadata": {},
     "output_type": "execute_result"
    }
   ],
   "source": [
    "fce = cos(x)**2\n",
    "print(diff(fce))                        # provede derivaci\n",
    "\n",
    "dce = Derivative(fce)                   # výpis derivace\n",
    "dce"
   ]
  },
  {
   "attachments": {},
   "cell_type": "markdown",
   "metadata": {},
   "source": [
    "Výpis nespecifikované funkce"
   ]
  },
  {
   "cell_type": "code",
   "execution_count": 53,
   "metadata": {},
   "outputs": [
    {
     "name": "stdout",
     "output_type": "stream",
     "text": [
      "f\n",
      "g(x)\n"
     ]
    },
    {
     "data": {
      "text/latex": [
       "$\\displaystyle \\frac{d}{d x} g{\\left(x \\right)}$"
      ],
      "text/plain": [
       "Derivative(g(x), x)"
      ]
     },
     "execution_count": 53,
     "metadata": {},
     "output_type": "execute_result"
    }
   ],
   "source": [
    "x = Symbol('x')\n",
    "f = Function('f')\n",
    "g = Function('g')(x)                    # specifikována proměnná\n",
    "print(f)\n",
    "print(g)\n",
    "g.diff(x)                               # nebo Derivative(g)"
   ]
  },
  {
   "attachments": {},
   "cell_type": "markdown",
   "metadata": {},
   "source": [
    "Funkce více proměnných, parciální derivace"
   ]
  },
  {
   "cell_type": "code",
   "execution_count": 276,
   "metadata": {},
   "outputs": [
    {
     "data": {
      "text/latex": [
       "$\\displaystyle \\frac{\\partial^{2}}{\\partial t^{2}} u{\\left(t,x \\right)} = c^{2} \\frac{\\partial^{2}}{\\partial x^{2}} u{\\left(t,x \\right)}$"
      ],
      "text/plain": [
       "Eq(Derivative(u(t, x), (t, 2)), c**2*Derivative(u(t, x), (x, 2)))"
      ]
     },
     "execution_count": 276,
     "metadata": {},
     "output_type": "execute_result"
    }
   ],
   "source": [
    "c, t = symbols('c t')\n",
    "u = Function('u') (t, x)\n",
    "L = Derivative(u, t, t)             # Derivative(f, (t, 2))\n",
    "R = c**2 * Derivative(u, x, x)      # Derivative(f, (x, 2))\n",
    "eq = Eq(L, R, evaluate = false)\n",
    "eq"
   ]
  },
  {
   "cell_type": "code",
   "execution_count": 303,
   "metadata": {},
   "outputs": [
    {
     "data": {
      "text/latex": [
       "$\\displaystyle \\frac{\\partial}{\\partial x} \\sqrt{\\sigma^{2} + x^{2} + y^{2}} = \\frac{\\partial}{\\partial x} \\Phi{\\left(x,y,\\sigma \\right)}$"
      ],
      "text/plain": [
       "Eq(Derivative(sqrt(sigma**2 + x**2 + y**2), x), Derivative(Phi(x, y, sigma), x))"
      ]
     },
     "execution_count": 303,
     "metadata": {},
     "output_type": "execute_result"
    }
   ],
   "source": [
    "x, y, sigma = symbols(\"x y sigma\")\n",
    "Phi = Function('Phi')(x, y, sigma)\n",
    "def phi(x, y, sigma):\n",
    "    return sqrt(x**2 + y**2 + sigma**2)\n",
    "\n",
    "Eq(Derivative(phi(x, y, sigma), x), Derivative(Phi, x))"
   ]
  },
  {
   "attachments": {},
   "cell_type": "markdown",
   "metadata": {},
   "source": [
    "Integrace"
   ]
  },
  {
   "cell_type": "code",
   "execution_count": 62,
   "metadata": {},
   "outputs": [
    {
     "name": "stdout",
     "output_type": "stream",
     "text": [
      "x/2 + sin(x)*cos(x)/2\n",
      "\\int\\limits_{0}^{\\pi} \\cos^{2}{\\left(x \\right)}\\, dx\n"
     ]
    },
    {
     "data": {
      "text/latex": [
       "$\\displaystyle \\int\\limits_{0}^{\\pi} \\cos^{2}{\\left(x \\right)}\\, dx$"
      ],
      "text/plain": [
       "Integral(cos(x)**2, (x, 0, pi))"
      ]
     },
     "execution_count": 62,
     "metadata": {},
     "output_type": "execute_result"
    }
   ],
   "source": [
    "print(integrate(cos(x)**2))             # provede integraci\n",
    "\n",
    "F = Integral(cos(x)**2, (x, 0, pi))\n",
    "print(latex(F))                         # pro import do textového editoru\n",
    "F"
   ]
  },
  {
   "cell_type": "code",
   "execution_count": 60,
   "metadata": {},
   "outputs": [
    {
     "name": "stdout",
     "output_type": "stream",
     "text": [
      "Integral(exp(x)*cos(x), x)\n",
      "exp(x)*sin(x)/2 + exp(x)*cos(x)/2\n"
     ]
    },
    {
     "data": {
      "text/latex": [
       "$\\displaystyle \\int e^{x} \\cos{\\left(x \\right)}\\, dx = \\frac{e^{x} \\sin{\\left(x \\right)}}{2} + \\frac{e^{x} \\cos{\\left(x \\right)}}{2}$"
      ],
      "text/plain": [
       "Eq(Integral(exp(x)*cos(x), x), exp(x)*sin(x)/2 + exp(x)*cos(x)/2)"
      ]
     },
     "execution_count": 60,
     "metadata": {},
     "output_type": "execute_result"
    }
   ],
   "source": [
    "a = Integral(cos(x)*exp(x), x)\n",
    "print(a)\n",
    "print(a.doit())\n",
    "Eq(a, a.doit())"
   ]
  },
  {
   "attachments": {},
   "cell_type": "markdown",
   "metadata": {},
   "source": [
    "#### Vlastnosti"
   ]
  },
  {
   "cell_type": "code",
   "execution_count": 244,
   "metadata": {},
   "outputs": [
    {
     "name": "stdout",
     "output_type": "stream",
     "text": [
      "True\n",
      "True\n",
      "None\n",
      "None\n"
     ]
    }
   ],
   "source": [
    "x = Symbol('x', real=True)\n",
    "\n",
    "print(x.is_complex)\n",
    "print(x.is_real)\n",
    "print(x.is_rational)\n",
    "print(x.is_positive)"
   ]
  },
  {
   "cell_type": "code",
   "execution_count": 25,
   "metadata": {},
   "outputs": [
    {
     "data": {
      "text/latex": [
       "$\\displaystyle \\left(x - 2\\right)^{2} + 1$"
      ],
      "text/plain": [
       "(x - 2)**2 + 1"
      ]
     },
     "execution_count": 25,
     "metadata": {},
     "output_type": "execute_result"
    }
   ],
   "source": [
    "x = Symbol('x', real=True)\n",
    "expr = 1 + (x - 2)**2\n",
    "expr"
   ]
  },
  {
   "cell_type": "code",
   "execution_count": 26,
   "metadata": {},
   "outputs": [
    {
     "name": "stdout",
     "output_type": "stream",
     "text": [
      "True\n",
      "None\n"
     ]
    },
    {
     "data": {
      "text/latex": [
       "$\\displaystyle x^{2} - 4 x + 5$"
      ],
      "text/plain": [
       "x**2 - 4*x + 5"
      ]
     },
     "execution_count": 26,
     "metadata": {},
     "output_type": "execute_result"
    }
   ],
   "source": [
    "print(expr.is_positive)\n",
    "expr2 = expr.expand()\n",
    "print(expr2.is_positive)\n",
    "expr2"
   ]
  },
  {
   "attachments": {},
   "cell_type": "markdown",
   "metadata": {},
   "source": [
    "Při definici symbolu s různými názvy jsou si oba rovny. Pokud ale mají rozdílné vlastnosti (assumptions), považují se za totožné"
   ]
  },
  {
   "cell_type": "code",
   "execution_count": 70,
   "metadata": {},
   "outputs": [
    {
     "name": "stdout",
     "output_type": "stream",
     "text": [
      "x x\n"
     ]
    },
    {
     "data": {
      "text/plain": [
       "False"
      ]
     },
     "execution_count": 70,
     "metadata": {},
     "output_type": "execute_result"
    }
   ],
   "source": [
    "x1 = Symbol('x', positive=True)\n",
    "x2 = Symbol('x')\n",
    "\n",
    "print(x1, x2)\n",
    "x1 == x2"
   ]
  },
  {
   "attachments": {},
   "cell_type": "markdown",
   "metadata": {},
   "source": [
    "V některých případech výraz zjednodušit nejde"
   ]
  },
  {
   "cell_type": "code",
   "execution_count": 73,
   "metadata": {},
   "outputs": [
    {
     "data": {
      "text/latex": [
       "$\\displaystyle e^{\\sqrt{x^{2}}}$"
      ],
      "text/plain": [
       "exp(sqrt(x**2))"
      ]
     },
     "execution_count": 73,
     "metadata": {},
     "output_type": "execute_result"
    }
   ],
   "source": [
    "expr = exp(sqrt(x**2))\n",
    "expr"
   ]
  },
  {
   "attachments": {},
   "cell_type": "markdown",
   "metadata": {},
   "source": [
    "Funkce posify() nahradí všechny symboly ve výrazu symboly, které jsou kladné - mají vlastnost positive=True (a slovník obsahující mapování)"
   ]
  },
  {
   "cell_type": "code",
   "execution_count": 77,
   "metadata": {},
   "outputs": [
    {
     "data": {
      "text/plain": [
       "(exp(_x), {_x: x})"
      ]
     },
     "execution_count": 77,
     "metadata": {},
     "output_type": "execute_result"
    }
   ],
   "source": [
    "posify(expr)"
   ]
  },
  {
   "cell_type": "code",
   "execution_count": 76,
   "metadata": {},
   "outputs": [
    {
     "data": {
      "text/latex": [
       "$\\displaystyle y$"
      ],
      "text/plain": [
       "y"
      ]
     },
     "execution_count": 76,
     "metadata": {},
     "output_type": "execute_result"
    }
   ],
   "source": [
    "y = Symbol('y', positive=True)\n",
    "sqrt(y**2)"
   ]
  },
  {
   "cell_type": "markdown",
   "metadata": {},
   "source": [
    "##### Vlastnost Q"
   ]
  },
  {
   "attachments": {},
   "cell_type": "markdown",
   "metadata": {},
   "source": [
    "Ke každému predikátu lze přistupovat prostřednictvím vlastnosti Q. \n",
    "- určení, zda je daný výraz pravdivý\n",
    "- často se používá v kombinaci s funkcí ask\n",
    "    - ověřuje, zda jsou dané předpoklady splněny\n",
    "- např. Q.even vrací predikát, zda argument je sudé číslo. "
   ]
  },
  {
   "cell_type": "code",
   "execution_count": 37,
   "metadata": {},
   "outputs": [
    {
     "name": "stdout",
     "output_type": "stream",
     "text": [
      "False\n",
      "True True\n"
     ]
    }
   ],
   "source": [
    "print(ask(Q.algebraic(pi)))         # pi není alg. číslo, je transcendentní\n",
    "print(ask(Q.complex(5-4*I)), ask( Q.complex(100)))"
   ]
  },
  {
   "cell_type": "code",
   "execution_count": 47,
   "metadata": {},
   "outputs": [
    {
     "name": "stdout",
     "output_type": "stream",
     "text": [
      "True False\n",
      "False True\n",
      "False True\n"
     ]
    }
   ],
   "source": [
    "x,y = symbols(\"x y\") \n",
    "x,y = 5,10 \n",
    "print(ask(Q.prime(x)), ask(Q.prime(y)))\n",
    "print(ask(Q.composite(x)), ask(Q.composite(y)))\n",
    "print(ask(Q.even(x)), ask(Q.even(y)))"
   ]
  },
  {
   "cell_type": "code",
   "execution_count": 41,
   "metadata": {},
   "outputs": [
    {
     "name": "stdout",
     "output_type": "stream",
     "text": [
      "True False\n"
     ]
    }
   ],
   "source": [
    "x,y = 2*I, 4+5*I \n",
    "print(ask(Q.imaginary(x)), ask(Q.imaginary(y)))"
   ]
  },
  {
   "cell_type": "code",
   "execution_count": 43,
   "metadata": {},
   "outputs": [
    {
     "name": "stdout",
     "output_type": "stream",
     "text": [
      "False True True False\n"
     ]
    }
   ],
   "source": [
    "x,y = 5,10 \n",
    "print(ask(Q.even(x)), ask(Q.even(y)), ask(Q.odd(x)), ask(Q.odd(y)))"
   ]
  },
  {
   "cell_type": "code",
   "execution_count": 45,
   "metadata": {},
   "outputs": [
    {
     "name": "stdout",
     "output_type": "stream",
     "text": [
      "True True\n",
      "False False\n"
     ]
    },
    {
     "data": {
      "text/plain": [
       "(False, False)"
      ]
     },
     "execution_count": 45,
     "metadata": {},
     "output_type": "execute_result"
    }
   ],
   "source": [
    "x,y = 5,-5 \n",
    "print(ask(Q.positive(x)), ask(Q.negative(y)))\n",
    "print(ask(Q.rational(pi)), ask(Q.irrational(S(2)/3)))\n",
    "ask(Q.zero(oo)), ask(Q.nonzero(I))\n"
   ]
  },
  {
   "attachments": {},
   "cell_type": "markdown",
   "metadata": {},
   "source": [
    "### Analýza textového řetězce"
   ]
  },
  {
   "cell_type": "code",
   "execution_count": 250,
   "metadata": {},
   "outputs": [
    {
     "data": {
      "text/latex": [
       "$\\displaystyle x^{2} - 1$"
      ],
      "text/plain": [
       "x**2 - 1"
      ]
     },
     "execution_count": 250,
     "metadata": {},
     "output_type": "execute_result"
    }
   ],
   "source": [
    "str = 'x**2 - 1'\n",
    "expr = parse_expr(str)\n",
    "expr"
   ]
  },
  {
   "cell_type": "code",
   "execution_count": 251,
   "metadata": {},
   "outputs": [
    {
     "data": {
      "text/latex": [
       "$\\displaystyle x^{2} - 1$"
      ],
      "text/plain": [
       "x**2 - 1"
      ]
     },
     "execution_count": 251,
     "metadata": {},
     "output_type": "execute_result"
    }
   ],
   "source": [
    "expr = parse_expr('x**2 - 1', {'x':Symbol('x', positive=True)})\n",
    "expr"
   ]
  },
  {
   "attachments": {},
   "cell_type": "markdown",
   "metadata": {},
   "source": [
    "Spolupráce s numerickými knihovnami\n",
    "- ve velkém rozsahu hodnot není funkce evalf() účinná (numpy je rychlejší)\n",
    "\n",
    "sympy.lambdify slouží k převodu symbolických výrazů na funkce, které lze vyhodnotit numericky"
   ]
  },
  {
   "cell_type": "markdown",
   "metadata": {},
   "source": [
    "Argumenty lambdify:\n",
    "- symboly (použité ve výrazu)\n",
    "- výraz (který chcete převést na funkci)\n",
    "- modul (do nějž bude výsledná funkce převedena)\n",
    "    - možné hodnoty 'math', 'numpy', 'numexpr', ..."
   ]
  },
  {
   "cell_type": "code",
   "execution_count": 2,
   "metadata": {},
   "outputs": [
    {
     "name": "stdout",
     "output_type": "stream",
     "text": [
      "0.479425538604203\n"
     ]
    }
   ],
   "source": [
    "from sympy import symbols, sin, lambdify\n",
    "x = symbols('x')                # Definice symbolů\n",
    "expr = sin(x)                   # Definice výrazu\n",
    "f = lambdify(x, expr, 'numpy')  # Vytvoření funkce z výrazu\n",
    "\n",
    "result = f(0.5)                 # Vyhodnocení funkce pro konkrétní hodnoty\n",
    "print(result)"
   ]
  },
  {
   "cell_type": "code",
   "execution_count": 4,
   "metadata": {},
   "outputs": [
    {
     "data": {
      "image/png": "[encoded data removed]",
      "text/plain": [
       "<Figure size 432x288 with 1 Axes>"
      ]
     },
     "metadata": {
      "needs_background": "light"
     },
     "output_type": "display_data"
    }
   ],
   "source": [
    "import sympy as sp\n",
    "import numpy as np\n",
    "import matplotlib.pyplot as plt\n",
    "\n",
    "x = sp.symbols('x')                 # Definice symbolu\n",
    "expr = x**2 + 3*x + 2               # Definice symbolického výrazu\n",
    "\n",
    "f = sp.lambdify(x, expr, 'numpy')   # Převod symbolického výrazu na funkci\n",
    "\n",
    "x_vals = np.linspace(-10, 10, 100)  # Vytvoření hodnot x pro vykreslení grafu\n",
    "y_vals = f(x_vals)                  # Vyhodnocení funkce pro dané hodnoty x\n",
    "\n",
    "plt.plot(x_vals, y_vals)            # Vykreslení grafu pomocí matplotlib\n",
    "plt.grid(True)\n",
    "plt.show()\n"
   ]
  },
  {
   "cell_type": "code",
   "execution_count": 30,
   "metadata": {},
   "outputs": [
    {
     "data": {
      "text/plain": [
       "13"
      ]
     },
     "execution_count": 30,
     "metadata": {},
     "output_type": "execute_result"
    }
   ],
   "source": [
    "a, b = symbols('a b')\n",
    "expr=a**2+b**2 \n",
    "f=lambdify([a,b],expr)                  # do výrazu expr dosadí hodnoty a, b\n",
    "f(2,3)"
   ]
  },
  {
   "cell_type": "code",
   "execution_count": 32,
   "metadata": {},
   "outputs": [
    {
     "name": "stdout",
     "output_type": "stream",
     "text": [
      "[1 2 3 4 5] [ 6  7  8  9 10]\n"
     ]
    },
    {
     "data": {
      "text/plain": [
       "array([ 37,  53,  73,  97, 125])"
      ]
     },
     "execution_count": 32,
     "metadata": {},
     "output_type": "execute_result"
    }
   ],
   "source": [
    "import numpy\n",
    "f=lambdify([a,b],expr, \"numpy\")         # pro použití knihovny numpy\n",
    "l1=numpy.arange(1,6) \n",
    "l2=numpy.arange(6,11) \n",
    "print(l1, l2)\n",
    "f(l1,l2)"
   ]
  },
  {
   "attachments": {},
   "cell_type": "markdown",
   "metadata": {},
   "source": [
    "#### Kreslení grafů"
   ]
  },
  {
   "cell_type": "code",
   "execution_count": 5,
   "metadata": {},
   "outputs": [
    {
     "data": {
      "image/png": "[encoded data removed]",
      "text/plain": [
       "<Figure size 640x480 with 1 Axes>"
      ]
     },
     "metadata": {},
     "output_type": "display_data"
    },
    {
     "data": {
      "text/plain": [
       "<sympy.plotting.plot.Plot at 0x1b6a6f8d8b0>"
      ]
     },
     "execution_count": 5,
     "metadata": {},
     "output_type": "execute_result"
    }
   ],
   "source": [
    "from sympy import *\n",
    "x = symbols('x')\n",
    "f = Function(\"f\")\n",
    "f = x**3 + 3*x\n",
    "plotting.plot(f, (x,-5,5))"
   ]
  },
  {
   "cell_type": "code",
   "execution_count": 25,
   "metadata": {},
   "outputs": [
    {
     "data": {
      "image/png": "[encoded data removed]",
      "text/plain": [
       "<Figure size 640x480 with 1 Axes>"
      ]
     },
     "metadata": {},
     "output_type": "display_data"
    },
    {
     "data": {
      "text/plain": [
       "<sympy.plotting.plot.Plot at 0x2b90f00c830>"
      ]
     },
     "execution_count": 25,
     "metadata": {},
     "output_type": "execute_result"
    }
   ],
   "source": [
    "from sympy import *\n",
    "x = symbols('x')\n",
    "f = Function(\"f\")\n",
    "f = tan(x)\n",
    "plotting.plot(f, (x,-5,5), ylim=(-10,10))"
   ]
  },
  {
   "cell_type": "markdown",
   "metadata": {},
   "source": [
    "Interaktivní graf v jupyter notebooku"
   ]
  },
  {
   "cell_type": "code",
   "execution_count": 24,
   "metadata": {},
   "outputs": [
    {
     "data": {
      "application/vnd.jupyter.widget-view+json": {
       "model_id": "65e766eed4f449e1bb6d356260866642",
       "version_major": 2,
       "version_minor": 0
      },
      "text/plain": [
       "interactive(children=(FloatSlider(value=1.0, description='a', max=5.0, min=-5.0), FloatSlider(value=1.0, descr…"
      ]
     },
     "metadata": {},
     "output_type": "display_data"
    }
   ],
   "source": [
    "import sympy as sp\n",
    "from ipywidgets import interact\n",
    "\n",
    "# Definice symbolických proměnných a funkcí\n",
    "a1, b1 = sp.symbols('a b')\n",
    "x = sp.symbols('x')\n",
    "expr = a1 * x**2 + b1\n",
    "\n",
    "# Definice interaktivní funkce pro vykreslení grafu\n",
    "# Pokud uživatel změní hodnoty těchto widgetů, funkce plot_interactive se automaticky spustí s novými hodnotami a a b\n",
    "@interact(a=(-5, 5, 0.1), b=(-5, 5, 0.1))\n",
    "def plot_interactive(a=1, b=1):\n",
    "    # Vytvoření sympy výrazu pro dané hodnoty a a b\n",
    "    expr_val = expr.subs({a1: a, b1: b})\n",
    "    \n",
    "    # Vykreslení grafu\n",
    "    sp.plot(expr_val, show=True)\n"
   ]
  }
 ],
 "metadata": {
  "interpreter": {
   "hash": "e83efde216936fbdf4bb348948dbe705ca6754d4c0e093cc59b59a9bd47ce075"
  },
  "kernelspec": {
   "display_name": "Python 3.9.2 64-bit",
   "language": "python",
   "name": "python3"
  },
  "language_info": {
   "codemirror_mode": {
    "name": "ipython",
    "version": 3
   },
   "file_extension": ".py",
   "mimetype": "text/x-python",
   "name": "python",
   "nbconvert_exporter": "python",
   "pygments_lexer": "ipython3",
   "version": "3.12.2"
  },
  "orig_nbformat": 4
 },
 "nbformat": 4,
 "nbformat_minor": 2
}
