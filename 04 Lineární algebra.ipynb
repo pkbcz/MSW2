{
 "cells": [
  {
   "cell_type": "markdown",
   "metadata": {},
   "source": [
    "# Matematický software "
   ]
  },
  {
   "cell_type": "markdown",
   "metadata": {},
   "source": [
    "## Cv. 4 - Lineární algebra\n",
    "\n",
    "Prezentace: [POSEL](MS4_soubory/LinearniAlgebra.pdf)"
   ]
  },
  {
   "cell_type": "markdown",
   "metadata": {},
   "source": [
    "### Cognitive Apprenticeship\n",
    "\n",
    "V tomto cvičení ..."
   ]
  },
  {
   "cell_type": "code",
   "execution_count": null,
   "metadata": {},
   "outputs": [],
   "source": [
    "!python3 -m pip install numpy"
   ]
  },
  {
   "cell_type": "code",
   "execution_count": null,
   "metadata": {},
   "outputs": [],
   "source": [
    "!python3 -m pip install scipy"
   ]
  },
  {
   "cell_type": "code",
   "execution_count": null,
   "metadata": {},
   "outputs": [],
   "source": [
    "#pro apple silicon architektury\n",
    "!python3 -m pip install --pre -i https://pypi.anaconda.org/scipy-wheels-nightly/simple scipy"
   ]
  },
  {
   "cell_type": "markdown",
   "metadata": {},
   "source": [
    "#### CACv.4.1: Reprezentace vektoru"
   ]
  },
  {
   "cell_type": "code",
   "execution_count": null,
   "metadata": {},
   "outputs": [],
   "source": [
    "import numpy as np\n",
    "\n",
    "#naivni zpusob\n",
    "a = [1, 3, 2]\n",
    "b = [4, 2, 1]\n",
    "soucin = [a[i] * b[i] for i in range(min(len(a), len(b)))]\n",
    "print(\"soucet:\", soucin)\n",
    "\n",
    "#numpy\n",
    "a = np.array([1, 3, 2])\n",
    "b = np.array([4, 2, 1])\n",
    "soucin = a * b\n",
    "print(\"soucet:\", soucin)"
   ]
  },
  {
   "cell_type": "markdown",
   "metadata": {},
   "source": [
    "#### CACv.4.2: Práce se vektory"
   ]
  },
  {
   "cell_type": "code",
   "execution_count": 189,
   "metadata": {},
   "outputs": [
    {
     "name": "stdout",
     "output_type": "stream",
     "text": [
      "[0.5 1.5 1. ]\n"
     ]
    }
   ],
   "source": [
    "#skalovani vektoru\n",
    "alfa = 0.5\n",
    "a = np.array([1, 3, 2])\n",
    "print(alfa*a)"
   ]
  },
  {
   "cell_type": "code",
   "execution_count": 190,
   "metadata": {},
   "outputs": [
    {
     "name": "stdout",
     "output_type": "stream",
     "text": [
      "[5 5 3]\n"
     ]
    }
   ],
   "source": [
    "#scitani vektoru\n",
    "a = np.array([1, 3, 2])\n",
    "b = np.array([4, 2, 1])\n",
    "print(a+b)"
   ]
  },
  {
   "cell_type": "code",
   "execution_count": 191,
   "metadata": {},
   "outputs": [
    {
     "name": "stdout",
     "output_type": "stream",
     "text": [
      "[4 6 2]\n"
     ]
    }
   ],
   "source": [
    "#nasobeni vektoru\n",
    "a = np.array([1, 3, 2])\n",
    "b = np.array([4, 2, 1])\n",
    "print(a*b)"
   ]
  },
  {
   "cell_type": "code",
   "execution_count": 192,
   "metadata": {},
   "outputs": [
    {
     "name": "stdout",
     "output_type": "stream",
     "text": [
      "[0.25 1.5  2.  ]\n"
     ]
    }
   ],
   "source": [
    "#podil vektoru\n",
    "a = np.array([1, 3, 2])\n",
    "b = np.array([4, 2, 1])\n",
    "print(a/b)"
   ]
  },
  {
   "cell_type": "code",
   "execution_count": 31,
   "metadata": {},
   "outputs": [
    {
     "name": "stdout",
     "output_type": "stream",
     "text": [
      "[ 4  6  8 10 12 14]\n"
     ]
    }
   ],
   "source": [
    "#generovani ekvidistantniho vektoru\n",
    "zacatek = 4\n",
    "konec = 16\n",
    "inkrement = 2\n",
    "ekvidistantni_vektor = np.arange(zacatek, konec, inkrement)\n",
    "print(ekvidistantni_vektor)"
   ]
  },
  {
   "cell_type": "code",
   "execution_count": 18,
   "metadata": {},
   "outputs": [
    {
     "name": "stdout",
     "output_type": "stream",
     "text": [
      "[4 2 1 2 2 3 1 1 3 4]\n"
     ]
    }
   ],
   "source": [
    "#generovani nahodneho vektoru celych cisel\n",
    "nahodny_vektor = np.random.randint(1, 5, size=10)\n",
    "print(nahodny_vektor)\n"
   ]
  },
  {
   "cell_type": "code",
   "execution_count": 19,
   "metadata": {},
   "outputs": [
    {
     "name": "stdout",
     "output_type": "stream",
     "text": [
      "[0.39662322 0.25540082 0.25291494 0.25545713 0.24512366 0.77734024\n",
      " 0.85077822 0.95744373 0.86647489 0.4001942 ]\n"
     ]
    }
   ],
   "source": [
    "#generovani nahodneho vektoru desetinnych cisel\n",
    "nahodny_vektor = np.random.random(10)\n",
    "print(nahodny_vektor)"
   ]
  },
  {
   "cell_type": "code",
   "execution_count": 20,
   "metadata": {},
   "outputs": [
    {
     "name": "stdout",
     "output_type": "stream",
     "text": [
      "mean:  -0.07969162474874708 stdev: 1.055598692741235\n"
     ]
    }
   ],
   "source": [
    "#generovani nahodneho vektoru ze standardniho rozdeleni\n",
    "nahodny_vektor = np.random.randn(100)\n",
    "stredni_hodnota = nahodny_vektor.mean()\n",
    "smerodatna_odchylka = nahodny_vektor.std()\n",
    "print(\"mean: \", stredni_hodnota, \"stdev:\", smerodatna_odchylka)"
   ]
  },
  {
   "cell_type": "markdown",
   "metadata": {},
   "source": [
    "#### CACv.4.3: Skalární součin\n",
    "\n",
    "Lorem\n",
    "\n",
    "<img src=\"MS4_soubory/skalarni_soucin.png\" alt=\"Drawing\" style=\"width: 550px;\"/>"
   ]
  },
  {
   "cell_type": "code",
   "execution_count": 51,
   "metadata": {},
   "outputs": [
    {
     "name": "stdout",
     "output_type": "stream",
     "text": [
      "12\n"
     ]
    }
   ],
   "source": [
    "a = np.array([1, 3, 2])\n",
    "b = np.array([4, 2, 1])\n",
    "\n",
    "skalarni_soucin = np.dot(a, b)\n",
    "print(skalarni_soucin)"
   ]
  },
  {
   "cell_type": "code",
   "execution_count": 195,
   "metadata": {},
   "outputs": [
    {
     "name": "stdout",
     "output_type": "stream",
     "text": [
      "3.7416573867739413\n",
      "3.7416573867739413\n"
     ]
    }
   ],
   "source": [
    "#velikost vektoru pomoci skalarniho soucinu\n",
    "a = np.array([1, 3, 2])\n",
    "\n",
    "velikost = np.sqrt(a.dot(a))\n",
    "print(velikost)\n",
    "\n",
    "velikost = np.linalg.norm(a)\n",
    "print(velikost)"
   ]
  },
  {
   "cell_type": "markdown",
   "metadata": {},
   "source": [
    "#### CACv.4.4: Vektorový součin\n",
    "\n",
    "Lorem\n",
    "\n",
    "<img src=\"MS4_soubory/vektorovy_soucin.png\" alt=\"Drawing\" style=\"width: 600px;\"/>"
   ]
  },
  {
   "cell_type": "code",
   "execution_count": 188,
   "metadata": {},
   "outputs": [
    {
     "name": "stdout",
     "output_type": "stream",
     "text": [
      "[ -1   7 -10]\n"
     ]
    }
   ],
   "source": [
    "a = np.array([1, 3, 2])\n",
    "b = np.array([4, 2, 1])\n",
    "\n",
    "vektorovy_soucin = np.cross(a, b)\n",
    "print(vektorovy_soucin)"
   ]
  },
  {
   "cell_type": "markdown",
   "metadata": {},
   "source": [
    "#### CACv.4.5: Tenzorový součin\n",
    "\n",
    "Lorem\n",
    "\n",
    "<img src=\"MS4_soubory/tenzorovy_soucin.png\" alt=\"Drawing\" style=\"width: 600px;\"/>"
   ]
  },
  {
   "cell_type": "code",
   "execution_count": 184,
   "metadata": {},
   "outputs": [
    {
     "name": "stdout",
     "output_type": "stream",
     "text": [
      "[[ 4  2  1]\n",
      " [12  6  3]\n",
      " [ 8  4  2]]\n"
     ]
    }
   ],
   "source": [
    "a = np.array([1, 3, 2])\n",
    "b = np.array([4, 2, 1])\n",
    "\n",
    "tenzorovy_soucin = np.tensordot(a, b, axes=0)\n",
    "print(tenzorovy_soucin)"
   ]
  },
  {
   "cell_type": "markdown",
   "metadata": {},
   "source": [
    "#### CACv.4.6: Práce s maticí"
   ]
  },
  {
   "cell_type": "code",
   "execution_count": null,
   "metadata": {},
   "outputs": [],
   "source": [
    "#standardni zpusob vytvareni matic\n",
    "matice = np.array([\n",
    "    [1, 2, 3], \n",
    "    [4, 5, 6], \n",
    "    [7, 8, 9]\n",
    "])\n",
    "print(matice)"
   ]
  },
  {
   "cell_type": "code",
   "execution_count": null,
   "metadata": {},
   "outputs": [],
   "source": [
    "#matice plna jednicek\n",
    "nradku = 4\n",
    "nsloupcu = 3\n",
    "matice_jednicky = np.ones((nradku, nsloupcu))\n",
    "print(matice_jednicky)"
   ]
  },
  {
   "cell_type": "code",
   "execution_count": null,
   "metadata": {},
   "outputs": [],
   "source": [
    "#matice plna nul\n",
    "nradku = 4\n",
    "nsloupcu = 3\n",
    "matice_nuly = np.zeros((nradku, nsloupcu))\n",
    "print(matice_nuly)"
   ]
  },
  {
   "cell_type": "code",
   "execution_count": null,
   "metadata": {},
   "outputs": [],
   "source": [
    "#matice plna libovolne hodnoty\n",
    "nradku = 4\n",
    "nsloupcu = 3\n",
    "matice = np.full((nradku, nsloupcu), 5, dtype='float')\n",
    "print(matice)"
   ]
  },
  {
   "cell_type": "code",
   "execution_count": 39,
   "metadata": {},
   "outputs": [
    {
     "name": "stdout",
     "output_type": "stream",
     "text": [
      "tvar:  (3, 4) velikost:  12 \n",
      " [[ 1  2  3  4]\n",
      " [ 5  6  7  8]\n",
      " [ 9 10 11 12]]\n",
      "tvar:  (2, 6) velikost:  12 \n",
      " [[ 1  2  3  4  5  6]\n",
      " [ 7  8  9 10 11 12]]\n"
     ]
    }
   ],
   "source": [
    "#zmena tvaru matice\n",
    "matice = np.array([\n",
    "    [1, 2, 3, 4], \n",
    "    [5, 6, 7, 8], \n",
    "    [9, 10, 11, 12]\n",
    "])\n",
    "stary_tvar = matice.shape\n",
    "stara_velikost = matice.size\n",
    "print(\"tvar: \", stary_tvar, \"velikost: \", stara_velikost, \"\\n\", matice)\n",
    "\n",
    "matice = matice.reshape(2, 6) #nebo matice.reshape(-1, 6), -1 znamena, ze dopocita pocet prvku v dimenzi za nas\n",
    "novy_tvar = matice.shape\n",
    "nova_velikost = matice.size\n",
    "print(\"tvar: \", novy_tvar, \"velikost: \", nova_velikost, \"\\n\", matice)"
   ]
  },
  {
   "cell_type": "code",
   "execution_count": 41,
   "metadata": {},
   "outputs": [
    {
     "name": "stdout",
     "output_type": "stream",
     "text": [
      "tvar:  (3, 4) velikost:  12 \n",
      " [[ 1  2  3  4]\n",
      " [ 5  6  7  8]\n",
      " [ 9 10 11 12]]\n",
      "tvar:  (12,) velikost:  12 \n",
      " [ 1  2  3  4  5  6  7  8  9 10 11 12]\n"
     ]
    }
   ],
   "source": [
    "#zplosteni matice\n",
    "matice = np.array([\n",
    "    [1, 2, 3, 4], \n",
    "    [5, 6, 7, 8], \n",
    "    [9, 10, 11, 12]\n",
    "])\n",
    "stary_tvar = matice.shape\n",
    "stara_velikost = matice.size\n",
    "print(\"tvar: \", stary_tvar, \"velikost: \", stara_velikost, \"\\n\", matice)\n",
    "\n",
    "matice = matice.flatten()\n",
    "novy_tvar = matice.shape\n",
    "nova_velikost = matice.size\n",
    "print(\"tvar: \", novy_tvar, \"velikost: \", nova_velikost, \"\\n\", matice)"
   ]
  },
  {
   "cell_type": "code",
   "execution_count": 42,
   "metadata": {},
   "outputs": [
    {
     "name": "stdout",
     "output_type": "stream",
     "text": [
      "[ 1  2  3  4  5  6  7  8  9 10 11 12]\n",
      "[13  2  3  4  5  6  7  8  9 10 11 12]\n"
     ]
    }
   ],
   "source": [
    "#rozdil mezi flatten a ravel\n",
    "matice = np.array([\n",
    "    [1, 2, 3, 4], \n",
    "    [5, 6, 7, 8], \n",
    "    [9, 10, 11, 12]\n",
    "])\n",
    "\n",
    "vektor_flatten = matice.flatten() #vraci kopii\n",
    "vektor_ravel = matice.ravel() #vraci jen jiny pohled na matici (zmeny v matici a vektoru jsou provazany v pameti)\n",
    "\n",
    "matice[0][0] = 13\n",
    "\n",
    "print(vektor_flatten)\n",
    "print(vektor_ravel)"
   ]
  },
  {
   "cell_type": "markdown",
   "metadata": {},
   "source": [
    "#### CACv.4.7: Násobení matic"
   ]
  },
  {
   "cell_type": "code",
   "execution_count": 49,
   "metadata": {},
   "outputs": [
    {
     "name": "stdout",
     "output_type": "stream",
     "text": [
      "A shape: (3, 2) B shape:  (2, 3) C shape:  (3, 3)\n",
      "[[ 9 12 15]\n",
      " [19 26 33]\n",
      " [29 40 51]]\n"
     ]
    }
   ],
   "source": [
    "A = np.array([\n",
    "    [1, 2], \n",
    "    [3, 4], \n",
    "    [5, 6]\n",
    "])\n",
    "\n",
    "B = np.array([\n",
    "    [1, 2, 3], \n",
    "    [4, 5, 6]\n",
    "])\n",
    "\n",
    "C = np.matmul(A, B)\n",
    "print(\"A shape:\",A.shape,\"B shape: \", B.shape,\"C shape: \", C.shape)\n",
    "print(C)"
   ]
  },
  {
   "cell_type": "markdown",
   "metadata": {},
   "source": [
    "#### CACv.4.8: Hodnost matice"
   ]
  },
  {
   "cell_type": "code",
   "execution_count": 106,
   "metadata": {},
   "outputs": [
    {
     "name": "stdout",
     "output_type": "stream",
     "text": [
      "3\n"
     ]
    }
   ],
   "source": [
    "matice = np.array([\n",
    "    [1, 2, 1], \n",
    "    [1, 1, 1], \n",
    "    [2, 2, 3]\n",
    "])\n",
    "\n",
    "hodnost = np.linalg.matrix_rank(matice)\n",
    "print(hodnost)"
   ]
  },
  {
   "cell_type": "code",
   "execution_count": 107,
   "metadata": {},
   "outputs": [
    {
     "name": "stdout",
     "output_type": "stream",
     "text": [
      "2\n"
     ]
    }
   ],
   "source": [
    "matice = np.array([\n",
    "    [1, 2, 1], \n",
    "    [1, 1, 1], \n",
    "    [2, 2, 2]\n",
    "])\n",
    "hodnost = np.linalg.matrix_rank(matice)\n",
    "print(hodnost)"
   ]
  },
  {
   "cell_type": "markdown",
   "metadata": {},
   "source": [
    "#### CACv.4.7: Stopa matice\n",
    "\n",
    "<img src=\"MS4_soubory/stopa.png\" alt=\"Drawing\" style=\"width: 600px;\"/>"
   ]
  },
  {
   "cell_type": "code",
   "execution_count": 46,
   "metadata": {},
   "outputs": [
    {
     "name": "stdout",
     "output_type": "stream",
     "text": [
      "15\n"
     ]
    }
   ],
   "source": [
    "matice = np.array([\n",
    "    [1, 2, 3], \n",
    "    [4, 5, 6],\n",
    "    [7, 8, 9]\n",
    "])\n",
    "\n",
    "stopa_matice = matice.trace()\n",
    "print(stopa_matice)\n",
    "\n",
    "matice = np.array([\n",
    "    [1, 2, 3, 4], \n",
    "    [5, 6, 7, 8]\n",
    "])"
   ]
  },
  {
   "cell_type": "markdown",
   "metadata": {},
   "source": [
    "#### CACv.4.10: Transpozice matice\n"
   ]
  },
  {
   "cell_type": "code",
   "execution_count": 44,
   "metadata": {},
   "outputs": [
    {
     "name": "stdout",
     "output_type": "stream",
     "text": [
      "[[1 5]\n",
      " [2 6]\n",
      " [3 7]\n",
      " [4 8]]\n"
     ]
    }
   ],
   "source": [
    "matice = np.array([\n",
    "    [1, 2, 3, 4], \n",
    "    [5, 6, 7, 8]\n",
    "])\n",
    "\n",
    "transponovana_matice = matice.transpose()\n",
    "print(transponovana_matice)"
   ]
  },
  {
   "cell_type": "markdown",
   "metadata": {},
   "source": [
    "#### CACv.4.11: Inverzní matice\n",
    "\n",
    "<img src=\"MS4_soubory/inverzni_matice.png\" alt=\"Drawing\" style=\"width: 600px;\"/>"
   ]
  },
  {
   "cell_type": "code",
   "execution_count": 96,
   "metadata": {},
   "outputs": [],
   "source": [
    "A = np.array([\n",
    "    [1, 2, -1], \n",
    "    [2, 0, 1],\n",
    "    [1, -2, 1]\n",
    "])"
   ]
  },
  {
   "cell_type": "code",
   "execution_count": 97,
   "metadata": {},
   "outputs": [
    {
     "name": "stdout",
     "output_type": "stream",
     "text": [
      "[[1. 0. 0.]\n",
      " [0. 1. 0.]\n",
      " [0. 0. 1.]]\n"
     ]
    }
   ],
   "source": [
    "#jednotkova matice\n",
    "E = np.eye(3)\n",
    "print(E)"
   ]
  },
  {
   "cell_type": "code",
   "execution_count": 98,
   "metadata": {},
   "outputs": [
    {
     "name": "stdout",
     "output_type": "stream",
     "text": [
      "[[ 0.5   0.    0.5 ]\n",
      " [-0.25  0.5  -0.75]\n",
      " [-1.    1.   -1.  ]]\n"
     ]
    }
   ],
   "source": [
    "#inverzni matice\n",
    "X = np.linalg.inv(A)\n",
    "print(X)"
   ]
  },
  {
   "cell_type": "code",
   "execution_count": 99,
   "metadata": {},
   "outputs": [
    {
     "name": "stdout",
     "output_type": "stream",
     "text": [
      "[[1. 0. 0.]\n",
      " [0. 1. 0.]\n",
      " [0. 0. 1.]]\n"
     ]
    }
   ],
   "source": [
    "#kontrola\n",
    "print(np.matmul(A, X))"
   ]
  },
  {
   "cell_type": "markdown",
   "metadata": {},
   "source": [
    "#### CACv.4.12: Determinant\n",
    "\n",
    "<img src=\"MS4_soubory/determinant.png\" alt=\"Drawing\" style=\"width: 600px;\"/>"
   ]
  },
  {
   "cell_type": "code",
   "execution_count": 56,
   "metadata": {},
   "outputs": [
    {
     "name": "stdout",
     "output_type": "stream",
     "text": [
      "-9.51619735392994e-16\n"
     ]
    }
   ],
   "source": [
    "A = np.array([\n",
    "    [1, 2, 3], \n",
    "    [4, 5, 6],\n",
    "    [7, 8, 9]\n",
    "])\n",
    "\n",
    "det = np.linalg.det(A)\n",
    "print(det)"
   ]
  },
  {
   "cell_type": "markdown",
   "metadata": {},
   "source": [
    "#### CACv.4.13: Cramerovo pravidlo\n",
    "\n",
    "<img src=\"MS4_soubory/cramerovo_pravidlo.png\" alt=\"Drawing\" style=\"width: 500px;\"/>"
   ]
  },
  {
   "cell_type": "markdown",
   "metadata": {},
   "source": [
    "<img src=\"MS4_soubory/priklad_cramer.png\" alt=\"Drawing\" style=\"width: 500px;\"/>"
   ]
  },
  {
   "cell_type": "code",
   "execution_count": null,
   "metadata": {},
   "outputs": [],
   "source": [
    "mask = np.broadcast_to(np.diag([1,1,1]), [3, 3, 3]).swapaxes(0, 1)\n",
    "print(mask)"
   ]
  },
  {
   "cell_type": "code",
   "execution_count": null,
   "metadata": {},
   "outputs": [],
   "source": [
    "A = np.array([\n",
    "    [3, 2, 1], \n",
    "    [2, 3, 1],\n",
    "    [2, 1, 3]\n",
    "])\n",
    "b = np.array([5, 1, 11])\n",
    "\n",
    "pocet_sloupcu = A.shape[1]\n",
    "\n",
    "Ai = np.where(mask, np.repeat(b, pocet_sloupcu).reshape(pocet_sloupcu, pocet_sloupcu), A)\n",
    "print(Ai)"
   ]
  },
  {
   "cell_type": "code",
   "execution_count": 89,
   "metadata": {},
   "outputs": [
    {
     "name": "stdout",
     "output_type": "stream",
     "text": [
      "[ 2. -2.  3.]\n"
     ]
    }
   ],
   "source": [
    "x = np.linalg.det(Ai) / np.linalg.det(A)\n",
    "print(x)"
   ]
  },
  {
   "cell_type": "markdown",
   "metadata": {},
   "source": [
    "#### CACv.4.14: Gaussova eliminační metoda\n",
    "Jediná příma iterační metoda v modulech pythonu je LU dekompozice, což je komplikovanější verze Gaussovy eliminační metody. Více na kurzu numerické matematiky.\n"
   ]
  },
  {
   "cell_type": "code",
   "execution_count": 161,
   "metadata": {},
   "outputs": [
    {
     "name": "stdout",
     "output_type": "stream",
     "text": [
      "[ 7.11111111 -3.22222222]\n"
     ]
    }
   ],
   "source": [
    "#LU dekompozice - zakladni metoda linalg.solve\n",
    "A = np.array([\n",
    "    [2, 1], \n",
    "    [5, 7]\n",
    "])\n",
    "b = np.array([11, 13])\n",
    "\n",
    "x = np.linalg.solve(A, b)\n",
    "print(x)"
   ]
  },
  {
   "cell_type": "markdown",
   "metadata": {},
   "source": [
    "#### CACv.4.15: Iterační metody"
   ]
  },
  {
   "cell_type": "code",
   "execution_count": 109,
   "metadata": {},
   "outputs": [],
   "source": [
    "A = np.array([\n",
    "    [3, 2, 1], \n",
    "    [2, 3, 1],\n",
    "    [2, 1, 3]\n",
    "])"
   ]
  },
  {
   "cell_type": "code",
   "execution_count": 110,
   "metadata": {},
   "outputs": [
    {
     "name": "stdout",
     "output_type": "stream",
     "text": [
      "[3 3 3]\n"
     ]
    }
   ],
   "source": [
    "D = np.diag(A)\n",
    "print(D)"
   ]
  },
  {
   "cell_type": "code",
   "execution_count": 111,
   "metadata": {},
   "outputs": [
    {
     "name": "stdout",
     "output_type": "stream",
     "text": [
      "[[3 0 0]\n",
      " [2 3 0]\n",
      " [2 1 3]]\n"
     ]
    }
   ],
   "source": [
    "L = np.tril(A)\n",
    "print(L)"
   ]
  },
  {
   "cell_type": "code",
   "execution_count": 112,
   "metadata": {},
   "outputs": [
    {
     "name": "stdout",
     "output_type": "stream",
     "text": [
      "[[0 0 0]\n",
      " [2 0 0]\n",
      " [2 1 0]]\n"
     ]
    }
   ],
   "source": [
    "L = np.tril(A, k = -1)\n",
    "print(L)"
   ]
  },
  {
   "cell_type": "code",
   "execution_count": 113,
   "metadata": {},
   "outputs": [
    {
     "name": "stdout",
     "output_type": "stream",
     "text": [
      "[[0 2 1]\n",
      " [0 0 1]\n",
      " [0 0 0]]\n"
     ]
    }
   ],
   "source": [
    "U = np.triu(A, k = 1)\n",
    "print(U)"
   ]
  },
  {
   "cell_type": "markdown",
   "metadata": {},
   "source": [
    "Jacobiho metoda: \n",
    "\n",
    "<img src=\"MS4_soubory/jacobi_iterace.png\" alt=\"Drawing\" style=\"width: 300px;\"/>"
   ]
  },
  {
   "cell_type": "code",
   "execution_count": 175,
   "metadata": {},
   "outputs": [
    {
     "name": "stdout",
     "output_type": "stream",
     "text": [
      "iterace: 0 x= [5.         1.14285714]\n",
      "iterace: 1 x= [ 4.92857143 -1.71428571]\n",
      "iterace: 2 x= [ 6.35714286 -1.66326531]\n",
      "iterace: 3 x= [ 6.33163265 -2.68367347]\n",
      "iterace: 4 x= [ 6.84183673 -2.6654519 ]\n",
      "iterace: 5 x= [ 6.83272595 -3.02988338]\n",
      "iterace: 6 x= [ 7.01494169 -3.02337568]\n",
      "iterace: 7 x= [ 7.01168784 -3.15352978]\n",
      "iterace: 8 x= [ 7.07676489 -3.1512056 ]\n",
      "iterace: 9 x= [ 7.0756028  -3.19768921]\n",
      "reseni:  [ 7.0756028  -3.19768921]\n"
     ]
    }
   ],
   "source": [
    "def jacobi(A, b, niteraci, x0=np.ones(len(A))):\n",
    "    x = x0\n",
    "    D = np.diag(A)\n",
    "    L = np.tril(A, k = -1)\n",
    "    U = np.triu(A, k = 1)\n",
    "    for i in range(niteraci):\n",
    "        x = (b - np.matmul((L + U),x))/D\n",
    "        print(\"iterace:\",i, \"x=\",x)\n",
    "    return x\n",
    "\n",
    "A = np.array([\n",
    "    [2, 1], \n",
    "    [5, 7]\n",
    "])\n",
    "b = np.array([11, 13])\n",
    "\n",
    "x = jacobi(A, b, 10)\n",
    "print(\"reseni: \", x)"
   ]
  },
  {
   "cell_type": "markdown",
   "metadata": {},
   "source": [
    "Gaussovo-Seidelova metoda: \n",
    "\n",
    "<img src=\"MS4_soubory/gauss_seidel_iterace.png\" alt=\"Drawing\" style=\"width: 300px;\"/>"
   ]
  },
  {
   "cell_type": "code",
   "execution_count": 176,
   "metadata": {},
   "outputs": [
    {
     "name": "stdout",
     "output_type": "stream",
     "text": [
      "iterace: 0 x= [ 0.5        -0.86363636]\n",
      "iterace: 1 x= [ 0.84943182 -0.64127066]\n",
      "iterace: 2 x= [ 0.80773825 -0.66780293]\n",
      "iterace: 3 x= [ 0.81271305 -0.66463715]\n",
      "iterace: 4 x= [ 0.81211947 -0.66501489]\n",
      "iterace: 5 x= [ 0.81219029 -0.66496981]\n",
      "iterace: 6 x= [ 0.81218184 -0.66497519]\n",
      "iterace: 7 x= [ 0.81218285 -0.66497455]\n",
      "iterace: 8 x= [ 0.81218273 -0.66497463]\n",
      "iterace: 9 x= [ 0.81218274 -0.66497462]\n",
      "[ 0.81218274 -0.66497462]\n"
     ]
    }
   ],
   "source": [
    "def gauss_seidel(A, b, niteraci, x0=np.ones(len(A))):\n",
    "    x = x0\n",
    "    U = np.triu(A, k = 1)\n",
    "    Lstar = np.tril(A, k = 0)               #D + L\n",
    "    T = np.matmul(-np.linalg.inv(Lstar), U) #T = -invL* . U\n",
    "    C = np.matmul(np.linalg.inv(Lstar), b)  #C = invL . b\n",
    "    for i in range(niteraci):\n",
    "        x = np.matmul(T, x) + C             #inv(D+L).(b-U.x) = inv(Lstar).(b-U.x) = C + T => x = Tx + C\n",
    "        print(\"iterace:\",i, \"x=\",x)\n",
    "    return x\n",
    "\n",
    "A = np.array([\n",
    "    [16, 3], \n",
    "    [7, -11]\n",
    "])\n",
    "b = np.array([11, 13])\n",
    "\n",
    "x = gauss_seidel(A, b, 10)\n",
    "print(x)"
   ]
  },
  {
   "cell_type": "markdown",
   "metadata": {},
   "source": [
    "SOR metoda: \n",
    "\n",
    "<img src=\"MS4_soubory/sor_iterace.png\" alt=\"Drawing\" style=\"width: 300px;\"/>"
   ]
  },
  {
   "cell_type": "code",
   "execution_count": 177,
   "metadata": {},
   "outputs": [
    {
     "name": "stdout",
     "output_type": "stream",
     "text": [
      "iterace: 0 x= [ 0.5        -0.86363636]\n",
      "iterace: 1 x= [ 0.84943182 -0.64127066]\n",
      "iterace: 2 x= [ 0.80773825 -0.66780293]\n",
      "iterace: 3 x= [ 0.81271305 -0.66463715]\n",
      "iterace: 4 x= [ 0.81211947 -0.66501489]\n",
      "iterace: 5 x= [ 0.81219029 -0.66496981]\n",
      "iterace: 6 x= [ 0.81218184 -0.66497519]\n",
      "iterace: 7 x= [ 0.81218285 -0.66497455]\n",
      "iterace: 8 x= [ 0.81218273 -0.66497463]\n",
      "iterace: 9 x= [ 0.81218274 -0.66497462]\n",
      "[ 0.81218274 -0.66497462]\n"
     ]
    }
   ],
   "source": [
    "def sor(A, b, omega, niteraci, x0=np.ones(len(A))):\n",
    "    x = x0\n",
    "    U = np.triu(A, k = 1)\n",
    "    Lstar = np.tril(A, k = 0)               \n",
    "    T = np.matmul(-np.linalg.inv(Lstar), U) \n",
    "    C = np.matmul(np.linalg.inv(Lstar), b)  \n",
    "    for i in range(niteraci):\n",
    "        Fx = np.matmul(T, x) + C\n",
    "        delta_x = Fx - x\n",
    "        x = x + omega*delta_x\n",
    "        print(\"iterace:\",i, \"x=\",x)\n",
    "    return x\n",
    "\n",
    "\n",
    "A = np.array([\n",
    "    [16, 3], \n",
    "    [7, -11]\n",
    "])\n",
    "b = np.array([11, 13])\n",
    "\n",
    "x = gauss_seidel(A, b, 10, np.ones(len(A)))\n",
    "print(x)"
   ]
  },
  {
   "cell_type": "markdown",
   "metadata": {},
   "source": [
    "#### CACv.4.16: Symbolická matematika a matice"
   ]
  },
  {
   "cell_type": "code",
   "execution_count": null,
   "metadata": {},
   "outputs": [],
   "source": [
    "!python3 -m pip install sympy"
   ]
  },
  {
   "cell_type": "code",
   "execution_count": 196,
   "metadata": {},
   "outputs": [],
   "source": [
    "import sympy"
   ]
  },
  {
   "cell_type": "code",
   "execution_count": 209,
   "metadata": {},
   "outputs": [
    {
     "data": {
      "text/latex": [
       "$\\displaystyle \\left[\\begin{matrix}\\frac{4}{7} & \\frac{1}{7}\\\\- \\frac{3}{7} & \\frac{1}{7}\\end{matrix}\\right]$"
      ],
      "text/plain": [
       "Matrix([\n",
       "[ 4/7, 1/7],\n",
       "[-3/7, 1/7]])"
      ]
     },
     "execution_count": 209,
     "metadata": {},
     "output_type": "execute_result"
    }
   ],
   "source": [
    "#reprezentace matic v sympy\n",
    "A = sympy.Matrix([\n",
    "    [1, -1],\n",
    "    [3, 4]\n",
    "])\n",
    "A"
   ]
  },
  {
   "cell_type": "code",
   "execution_count": 213,
   "metadata": {},
   "outputs": [
    {
     "data": {
      "text/latex": [
       "$\\displaystyle \\left[\\begin{matrix}1 & 0 & 0\\\\0 & 2 & 0\\\\0 & 0 & 3\\end{matrix}\\right]$"
      ],
      "text/plain": [
       "Matrix([\n",
       "[1, 0, 0],\n",
       "[0, 2, 0],\n",
       "[0, 0, 3]])"
      ]
     },
     "execution_count": 213,
     "metadata": {},
     "output_type": "execute_result"
    }
   ],
   "source": [
    "#specialni matice\n",
    "D = sympy.diag(1,2,3)\n",
    "D"
   ]
  },
  {
   "cell_type": "code",
   "execution_count": 214,
   "metadata": {},
   "outputs": [
    {
     "data": {
      "text/latex": [
       "$\\displaystyle \\left[\\begin{matrix}\\frac{4}{7} & \\frac{1}{7}\\\\- \\frac{3}{7} & \\frac{1}{7}\\end{matrix}\\right]$"
      ],
      "text/plain": [
       "Matrix([\n",
       "[ 4/7, 1/7],\n",
       "[-3/7, 1/7]])"
      ]
     },
     "execution_count": 214,
     "metadata": {},
     "output_type": "execute_result"
    }
   ],
   "source": [
    "#operace nad matici\n",
    "A = sympy.Matrix([\n",
    "    [1, -1],\n",
    "    [3, 4]\n",
    "])\n",
    "A**-1"
   ]
  },
  {
   "cell_type": "code",
   "execution_count": 211,
   "metadata": {},
   "outputs": [
    {
     "data": {
      "text/latex": [
       "$\\displaystyle \\left[\\begin{matrix}1 & 3 & 0\\\\-1 & 4 & 2\\end{matrix}\\right]$"
      ],
      "text/plain": [
       "Matrix([\n",
       "[ 1, 3, 0],\n",
       "[-1, 4, 2]])"
      ]
     },
     "execution_count": 211,
     "metadata": {},
     "output_type": "execute_result"
    }
   ],
   "source": [
    "#transpozice\n",
    "A = sympy.Matrix([\n",
    "    [1, -1],\n",
    "    [3, 4],\n",
    "    [0, 2]\n",
    "])\n",
    "A.T"
   ]
  },
  {
   "cell_type": "code",
   "execution_count": 208,
   "metadata": {},
   "outputs": [
    {
     "data": {
      "text/latex": [
       "$\\displaystyle \\left[\\begin{matrix}1 & -1\\\\10 & 10\\\\3 & 4\\\\0 & 2\\end{matrix}\\right]$"
      ],
      "text/plain": [
       "Matrix([\n",
       "[ 1, -1],\n",
       "[10, 10],\n",
       "[ 3,  4],\n",
       "[ 0,  2]])"
      ]
     },
     "execution_count": 208,
     "metadata": {},
     "output_type": "execute_result"
    }
   ],
   "source": [
    "#vlozeni vektoru do matice\n",
    "A = sympy.Matrix([\n",
    "    [1, -1],\n",
    "    [3, 4],\n",
    "    [0, 2]\n",
    "])\n",
    "v = sympy.Matrix([[10, 10]])\n",
    "A = A.row_insert(1, v)\n",
    "A"
   ]
  },
  {
   "cell_type": "code",
   "execution_count": 216,
   "metadata": {},
   "outputs": [
    {
     "data": {
      "text/latex": [
       "$\\displaystyle 7$"
      ],
      "text/plain": [
       "7"
      ]
     },
     "execution_count": 216,
     "metadata": {},
     "output_type": "execute_result"
    }
   ],
   "source": [
    "#determinant\n",
    "A = sympy.Matrix([\n",
    "    [1, -1],\n",
    "    [3, 4],\n",
    "])\n",
    "A.det()"
   ]
  },
  {
   "cell_type": "code",
   "execution_count": 217,
   "metadata": {},
   "outputs": [
    {
     "data": {
      "text/plain": [
       "(Matrix([\n",
       " [-1/2 - sqrt(3)*I/6, -1/2 + sqrt(3)*I/6],\n",
       " [                 1,                  1]]),\n",
       " Matrix([\n",
       " [5/2 - sqrt(3)*I/2,                 0],\n",
       " [                0, 5/2 + sqrt(3)*I/2]]))"
      ]
     },
     "execution_count": 217,
     "metadata": {},
     "output_type": "execute_result"
    }
   ],
   "source": [
    "#diagonalizace\n",
    "A = sympy.Matrix([\n",
    "    [0, 1, 1, 0],\n",
    "    [1, 1, 1, -1],\n",
    "    [1, 1, 1, 0],\n",
    "    [1, 1, 0, 1]\n",
    "])\n",
    "A.diagonalize()"
   ]
  },
  {
   "cell_type": "markdown",
   "metadata": {},
   "source": [
    "### Samostatná cvičení"
   ]
  },
  {
   "cell_type": "markdown",
   "metadata": {},
   "source": [
    "#### SCv.4.1: Levi-Cituv symbol\n",
    "\n",
    "<img src=\"MS4_soubory/levicit.png\" alt=\"Drawing\" style=\"width: 600px;\"/>"
   ]
  },
  {
   "cell_type": "code",
   "execution_count": null,
   "metadata": {},
   "outputs": [],
   "source": []
  },
  {
   "cell_type": "markdown",
   "metadata": {},
   "source": [
    "#### SCv.4.2: Laplaceův rozvoj\n",
    "\n",
    "<img src=\"MS4_soubory/laplace.png\" alt=\"Drawing\" style=\"width: 600px;\"/>"
   ]
  },
  {
   "cell_type": "markdown",
   "metadata": {},
   "source": [
    "<img src=\"MS4_soubory/laplace2.png\" alt=\"Drawing\" style=\"width: 600px;\"/>"
   ]
  },
  {
   "cell_type": "code",
   "execution_count": null,
   "metadata": {},
   "outputs": [],
   "source": []
  },
  {
   "cell_type": "markdown",
   "metadata": {},
   "source": [
    "#### SCv.4.3: Cramerovo pravidlo\n",
    "\n",
    "<img src=\"MS4_soubory/cramer_priklad.png\" alt=\"Drawing\" style=\"width: 600px;\"/>"
   ]
  },
  {
   "cell_type": "code",
   "execution_count": 183,
   "metadata": {},
   "outputs": [
    {
     "name": "stdout",
     "output_type": "stream",
     "text": [
      "[ 2. -2.  3.]\n"
     ]
    }
   ],
   "source": [
    "def cramer(A, b):\n",
    "    N = A.shape[1]\n",
    "    mask = np.broadcast_to(np.diag([1,1,1]), [N, N, N]).swapaxes(0, 1)\n",
    "    Ai = np.where(mask, np.repeat(b, N).reshape(N, N), A)\n",
    "    x = np.linalg.det(Ai) / np.linalg.det(A)\n",
    "    return x\n",
    "\n",
    "A = np.array([\n",
    "    [3, 2, 1], \n",
    "    [2, 3, 1],\n",
    "    [2, 1, 3]\n",
    "])\n",
    "b = np.array([5, 1, 11])\n",
    "print(cramer(A, b))"
   ]
  },
  {
   "cell_type": "markdown",
   "metadata": {},
   "source": [
    "#### SCv.4.4: Jacobiho metoda\n",
    "\n",
    "<img src=\"MS4_soubory/jacobi_priklad.png\" alt=\"Drawing\" style=\"width: 600px;\"/>"
   ]
  },
  {
   "cell_type": "code",
   "execution_count": 182,
   "metadata": {},
   "outputs": [
    {
     "name": "stdout",
     "output_type": "stream",
     "text": [
      "iterace: 0 x= [1.83333333 1.75       1.28571429]\n",
      "iterace: 1 x= [1.72619048 1.68452381 1.85714286]\n",
      "iterace: 2 x= [2.03373016 1.99702381 1.79251701]\n",
      "iterace: 3 x= [1.89725057 1.88782596 2.01360544]\n",
      "iterace: 4 x= [2.04419407 2.03249008 1.9239148 ]\n",
      "iterace: 5 x= [1.95112738 1.95090889 2.02822319]\n",
      "iterace: 6 x= [2.0304753  2.02632975 1.96502856]\n",
      "iterace: 7 x= [1.97373769 1.97489545 2.02058363]\n",
      "iterace: 8 x= [2.01866    2.01685739 1.981572  ]\n",
      "iterace: 9 x= [1.98516687 1.986121   2.01281354]\n",
      "iterace: 10 x= [2.0110331  2.01011505 1.98967752]\n",
      "iterace: 11 x= [1.99146707 1.99208048 2.00761849]\n",
      "iterace: 12 x= [2.00644908 2.00594248 1.99408031]\n",
      "iterace: 13 x= [1.99505933 1.99542789 2.00446174]\n",
      "iterace: 14 x= [2.00375491 2.00346604 1.99657625]\n",
      "iterace: 15 x= [1.99713278 1.9973494  2.00259954]\n",
      "iterace: 16 x= [2.00218331 2.00201658 1.99801388]\n",
      "iterace: 17 x= [1.99833475 1.99846111 2.00151187]\n",
      "iterace: 18 x= [2.0012689  2.00117225 1.99884664]\n",
      "iterace: 19 x= [1.99903257 1.99910609 2.00087874]\n",
      "iterace: 20 x= [2.00073734 2.00068123 1.99932999]\n",
      "iterace: 21 x= [1.99943792 1.99948066 2.00051064]\n",
      "iterace: 22 x= [2.00042843 2.00039584 1.99961072]\n",
      "iterace: 23 x= [1.99967342 1.99969825 2.00029671]\n",
      "iterace: 24 x= [2.00024894 2.00023    1.99977382]\n",
      "iterace: 25 x= [1.99981024 1.99982468 2.0001724 ]\n",
      "iterace: 26 x= [2.00014464 2.00013364 1.99986858]\n",
      "iterace: 27 x= [1.99988974 1.99989813 2.00010017]\n",
      "iterace: 28 x= [2.00008404 2.00007765 1.99992364]\n",
      "iterace: 29 x= [1.99993594 1.99994081 2.0000582 ]\n",
      "iterace: 30 x= [2.00004883 2.00004512 1.99995563]\n",
      "iterace: 31 x= [1.99996278 1.99996561 2.00003382]\n",
      "iterace: 32 x= [2.00002837 2.00002621 1.99997422]\n",
      "iterace: 33 x= [1.99997837 1.99998002 2.00001965]\n",
      "iterace: 34 x= [2.00001649 2.00001523 1.99998502]\n",
      "iterace: 35 x= [1.99998743 1.99998839 2.00001142]\n",
      "iterace: 36 x= [2.00000958 2.00000885 1.9999913 ]\n",
      "iterace: 37 x= [1.9999927  1.99999325 2.00000663]\n",
      "iterace: 38 x= [2.00000557 2.00000514 1.99999494]\n",
      "iterace: 39 x= [1.99999576 1.99999608 2.00000385]\n",
      "iterace: 40 x= [2.00000323 2.00000299 1.99999706]\n",
      "iterace: 41 x= [1.99999753 1.99999772 2.00000224]\n",
      "iterace: 42 x= [2.00000188 2.00000174 1.99999829]\n",
      "iterace: 43 x= [1.99999857 1.99999868 2.0000013 ]\n",
      "iterace: 44 x= [2.00000109 2.00000101 1.99999901]\n",
      "iterace: 45 x= [1.99999917 1.99999923 2.00000076]\n",
      "iterace: 46 x= [2.00000063 2.00000059 1.99999942]\n",
      "iterace: 47 x= [1.99999952 1.99999955 2.00000044]\n",
      "iterace: 48 x= [2.00000037 2.00000034 1.99999967]\n",
      "iterace: 49 x= [1.99999972 1.99999974 2.00000026]\n",
      "iterace: 50 x= [2.00000021 2.0000002  1.99999981]\n",
      "iterace: 51 x= [1.99999984 1.99999985 2.00000015]\n",
      "iterace: 52 x= [2.00000012 2.00000011 1.99999989]\n",
      "iterace: 53 x= [1.99999991 1.99999991 2.00000009]\n",
      "iterace: 54 x= [2.00000007 2.00000007 1.99999993]\n",
      "iterace: 55 x= [1.99999994 1.99999995 2.00000005]\n",
      "iterace: 56 x= [2.00000004 2.00000004 1.99999996]\n",
      "iterace: 57 x= [1.99999997 1.99999997 2.00000003]\n",
      "iterace: 58 x= [2.00000002 2.00000002 1.99999998]\n",
      "iterace: 59 x= [1.99999998 1.99999998 2.00000002]\n",
      "iterace: 60 x= [2.00000001 2.00000001 1.99999999]\n",
      "iterace: 61 x= [1.99999999 1.99999999 2.00000001]\n",
      "iterace: 62 x= [2.00000001 2.00000001 1.99999999]\n",
      "iterace: 63 x= [1.99999999 1.99999999 2.00000001]\n",
      "iterace: 64 x= [2. 2. 2.]\n",
      "iterace: 65 x= [2. 2. 2.]\n",
      "iterace: 66 x= [2. 2. 2.]\n",
      "iterace: 67 x= [2. 2. 2.]\n",
      "iterace: 68 x= [2. 2. 2.]\n",
      "iterace: 69 x= [2. 2. 2.]\n",
      "iterace: 70 x= [2. 2. 2.]\n",
      "iterace: 71 x= [2. 2. 2.]\n",
      "iterace: 72 x= [2. 2. 2.]\n",
      "iterace: 73 x= [2. 2. 2.]\n",
      "iterace: 74 x= [2. 2. 2.]\n",
      "iterace: 75 x= [2. 2. 2.]\n",
      "iterace: 76 x= [2. 2. 2.]\n",
      "iterace: 77 x= [2. 2. 2.]\n",
      "iterace: 78 x= [2. 2. 2.]\n",
      "iterace: 79 x= [2. 2. 2.]\n",
      "iterace: 80 x= [2. 2. 2.]\n",
      "iterace: 81 x= [2. 2. 2.]\n",
      "iterace: 82 x= [2. 2. 2.]\n",
      "iterace: 83 x= [2. 2. 2.]\n",
      "iterace: 84 x= [2. 2. 2.]\n",
      "iterace: 85 x= [2. 2. 2.]\n",
      "iterace: 86 x= [2. 2. 2.]\n",
      "iterace: 87 x= [2. 2. 2.]\n",
      "iterace: 88 x= [2. 2. 2.]\n",
      "iterace: 89 x= [2. 2. 2.]\n",
      "iterace: 90 x= [2. 2. 2.]\n",
      "iterace: 91 x= [2. 2. 2.]\n",
      "iterace: 92 x= [2. 2. 2.]\n",
      "iterace: 93 x= [2. 2. 2.]\n",
      "iterace: 94 x= [2. 2. 2.]\n",
      "iterace: 95 x= [2. 2. 2.]\n",
      "iterace: 96 x= [2. 2. 2.]\n",
      "iterace: 97 x= [2. 2. 2.]\n",
      "iterace: 98 x= [2. 2. 2.]\n",
      "iterace: 99 x= [2. 2. 2.]\n",
      "reseni:  [2. 2. 2.]\n"
     ]
    }
   ],
   "source": [
    "def jacobi(A, b, niteraci, x0=np.ones(len(A))):\n",
    "    x = x0\n",
    "    D = np.diag(A)\n",
    "    L = np.tril(A, k = -1)\n",
    "    U = np.triu(A, k = 1)\n",
    "    for i in range(niteraci):\n",
    "        x = (b - np.matmul((L + U),x))/D\n",
    "        print(\"iterace:\",i, \"x=\",x)\n",
    "    return x\n",
    "\n",
    "A = np.array([\n",
    "    [6, 2, -3], \n",
    "    [1, 4, -2],\n",
    "    [3, 2, -7]\n",
    "])\n",
    "b = np.array([10, 6, -4])\n",
    "\n",
    "x = jacobi(A, b, 100)\n",
    "print(\"reseni: \", x)"
   ]
  },
  {
   "cell_type": "markdown",
   "metadata": {},
   "source": [
    "### Domácí cvičení"
   ]
  },
  {
   "cell_type": "markdown",
   "metadata": {},
   "source": [
    "#### DCv.4.1: Lorem"
   ]
  }
 ],
 "metadata": {
  "interpreter": {
   "hash": "8ea797b3d7c6dd450b280358d309ea312ee6ecf4480496ce6e4e6602d49e2c56"
  },
  "kernelspec": {
   "display_name": "Python 3.9.7 64-bit ('.venv': venv)",
   "language": "python",
   "name": "python3"
  },
  "language_info": {
   "codemirror_mode": {
    "name": "ipython",
    "version": 3
   },
   "file_extension": ".py",
   "mimetype": "text/x-python",
   "name": "python",
   "nbconvert_exporter": "python",
   "pygments_lexer": "ipython3",
   "version": "3.8.9"
  },
  "orig_nbformat": 4
 },
 "nbformat": 4,
 "nbformat_minor": 2
}
