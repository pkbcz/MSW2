{
 "cells": [
  {
   "cell_type": "markdown",
   "metadata": {},
   "source": [
    "# Matematický software "
   ]
  },
  {
   "attachments": {},
   "cell_type": "markdown",
   "metadata": {},
   "source": [
    "## Cv. 4 - Lineární algebra\n"
   ]
  },
  {
   "cell_type": "code",
   "execution_count": null,
   "metadata": {},
   "outputs": [],
   "source": [
    "!python -m pip install numpy"
   ]
  },
  {
   "cell_type": "code",
   "execution_count": null,
   "metadata": {},
   "outputs": [],
   "source": [
    "!python -m pip install scipy"
   ]
  },
  {
   "cell_type": "code",
   "execution_count": null,
   "metadata": {},
   "outputs": [],
   "source": [
    "#pro apple silicon architektury\n",
    "!python -m pip install --pre -i https://pypi.anaconda.org/scipy-wheels-nightly/simple scipy"
   ]
  },
  {
   "cell_type": "markdown",
   "metadata": {},
   "source": [
    "#### CACv.4.1: Reprezentace vektoru"
   ]
  },
  {
   "cell_type": "code",
   "execution_count": 30,
   "metadata": {},
   "outputs": [
    {
     "name": "stdout",
     "output_type": "stream",
     "text": [
      "soucet: [4, 6, 2]\n",
      "soucet: [4 6 2]\n"
     ]
    }
   ],
   "source": [
    "import numpy as np\n",
    "\n",
    "#naivni zpusob\n",
    "a = [1, 3, 2]\n",
    "b = [4, 2, 1]\n",
    "soucin = [a[i] * b[i] for i in range(min(len(a), len(b)))]\n",
    "print(\"soucet:\", soucin)\n",
    "\n",
    "#numpy\n",
    "a = np.array([1, 3, 2])\n",
    "b = np.array([4, 2, 1])\n",
    "soucin = a * b\n",
    "print(\"soucet:\", soucin)"
   ]
  },
  {
   "cell_type": "markdown",
   "metadata": {},
   "source": [
    "#### CACv.4.2: Práce se vektory"
   ]
  },
  {
   "cell_type": "code",
   "execution_count": 18,
   "metadata": {},
   "outputs": [
    {
     "name": "stdout",
     "output_type": "stream",
     "text": [
      "[0.5 1.5 1. ]\n"
     ]
    }
   ],
   "source": [
    "# skalovani vektoru\n",
    "alfa = 0.5\n",
    "a = np.array([1, 3, 2])\n",
    "print(alfa*a)"
   ]
  },
  {
   "cell_type": "code",
   "execution_count": 19,
   "metadata": {},
   "outputs": [
    {
     "name": "stdout",
     "output_type": "stream",
     "text": [
      "[5 5 3]\n"
     ]
    }
   ],
   "source": [
    "# sčítání vektorů\n",
    "a = np.array([1, 3, 2])\n",
    "b = np.array([4, 2, 1])\n",
    "print(a+b)"
   ]
  },
  {
   "cell_type": "code",
   "execution_count": 20,
   "metadata": {},
   "outputs": [
    {
     "name": "stdout",
     "output_type": "stream",
     "text": [
      "[4 6 2]\n"
     ]
    }
   ],
   "source": [
    "# násobení složek vektorů\n",
    "a = np.array([1, 3, 2])\n",
    "b = np.array([4, 2, 1])\n",
    "print(a*b)"
   ]
  },
  {
   "cell_type": "code",
   "execution_count": 21,
   "metadata": {},
   "outputs": [
    {
     "name": "stdout",
     "output_type": "stream",
     "text": [
      "[0.25 1.5  2.  ]\n"
     ]
    }
   ],
   "source": [
    "# podíl složek vektorů\n",
    "a = np.array([1, 3, 2])\n",
    "b = np.array([4, 2, 1])\n",
    "print(a/b)"
   ]
  },
  {
   "cell_type": "code",
   "execution_count": 22,
   "metadata": {},
   "outputs": [
    {
     "name": "stdout",
     "output_type": "stream",
     "text": [
      "[ 4  6  8 10 12 14]\n"
     ]
    }
   ],
   "source": [
    "#generovani ekvidistantniho vektoru\n",
    "zacatek = 4\n",
    "konec = 16\n",
    "inkrement = 2\n",
    "ekvidistantni_vektor = np.arange(zacatek, konec, inkrement)\n",
    "print(ekvidistantni_vektor)"
   ]
  },
  {
   "cell_type": "code",
   "execution_count": 23,
   "metadata": {},
   "outputs": [
    {
     "name": "stdout",
     "output_type": "stream",
     "text": [
      "[1 2 3 4 3 4 1 3 3 4]\n"
     ]
    }
   ],
   "source": [
    "#generovani nahodneho vektoru celych cisel\n",
    "nahodny_vektor = np.random.randint(1, 5, size=10)\n",
    "print(nahodny_vektor)\n"
   ]
  },
  {
   "cell_type": "code",
   "execution_count": 24,
   "metadata": {},
   "outputs": [
    {
     "name": "stdout",
     "output_type": "stream",
     "text": [
      "[0.13578582 0.64965204 0.70468478 0.65228311 0.4179311  0.00881883\n",
      " 0.85957151 0.30829163 0.45637437 0.20782546]\n"
     ]
    }
   ],
   "source": [
    "#generovani nahodneho vektoru desetinnych cisel\n",
    "nahodny_vektor = np.random.random(10)\n",
    "print(nahodny_vektor)"
   ]
  },
  {
   "cell_type": "code",
   "execution_count": 25,
   "metadata": {},
   "outputs": [
    {
     "name": "stdout",
     "output_type": "stream",
     "text": [
      "mean:  -0.07298123453100545 stdev: 1.00770767446078\n"
     ]
    }
   ],
   "source": [
    "#generovani nahodneho vektoru ze standardniho rozdeleni\n",
    "nahodny_vektor = np.random.randn(100)\n",
    "stredni_hodnota = nahodny_vektor.mean()\n",
    "smerodatna_odchylka = nahodny_vektor.std()\n",
    "print(\"mean: \", stredni_hodnota, \"stdev:\", smerodatna_odchylka)"
   ]
  },
  {
   "attachments": {},
   "cell_type": "markdown",
   "metadata": {},
   "source": [
    "#### CACv.4.3: Skalární součin\n",
    "\n",
    "\n",
    "<img src=\"MS4_soubory/skalarni_soucin.png\" alt=\"Drawing\" style=\"width: 550px;\"/>"
   ]
  },
  {
   "cell_type": "code",
   "execution_count": 26,
   "metadata": {},
   "outputs": [
    {
     "name": "stdout",
     "output_type": "stream",
     "text": [
      "12\n"
     ]
    },
    {
     "data": {
      "text/plain": [
       "(12, 12)"
      ]
     },
     "execution_count": 26,
     "metadata": {},
     "output_type": "execute_result"
    }
   ],
   "source": [
    "a = np.array([1, 3, 2])\n",
    "b = np.array([4, 2, 1])\n",
    "\n",
    "skalarni_soucin = np.dot(a, b)\n",
    "print(skalarni_soucin)\n",
    "a.dot(b), a @ b"
   ]
  },
  {
   "cell_type": "code",
   "execution_count": 27,
   "metadata": {},
   "outputs": [
    {
     "name": "stdout",
     "output_type": "stream",
     "text": [
      "3.7416573867739413\n",
      "3.7416573867739413\n"
     ]
    }
   ],
   "source": [
    "#velikost vektoru pomoci skalarniho soucinu\n",
    "a = np.array([1, 3, 2])\n",
    "\n",
    "velikost = np.sqrt(a.dot(a))\n",
    "print(velikost)\n",
    "\n",
    "velikost = np.linalg.norm(a)\n",
    "print(velikost)"
   ]
  },
  {
   "attachments": {},
   "cell_type": "markdown",
   "metadata": {},
   "source": [
    "#### CACv.4.4: Vektorový součin\n",
    "\n",
    "\n",
    "<img src=\"MS4_soubory/vektorovy_soucin.png\" alt=\"Drawing\" style=\"width: 600px;\"/>"
   ]
  },
  {
   "cell_type": "code",
   "execution_count": 28,
   "metadata": {},
   "outputs": [
    {
     "name": "stdout",
     "output_type": "stream",
     "text": [
      "[ -1   7 -10]\n"
     ]
    }
   ],
   "source": [
    "a = np.array([1, 3, 2])\n",
    "b = np.array([4, 2, 1])\n",
    "\n",
    "vektorovy_soucin = np.cross(a, b)\n",
    "print(vektorovy_soucin)"
   ]
  },
  {
   "attachments": {},
   "cell_type": "markdown",
   "metadata": {},
   "source": [
    "#### CACv.4.5: Tenzorový součin\n",
    "\n",
    "\n",
    "<img src=\"MS4_soubory/tenzorovy_soucin.png\" alt=\"Drawing\" style=\"width: 600px;\"/>"
   ]
  },
  {
   "cell_type": "code",
   "execution_count": 29,
   "metadata": {},
   "outputs": [
    {
     "name": "stdout",
     "output_type": "stream",
     "text": [
      "[[ 4  2  1]\n",
      " [12  6  3]\n",
      " [ 8  4  2]]\n"
     ]
    }
   ],
   "source": [
    "a = np.array([1, 3, 2])\n",
    "b = np.array([4, 2, 1])\n",
    "\n",
    "tenzorovy_soucin = np.tensordot(a, b, axes=0)\n",
    "print(tenzorovy_soucin)"
   ]
  },
  {
   "cell_type": "markdown",
   "metadata": {},
   "source": [
    "#### CACv.4.6: Práce s maticí"
   ]
  },
  {
   "cell_type": "code",
   "execution_count": 30,
   "metadata": {},
   "outputs": [
    {
     "name": "stdout",
     "output_type": "stream",
     "text": [
      "[[1 2 3]\n",
      " [4 5 6]\n",
      " [7 8 9]]\n"
     ]
    }
   ],
   "source": [
    "#standardni zpusob vytvareni matic\n",
    "matice = np.array([\n",
    "    [1, 2, 3], \n",
    "    [4, 5, 6], \n",
    "    [7, 8, 9]\n",
    "])\n",
    "print(matice)"
   ]
  },
  {
   "cell_type": "code",
   "execution_count": 31,
   "metadata": {},
   "outputs": [
    {
     "name": "stdout",
     "output_type": "stream",
     "text": [
      "[[1. 1. 1.]\n",
      " [1. 1. 1.]\n",
      " [1. 1. 1.]\n",
      " [1. 1. 1.]]\n"
     ]
    }
   ],
   "source": [
    "#matice plna jednicek\n",
    "nradku = 4\n",
    "nsloupcu = 3\n",
    "matice_jednicky = np.ones((nradku, nsloupcu))\n",
    "print(matice_jednicky)"
   ]
  },
  {
   "cell_type": "code",
   "execution_count": 32,
   "metadata": {},
   "outputs": [
    {
     "name": "stdout",
     "output_type": "stream",
     "text": [
      "[[0. 0. 0.]\n",
      " [0. 0. 0.]\n",
      " [0. 0. 0.]\n",
      " [0. 0. 0.]]\n"
     ]
    }
   ],
   "source": [
    "#matice plna nul\n",
    "nradku = 4\n",
    "nsloupcu = 3\n",
    "matice_nuly = np.zeros((nradku, nsloupcu))\n",
    "print(matice_nuly)"
   ]
  },
  {
   "cell_type": "code",
   "execution_count": 33,
   "metadata": {},
   "outputs": [
    {
     "name": "stdout",
     "output_type": "stream",
     "text": [
      "[[5. 5. 5.]\n",
      " [5. 5. 5.]\n",
      " [5. 5. 5.]\n",
      " [5. 5. 5.]]\n"
     ]
    }
   ],
   "source": [
    "#matice plna libovolne hodnoty\n",
    "nradku = 4\n",
    "nsloupcu = 3\n",
    "matice = np.full((nradku, nsloupcu), 5, dtype='float')\n",
    "print(matice)"
   ]
  },
  {
   "cell_type": "code",
   "execution_count": 34,
   "metadata": {},
   "outputs": [
    {
     "name": "stdout",
     "output_type": "stream",
     "text": [
      "tvar:  (3, 4) velikost:  12 \n",
      " [[ 1  2  3  4]\n",
      " [ 5  6  7  8]\n",
      " [ 9 10 11 12]]\n",
      "tvar:  (2, 6) velikost:  12 \n",
      " [[ 1  2  3  4  5  6]\n",
      " [ 7  8  9 10 11 12]]\n"
     ]
    }
   ],
   "source": [
    "#zmena tvaru matice\n",
    "matice = np.array([\n",
    "    [1, 2, 3, 4], \n",
    "    [5, 6, 7, 8], \n",
    "    [9, 10, 11, 12]\n",
    "])\n",
    "stary_tvar = matice.shape\n",
    "stara_velikost = matice.size\n",
    "print(\"tvar: \", stary_tvar, \"velikost: \", stara_velikost, \"\\n\", matice)\n",
    "\n",
    "matice = matice.reshape(2, 6) #nebo matice.reshape(-1, 6), -1 znamena, ze dopocita pocet prvku v dimenzi za nas\n",
    "novy_tvar = matice.shape\n",
    "nova_velikost = matice.size\n",
    "print(\"tvar: \", novy_tvar, \"velikost: \", nova_velikost, \"\\n\", matice)"
   ]
  },
  {
   "cell_type": "code",
   "execution_count": 35,
   "metadata": {},
   "outputs": [
    {
     "name": "stdout",
     "output_type": "stream",
     "text": [
      "tvar:  (3, 4) velikost:  12 \n",
      " [[ 1  2  3  4]\n",
      " [ 5  6  7  8]\n",
      " [ 9 10 11 12]]\n",
      "tvar:  (12,) velikost:  12 \n",
      " [ 1  2  3  4  5  6  7  8  9 10 11 12]\n"
     ]
    }
   ],
   "source": [
    "#zplosteni matice\n",
    "matice = np.array([\n",
    "    [1, 2, 3, 4], \n",
    "    [5, 6, 7, 8], \n",
    "    [9, 10, 11, 12]\n",
    "])\n",
    "stary_tvar = matice.shape\n",
    "stara_velikost = matice.size\n",
    "print(\"tvar: \", stary_tvar, \"velikost: \", stara_velikost, \"\\n\", matice)\n",
    "\n",
    "matice = matice.flatten()\n",
    "novy_tvar = matice.shape\n",
    "nova_velikost = matice.size\n",
    "print(\"tvar: \", novy_tvar, \"velikost: \", nova_velikost, \"\\n\", matice)"
   ]
  },
  {
   "cell_type": "code",
   "execution_count": 36,
   "metadata": {},
   "outputs": [
    {
     "name": "stdout",
     "output_type": "stream",
     "text": [
      "[ 1  2  3  4  5  6  7  8  9 10 11 12]\n",
      "[13  2  3  4  5  6  7  8  9 10 11 12]\n"
     ]
    }
   ],
   "source": [
    "#rozdil mezi flatten a ravel\n",
    "matice = np.array([\n",
    "    [1, 2, 3, 4], \n",
    "    [5, 6, 7, 8], \n",
    "    [9, 10, 11, 12]\n",
    "])\n",
    "\n",
    "vektor_flatten = matice.flatten() #vraci kopii\n",
    "vektor_ravel = matice.ravel() #vraci jen jiny pohled na matici (zmeny v matici a vektoru jsou provazany v pameti)\n",
    "\n",
    "matice[0][0] = 13\n",
    "\n",
    "print(vektor_flatten)\n",
    "print(vektor_ravel)"
   ]
  },
  {
   "cell_type": "markdown",
   "metadata": {},
   "source": [
    "#### CACv.4.7: Násobení matic"
   ]
  },
  {
   "cell_type": "code",
   "execution_count": 37,
   "metadata": {},
   "outputs": [
    {
     "name": "stdout",
     "output_type": "stream",
     "text": [
      "A shape: (3, 2) B shape:  (2, 3) C shape:  (3, 3)\n",
      "[[ 9 12 15]\n",
      " [19 26 33]\n",
      " [29 40 51]]\n"
     ]
    }
   ],
   "source": [
    "A = np.array([\n",
    "    [1, 2], \n",
    "    [3, 4], \n",
    "    [5, 6]\n",
    "])\n",
    "\n",
    "B = np.array([\n",
    "    [1, 2, 3], \n",
    "    [4, 5, 6]\n",
    "])\n",
    "\n",
    "C = np.matmul(A, B)\n",
    "print(\"A shape:\",A.shape,\"B shape: \", B.shape,\"C shape: \", C.shape)\n",
    "print(C)"
   ]
  },
  {
   "cell_type": "markdown",
   "metadata": {},
   "source": [
    "#### CACv.4.8: Hodnost matice"
   ]
  },
  {
   "cell_type": "code",
   "execution_count": 38,
   "metadata": {},
   "outputs": [
    {
     "name": "stdout",
     "output_type": "stream",
     "text": [
      "3\n"
     ]
    }
   ],
   "source": [
    "matice = np.array([\n",
    "    [1, 2, 1], \n",
    "    [1, 1, 1], \n",
    "    [2, 2, 3]\n",
    "])\n",
    "\n",
    "hodnost = np.linalg.matrix_rank(matice)\n",
    "print(hodnost)"
   ]
  },
  {
   "cell_type": "code",
   "execution_count": 39,
   "metadata": {},
   "outputs": [
    {
     "name": "stdout",
     "output_type": "stream",
     "text": [
      "2\n"
     ]
    }
   ],
   "source": [
    "matice = np.array([\n",
    "    [1, 2, 1], \n",
    "    [1, 1, 1], \n",
    "    [2, 2, 2]\n",
    "])\n",
    "hodnost = np.linalg.matrix_rank(matice)\n",
    "print(hodnost)"
   ]
  },
  {
   "cell_type": "markdown",
   "metadata": {},
   "source": [
    "#### CACv.4.7: Stopa matice\n",
    "\n",
    "<img src=\"MS4_soubory/stopa.png\" alt=\"Drawing\" style=\"width: 600px;\"/>"
   ]
  },
  {
   "cell_type": "code",
   "execution_count": 40,
   "metadata": {},
   "outputs": [
    {
     "name": "stdout",
     "output_type": "stream",
     "text": [
      "15\n"
     ]
    }
   ],
   "source": [
    "matice = np.array([\n",
    "    [1, 2, 3], \n",
    "    [4, 5, 6],\n",
    "    [7, 8, 9]\n",
    "])\n",
    "\n",
    "stopa_matice = matice.trace()\n",
    "print(stopa_matice)\n",
    "\n",
    "matice = np.array([\n",
    "    [1, 2, 3, 4], \n",
    "    [5, 6, 7, 8]\n",
    "])"
   ]
  },
  {
   "cell_type": "markdown",
   "metadata": {},
   "source": [
    "#### CACv.4.10: Transpozice matice\n"
   ]
  },
  {
   "cell_type": "code",
   "execution_count": 41,
   "metadata": {},
   "outputs": [
    {
     "name": "stdout",
     "output_type": "stream",
     "text": [
      "[[1 5]\n",
      " [2 6]\n",
      " [3 7]\n",
      " [4 8]]\n"
     ]
    },
    {
     "data": {
      "text/plain": [
       "array([[1, 5],\n",
       "       [2, 6],\n",
       "       [3, 7],\n",
       "       [4, 8]])"
      ]
     },
     "execution_count": 41,
     "metadata": {},
     "output_type": "execute_result"
    }
   ],
   "source": [
    "matice = np.array([\n",
    "    [1, 2, 3, 4], \n",
    "    [5, 6, 7, 8]\n",
    "])\n",
    "\n",
    "transponovana_matice = matice.transpose()\n",
    "print(transponovana_matice)\n",
    "matice.T"
   ]
  },
  {
   "cell_type": "markdown",
   "metadata": {},
   "source": [
    "#### CACv.4.11: Inverzní matice\n",
    "\n",
    "<img src=\"MS4_soubory/inverzni_matice.png\" alt=\"Drawing\" style=\"width: 600px;\"/>"
   ]
  },
  {
   "cell_type": "code",
   "execution_count": 42,
   "metadata": {},
   "outputs": [],
   "source": [
    "A = np.array([\n",
    "    [1, 2, -1], \n",
    "    [2, 0, 1],\n",
    "    [1, -2, 1]\n",
    "])"
   ]
  },
  {
   "cell_type": "code",
   "execution_count": 43,
   "metadata": {},
   "outputs": [
    {
     "name": "stdout",
     "output_type": "stream",
     "text": [
      "[[1. 0. 0.]\n",
      " [0. 1. 0.]\n",
      " [0. 0. 1.]]\n"
     ]
    }
   ],
   "source": [
    "#jednotkova matice\n",
    "E = np.eye(3)\n",
    "print(E)"
   ]
  },
  {
   "cell_type": "code",
   "execution_count": 44,
   "metadata": {},
   "outputs": [
    {
     "name": "stdout",
     "output_type": "stream",
     "text": [
      "[[ 0.5   0.    0.5 ]\n",
      " [-0.25  0.5  -0.75]\n",
      " [-1.    1.   -1.  ]]\n"
     ]
    }
   ],
   "source": [
    "#inverzni matice\n",
    "X = np.linalg.inv(A)\n",
    "print(X)"
   ]
  },
  {
   "cell_type": "code",
   "execution_count": 45,
   "metadata": {},
   "outputs": [
    {
     "name": "stdout",
     "output_type": "stream",
     "text": [
      "[[1. 0. 0.]\n",
      " [0. 1. 0.]\n",
      " [0. 0. 1.]]\n"
     ]
    }
   ],
   "source": [
    "#kontrola\n",
    "print(np.matmul(A, X))"
   ]
  },
  {
   "cell_type": "markdown",
   "metadata": {},
   "source": [
    "#### CACv.4.12: Determinant\n",
    "\n",
    "<img src=\"MS4_soubory/determinant.png\" alt=\"Drawing\" style=\"width: 600px;\"/>"
   ]
  },
  {
   "cell_type": "code",
   "execution_count": 46,
   "metadata": {},
   "outputs": [
    {
     "name": "stdout",
     "output_type": "stream",
     "text": [
      "0.0\n"
     ]
    }
   ],
   "source": [
    "A = np.array([\n",
    "    [1, 2, 3], \n",
    "    [4, 5, 6],\n",
    "    [7, 8, 9]\n",
    "])\n",
    "\n",
    "det = np.linalg.det(A)\n",
    "print(det)"
   ]
  },
  {
   "cell_type": "markdown",
   "metadata": {},
   "source": [
    "#### CACv.4.13: Cramerovo pravidlo\n",
    "\n",
    "<img src=\"MS4_soubory/cramerovo_pravidlo.png\" alt=\"Drawing\" style=\"width: 500px;\"/>"
   ]
  },
  {
   "cell_type": "markdown",
   "metadata": {},
   "source": [
    "<img src=\"MS4_soubory/priklad_cramer.png\" alt=\"Drawing\" style=\"width: 500px;\"/>"
   ]
  },
  {
   "attachments": {},
   "cell_type": "markdown",
   "metadata": {},
   "source": [
    "Odbočka\n",
    "- chceme vyjádřit vektory obsahující v jednotlivých sloupcích jedničky"
   ]
  },
  {
   "cell_type": "code",
   "execution_count": 47,
   "metadata": {},
   "outputs": [
    {
     "name": "stdout",
     "output_type": "stream",
     "text": [
      "[[1 0 0]\n",
      " [0 1 0]\n",
      " [0 0 1]]\n",
      "[[[1 0 0]\n",
      "  [0 1 0]\n",
      "  [0 0 1]]\n",
      "\n",
      " [[1 0 0]\n",
      "  [0 1 0]\n",
      "  [0 0 1]]\n",
      "\n",
      " [[1 0 0]\n",
      "  [0 1 0]\n",
      "  [0 0 1]]]\n"
     ]
    },
    {
     "data": {
      "text/plain": [
       "(array([[[1, 1, 1],\n",
       "         [0, 0, 0],\n",
       "         [0, 0, 0]],\n",
       " \n",
       "        [[0, 0, 0],\n",
       "         [1, 1, 1],\n",
       "         [0, 0, 0]],\n",
       " \n",
       "        [[0, 0, 0],\n",
       "         [0, 0, 0],\n",
       "         [1, 1, 1]]]),\n",
       " array([[[1, 0, 0],\n",
       "         [1, 0, 0],\n",
       "         [1, 0, 0]],\n",
       " \n",
       "        [[0, 1, 0],\n",
       "         [0, 1, 0],\n",
       "         [0, 1, 0]],\n",
       " \n",
       "        [[0, 0, 1],\n",
       "         [0, 0, 1],\n",
       "         [0, 0, 1]]]))"
      ]
     },
     "execution_count": 47,
     "metadata": {},
     "output_type": "execute_result"
    }
   ],
   "source": [
    "print(np.diag([1,1,1]))                                 # vytvoření jednotkové matice\n",
    "krychle = np.broadcast_to(np.diag([1,1,1]), [3,3,3])    # rozšíření na matici 3x3x3 (vektor 3 jednotkových matic)\n",
    "print(krychle)\n",
    "# představíme si jako krychli; při přehození os můžeme mít sloupcové vektory jedniček a nul\n",
    "krychle.swapaxes(0, 2), krychle.swapaxes(0, 1)"
   ]
  },
  {
   "cell_type": "code",
   "execution_count": 48,
   "metadata": {},
   "outputs": [
    {
     "name": "stdout",
     "output_type": "stream",
     "text": [
      "[[[1 0 0]\n",
      "  [1 0 0]\n",
      "  [1 0 0]]\n",
      "\n",
      " [[0 1 0]\n",
      "  [0 1 0]\n",
      "  [0 1 0]]\n",
      "\n",
      " [[0 0 1]\n",
      "  [0 0 1]\n",
      "  [0 0 1]]]\n"
     ]
    }
   ],
   "source": [
    "mask = np.broadcast_to(np.diag([1,1,1]), [3, 3, 3]).swapaxes(0, 1)\n",
    "print(mask)"
   ]
  },
  {
   "cell_type": "code",
   "execution_count": 49,
   "metadata": {},
   "outputs": [
    {
     "name": "stdout",
     "output_type": "stream",
     "text": [
      "[ 5  5  5  1  1  1 11 11 11]\n",
      "[[ 5  5  5]\n",
      " [ 1  1  1]\n",
      " [11 11 11]]\n",
      "[[ 5  5  5]\n",
      " [ 1  1  1]\n",
      " [11 11 11]]\n",
      "[[[ 5  2  1]\n",
      "  [ 1  3  1]\n",
      "  [11  1  3]]\n",
      "\n",
      " [[ 3  5  1]\n",
      "  [ 2  1  1]\n",
      "  [ 2 11  3]]\n",
      "\n",
      " [[ 3  2  5]\n",
      "  [ 2  3  1]\n",
      "  [ 2  1 11]]]\n"
     ]
    }
   ],
   "source": [
    "A = np.array([                          # matice soustavy\n",
    "    [3, 2, 1], \n",
    "    [2, 3, 1],\n",
    "    [2, 1, 3]\n",
    "])\n",
    "b = np.array([5, 1, 11])                # vektor pravých stran\n",
    "\n",
    "n = A.shape[1]                          # počet sloupců\n",
    "\n",
    "# nejdříve vytvoříme matici rozšířením vektoru pravých stran \n",
    "print(np.repeat(b, n))                  # opakuje jednotlivé prvky vektoru b (3x)\n",
    "print(np.repeat(b, n).reshape(n, n))\n",
    "print(np.broadcast_to(b, [n, n]).T)     # jiný postup\n",
    "\n",
    "# zkombinujeme obě matice podle podmínky (masky)\n",
    "Ai = np.where(mask, np.repeat(b, n).reshape(n, n), A)   # Ai = np.where(mask, vektb3x3, A)\n",
    "print(Ai)"
   ]
  },
  {
   "cell_type": "code",
   "execution_count": 50,
   "metadata": {},
   "outputs": [
    {
     "name": "stdout",
     "output_type": "stream",
     "text": [
      "[ 2. -2.  3.]\n"
     ]
    }
   ],
   "source": [
    "x = np.linalg.det(Ai) / np.linalg.det(A)\n",
    "print(x)"
   ]
  },
  {
   "cell_type": "markdown",
   "metadata": {},
   "source": [
    "#### CACv.4.14: Gaussova eliminační metoda\n",
    "Jediná příma iterační metoda v modulech pythonu je LU dekompozice, což je komplikovanější verze Gaussovy eliminační metody. Více na kurzu numerické matematiky.\n"
   ]
  },
  {
   "cell_type": "code",
   "execution_count": 34,
   "metadata": {},
   "outputs": [
    {
     "name": "stdout",
     "output_type": "stream",
     "text": [
      "[ 7.11111111 -3.22222222]\n"
     ]
    }
   ],
   "source": [
    "#LU dekompozice - zakladni metoda linalg.solve\n",
    "A = np.array([\n",
    "    [2, 1], \n",
    "    [5, 7]\n",
    "])\n",
    "b = np.array([11, 13])\n",
    "\n",
    "x = np.linalg.solve(A, b)\n",
    "print(x)"
   ]
  },
  {
   "cell_type": "markdown",
   "metadata": {},
   "source": [
    "#### CACv.4.15: Iterační metody"
   ]
  },
  {
   "cell_type": "code",
   "execution_count": 32,
   "metadata": {},
   "outputs": [],
   "source": [
    "A = np.array([\n",
    "    [3, 2, 1], \n",
    "    [2, 3, 1],\n",
    "    [2, 1, 3]\n",
    "])"
   ]
  },
  {
   "cell_type": "code",
   "execution_count": 53,
   "metadata": {},
   "outputs": [
    {
     "name": "stdout",
     "output_type": "stream",
     "text": [
      "[3 3 3]\n"
     ]
    }
   ],
   "source": [
    "D = np.diag(A)\n",
    "print(D)"
   ]
  },
  {
   "cell_type": "code",
   "execution_count": 54,
   "metadata": {},
   "outputs": [
    {
     "name": "stdout",
     "output_type": "stream",
     "text": [
      "[[3 0 0]\n",
      " [2 3 0]\n",
      " [2 1 3]]\n"
     ]
    }
   ],
   "source": [
    "L = np.tril(A)\n",
    "print(L)"
   ]
  },
  {
   "cell_type": "code",
   "execution_count": 55,
   "metadata": {},
   "outputs": [
    {
     "name": "stdout",
     "output_type": "stream",
     "text": [
      "[[0 0 0]\n",
      " [2 0 0]\n",
      " [2 1 0]]\n"
     ]
    }
   ],
   "source": [
    "L = np.tril(A, k = -1)\n",
    "print(L)"
   ]
  },
  {
   "cell_type": "code",
   "execution_count": 56,
   "metadata": {},
   "outputs": [
    {
     "name": "stdout",
     "output_type": "stream",
     "text": [
      "[[0 2 1]\n",
      " [0 0 1]\n",
      " [0 0 0]]\n"
     ]
    }
   ],
   "source": [
    "U = np.triu(A, k = 1)\n",
    "print(U)"
   ]
  },
  {
   "cell_type": "markdown",
   "metadata": {},
   "source": [
    "Jacobiho metoda: \n",
    "\n",
    "<img src=\"MS4_soubory/jacobi_iterace.png\" alt=\"Drawing\" style=\"width: 300px;\"/>"
   ]
  },
  {
   "cell_type": "code",
   "execution_count": 35,
   "metadata": {},
   "outputs": [
    {
     "name": "stdout",
     "output_type": "stream",
     "text": [
      "iterace: 0 x= [5.         1.14285714]\n",
      "iterace: 1 x= [ 4.92857143 -1.71428571]\n",
      "iterace: 2 x= [ 6.35714286 -1.66326531]\n",
      "iterace: 3 x= [ 6.33163265 -2.68367347]\n",
      "iterace: 4 x= [ 6.84183673 -2.6654519 ]\n",
      "iterace: 5 x= [ 6.83272595 -3.02988338]\n",
      "iterace: 6 x= [ 7.01494169 -3.02337568]\n",
      "iterace: 7 x= [ 7.01168784 -3.15352978]\n",
      "iterace: 8 x= [ 7.07676489 -3.1512056 ]\n",
      "iterace: 9 x= [ 7.0756028  -3.19768921]\n",
      "iterace: 10 x= [ 7.0988446  -3.19685914]\n",
      "iterace: 11 x= [ 7.09842957 -3.21346043]\n",
      "iterace: 12 x= [ 7.10673022 -3.21316398]\n",
      "iterace: 13 x= [ 7.10658199 -3.21909301]\n",
      "iterace: 14 x= [ 7.10954651 -3.21898714]\n",
      "iterace: 15 x= [ 7.10949357 -3.22110465]\n",
      "iterace: 16 x= [ 7.11055232 -3.22106683]\n",
      "iterace: 17 x= [ 7.11053342 -3.22182309]\n",
      "iterace: 18 x= [ 7.11091154 -3.22180958]\n",
      "iterace: 19 x= [ 7.11090479 -3.22207967]\n",
      "reseni:  [ 7.11090479 -3.22207967]\n"
     ]
    }
   ],
   "source": [
    "def jacobi(A, b, niteraci, x0=np.ones(len(A))):\n",
    "    x = x0\n",
    "    D = np.diag(A)\n",
    "    L = np.tril(A, k = -1)\n",
    "    U = np.triu(A, k = 1)\n",
    "    for i in range(niteraci):\n",
    "        x = (b - np.matmul((L + U),x))/D\n",
    "        print(\"iterace:\",i, \"x=\",x)\n",
    "    return x\n",
    "\n",
    "A = np.array([\n",
    "    [2, 1], \n",
    "    [5, 7]\n",
    "])\n",
    "b = np.array([11, 13])\n",
    "\n",
    "x = jacobi(A, b, 20)\n",
    "print(\"reseni: \", x)"
   ]
  },
  {
   "cell_type": "markdown",
   "metadata": {},
   "source": [
    "Gaussovo-Seidelova metoda: \n",
    "\n",
    "<img src=\"MS4_soubory/gauss_seidel_iterace.png\" alt=\"Drawing\" style=\"width: 300px;\"/>"
   ]
  },
  {
   "cell_type": "code",
   "execution_count": 36,
   "metadata": {},
   "outputs": [
    {
     "name": "stdout",
     "output_type": "stream",
     "text": [
      "iterace: 0 x= [ 0.5        -0.86363636]\n",
      "iterace: 1 x= [ 0.84943182 -0.64127066]\n",
      "iterace: 2 x= [ 0.80773825 -0.66780293]\n",
      "iterace: 3 x= [ 0.81271305 -0.66463715]\n",
      "iterace: 4 x= [ 0.81211947 -0.66501489]\n",
      "iterace: 5 x= [ 0.81219029 -0.66496981]\n",
      "iterace: 6 x= [ 0.81218184 -0.66497519]\n",
      "iterace: 7 x= [ 0.81218285 -0.66497455]\n",
      "iterace: 8 x= [ 0.81218273 -0.66497463]\n",
      "iterace: 9 x= [ 0.81218274 -0.66497462]\n",
      "iterace: 10 x= [ 0.81218274 -0.66497462]\n",
      "iterace: 11 x= [ 0.81218274 -0.66497462]\n",
      "iterace: 12 x= [ 0.81218274 -0.66497462]\n",
      "iterace: 13 x= [ 0.81218274 -0.66497462]\n",
      "iterace: 14 x= [ 0.81218274 -0.66497462]\n",
      "iterace: 15 x= [ 0.81218274 -0.66497462]\n",
      "iterace: 16 x= [ 0.81218274 -0.66497462]\n",
      "iterace: 17 x= [ 0.81218274 -0.66497462]\n",
      "iterace: 18 x= [ 0.81218274 -0.66497462]\n",
      "iterace: 19 x= [ 0.81218274 -0.66497462]\n",
      "[ 0.81218274 -0.66497462]\n"
     ]
    }
   ],
   "source": [
    "def gauss_seidel(A, b, niteraci, x0=np.ones(len(A))):\n",
    "    x = x0\n",
    "    U = np.triu(A, k = 1)\n",
    "    Lstar = np.tril(A, k = 0)               #D + L\n",
    "    T = np.matmul(-np.linalg.inv(Lstar), U) #T = -invL* . U\n",
    "    C = np.matmul(np.linalg.inv(Lstar), b)  #C = invL . b\n",
    "    for i in range(niteraci):\n",
    "        x = np.matmul(T, x) + C             #inv(D+L).(b-U.x) = inv(Lstar).(b-U.x) = C + T => x = Tx + C\n",
    "        print(\"iterace:\",i, \"x=\",x)\n",
    "    return x\n",
    "\n",
    "A = np.array([\n",
    "    [16, 3], \n",
    "    [7, -11]\n",
    "])\n",
    "b = np.array([11, 13])\n",
    "\n",
    "x = gauss_seidel(A, b, 20)\n",
    "print(x)"
   ]
  },
  {
   "cell_type": "markdown",
   "metadata": {},
   "source": [
    "SOR metoda: \n",
    "\n",
    "<img src=\"MS4_soubory/sor_iterace.png\" alt=\"Drawing\" style=\"width: 300px;\"/>"
   ]
  },
  {
   "cell_type": "code",
   "execution_count": 37,
   "metadata": {},
   "outputs": [
    {
     "name": "stdout",
     "output_type": "stream",
     "text": [
      "iterace: 0 x= [ 0.5        -0.86363636]\n",
      "iterace: 1 x= [ 0.84943182 -0.64127066]\n",
      "iterace: 2 x= [ 0.80773825 -0.66780293]\n",
      "iterace: 3 x= [ 0.81271305 -0.66463715]\n",
      "iterace: 4 x= [ 0.81211947 -0.66501489]\n",
      "iterace: 5 x= [ 0.81219029 -0.66496981]\n",
      "iterace: 6 x= [ 0.81218184 -0.66497519]\n",
      "iterace: 7 x= [ 0.81218285 -0.66497455]\n",
      "iterace: 8 x= [ 0.81218273 -0.66497463]\n",
      "iterace: 9 x= [ 0.81218274 -0.66497462]\n",
      "[ 0.81218274 -0.66497462]\n"
     ]
    }
   ],
   "source": [
    "def sor(A, b, omega, niteraci, x0=np.ones(len(A))):\n",
    "    x = x0\n",
    "    U = np.triu(A, k = 1)\n",
    "    Lstar = np.tril(A, k = 0)               \n",
    "    T = np.matmul(-np.linalg.inv(Lstar), U) \n",
    "    C = np.matmul(np.linalg.inv(Lstar), b)  \n",
    "    for i in range(niteraci):\n",
    "        Fx = np.matmul(T, x) + C\n",
    "        delta_x = Fx - x\n",
    "        x = x + omega*delta_x\n",
    "        print(\"iterace:\",i, \"x=\",x)\n",
    "    return x\n",
    "\n",
    "\n",
    "A = np.array([\n",
    "    [16, 3], \n",
    "    [7, -11]\n",
    "])\n",
    "b = np.array([11, 13])\n",
    "\n",
    "x = gauss_seidel(A, b, 10, np.ones(len(A)))\n",
    "print(x)"
   ]
  },
  {
   "cell_type": "markdown",
   "metadata": {},
   "source": [
    "#### CACv.4.16: Symbolická matematika a matice"
   ]
  },
  {
   "cell_type": "code",
   "execution_count": null,
   "metadata": {},
   "outputs": [],
   "source": [
    "!python -m pip install sympy"
   ]
  },
  {
   "cell_type": "code",
   "execution_count": 1,
   "metadata": {},
   "outputs": [],
   "source": [
    "import sympy"
   ]
  },
  {
   "cell_type": "code",
   "execution_count": null,
   "metadata": {},
   "outputs": [
    {
     "data": {
      "text/latex": [
       "$\\displaystyle \\left[\\begin{matrix}1 & -1\\\\3 & 4\\end{matrix}\\right]$"
      ],
      "text/plain": [
       "Matrix([\n",
       "[1, -1],\n",
       "[3,  4]])"
      ]
     },
     "execution_count": 2,
     "metadata": {},
     "output_type": "execute_result"
    }
   ],
   "source": [
    "#reprezentace matic v sympy\n",
    "A = sympy.Matrix([\n",
    "    [1, -1],\n",
    "    [3, 4]\n",
    "])\n",
    "A"
   ]
  },
  {
   "cell_type": "code",
   "execution_count": null,
   "metadata": {},
   "outputs": [
    {
     "data": {
      "text/latex": [
       "$\\displaystyle \\left[\\begin{matrix}1 & 0 & 0\\\\0 & 2 & 0\\\\0 & 0 & 3\\end{matrix}\\right]$"
      ],
      "text/plain": [
       "Matrix([\n",
       "[1, 0, 0],\n",
       "[0, 2, 0],\n",
       "[0, 0, 3]])"
      ]
     },
     "execution_count": 3,
     "metadata": {},
     "output_type": "execute_result"
    }
   ],
   "source": [
    "#specialni matice\n",
    "D = sympy.diag(1,2,3)\n",
    "D"
   ]
  },
  {
   "cell_type": "code",
   "execution_count": null,
   "metadata": {},
   "outputs": [
    {
     "data": {
      "text/latex": [
       "$\\displaystyle \\left[\\begin{matrix}\\frac{4}{7} & \\frac{1}{7}\\\\- \\frac{3}{7} & \\frac{1}{7}\\end{matrix}\\right]$"
      ],
      "text/plain": [
       "Matrix([\n",
       "[ 4/7, 1/7],\n",
       "[-3/7, 1/7]])"
      ]
     },
     "execution_count": 214,
     "metadata": {},
     "output_type": "execute_result"
    }
   ],
   "source": [
    "#operace nad matici\n",
    "A = sympy.Matrix([\n",
    "    [1, -1],\n",
    "    [3, 4]\n",
    "])\n",
    "A**-1"
   ]
  },
  {
   "cell_type": "code",
   "execution_count": null,
   "metadata": {},
   "outputs": [
    {
     "data": {
      "text/latex": [
       "$\\displaystyle \\left[\\begin{matrix}1 & 3 & 0\\\\-1 & 4 & 2\\end{matrix}\\right]$"
      ],
      "text/plain": [
       "Matrix([\n",
       "[ 1, 3, 0],\n",
       "[-1, 4, 2]])"
      ]
     },
     "execution_count": 4,
     "metadata": {},
     "output_type": "execute_result"
    }
   ],
   "source": [
    "#transpozice\n",
    "A = sympy.Matrix([\n",
    "    [1, -1],\n",
    "    [3, 4],\n",
    "    [0, 2]\n",
    "])\n",
    "A.T"
   ]
  },
  {
   "cell_type": "code",
   "execution_count": 66,
   "metadata": {},
   "outputs": [
    {
     "data": {
      "text/latex": [
       "$\\displaystyle \\left[\\begin{matrix}1 & -1\\\\10 & 10\\\\3 & 4\\\\0 & 2\\end{matrix}\\right]$"
      ],
      "text/plain": [
       "Matrix([\n",
       "[ 1, -1],\n",
       "[10, 10],\n",
       "[ 3,  4],\n",
       "[ 0,  2]])"
      ]
     },
     "execution_count": 66,
     "metadata": {},
     "output_type": "execute_result"
    }
   ],
   "source": [
    "#vlozeni vektoru do matice\n",
    "A = sympy.Matrix([\n",
    "    [1, -1],\n",
    "    [3, 4],\n",
    "    [0, 2]\n",
    "])\n",
    "v = sympy.Matrix([[10, 10]])\n",
    "A = A.row_insert(1, v)\n",
    "A"
   ]
  },
  {
   "cell_type": "code",
   "execution_count": 65,
   "metadata": {},
   "outputs": [
    {
     "data": {
      "text/latex": [
       "$\\displaystyle 7$"
      ],
      "text/plain": [
       "7"
      ]
     },
     "execution_count": 65,
     "metadata": {},
     "output_type": "execute_result"
    }
   ],
   "source": [
    "#determinant\n",
    "A = sympy.Matrix([\n",
    "    [1, -1],\n",
    "    [3, 4],\n",
    "])\n",
    "A.det()"
   ]
  },
  {
   "cell_type": "code",
   "execution_count": 27,
   "metadata": {},
   "outputs": [
    {
     "name": "stdout",
     "output_type": "stream",
     "text": [
      "⎡-1   1   1 ⎤\n",
      "⎢           ⎥\n",
      "⎢0   -√2  √2⎥\n",
      "⎢           ⎥\n",
      "⎣1    1   1 ⎦\n",
      "⎡-1    0       0   ⎤\n",
      "⎢                  ⎥\n",
      "⎢0   1 - √2    0   ⎥\n",
      "⎢                  ⎥\n",
      "⎣0     0     1 + √2⎦\n",
      "Matrix([[0, -sqrt(2)*(1 - sqrt(2))/4 + sqrt(2)*(1 + sqrt(2))/4, 1], [-sqrt(2)*(1 - sqrt(2))/4 + sqrt(2)*(1 + sqrt(2))/4, 1, -sqrt(2)*(1 - sqrt(2))/4 + sqrt(2)*(1 + sqrt(2))/4], [1, -sqrt(2)*(1 - sqrt(2))/4 + sqrt(2)*(1 + sqrt(2))/4, 0]])\n"
     ]
    },
    {
     "data": {
      "text/latex": [
       "$\\displaystyle \\left[\\begin{matrix}0 & 1 & 1\\\\1 & 1 & 1\\\\1 & 1 & 0\\end{matrix}\\right]$"
      ],
      "text/plain": [
       "⎡0  1  1⎤\n",
       "⎢       ⎥\n",
       "⎢1  1  1⎥\n",
       "⎢       ⎥\n",
       "⎣1  1  0⎦"
      ]
     },
     "execution_count": 27,
     "metadata": {},
     "output_type": "execute_result"
    }
   ],
   "source": [
    "#diagonalizace - vrací n-tici P, D, kde D je diagonální a A = P.D.P-1\n",
    "A = sympy.Matrix([\n",
    "    [0, 1, 1],\n",
    "    [1, 1, 1],\n",
    "    [1, 1, 0],\n",
    "])\n",
    "P, D = A.diagonalize()\n",
    "B = P*D*P**-1\n",
    "sympy.pprint(P)\n",
    "sympy.pprint(D)         # diagonální\n",
    "print(B)                # má být původní\n",
    "sympy.simplify(B)       # po zjednodušení je původní"
   ]
  },
  {
   "cell_type": "code",
   "execution_count": 28,
   "metadata": {},
   "outputs": [
    {
     "name": "stdout",
     "output_type": "stream",
     "text": [
      "(Matrix([\n",
      "[ 1,    (-sqrt(3) - 13*2**(1/3)*I*(7 + 21*sqrt(3)*I)**(2/3)/18 - 2*sqrt(3)*98**(1/3)*(1 + 3*sqrt(3)*I)**(2/3)/9 - 5*2**(2/3)*sqrt(3)*(7 + 21*sqrt(3)*I)**(1/3)/6 - 2**(2/3)*I*(7 + 21*sqrt(3)*I)**(1/3)/2 + 2*98**(1/3)*I*(1 + 3*sqrt(3)*I)**(2/3)/9 + 5*I + 7*2**(1/3)*sqrt(3)*(7 + 21*sqrt(3)*I)**(2/3)/18)/(sqrt(3) - 5*I), (-3*sqrt(3) - 7*2**(1/3)*sqrt(3)*(7 + 21*sqrt(3)*I)**(2/3)/18 - 2*2**(2/3)*sqrt(3)*(7 + 21*sqrt(3)*I)**(1/3)/3 - 2*98**(1/3)*I*(1 + 3*sqrt(3)*I)**(2/3)/9 + I + 2*sqrt(3)*98**(1/3)*(1 + 3*sqrt(3)*I)**(2/3)/9 + 2**(2/3)*I*(7 + 21*sqrt(3)*I)**(1/3) + 13*2**(1/3)*I*(7 + 21*sqrt(3)*I)**(2/3)/18)/(3*sqrt(3) - I),     1 + 7/(3*(7/54 + 7*sqrt(3)*I/18)**(1/3)) - (2/3 + 7/(9*(7/54 + 7*sqrt(3)*I/18)**(1/3)) + (7/54 + 7*sqrt(3)*I/18)**(1/3))**2 + 3*(7/54 + 7*sqrt(3)*I/18)**(1/3)],\n",
      "[-1, (2*sqrt(3)/3 - 2*2**(1/3)*sqrt(3)*(7 + 21*sqrt(3)*I)**(2/3)/9 - 10*I/3 - 2*98**(1/3)*I*(1 + 3*sqrt(3)*I)**(2/3)/9 + 2**(2/3)*sqrt(3)*(7 + 21*sqrt(3)*I)**(1/3)/3 + 2*2**(2/3)*I*(7 + 21*sqrt(3)*I)**(1/3)/3 + 2*sqrt(3)*98**(1/3)*(1 + 3*sqrt(3)*I)**(2/3)/9 + 5*2**(1/3)*I*(7 + 21*sqrt(3)*I)**(2/3)/9)/(sqrt(3) - 5*I),   (2*sqrt(3)/3 - sqrt(3)*98**(1/3)*(1 + 3*sqrt(3)*I)**(2/3)/9 - 98**(1/3)*I*(1 + 3*sqrt(3)*I)**(2/3)/9 + 2**(1/3)*I*(7 + 21*sqrt(3)*I)**(2/3)/36 + 2**(2/3)*sqrt(3)*(7 + 21*sqrt(3)*I)**(1/3)/6 + 4*I/3 + 2**(2/3)*I*(7 + 21*sqrt(3)*I)**(1/3)/3 + 7*2**(1/3)*sqrt(3)*(7 + 21*sqrt(3)*I)**(2/3)/36)/(sqrt(3) + 2*I), -4/3 - 2*(7/54 + 7*sqrt(3)*I/18)**(1/3) + (2/3 + 7/(9*(7/54 + 7*sqrt(3)*I/18)**(1/3)) + (7/54 + 7*sqrt(3)*I/18)**(1/3))**2 - 14/(9*(7/54 + 7*sqrt(3)*I/18)**(1/3))],\n",
      "[ 2,                                                                                                                                                                                                                                                                                                                        1,                                                                                                                                                                                                                                                                                                                   1,                                                                                                                                                                  1],\n",
      "[ 3,                                                                                                                                                                                                                                                                                                                        1,                                                                                                                                                                                                                                                                                                                   1,                                                                                                                                                                  1]]), Matrix([\n",
      "[1,                                                                                                                     0,                                                                                                                     0,                                                                           0],\n",
      "[0, 2/3 + (-1/2 - sqrt(3)*I/2)*(7/54 + 7*sqrt(3)*I/18)**(1/3) + 7/(9*(-1/2 - sqrt(3)*I/2)*(7/54 + 7*sqrt(3)*I/18)**(1/3)),                                                                                                                     0,                                                                           0],\n",
      "[0,                                                                                                                     0, 2/3 + 7/(9*(-1/2 + sqrt(3)*I/2)*(7/54 + 7*sqrt(3)*I/18)**(1/3)) + (-1/2 + sqrt(3)*I/2)*(7/54 + 7*sqrt(3)*I/18)**(1/3),                                                                           0],\n",
      "[0,                                                                                                                     0,                                                                                                                     0, 2/3 + 7/(9*(7/54 + 7*sqrt(3)*I/18)**(1/3)) + (7/54 + 7*sqrt(3)*I/18)**(1/3)]]))\n"
     ]
    },
    {
     "data": {
      "text/latex": [
       "$\\displaystyle \\left( \\left[\\begin{matrix}1 & \\frac{- \\sqrt{3} - \\frac{13 \\sqrt[3]{2} i \\left(7 + 21 \\sqrt{3} i\\right)^{\\frac{2}{3}}}{18} - \\frac{2 \\sqrt{3} \\sqrt[3]{98} \\left(1 + 3 \\sqrt{3} i\\right)^{\\frac{2}{3}}}{9} - \\frac{5 \\cdot 2^{\\frac{2}{3}} \\sqrt{3} \\sqrt[3]{7 + 21 \\sqrt{3} i}}{6} - \\frac{2^{\\frac{2}{3}} i \\sqrt[3]{7 + 21 \\sqrt{3} i}}{2} + \\frac{2 \\sqrt[3]{98} i \\left(1 + 3 \\sqrt{3} i\\right)^{\\frac{2}{3}}}{9} + 5 i + \\frac{7 \\sqrt[3]{2} \\sqrt{3} \\left(7 + 21 \\sqrt{3} i\\right)^{\\frac{2}{3}}}{18}}{\\sqrt{3} - 5 i} & \\frac{- 3 \\sqrt{3} - \\frac{7 \\sqrt[3]{2} \\sqrt{3} \\left(7 + 21 \\sqrt{3} i\\right)^{\\frac{2}{3}}}{18} - \\frac{2 \\cdot 2^{\\frac{2}{3}} \\sqrt{3} \\sqrt[3]{7 + 21 \\sqrt{3} i}}{3} - \\frac{2 \\sqrt[3]{98} i \\left(1 + 3 \\sqrt{3} i\\right)^{\\frac{2}{3}}}{9} + i + \\frac{2 \\sqrt{3} \\sqrt[3]{98} \\left(1 + 3 \\sqrt{3} i\\right)^{\\frac{2}{3}}}{9} + 2^{\\frac{2}{3}} i \\sqrt[3]{7 + 21 \\sqrt{3} i} + \\frac{13 \\sqrt[3]{2} i \\left(7 + 21 \\sqrt{3} i\\right)^{\\frac{2}{3}}}{18}}{3 \\sqrt{3} - i} & 1 + \\frac{7}{3 \\sqrt[3]{\\frac{7}{54} + \\frac{7 \\sqrt{3} i}{18}}} - \\left(\\frac{2}{3} + \\frac{7}{9 \\sqrt[3]{\\frac{7}{54} + \\frac{7 \\sqrt{3} i}{18}}} + \\sqrt[3]{\\frac{7}{54} + \\frac{7 \\sqrt{3} i}{18}}\\right)^{2} + 3 \\sqrt[3]{\\frac{7}{54} + \\frac{7 \\sqrt{3} i}{18}}\\\\-1 & \\frac{\\frac{2 \\sqrt{3}}{3} - \\frac{2 \\sqrt[3]{2} \\sqrt{3} \\left(7 + 21 \\sqrt{3} i\\right)^{\\frac{2}{3}}}{9} - \\frac{10 i}{3} - \\frac{2 \\sqrt[3]{98} i \\left(1 + 3 \\sqrt{3} i\\right)^{\\frac{2}{3}}}{9} + \\frac{2^{\\frac{2}{3}} \\sqrt{3} \\sqrt[3]{7 + 21 \\sqrt{3} i}}{3} + \\frac{2 \\cdot 2^{\\frac{2}{3}} i \\sqrt[3]{7 + 21 \\sqrt{3} i}}{3} + \\frac{2 \\sqrt{3} \\sqrt[3]{98} \\left(1 + 3 \\sqrt{3} i\\right)^{\\frac{2}{3}}}{9} + \\frac{5 \\sqrt[3]{2} i \\left(7 + 21 \\sqrt{3} i\\right)^{\\frac{2}{3}}}{9}}{\\sqrt{3} - 5 i} & \\frac{\\frac{2 \\sqrt{3}}{3} - \\frac{\\sqrt{3} \\sqrt[3]{98} \\left(1 + 3 \\sqrt{3} i\\right)^{\\frac{2}{3}}}{9} - \\frac{\\sqrt[3]{98} i \\left(1 + 3 \\sqrt{3} i\\right)^{\\frac{2}{3}}}{9} + \\frac{\\sqrt[3]{2} i \\left(7 + 21 \\sqrt{3} i\\right)^{\\frac{2}{3}}}{36} + \\frac{2^{\\frac{2}{3}} \\sqrt{3} \\sqrt[3]{7 + 21 \\sqrt{3} i}}{6} + \\frac{4 i}{3} + \\frac{2^{\\frac{2}{3}} i \\sqrt[3]{7 + 21 \\sqrt{3} i}}{3} + \\frac{7 \\sqrt[3]{2} \\sqrt{3} \\left(7 + 21 \\sqrt{3} i\\right)^{\\frac{2}{3}}}{36}}{\\sqrt{3} + 2 i} & - \\frac{4}{3} - 2 \\sqrt[3]{\\frac{7}{54} + \\frac{7 \\sqrt{3} i}{18}} + \\left(\\frac{2}{3} + \\frac{7}{9 \\sqrt[3]{\\frac{7}{54} + \\frac{7 \\sqrt{3} i}{18}}} + \\sqrt[3]{\\frac{7}{54} + \\frac{7 \\sqrt{3} i}{18}}\\right)^{2} - \\frac{14}{9 \\sqrt[3]{\\frac{7}{54} + \\frac{7 \\sqrt{3} i}{18}}}\\\\2 & 1 & 1 & 1\\\\3 & 1 & 1 & 1\\end{matrix}\\right], \\  \\left[\\begin{matrix}1 & 0 & 0 & 0\\\\0 & \\frac{2}{3} + \\left(- \\frac{1}{2} - \\frac{\\sqrt{3} i}{2}\\right) \\sqrt[3]{\\frac{7}{54} + \\frac{7 \\sqrt{3} i}{18}} + \\frac{7}{9 \\left(- \\frac{1}{2} - \\frac{\\sqrt{3} i}{2}\\right) \\sqrt[3]{\\frac{7}{54} + \\frac{7 \\sqrt{3} i}{18}}} & 0 & 0\\\\0 & 0 & \\frac{2}{3} + \\frac{7}{9 \\left(- \\frac{1}{2} + \\frac{\\sqrt{3} i}{2}\\right) \\sqrt[3]{\\frac{7}{54} + \\frac{7 \\sqrt{3} i}{18}}} + \\left(- \\frac{1}{2} + \\frac{\\sqrt{3} i}{2}\\right) \\sqrt[3]{\\frac{7}{54} + \\frac{7 \\sqrt{3} i}{18}} & 0\\\\0 & 0 & 0 & \\frac{2}{3} + \\frac{7}{9 \\sqrt[3]{\\frac{7}{54} + \\frac{7 \\sqrt{3} i}{18}}} + \\sqrt[3]{\\frac{7}{54} + \\frac{7 \\sqrt{3} i}{18}}\\end{matrix}\\right]\\right)$"
      ],
      "text/plain": [
       "⎛                                                                             \n",
       "⎜⎡             3 ___                2/3        3 ____             2/3      2/3\n",
       "⎜⎢          13⋅╲╱ 2 ⋅ⅈ⋅(7 + 21⋅√3⋅ⅈ)      2⋅√3⋅╲╱ 98 ⋅(1 + 3⋅√3⋅ⅈ)      5⋅2   \n",
       "⎜⎢    -√3 - ─────────────────────────── - ─────────────────────────── - ──────\n",
       "⎜⎢                       18                            9                      \n",
       "⎜⎢1   ────────────────────────────────────────────────────────────────────────\n",
       "⎜⎢                                                                            \n",
       "⎜⎢                                                                            \n",
       "⎜⎢                                                                            \n",
       "⎜⎢                                                                            \n",
       "⎜⎢                                                                            \n",
       "⎜⎢             3 ___                 2/3            3 ____               2/3  \n",
       "⎜⎢    2⋅√3   2⋅╲╱ 2 ⋅√3⋅(7 + 21⋅√3⋅ⅈ)      10⋅ⅈ   2⋅╲╱ 98 ⋅ⅈ⋅(1 + 3⋅√3⋅ⅈ)     \n",
       "⎜⎢    ──── - ─────────────────────────── - ──── - ────────────────────────── +\n",
       "⎜⎢     3                  9                 3                 9               \n",
       "⎜⎢-1  ────────────────────────────────────────────────────────────────────────\n",
       "⎜⎢                                                                            \n",
       "⎜⎢                                                                            \n",
       "⎜⎢                                                                            \n",
       "⎜⎢                                                                            \n",
       "⎜⎢                                                                            \n",
       "⎜⎢2                                                                           \n",
       "⎜⎢                                                                            \n",
       "⎜⎣3                                                                           \n",
       "⎝                                                                             \n",
       "\n",
       "                                                                              \n",
       "    3 _____________    2/3   3 _____________     3 ____               2/3     \n",
       "⋅√3⋅╲╱ 7 + 21⋅√3⋅ⅈ    2   ⋅ⅈ⋅╲╱ 7 + 21⋅√3⋅ⅈ    2⋅╲╱ 98 ⋅ⅈ⋅(1 + 3⋅√3⋅ⅈ)        \n",
       "─────────────────── - ────────────────────── + ────────────────────────── + 5⋅\n",
       "      6                         2                          9                  \n",
       "──────────────────────────────────────────────────────────────────────────────\n",
       "               √3 - 5⋅ⅈ                                                       \n",
       "                                                                              \n",
       "                                                                              \n",
       "                                                                              \n",
       "                                                                              \n",
       "  2/3    3 _____________      2/3   3 _____________        3 ____             \n",
       " 2   ⋅√3⋅╲╱ 7 + 21⋅√3⋅ⅈ    2⋅2   ⋅ⅈ⋅╲╱ 7 + 21⋅√3⋅ⅈ    2⋅√3⋅╲╱ 98 ⋅(1 + 3⋅√3⋅ⅈ)\n",
       " ─────────────────────── + ──────────────────────── + ────────────────────────\n",
       "            3                         3                            9          \n",
       "──────────────────────────────────────────────────────────────────────────────\n",
       "               √3 - 5⋅ⅈ                                                       \n",
       "                                                                              \n",
       "                                                                              \n",
       "                                                                              \n",
       "                                                                              \n",
       "                  1                                                           \n",
       "                                                                              \n",
       "                  1                                                           \n",
       "                                                                              \n",
       "\n",
       "                                                                              \n",
       "      3 ___                 2/3             3 ___                 2/3      2/3\n",
       "    7⋅╲╱ 2 ⋅√3⋅(7 + 21⋅√3⋅ⅈ)              7⋅╲╱ 2 ⋅√3⋅(7 + 21⋅√3⋅ⅈ)      2⋅2   \n",
       "ⅈ + ───────────────────────────   -3⋅√3 - ─────────────────────────── - ──────\n",
       "                 18                                    18                     \n",
       "───────────────────────────────   ────────────────────────────────────────────\n",
       "                                                                              \n",
       "                                                                              \n",
       "                                                                              \n",
       "                                                                              \n",
       "                                                                              \n",
       "2/3     3 ___                2/3                3 ____             2/3   3 ___\n",
       "      5⋅╲╱ 2 ⋅ⅈ⋅(7 + 21⋅√3⋅ⅈ)         2⋅√3   √3⋅╲╱ 98 ⋅(1 + 3⋅√3⋅ⅈ)      ╲╱ 98\n",
       "─── + ──────────────────────────      ──── - ───────────────────────── - ─────\n",
       "                  9                    3                 9                    \n",
       "────────────────────────────────      ────────────────────────────────────────\n",
       "                                                                              \n",
       "                                                                              \n",
       "                                                                              \n",
       "                                                                              \n",
       "                                                                              \n",
       "                                                                              \n",
       "                                                                              \n",
       "                                                                              \n",
       "                                                                              \n",
       "\n",
       "                                                                              \n",
       "    3 _____________     3 ____               2/3            3 ____            \n",
       "⋅√3⋅╲╱ 7 + 21⋅√3⋅ⅈ    2⋅╲╱ 98 ⋅ⅈ⋅(1 + 3⋅√3⋅ⅈ)          2⋅√3⋅╲╱ 98 ⋅(1 + 3⋅√3⋅ⅈ\n",
       "─────────────────── - ────────────────────────── + ⅈ + ───────────────────────\n",
       "      3                           9                                 9         \n",
       "──────────────────────────────────────────────────────────────────────────────\n",
       "                                           3⋅√3 - ⅈ                           \n",
       "                                                                              \n",
       "                                                                              \n",
       "                                                                              \n",
       "                                                                              \n",
       "_               2/3   3 ___                2/3    2/3    3 _____________      \n",
       " ⋅ⅈ⋅(1 + 3⋅√3⋅ⅈ)      ╲╱ 2 ⋅ⅈ⋅(7 + 21⋅√3⋅ⅈ)      2   ⋅√3⋅╲╱ 7 + 21⋅√3⋅ⅈ    4⋅ⅈ\n",
       "─────────────────── + ──────────────────────── + ─────────────────────── + ───\n",
       "      9                          36                         6               3 \n",
       "──────────────────────────────────────────────────────────────────────────────\n",
       "                                           √3 + 2⋅ⅈ                           \n",
       "                                                                              \n",
       "                                                                              \n",
       "                                                                              \n",
       "                                                                              \n",
       "                                              1                               \n",
       "                                                                              \n",
       "                                              1                               \n",
       "                                                                              \n",
       "\n",
       "                                                                              \n",
       " 2/3                               3 ___                2/3                   \n",
       ")       2/3   3 _____________   13⋅╲╱ 2 ⋅ⅈ⋅(7 + 21⋅√3⋅ⅈ)                      \n",
       "──── + 2   ⋅ⅈ⋅╲╱ 7 + 21⋅√3⋅ⅈ  + ───────────────────────────                   \n",
       "                                             18                            7  \n",
       "───────────────────────────────────────────────────────────   1 + ────────────\n",
       "                                                                        ______\n",
       "                                                                       ╱ 7    \n",
       "                                                                  3⋅3 ╱  ── + \n",
       "                                                                    ╲╱   54   \n",
       "                                                                              \n",
       "    2/3   3 _____________     3 ___                 2/3                       \n",
       "   2   ⋅ⅈ⋅╲╱ 7 + 21⋅√3⋅ⅈ    7⋅╲╱ 2 ⋅√3⋅(7 + 21⋅√3⋅ⅈ)                          \n",
       " + ────────────────────── + ───────────────────────────                  _____\n",
       "             3                           36                    4        ╱ 7   \n",
       "───────────────────────────────────────────────────────      - ─ - 2⋅3 ╱  ── +\n",
       "                                                               3     ╲╱   54  \n",
       "                                                                              \n",
       "                                                                              \n",
       "                                                                              \n",
       "                                                                              \n",
       "                                                                              \n",
       "                                                                              \n",
       "                                                                              \n",
       "                                                                              \n",
       "\n",
       "                                                                              \n",
       "                                                                              \n",
       "                                                       2                      \n",
       "          ⎛                              _____________⎞          _____________\n",
       "          ⎜2            7               ╱ 7    7⋅√3⋅ⅈ ⎟         ╱ 7    7⋅√3⋅ⅈ \n",
       "─────── - ⎜─ + ─────────────────── + 3 ╱  ── + ────── ⎟  + 3⋅3 ╱  ── + ────── \n",
       "_______   ⎜3         _____________   ╲╱   54     18   ⎟      ╲╱   54     18   \n",
       "7⋅√3⋅ⅈ    ⎜         ╱ 7    7⋅√3⋅ⅈ                     ⎟                       \n",
       "──────    ⎜    9⋅3 ╱  ── + ──────                     ⎟                       \n",
       "  18      ⎝      ╲╱   54     18                       ⎠                       \n",
       "                                                                              \n",
       "                                                                              \n",
       "                                                        2                     \n",
       "________   ⎛                              _____________⎞                      \n",
       " 7⋅√3⋅ⅈ    ⎜2            7               ╱ 7    7⋅√3⋅ⅈ ⎟             14       \n",
       " ──────  + ⎜─ + ─────────────────── + 3 ╱  ── + ────── ⎟  - ──────────────────\n",
       "   18      ⎜3         _____________   ╲╱   54     18   ⎟          ____________\n",
       "           ⎜         ╱ 7    7⋅√3⋅ⅈ                     ⎟         ╱ 7    7⋅√3⋅ⅈ\n",
       "           ⎜    9⋅3 ╱  ── + ──────                     ⎟    9⋅3 ╱  ── + ──────\n",
       "           ⎝      ╲╱   54     18                       ⎠      ╲╱   54     18  \n",
       "                                                                              \n",
       "                              1                                               \n",
       "                                                                              \n",
       "                              1                                               \n",
       "                                                                              \n",
       "\n",
       "    ⎡1                                    0                                   \n",
       " ⎤  ⎢                                                                         \n",
       " ⎥  ⎢                        _____________                                    \n",
       " ⎥  ⎢   2   ⎛  1   √3⋅ⅈ⎞    ╱ 7    7⋅√3⋅ⅈ                   7                 \n",
       " ⎥  ⎢0  ─ + ⎜- ─ - ────⎟⋅3 ╱  ── + ──────  + ──────────────────────────────── \n",
       " ⎥  ⎢   3   ⎝  2    2  ⎠ ╲╱   54     18                         _____________ \n",
       " ⎥  ⎢                                          ⎛  1   √3⋅ⅈ⎞    ╱ 7    7⋅√3⋅ⅈ  \n",
       " ⎥  ⎢                                        9⋅⎜- ─ - ────⎟⋅3 ╱  ── + ──────  \n",
       " ⎥  ⎢                                          ⎝  2    2  ⎠ ╲╱   54     18    \n",
       " ⎥  ⎢                                                                         \n",
       " ⎥  ⎢                                                                         \n",
       " ⎥  ⎢                                                                         \n",
       " ⎥, ⎢0                                    0                                   \n",
       " ⎥  ⎢                                                                         \n",
       " ⎥  ⎢                                                                         \n",
       "─⎥  ⎢                                                                         \n",
       "_⎥  ⎢                                                                         \n",
       " ⎥  ⎢                                                                         \n",
       " ⎥  ⎢                                                                         \n",
       " ⎥  ⎢                                                                         \n",
       " ⎥  ⎢0                                    0                                   \n",
       " ⎥  ⎢                                                                         \n",
       " ⎥  ⎢                                                                         \n",
       " ⎦  ⎢                                                                         \n",
       "    ⎣                                                                         \n",
       "\n",
       "                                   0                                          \n",
       "                                                                              \n",
       "                                                                              \n",
       "                                                                              \n",
       "                                   0                                          \n",
       "                                                                              \n",
       "                                                                              \n",
       "                                                                              \n",
       "                                                                              \n",
       "                                                                              \n",
       "                                                         _____________        \n",
       " 2                  7                   ⎛  1   √3⋅ⅈ⎞    ╱ 7    7⋅√3⋅ⅈ         \n",
       " ─ + ──────────────────────────────── + ⎜- ─ + ────⎟⋅3 ╱  ── + ──────         \n",
       " 3                      _____________   ⎝  2    2  ⎠ ╲╱   54     18           \n",
       "       ⎛  1   √3⋅ⅈ⎞    ╱ 7    7⋅√3⋅ⅈ                                          \n",
       "     9⋅⎜- ─ + ────⎟⋅3 ╱  ── + ──────                                          \n",
       "       ⎝  2    2  ⎠ ╲╱   54     18                                            \n",
       "                                                                              \n",
       "                                                                              \n",
       "                                                                        2     \n",
       "                                   0                                    ─ + ──\n",
       "                                                                        3     \n",
       "                                                                              \n",
       "                                                                            9⋅\n",
       "                                                                              \n",
       "\n",
       "               0                     ⎤⎞\n",
       "                                     ⎥⎟\n",
       "                                     ⎥⎟\n",
       "                                     ⎥⎟\n",
       "               0                     ⎥⎟\n",
       "                                     ⎥⎟\n",
       "                                     ⎥⎟\n",
       "                                     ⎥⎟\n",
       "                                     ⎥⎟\n",
       "                                     ⎥⎟\n",
       "                                     ⎥⎟\n",
       "                                     ⎥⎟\n",
       "               0                     ⎥⎟\n",
       "                                     ⎥⎟\n",
       "                                     ⎥⎟\n",
       "                                     ⎥⎟\n",
       "                                     ⎥⎟\n",
       "                                     ⎥⎟\n",
       "                        _____________⎥⎟\n",
       "       7               ╱ 7    7⋅√3⋅ⅈ ⎥⎟\n",
       "───────────────── + 3 ╱  ── + ────── ⎥⎟\n",
       "    _____________   ╲╱   54     18   ⎥⎟\n",
       "   ╱ 7    7⋅√3⋅ⅈ                     ⎥⎟\n",
       "3 ╱  ── + ──────                     ⎥⎟\n",
       "╲╱   54     18                       ⎦⎠"
      ]
     },
     "execution_count": 28,
     "metadata": {},
     "output_type": "execute_result"
    }
   ],
   "source": [
    "#diagonalizace (4x4)\n",
    "A = sympy.Matrix([\n",
    "    [0, 1, 1, 0],\n",
    "    [1, 1, 1, -1],\n",
    "    [1, 1, 1, 0],\n",
    "    [1, 1, 0, 1]\n",
    "])\n",
    "print(A.diagonalize())\n",
    "A.diagonalize()             # totéž, grafický výstup"
   ]
  },
  {
   "cell_type": "markdown",
   "metadata": {},
   "source": [
    "### Samostatná cvičení"
   ]
  },
  {
   "cell_type": "markdown",
   "metadata": {},
   "source": [
    "#### SCv.4.1: Levi-Cituv symbol\n",
    "\n",
    "<img src=\"MS4_soubory/levicit.png\" alt=\"Drawing\" style=\"width: 600px;\"/>"
   ]
  },
  {
   "cell_type": "code",
   "execution_count": null,
   "metadata": {},
   "outputs": [],
   "source": []
  },
  {
   "cell_type": "markdown",
   "metadata": {},
   "source": [
    "#### SCv.4.2: Laplaceův rozvoj\n",
    "\n",
    "<img src=\"MS4_soubory/laplace.png\" alt=\"Drawing\" style=\"width: 600px;\"/>"
   ]
  },
  {
   "cell_type": "markdown",
   "metadata": {},
   "source": [
    "<img src=\"MS4_soubory/laplace2.png\" alt=\"Drawing\" style=\"width: 600px;\"/>"
   ]
  },
  {
   "cell_type": "code",
   "execution_count": null,
   "metadata": {},
   "outputs": [],
   "source": []
  },
  {
   "cell_type": "markdown",
   "metadata": {},
   "source": [
    "#### SCv.4.3: Cramerovo pravidlo\n",
    "\n",
    "<img src=\"MS4_soubory/cramer_priklad.png\" alt=\"Drawing\" style=\"width: 600px;\"/>"
   ]
  },
  {
   "cell_type": "code",
   "execution_count": null,
   "metadata": {},
   "outputs": [
    {
     "name": "stdout",
     "output_type": "stream",
     "text": [
      "[ 2. -2.  3.]\n"
     ]
    }
   ],
   "source": [
    "def cramer2(A, b):\n",
    "    Ai = np.array([np.copy(A), np.copy(A), np.copy(A)])\n",
    "    for i in range(len(A)):\n",
    "        Ai[i][:,i] = b\n",
    "    x = np.linalg.det(Ai) / np.linalg.det(A)\n",
    "    return x\n",
    "\n",
    "A = np.array([\n",
    "    [3, 2, 1], \n",
    "    [2, 3, 1],\n",
    "    [2, 1, 3]\n",
    "])\n",
    "b = np.array([5, 1, 11])\n",
    "print(cramer2(A, b))"
   ]
  },
  {
   "cell_type": "code",
   "execution_count": null,
   "metadata": {},
   "outputs": [
    {
     "name": "stdout",
     "output_type": "stream",
     "text": [
      "mask:\n",
      " [[[1 0 0]\n",
      "  [1 0 0]\n",
      "  [1 0 0]]\n",
      "\n",
      " [[0 1 0]\n",
      "  [0 1 0]\n",
      "  [0 1 0]]\n",
      "\n",
      " [[0 0 1]\n",
      "  [0 0 1]\n",
      "  [0 0 1]]]\n",
      "A:\n",
      " [[3 2 1]\n",
      " [2 3 1]\n",
      " [2 1 3]]\n",
      "Ai:\n",
      " [[[ 5  2  1]\n",
      "  [ 1  3  1]\n",
      "  [11  1  3]]\n",
      "\n",
      " [[ 3  5  1]\n",
      "  [ 2  1  1]\n",
      "  [ 2 11  3]]\n",
      "\n",
      " [[ 3  2  5]\n",
      "  [ 2  3  1]\n",
      "  [ 2  1 11]]]\n",
      "[ 2. -2.  3.]\n"
     ]
    }
   ],
   "source": [
    "def cramer(A, b):\n",
    "    N = A.shape[1]\n",
    "    mask = np.broadcast_to(np.diag([1,1,1]), [N, N, N]).swapaxes(0, 1)\n",
    "    Ai = np.where(mask, np.repeat(b, N).reshape(N, N), A)\n",
    "    print(\"mask:\\n\", mask)\n",
    "    print(\"A:\\n\", A)\n",
    "    print(\"Ai:\\n\", Ai)\n",
    "    x = np.linalg.det(Ai) / np.linalg.det(A)\n",
    "    return x\n",
    "\n",
    "A = np.array([\n",
    "    [3, 2, 1], \n",
    "    [2, 3, 1],\n",
    "    [2, 1, 3]\n",
    "])\n",
    "b = np.array([5, 1, 11])\n",
    "print(cramer(A, b))"
   ]
  },
  {
   "cell_type": "markdown",
   "metadata": {},
   "source": [
    "#### SCv.4.4: Jacobiho metoda\n",
    "\n",
    "<img src=\"MS4_soubory/jacobi_priklad.png\" alt=\"Drawing\" style=\"width: 600px;\"/>"
   ]
  },
  {
   "cell_type": "code",
   "execution_count": 70,
   "metadata": {},
   "outputs": [
    {
     "name": "stdout",
     "output_type": "stream",
     "text": [
      "iterace: 0 x= [1.83333333 1.75       1.28571429]\n",
      "iterace: 1 x= [1.72619048 1.68452381 1.85714286]\n",
      "iterace: 2 x= [2.03373016 1.99702381 1.79251701]\n",
      "iterace: 3 x= [1.89725057 1.88782596 2.01360544]\n",
      "iterace: 4 x= [2.04419407 2.03249008 1.9239148 ]\n",
      "iterace: 5 x= [1.95112738 1.95090889 2.02822319]\n",
      "iterace: 6 x= [2.0304753  2.02632975 1.96502856]\n",
      "iterace: 7 x= [1.97373769 1.97489545 2.02058363]\n",
      "iterace: 8 x= [2.01866    2.01685739 1.981572  ]\n",
      "iterace: 9 x= [1.98516687 1.986121   2.01281354]\n",
      "reseni:  [1.98516687 1.986121   2.01281354]\n"
     ]
    }
   ],
   "source": [
    "import numpy as np\n",
    "def jacobi(A, b, niteraci, x0=np.ones(len(A))):\n",
    "    x = x0\n",
    "    D = np.diag(A)\n",
    "    L = np.tril(A, k = -1)\n",
    "    U = np.triu(A, k = 1)\n",
    "    for i in range(niteraci):\n",
    "        x = (b - np.matmul((L + U),x))/D    # inverzní matice diagonální je diagonální a má převrácené hodnoty\n",
    "        print(\"iterace:\",i, \"x=\",x)\n",
    "    return x\n",
    "\n",
    "A = np.array([\n",
    "    [6, 2, -3], \n",
    "    [1, 4, -2],\n",
    "    [3, 2, -7]\n",
    "])\n",
    "b = np.array([10, 6, -4])\n",
    "\n",
    "x = jacobi(A, b, 10)\n",
    "print(\"reseni: \", x)"
   ]
  }
 ],
 "metadata": {
  "interpreter": {
   "hash": "8ea797b3d7c6dd450b280358d309ea312ee6ecf4480496ce6e4e6602d49e2c56"
  },
  "kernelspec": {
   "display_name": "Python 3.9.7 64-bit ('.venv': venv)",
   "language": "python",
   "name": "python3"
  },
  "language_info": {
   "codemirror_mode": {
    "name": "ipython",
    "version": 3
   },
   "file_extension": ".py",
   "mimetype": "text/x-python",
   "name": "python",
   "nbconvert_exporter": "python",
   "pygments_lexer": "ipython3",
   "version": "3.9.9"
  },
  "orig_nbformat": 4
 },
 "nbformat": 4,
 "nbformat_minor": 2
}
