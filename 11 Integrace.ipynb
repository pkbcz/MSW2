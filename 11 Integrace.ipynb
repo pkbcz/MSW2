{
 "cells": [
  {
   "cell_type": "markdown",
   "metadata": {},
   "source": [
    "# Matematický software "
   ]
  },
  {
   "cell_type": "markdown",
   "metadata": {},
   "source": [
    "## Cv. 11 - Integrace funkce jedné proměnné\n",
    "\n",
    "Prezentace: [POSEL](MS11_soubory/IntPocet_fx.pdf)"
   ]
  },
  {
   "cell_type": "markdown",
   "metadata": {},
   "source": [
    "### Cognitive Apprenticeship\n",
    "\n",
    "V tomto cvičení si nejprve vyzkoušíme nalézt primitivní funkci k zadané funkci pomocí symbolické manipulace a následně si vyzkoušíme spočítat určitý integrál pomocí lichoběžníkového pravidla z Newton-Cotesových vzorců."
   ]
  },
  {
   "cell_type": "markdown",
   "metadata": {},
   "source": [
    "#### CACv.11.1: Neurčitý integrál\n",
    "\n",
    "Nalezněte primitivní funkci k zadané funkci (tzn. řešte neurčitý integrál zadané funkce).\n",
    "\n",
    "<img src=\"MS11_soubory/casymbol.png\" alt=\"Drawing\" style=\"width: 270px;\"/>"
   ]
  },
  {
   "cell_type": "markdown",
   "metadata": {},
   "source": [
    "Pro výpočet neurčitého integrálu využijeme modul sympy, který není součástí standardní knihovny jazyka Python3 a je nutné ho instalovat přes balíčkovací systém pip.\n",
    "\n",
    "Manuál: [Sympy](https://docs.sympy.org/latest/modules/integrals/integrals.html)"
   ]
  },
  {
   "cell_type": "code",
   "execution_count": null,
   "metadata": {},
   "outputs": [],
   "source": [
    "!python3 -m pip install sympy\n",
    "import sympy"
   ]
  },
  {
   "cell_type": "code",
   "execution_count": 73,
   "metadata": {},
   "outputs": [
    {
     "data": {
      "text/latex": [
       "$\\displaystyle - x^{3} + 2 x^{2} + 5 x$"
      ],
      "text/plain": [
       "-x**3 + 2*x**2 + 5*x"
      ]
     },
     "execution_count": 73,
     "metadata": {},
     "output_type": "execute_result"
    }
   ],
   "source": [
    "x = sympy.Symbol(\"x\")\n",
    "sympy.integrate(-3*x**2 + 4*x + 5, x)"
   ]
  },
  {
   "cell_type": "markdown",
   "metadata": {},
   "source": [
    "#### CACv.11.2: Určitý integrál\n",
    "\n",
    "Spočítejte následující určitý integrál na zadaném intervalu.\n",
    "\n",
    "<img src=\"MS11_soubory/caintegral.png\" alt=\"Drawing\" style=\"width: 170px;\"/>"
   ]
  },
  {
   "cell_type": "markdown",
   "metadata": {},
   "source": [
    "Výpočet provedeme pomocí lichoběžníkové integrace. Pro procvičení provedeme integraci nejprve naivním způsobem, následně ve formě Newton-Cotesovo vzorce a na závěr pomocí knihovny numpy."
   ]
  },
  {
   "cell_type": "code",
   "execution_count": 74,
   "metadata": {},
   "outputs": [],
   "source": [
    "def f(x): \n",
    "    return -3*x**2 + 4*x + 5\n",
    "   \n",
    "a = 0\n",
    "b = 3\n",
    "dx = 0.1\n",
    "\n",
    " #analytické řešení: I(-3x2 + 4x + 5)(a,b) = [-x3 + 2x2 + 5x](0,3) = -27 + 18 + 15 = 6"
   ]
  },
  {
   "cell_type": "markdown",
   "metadata": {},
   "source": [
    "integrace lichoběžníkovým pravidlem\n",
    "\n",
    "<img src=\"MS11_soubory/trap.png\" alt=\"Drawing\" style=\"width: 400px;\"/>"
   ]
  },
  {
   "cell_type": "code",
   "execution_count": 75,
   "metadata": {},
   "outputs": [
    {
     "name": "stdout",
     "output_type": "stream",
     "text": [
      "5.984999999999994\n"
     ]
    }
   ],
   "source": [
    "integral = 0\n",
    "x = a\n",
    "i = 0\n",
    "while x < b:\n",
    "    integral += dx * (f(x) + f(x+dx))/2\n",
    "    x += dx\n",
    "print(integral)"
   ]
  },
  {
   "cell_type": "markdown",
   "metadata": {},
   "source": [
    "integrace ve formě Newtonových-Cotesových vzorců\n",
    "\n",
    "<img src=\"MS11_soubory/nctrap.png\" alt=\"Drawing\" style=\"width: 270px;\"/>"
   ]
  },
  {
   "cell_type": "code",
   "execution_count": 76,
   "metadata": {},
   "outputs": [
    {
     "name": "stdout",
     "output_type": "stream",
     "text": [
      "5.984999999999998\n"
     ]
    }
   ],
   "source": [
    "n = int((b-a)//dx)+1\n",
    "integral = f(a) + f(b)\n",
    "for i in range(1, n):\n",
    "    integral += 2*f(a+i*dx)\n",
    "integral *= dx/2\n",
    "print(integral)"
   ]
  },
  {
   "cell_type": "markdown",
   "metadata": {},
   "source": [
    "pomocí knihovny numpy"
   ]
  },
  {
   "cell_type": "code",
   "execution_count": null,
   "metadata": {},
   "outputs": [],
   "source": [
    "!python3 -m pip install numpy"
   ]
  },
  {
   "cell_type": "code",
   "execution_count": 77,
   "metadata": {},
   "outputs": [
    {
     "name": "stdout",
     "output_type": "stream",
     "text": [
      "5.984999999999999\n"
     ]
    }
   ],
   "source": [
    "import numpy as np\n",
    "x = np.arange(a, b+dx, dx)\n",
    "y = f(x)\n",
    "print(np.trapz(y, dx=dx))"
   ]
  },
  {
   "cell_type": "markdown",
   "metadata": {},
   "source": [
    "pomocí knihovny scipy"
   ]
  },
  {
   "cell_type": "code",
   "execution_count": null,
   "metadata": {},
   "outputs": [],
   "source": [
    "!python3 -m pip install scipy"
   ]
  },
  {
   "cell_type": "code",
   "execution_count": null,
   "metadata": {},
   "outputs": [],
   "source": [
    "#pro apple silicon architektury\n",
    "!python3 -m pip install --pre -i https://pypi.anaconda.org/scipy-wheels-nightly/simple scipy"
   ]
  },
  {
   "cell_type": "code",
   "execution_count": null,
   "metadata": {},
   "outputs": [],
   "source": [
    "from scipy import integrate"
   ]
  },
  {
   "cell_type": "code",
   "execution_count": 78,
   "metadata": {},
   "outputs": [
    {
     "name": "stdout",
     "output_type": "stream",
     "text": [
      "5.985\n",
      "5.984999999999999\n"
     ]
    }
   ],
   "source": [
    "#trapezoid\n",
    "print(integrate.trapezoid(y, x=x))\n",
    "print(integrate.trapezoid(y, dx=dx))"
   ]
  },
  {
   "cell_type": "code",
   "execution_count": 79,
   "metadata": {},
   "outputs": [
    {
     "name": "stdout",
     "output_type": "stream",
     "text": [
      "6.000000000000002\n",
      "5.999999999999996\n"
     ]
    }
   ],
   "source": [
    "#simpson\n",
    "x = np.arange(a, b+dx, dx)\n",
    "y = f(x)\n",
    "print(integrate.simpson(y=y, x=x))\n",
    "print(integrate.simpson(y=y, dx=dx))"
   ]
  },
  {
   "cell_type": "code",
   "execution_count": 80,
   "metadata": {},
   "outputs": [
    {
     "name": "stdout",
     "output_type": "stream",
     "text": [
      "6.0\n"
     ]
    }
   ],
   "source": [
    "#romberg\n",
    "print(integrate.romberg(f, a, b))"
   ]
  },
  {
   "cell_type": "code",
   "execution_count": 81,
   "metadata": {},
   "outputs": [
    {
     "name": "stdout",
     "output_type": "stream",
     "text": [
      "(5.9999999999999964, 1.1546319456101628e-14)\n"
     ]
    }
   ],
   "source": [
    "#gaussian\n",
    "print(integrate.quadrature(f, a, b))"
   ]
  },
  {
   "cell_type": "markdown",
   "metadata": {},
   "source": [
    "### Samostatná cvičení"
   ]
  },
  {
   "cell_type": "markdown",
   "metadata": {},
   "source": [
    "#### SCv.11.1: Symbolická matematika\n",
    "\n",
    "Pomocí symbolické matematiky vypočítejte následující integrály. Zkuste předem odhadnout podmínky integrace a existence primitivní funkce."
   ]
  },
  {
   "cell_type": "markdown",
   "metadata": {},
   "source": [
    "<img src=\"MS11_soubory/sym1.png\" alt=\"Drawing\" style=\"width: 150px;\"/>"
   ]
  },
  {
   "cell_type": "code",
   "execution_count": 45,
   "metadata": {},
   "outputs": [
    {
     "data": {
      "text/latex": [
       "$\\displaystyle \\begin{cases} \\frac{\\sqrt{\\pi} \\operatorname{erf}{\\left(\\sqrt{a} x \\right)}}{2 \\sqrt{a}} & \\text{for}\\: a \\neq 0 \\\\x & \\text{otherwise} \\end{cases}$"
      ],
      "text/plain": [
       "Piecewise((sqrt(pi)*erf(sqrt(a)*x)/(2*sqrt(a)), Ne(a, 0)), (x, True))"
      ]
     },
     "execution_count": 45,
     "metadata": {},
     "output_type": "execute_result"
    }
   ],
   "source": [
    "import math\n",
    "x = sympy.Symbol(\"x\")\n",
    "a = sympy.Symbol(\"a\")\n",
    "sympy.integrate(sympy.exp(-a*x**2), x)"
   ]
  },
  {
   "cell_type": "markdown",
   "metadata": {},
   "source": [
    "<img src=\"MS11_soubory/sym2.png\" alt=\"Drawing\" style=\"width: 150px;\"/>"
   ]
  },
  {
   "cell_type": "code",
   "execution_count": 26,
   "metadata": {},
   "outputs": [
    {
     "data": {
      "text/latex": [
       "$\\displaystyle \\begin{cases} \\frac{x^{a + 1}}{a + 1} & \\text{for}\\: a \\neq -1 \\\\\\log{\\left(x \\right)} & \\text{otherwise} \\end{cases}$"
      ],
      "text/plain": [
       "Piecewise((x**(a + 1)/(a + 1), Ne(a, -1)), (log(x), True))"
      ]
     },
     "execution_count": 26,
     "metadata": {},
     "output_type": "execute_result"
    }
   ],
   "source": [
    "import math\n",
    "x = sympy.Symbol(\"x\")\n",
    "a = sympy.Symbol(\"a\")\n",
    "sympy.integrate(x**a, x)"
   ]
  },
  {
   "cell_type": "markdown",
   "metadata": {},
   "source": [
    "<img src=\"MS11_soubory/sym3.png\" alt=\"Drawing\" style=\"width: 200px;\"/>"
   ]
  },
  {
   "cell_type": "code",
   "execution_count": 44,
   "metadata": {},
   "outputs": [
    {
     "data": {
      "text/latex": [
       "$\\displaystyle \\int \\operatorname{acos}{\\left(\\sin{\\left(x \\right)} \\right)}\\, dx$"
      ],
      "text/plain": [
       "Integral(acos(sin(x)), x)"
      ]
     },
     "execution_count": 44,
     "metadata": {},
     "output_type": "execute_result"
    }
   ],
   "source": [
    "import math\n",
    "x = sympy.Symbol(\"x\")\n",
    "sympy.integrate(sympy.acos(sympy.sin(x)), x)"
   ]
  },
  {
   "cell_type": "markdown",
   "metadata": {},
   "source": [
    "<img src=\"MS11_soubory/sym4.png\" alt=\"Drawing\" style=\"width: 200px;\"/>"
   ]
  },
  {
   "cell_type": "code",
   "execution_count": 43,
   "metadata": {},
   "outputs": [
    {
     "data": {
      "text/latex": [
       "$\\displaystyle \\int \\log{\\left(\\sin{\\left(x \\right)} \\right)}\\, dx$"
      ],
      "text/plain": [
       "Integral(log(sin(x)), x)"
      ]
     },
     "execution_count": 43,
     "metadata": {},
     "output_type": "execute_result"
    }
   ],
   "source": [
    "import math\n",
    "x = sympy.Symbol(\"x\")\n",
    "sympy.integrate(sympy.log(sympy.sin(x)), x)"
   ]
  },
  {
   "cell_type": "markdown",
   "metadata": {},
   "source": [
    "#### SCv.11.2: Určitý integrál\n",
    "\n",
    "Pomocí built-in funkcí nebo metod numerické matematiky vypočítejte následující určité integrály. Použijte alespoň tři různé integrační metody a porovnejte je mezi sebou z hlediska přesnosti výpočtu."
   ]
  },
  {
   "cell_type": "markdown",
   "metadata": {},
   "source": [
    "<img src=\"MS11_soubory/uint1.png\" alt=\"Drawing\" style=\"width: 120px;\"/>"
   ]
  },
  {
   "cell_type": "code",
   "execution_count": 86,
   "metadata": {},
   "outputs": [
    {
     "name": "stdout",
     "output_type": "stream",
     "text": [
      "trapezoid:  0.00014124579393251947\n",
      "simpson:  0.00014066340514081377\n",
      "romberg:  2.5648942582957195e-16\n"
     ]
    }
   ],
   "source": [
    "import numpy as np\n",
    "\n",
    "def f(x):\n",
    "    return np.sin(x)\n",
    "\n",
    "a = 0\n",
    "b = 2*np.pi\n",
    "dx = 0.1\n",
    "\n",
    "x = np.arange(a, b+dx, dx)\n",
    "y = f(x)\n",
    "\n",
    "print(\"trapezoid: \", integrate.trapezoid(y, x=x))\n",
    "print(\"simpson: \", integrate.simpson(y=y, x=x))\n",
    "print(\"romberg: \", integrate.romberg(f, a, b))"
   ]
  },
  {
   "cell_type": "markdown",
   "metadata": {},
   "source": [
    "<img src=\"MS11_soubory/uint2.png\" alt=\"Drawing\" style=\"width: 150px;\"/>"
   ]
  },
  {
   "cell_type": "code",
   "execution_count": 87,
   "metadata": {},
   "outputs": [
    {
     "name": "stdout",
     "output_type": "stream",
     "text": [
      "trapezoid:  5.335\n",
      "simpson:  5.333333333333332\n",
      "romberg:  5.333333333333333\n"
     ]
    }
   ],
   "source": [
    "import numpy as np\n",
    "\n",
    "def f(x):\n",
    "    return x**2 - 2*x + 6\n",
    "\n",
    "a = 0\n",
    "b = 1\n",
    "dx = 0.1\n",
    "\n",
    "x = np.arange(a, b+dx, dx)\n",
    "y = f(x)\n",
    "\n",
    "print(\"trapezoid: \", integrate.trapezoid(y, x=x))\n",
    "print(\"simpson: \", integrate.simpson(y=y, x=x))\n",
    "print(\"romberg: \", integrate.romberg(f, a, b))"
   ]
  },
  {
   "cell_type": "markdown",
   "metadata": {},
   "source": [
    "<img src=\"MS11_soubory/uint3.png\" alt=\"Drawing\" style=\"width: 160px;\"/>"
   ]
  },
  {
   "cell_type": "code",
   "execution_count": 88,
   "metadata": {},
   "outputs": [
    {
     "name": "stdout",
     "output_type": "stream",
     "text": [
      "trapezoid:  2.771455172001907\n",
      "simpson:  2.746005660082776\n",
      "romberg:  2.5886286325075183\n"
     ]
    }
   ],
   "source": [
    "import numpy as np\n",
    "\n",
    "def f(x):\n",
    "    return np.exp(3*x)*np.sin(2*x)\n",
    "\n",
    "a = 0\n",
    "b = np.pi/4.\n",
    "dx = 0.1\n",
    "\n",
    "x = np.arange(a, b+dx, dx)\n",
    "y = f(x)\n",
    "\n",
    "print(\"trapezoid: \", integrate.trapezoid(y, x=x))\n",
    "print(\"simpson: \", integrate.simpson(y=y, x=x))\n",
    "print(\"romberg: \", integrate.romberg(f, a, b))"
   ]
  },
  {
   "cell_type": "markdown",
   "metadata": {},
   "source": [
    "### Domácí cvičení"
   ]
  },
  {
   "cell_type": "markdown",
   "metadata": {},
   "source": [
    "#### DCv.11.1: Newtonovy-Cotesovy vzorce\n",
    "Naprogramujte si zbylé Newtonovy-Cotesovy vzorce (Simpsonovo pravidlo, Simpsonovo 3/8 pravidlo, Booleovo pravidlo) svépomocí a porovnejte jejich přesnost s lichoběžníkovým pravidlem. \n",
    "\n",
    "<img src=\"MS11_soubory/nc.png\" alt=\"Drawing\" style=\"width: 600px;\"/>\n",
    "\n",
    "Kolik subintervalů potřebují jednotlivé metody, aby dosáhly dostatečné přenosti?"
   ]
  },
  {
   "cell_type": "markdown",
   "metadata": {},
   "source": [
    "#### DCv.11.2: Interpolace a integrace\n",
    "\n",
    "Následující tabulka obsahuje souřadnice hranice pozemku v metrech. Pomocí lichoběžníkové integrace zjistěte rozlohu pozemku v metrech čtverečních. Data také naleznete v souboru pozemek.txt.\n",
    "\n",
    "<table>\n",
    "    <thead style=\"background-color:#444444;\">\n",
    "        <td>x</td><td>y</td>\n",
    "    </thead>\n",
    "    <tr>\n",
    "        <td>0</td><td>125</td>\n",
    "    </tr>\n",
    "    <tr>\n",
    "        <td>100</td><td>125</td>\n",
    "    </tr>\n",
    "    <tr>\n",
    "        <td>200</td><td>120</td>\n",
    "    </tr>\n",
    "    <tr>\n",
    "        <td>300</td><td>112</td>\n",
    "    </tr>\n",
    "    <tr>\n",
    "        <td>400</td><td>90</td>\n",
    "    </tr>\n",
    "    <tr>\n",
    "        <td>500</td><td>90</td>\n",
    "    </tr>\n",
    "    <tr>\n",
    "        <td>600</td><td>95</td>\n",
    "    </tr>\n",
    "    <tr>\n",
    "        <td>700</td><td>88</td>\n",
    "    </tr>\n",
    "    <tr>\n",
    "        <td>800</td><td>75</td>\n",
    "    </tr>\n",
    "    <tr>\n",
    "        <td>900</td><td>35</td>\n",
    "    </tr>\n",
    "    <tr>\n",
    "        <td>1000</td><td>0</td>\n",
    "    </tr>\n",
    "\n",
    "</table>"
   ]
  },
  {
   "cell_type": "markdown",
   "metadata": {},
   "source": [
    "#### DCv.11.3: Rombergova integrace\n",
    "\n",
    "Jeden ze způsobů jak zvětšit přenost intergrace je Richardsonova extrapolace (RE). Cílem RE je zlepšit integrační přenost eliminací chyb. Rombergova integrace (také známo jako Rombergova kvadratura) je metoda, která zlepšuje výsledek lichoběžníkové integrace odstraněním chyb Richardsonovou extrapolací. Pochopení metody vyžaduje mentální uchopení konceptu rekurze. Pročtěte si následující zdroje a projděte si kód s implementovanou Rombergovou integrací, který jsme pro vás připravili.\n",
    "\n",
    "Zdroje k samostudiu: [CZ](http://physics.ujep.cz/~mlisal/nm_1/jskvor/PDF/IntegralRomberg.pdf) [EN](https://towardsdatascience.com/numerical-integration-romberg-integration-3f54002ab538)\n"
   ]
  },
  {
   "cell_type": "code",
   "execution_count": null,
   "metadata": {},
   "outputs": [],
   "source": [
    "def romberg(a, b, i, j):\n",
    "    if j == 0:\n",
    "        n = 2**i\n",
    "        dx = (b-a)/n\n",
    "        return np.trapz(f(np.linspace(a, b, n)), dx=dx)\n",
    "    if 0 < j <= i:\n",
    "        return romberg(a, b, i, j-1) + (romberg(a, b, i, j-1) - romberg(a, b, i-1, j-1))/(4**j - 1)\n",
    "\n",
    "print(romberg(a, b, i=10, j=5))"
   ]
  }
 ],
 "metadata": {
  "interpreter": {
   "hash": "8ea797b3d7c6dd450b280358d309ea312ee6ecf4480496ce6e4e6602d49e2c56"
  },
  "kernelspec": {
   "display_name": "Python 3.9.7 64-bit ('.venv': venv)",
   "language": "python",
   "name": "python3"
  },
  "language_info": {
   "codemirror_mode": {
    "name": "ipython",
    "version": 3
   },
   "file_extension": ".py",
   "mimetype": "text/x-python",
   "name": "python",
   "nbconvert_exporter": "python",
   "pygments_lexer": "ipython3",
   "version": "3.8.9"
  },
  "orig_nbformat": 4
 },
 "nbformat": 4,
 "nbformat_minor": 2
}
