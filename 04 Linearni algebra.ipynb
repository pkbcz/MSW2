{
 "cells": [
  {
   "attachments": {},
   "cell_type": "markdown",
   "metadata": {},
   "source": [
    "# Lineární algebra\n"
   ]
  },
  {
   "cell_type": "code",
   "execution_count": null,
   "metadata": {},
   "outputs": [],
   "source": [
    "!python -m pip install numpy"
   ]
  },
  {
   "cell_type": "code",
   "execution_count": null,
   "metadata": {},
   "outputs": [],
   "source": [
    "!python -m pip install scipy"
   ]
  },
  {
   "cell_type": "code",
   "execution_count": 13,
   "metadata": {},
   "outputs": [],
   "source": [
    "#pro apple silicon architektury\n",
    "#!python -m pip install --pre -i https://pypi.anaconda.org/scipy-wheels-nightly/simple scipy"
   ]
  },
  {
   "cell_type": "markdown",
   "metadata": {},
   "source": [
    "#### Co známe:\n",
    "- pole numpy\n",
    "  - konverze seznam - pole (np.array, list)\n",
    "  - přičtení skaláru a násobení skalárem\n",
    "  - sčítání a násobení polí\n",
    "  - tvar a jeho změna (shape, reshape)\n",
    "  - broadcasting (např. matice + vektor)\n",
    "  - tvoření matic pomocí funkcí\n",
    "  - maticové násobení\n",
    "  - práce se soubory\n",
    "- základy lineární algebry\n",
    "  - determinant\n",
    "  - hodnost\n",
    "  - stopa\n",
    "  - inverze"
   ]
  },
  {
   "cell_type": "markdown",
   "metadata": {},
   "source": [
    "## Vektory"
   ]
  },
  {
   "cell_type": "markdown",
   "metadata": {},
   "source": [
    "### 1: Reprezentace vektoru"
   ]
  },
  {
   "cell_type": "code",
   "execution_count": 1,
   "metadata": {},
   "outputs": [
    {
     "name": "stdout",
     "output_type": "stream",
     "text": [
      "součin složek: [4, 6, 2]\n",
      "součin složek: [4 6 2]\n"
     ]
    }
   ],
   "source": [
    "import numpy as np\n",
    "\n",
    "# naivní způsob\n",
    "a = [1, 3, 2]\n",
    "b = [4, 2, 1]\n",
    "soucin = [a[i] * b[i] for i in range(min(len(a), len(b)))]\n",
    "print(\"součin složek:\", soucin)\n",
    "\n",
    "# numpy\n",
    "a = np.array([1, 3, 2])\n",
    "b = np.array([4, 2, 1])\n",
    "soucin = a * b\n",
    "print(\"součin složek:\", soucin)"
   ]
  },
  {
   "cell_type": "markdown",
   "metadata": {},
   "source": [
    "### 2: Práce s vektory"
   ]
  },
  {
   "cell_type": "code",
   "execution_count": 2,
   "metadata": {},
   "outputs": [
    {
     "name": "stdout",
     "output_type": "stream",
     "text": [
      "[0.5 1.5 1. ]\n"
     ]
    }
   ],
   "source": [
    "# škálování vektoru (násobení skalárem)\n",
    "alfa = 0.5\n",
    "a = np.array([1, 3, 2])\n",
    "print(alfa*a)"
   ]
  },
  {
   "cell_type": "code",
   "execution_count": 16,
   "metadata": {},
   "outputs": [
    {
     "name": "stdout",
     "output_type": "stream",
     "text": [
      "[5 5 3]\n"
     ]
    }
   ],
   "source": [
    "# sčítání vektorů\n",
    "a = np.array([1, 3, 2])\n",
    "b = np.array([4, 2, 1])\n",
    "print(a+b)"
   ]
  },
  {
   "cell_type": "code",
   "execution_count": 17,
   "metadata": {},
   "outputs": [
    {
     "name": "stdout",
     "output_type": "stream",
     "text": [
      "[4 6 2]\n"
     ]
    }
   ],
   "source": [
    "# násobení složek vektorů\n",
    "a = np.array([1, 3, 2])\n",
    "b = np.array([4, 2, 1])\n",
    "print(a*b)"
   ]
  },
  {
   "cell_type": "code",
   "execution_count": 18,
   "metadata": {},
   "outputs": [
    {
     "name": "stdout",
     "output_type": "stream",
     "text": [
      "[0.25 1.5  2.  ]\n"
     ]
    }
   ],
   "source": [
    "# podíl složek vektorů\n",
    "a = np.array([1, 3, 2])\n",
    "b = np.array([4, 2, 1])\n",
    "print(a/b)"
   ]
  },
  {
   "cell_type": "markdown",
   "metadata": {},
   "source": [
    "#### Generování vektoru\n",
    "- ekvidistantní (numpy.arange)\n",
    "- náhodná celá čísla (numpy.random.randint)\n",
    "- náhodná desetinná čísla (numpy.random.random)\n",
    "- náhodná čísla z normálního rozdělení (numpy.random.randn)\n",
    "- ..."
   ]
  },
  {
   "cell_type": "code",
   "execution_count": 3,
   "metadata": {},
   "outputs": [
    {
     "name": "stdout",
     "output_type": "stream",
     "text": [
      "[ 4  6  8 10 12 14]\n"
     ]
    }
   ],
   "source": [
    "# generovani ekvidistantního vektoru\n",
    "zacatek = 4\n",
    "konec = 16\n",
    "inkrement = 2\n",
    "ekvidistantni_vektor = np.arange(zacatek, konec, inkrement)\n",
    "print(ekvidistantni_vektor)"
   ]
  },
  {
   "cell_type": "code",
   "execution_count": 20,
   "metadata": {},
   "outputs": [
    {
     "name": "stdout",
     "output_type": "stream",
     "text": [
      "[4 3 3 2 4 4 4 1 3 2]\n"
     ]
    }
   ],
   "source": [
    "# generování náhodného vektoru celých čísel\n",
    "nahodny_vektor = np.random.randint(1, 5, size=10)       # 10 čísel 1 až 4\n",
    "print(nahodny_vektor)"
   ]
  },
  {
   "cell_type": "code",
   "execution_count": 21,
   "metadata": {},
   "outputs": [
    {
     "name": "stdout",
     "output_type": "stream",
     "text": [
      "[0.81898072 0.7449855  0.74071673 0.66987502 0.09139195 0.86480551\n",
      " 0.77844311 0.65680169 0.76184794 0.08237183]\n"
     ]
    }
   ],
   "source": [
    "# generování náhodného vektoru desetinných čísel\n",
    "nahodny_vektor = np.random.random(10)                   # od 0 do 1\n",
    "print(nahodny_vektor)"
   ]
  },
  {
   "cell_type": "code",
   "execution_count": 2,
   "metadata": {},
   "outputs": [
    {
     "name": "stdout",
     "output_type": "stream",
     "text": [
      "mean:  -0.051573683932249044 stdev: 1.0082885306986011\n"
     ]
    }
   ],
   "source": [
    "# generování náhodného vektoru ze standardního rozdělení\n",
    "nahodny_vektor = np.random.randn(100)                   # N(0, 1)\n",
    "stredni_hodnota = nahodny_vektor.mean()\n",
    "smerodatna_odchylka = nahodny_vektor.std()\n",
    "print(\"mean: \", stredni_hodnota, \"stdev:\", smerodatna_odchylka)\n"
   ]
  },
  {
   "cell_type": "code",
   "execution_count": 3,
   "metadata": {},
   "outputs": [
    {
     "data": {
      "image/png": "[encoded data removed]",
      "text/plain": [
       "<Figure size 1000x400 with 2 Axes>"
      ]
     },
     "metadata": {},
     "output_type": "display_data"
    }
   ],
   "source": [
    "import matplotlib.pyplot as plt\n",
    "r_int = np.random.randint(1, 11, size=1000)         # 1000 čísel 1 až 10\n",
    "r_flt = np.random.random(1000)                      # 1000 čísel od 0 do 1\n",
    "r_norm = np.random.randn(100)                       # 100 čísel N(0, 1)\n",
    "\n",
    "# Histogram\n",
    "plt.figure(figsize=(10, 4))\n",
    "\n",
    "# levý graf\n",
    "plt.subplot(1, 2, 1)            \n",
    "plt.hist(r_int, bins=30, density=True, color='skyblue', edgecolor='black')  # int\n",
    "plt.hist(r_flt*10, bins=30, density=True, color='red', edgecolor='black')   # float\n",
    "\n",
    "# pravý graf\n",
    "plt.subplot(1, 2, 2)\n",
    "plt.hist(r_norm, bins=30, density=True, color='blue', edgecolor='black')    # Gauss\n",
    "plt.show()"
   ]
  },
  {
   "cell_type": "markdown",
   "metadata": {},
   "source": [
    "#### Ověření, že data odpovídají rozdělení\n",
    "scipy.stats.probplot \n",
    "- vizualizace a analýza, zda data pocházejí z určitého teoretického rozdělení\n",
    "- vytváří Q-Q plot (quantile-quantile plot) - porovnává kvantily vstupních dat s kvantily teoretického rozdělení"
   ]
  },
  {
   "cell_type": "code",
   "execution_count": 11,
   "metadata": {},
   "outputs": [
    {
     "data": {
      "image/png": "[encoded data removed]",
      "text/plain": [
       "<Figure size 1000x400 with 2 Axes>"
      ]
     },
     "metadata": {},
     "output_type": "display_data"
    }
   ],
   "source": [
    "import numpy as np\n",
    "import matplotlib.pyplot as plt\n",
    "import scipy.stats as stats\n",
    "\n",
    "# Generování náhodných dat z normálního rozdělení\n",
    "data = np.random.normal(loc=0, scale=1, size=10000)\n",
    "\n",
    "# Histogram\n",
    "plt.figure(figsize=(10, 4))\n",
    "plt.subplot(1, 2, 1)\n",
    "plt.hist(data, bins=30, density=True, color='skyblue', edgecolor='black')\n",
    "plt.title('Histogram')\n",
    "\n",
    "# Graf Q-Q\n",
    "plt.subplot(1, 2, 2)\n",
    "stats.probplot(data, dist=\"norm\", plot=plt)\n",
    "plt.title('Q-Q plot')\n",
    "#stats.probplot(data, dist=stats.loggamma, sparams=(2.5,), plot=plt)\n",
    "\n",
    "plt.tight_layout()\n",
    "plt.show()"
   ]
  },
  {
   "attachments": {},
   "cell_type": "markdown",
   "metadata": {},
   "source": [
    "### 3: Skalární součin\n",
    "\n",
    "\n",
    "<!--img src=\"MS4_soubory/skalarni_soucin.png\" alt=\"Drawing\" style=\"width: 550px;\"/-->"
   ]
  },
  {
   "cell_type": "markdown",
   "metadata": {},
   "source": [
    "$$\n",
    "\\begin{align}\n",
    "S&=a⋅b=a_1b_1+a_2b_2+a_3b_3 \\\\\n",
    "S&=a⋅b=|a| |b| cos(\\phi), \\quad \\quad \\phi ∈ <0, \\pi>\n",
    "\\end{align}\n",
    "$$"
   ]
  },
  {
   "cell_type": "code",
   "execution_count": 7,
   "metadata": {},
   "outputs": [
    {
     "name": "stdout",
     "output_type": "stream",
     "text": [
      "12\n",
      "12\n",
      "12\n"
     ]
    }
   ],
   "source": [
    "a = np.array([1, 3, 2])\n",
    "b = np.array([4, 2, 1])\n",
    "\n",
    "print(np.dot(a, b))\n",
    "print(a.dot(b))\n",
    "print(a @ b)\n"
   ]
  },
  {
   "cell_type": "markdown",
   "metadata": {},
   "source": [
    "Skalární násobení se používá i pro maticové násobení (viz dále)\n",
    "- matice . matice\n",
    "- matice . vektor"
   ]
  },
  {
   "cell_type": "code",
   "execution_count": 8,
   "metadata": {},
   "outputs": [
    {
     "name": "stdout",
     "output_type": "stream",
     "text": [
      "3.7416573867739413\n",
      "3.7416573867739413\n"
     ]
    }
   ],
   "source": [
    "#velikost vektoru pomoci skalarniho soucinu\n",
    "a = np.array([1, 3, 2])\n",
    "\n",
    "velikost = np.sqrt(a.dot(a))\n",
    "print(velikost)\n",
    "\n",
    "velikost = np.linalg.norm(a)\n",
    "print(velikost)"
   ]
  },
  {
   "attachments": {},
   "cell_type": "markdown",
   "metadata": {},
   "source": [
    "### 4: Vektorový součin\n",
    "\n",
    "\n",
    "<!--img src=\"MS4_soubory/vektorovy_soucin.png\" alt=\"Drawing\" style=\"width: 600px;\"/-->"
   ]
  },
  {
   "cell_type": "markdown",
   "metadata": {},
   "source": [
    "$$\n",
    "\\begin{align}\n",
    "\n",
    "\\mathbf{c} &= \\mathbf{a} \\times \\mathbf{b} \\\\\n",
    "\n",
    "\\mathbf{c} &= \\begin{vmatrix}\n",
    "\\mathbf{i} & \\mathbf{j} & \\mathbf{k} \\\\\n",
    "a_1 & a_2 & a_3 \\\\\n",
    "b_1 & b_2 & b_3 \\\\\n",
    "\\end{vmatrix}\n",
    "\n",
    "= \\left( \\left| \\begin{matrix} a_2 & a_3 \\\\ b_2 & b_3 \\end{matrix} \\right|, \\left| \\begin{matrix} a_3 & a_1 \\\\ b_3 & b_1 \\end{matrix} \\right|, \\left| \\begin{matrix} a_1 & a_2 \\\\ b_1 & b_2 \\end{matrix} \\right| \\right)\n",
    "\n",
    "\\end{align}\n",
    "\n",
    "$$"
   ]
  },
  {
   "cell_type": "code",
   "execution_count": 9,
   "metadata": {},
   "outputs": [
    {
     "name": "stdout",
     "output_type": "stream",
     "text": [
      "[ -1   7 -10]\n"
     ]
    }
   ],
   "source": [
    "a = np.array([1, 3, 2])\n",
    "b = np.array([4, 2, 1])\n",
    "\n",
    "vektorovy_soucin = np.cross(a, b)\n",
    "print(vektorovy_soucin)"
   ]
  },
  {
   "attachments": {},
   "cell_type": "markdown",
   "metadata": {},
   "source": [
    "### 5: Tenzorový součin\n",
    "\n",
    "$$\n",
    "\\mathbf{a} \\otimes \\mathbf{b} = \\mathbf{a} \\mathbf{b} = \\begin{pmatrix}\n",
    "a_1 b_1 & a_1 b_2 & \\cdots & a_1 b_n \\\\\n",
    "a_2 b_1 & a_2 b_2 & \\cdots & a_2 b_n \\\\\n",
    "\\vdots & \\vdots & \\ddots & \\vdots \\\\\n",
    "a_m b_1 & a_m b_2 & \\cdots & a_m b_n \\\\\n",
    "\\end{pmatrix}\n",
    "$$\n",
    "\n",
    "<!--img src=\"MS4_soubory/tenzorovy_soucin.png\" alt=\"Drawing\" style=\"width: 600px;\"/-->"
   ]
  },
  {
   "cell_type": "code",
   "execution_count": 10,
   "metadata": {},
   "outputs": [
    {
     "name": "stdout",
     "output_type": "stream",
     "text": [
      "[[ 4  2  1]\n",
      " [12  6  3]\n",
      " [ 8  4  2]]\n"
     ]
    }
   ],
   "source": [
    "a = np.array([1, 3, 2])\n",
    "b = np.array([4, 2, 1])\n",
    "\n",
    "tenzorovy_soucin = np.tensordot(a, b, axes=0)\n",
    "print(tenzorovy_soucin)"
   ]
  },
  {
   "cell_type": "markdown",
   "metadata": {},
   "source": [
    "## Matice"
   ]
  },
  {
   "cell_type": "markdown",
   "metadata": {},
   "source": [
    "### 6: Práce s maticí"
   ]
  },
  {
   "cell_type": "code",
   "execution_count": 11,
   "metadata": {},
   "outputs": [
    {
     "name": "stdout",
     "output_type": "stream",
     "text": [
      "[[1 2 3]\n",
      " [4 5 6]\n",
      " [7 8 9]]\n"
     ]
    }
   ],
   "source": [
    "#standardni zpusob vytvareni matic\n",
    "matice = np.array([\n",
    "    [1, 2, 3], \n",
    "    [4, 5, 6], \n",
    "    [7, 8, 9]\n",
    "])\n",
    "print(matice)"
   ]
  },
  {
   "cell_type": "code",
   "execution_count": 30,
   "metadata": {},
   "outputs": [
    {
     "name": "stdout",
     "output_type": "stream",
     "text": [
      "[[1. 1. 1.]\n",
      " [1. 1. 1.]\n",
      " [1. 1. 1.]\n",
      " [1. 1. 1.]]\n"
     ]
    }
   ],
   "source": [
    "# matice plná jedniček\n",
    "nradku = 4\n",
    "nsloupcu = 3\n",
    "matice_jednicky = np.ones((nradku, nsloupcu))\n",
    "print(matice_jednicky)"
   ]
  },
  {
   "cell_type": "code",
   "execution_count": 31,
   "metadata": {},
   "outputs": [
    {
     "name": "stdout",
     "output_type": "stream",
     "text": [
      "[[0. 0. 0.]\n",
      " [0. 0. 0.]\n",
      " [0. 0. 0.]\n",
      " [0. 0. 0.]]\n"
     ]
    }
   ],
   "source": [
    "# matice plná nul\n",
    "nradku = 4\n",
    "nsloupcu = 3\n",
    "matice_nuly = np.zeros((nradku, nsloupcu))\n",
    "print(matice_nuly)"
   ]
  },
  {
   "cell_type": "code",
   "execution_count": 32,
   "metadata": {},
   "outputs": [
    {
     "name": "stdout",
     "output_type": "stream",
     "text": [
      "[[5. 5. 5.]\n",
      " [5. 5. 5.]\n",
      " [5. 5. 5.]\n",
      " [5. 5. 5.]]\n"
     ]
    }
   ],
   "source": [
    "# matice plná libovolné hodnoty\n",
    "nradku = 4\n",
    "nsloupcu = 3\n",
    "matice = np.full((nradku, nsloupcu), 5, dtype='float')\n",
    "print(matice)"
   ]
  },
  {
   "cell_type": "code",
   "execution_count": 12,
   "metadata": {},
   "outputs": [
    {
     "name": "stdout",
     "output_type": "stream",
     "text": [
      "tvar:  (3, 4) velikost:  12 \n",
      " [[ 1  2  3  4]\n",
      " [ 5  6  7  8]\n",
      " [ 9 10 11 12]]\n",
      "tvar:  (2, 6) velikost:  12 \n",
      " [[ 1  2  3  4  5  6]\n",
      " [ 7  8  9 10 11 12]]\n"
     ]
    }
   ],
   "source": [
    "# změna tvaru matice\n",
    "matice = np.array([\n",
    "    [1, 2, 3, 4], \n",
    "    [5, 6, 7, 8], \n",
    "    [9, 10, 11, 12]\n",
    "])\n",
    "stary_tvar = matice.shape\n",
    "stara_velikost = matice.size\n",
    "print(\"tvar: \", stary_tvar, \"velikost: \", stara_velikost, \"\\n\", matice)\n",
    "\n",
    "matice = matice.reshape(2, 6) #nebo matice.reshape(-1, 6), -1 znamena, ze dopocita pocet prvku v dimenzi za nas\n",
    "novy_tvar = matice.shape\n",
    "nova_velikost = matice.size\n",
    "print(\"tvar: \", novy_tvar, \"velikost: \", nova_velikost, \"\\n\", matice)"
   ]
  },
  {
   "cell_type": "code",
   "execution_count": 34,
   "metadata": {},
   "outputs": [
    {
     "name": "stdout",
     "output_type": "stream",
     "text": [
      "tvar:  (3, 4) velikost:  12 \n",
      " [[ 1  2  3  4]\n",
      " [ 5  6  7  8]\n",
      " [ 9 10 11 12]]\n",
      "tvar:  (12,) velikost:  12 \n",
      " [ 1  2  3  4  5  6  7  8  9 10 11 12]\n"
     ]
    }
   ],
   "source": [
    "# zploštění matice\n",
    "matice = np.array([\n",
    "    [1, 2, 3, 4], \n",
    "    [5, 6, 7, 8], \n",
    "    [9, 10, 11, 12]\n",
    "])\n",
    "stary_tvar = matice.shape\n",
    "stara_velikost = matice.size\n",
    "print(\"tvar: \", stary_tvar, \"velikost: \", stara_velikost, \"\\n\", matice)\n",
    "\n",
    "matice = matice.flatten()\n",
    "novy_tvar = matice.shape\n",
    "nova_velikost = matice.size\n",
    "print(\"tvar: \", novy_tvar, \"velikost: \", nova_velikost, \"\\n\", matice)"
   ]
  },
  {
   "cell_type": "code",
   "execution_count": 13,
   "metadata": {},
   "outputs": [
    {
     "name": "stdout",
     "output_type": "stream",
     "text": [
      "[ 1  2  3  4  5  6  7  8  9 10 11 12]\n",
      "[13  2  3  4  5  6  7  8  9 10 11 12]\n"
     ]
    }
   ],
   "source": [
    "# rozdíl mezi flatten a ravel\n",
    "matice = np.array([\n",
    "    [1, 2, 3, 4], \n",
    "    [5, 6, 7, 8], \n",
    "    [9, 10, 11, 12]\n",
    "])\n",
    "\n",
    "vektor_flatten = matice.flatten() #vraci kopii\n",
    "vektor_ravel = matice.ravel() #vraci jen jiny pohled na matici (zmeny v matici a vektoru jsou provazany v pameti)\n",
    "\n",
    "matice[0][0] = 13\n",
    "\n",
    "print(vektor_flatten)\n",
    "print(vektor_ravel)"
   ]
  },
  {
   "cell_type": "markdown",
   "metadata": {},
   "source": [
    "#### 7: Násobení matic"
   ]
  },
  {
   "cell_type": "code",
   "execution_count": 14,
   "metadata": {},
   "outputs": [
    {
     "name": "stdout",
     "output_type": "stream",
     "text": [
      "A shape: (3, 2) B shape:  (2, 3) C shape:  (3, 3)\n",
      "[[ 9 12 15]\n",
      " [19 26 33]\n",
      " [29 40 51]]\n"
     ]
    }
   ],
   "source": [
    "A = np.array([\n",
    "    [1, 2], \n",
    "    [3, 4], \n",
    "    [5, 6]\n",
    "])\n",
    "\n",
    "B = np.array([\n",
    "    [1, 2, 3], \n",
    "    [4, 5, 6]\n",
    "])\n",
    "\n",
    "C = A @ B                       # nebo C = np.matmul(A, B)\n",
    "\n",
    "print(\"A shape:\",A.shape,\"B shape: \", B.shape,\"C shape: \", C.shape)\n",
    "print(C)"
   ]
  },
  {
   "cell_type": "markdown",
   "metadata": {},
   "source": [
    "#### 8: Hodnost matice"
   ]
  },
  {
   "cell_type": "code",
   "execution_count": 37,
   "metadata": {},
   "outputs": [
    {
     "name": "stdout",
     "output_type": "stream",
     "text": [
      "3\n"
     ]
    }
   ],
   "source": [
    "matice = np.array([\n",
    "    [1, 2, 1], \n",
    "    [1, 1, 1], \n",
    "    [2, 2, 3]\n",
    "])\n",
    "\n",
    "hodnost = np.linalg.matrix_rank(matice)\n",
    "print(hodnost)"
   ]
  },
  {
   "cell_type": "code",
   "execution_count": 15,
   "metadata": {},
   "outputs": [
    {
     "name": "stdout",
     "output_type": "stream",
     "text": [
      "2\n"
     ]
    }
   ],
   "source": [
    "matice = np.array([\n",
    "    [1, 2, 1], \n",
    "    [1, 1, 1], \n",
    "    [2, 2, 2]\n",
    "])\n",
    "hodnost = np.linalg.matrix_rank(matice)\n",
    "print(hodnost)"
   ]
  },
  {
   "cell_type": "markdown",
   "metadata": {},
   "source": [
    "#### 9: Stopa matice\n",
    "Stopa (Trace) čtvercové matice $A(n,n)$ je číslo $tr A = a_{11}+a_{22}+...+a_{nn}$\n",
    "<!--img src=\"MS4_soubory/stopa.png\" alt=\"Drawing\" style=\"width: 600px;\"/-->"
   ]
  },
  {
   "cell_type": "code",
   "execution_count": 16,
   "metadata": {},
   "outputs": [
    {
     "name": "stdout",
     "output_type": "stream",
     "text": [
      "15\n",
      "7\n"
     ]
    }
   ],
   "source": [
    "matice = np.array([\n",
    "    [1, 2, 3], \n",
    "    [4, 5, 6],\n",
    "    [7, 8, 9]\n",
    "])\n",
    "\n",
    "stopa_matice = matice.trace()\n",
    "print(stopa_matice)\n",
    "\n",
    "matice = np.array([\n",
    "    [1, 2, 3, 4], \n",
    "    [5, 6, 7, 8]\n",
    "])\n",
    "print(matice.trace())"
   ]
  },
  {
   "cell_type": "markdown",
   "metadata": {},
   "source": [
    "#### 10: Transpozice matice\n"
   ]
  },
  {
   "cell_type": "code",
   "execution_count": 17,
   "metadata": {},
   "outputs": [
    {
     "name": "stdout",
     "output_type": "stream",
     "text": [
      "[[1 5]\n",
      " [2 6]\n",
      " [3 7]\n",
      " [4 8]]\n"
     ]
    },
    {
     "data": {
      "text/plain": [
       "array([[1, 5],\n",
       "       [2, 6],\n",
       "       [3, 7],\n",
       "       [4, 8]])"
      ]
     },
     "execution_count": 17,
     "metadata": {},
     "output_type": "execute_result"
    }
   ],
   "source": [
    "matice = np.array([\n",
    "    [1, 2, 3, 4], \n",
    "    [5, 6, 7, 8]\n",
    "])\n",
    "\n",
    "transponovana_matice = matice.transpose()\n",
    "print(transponovana_matice)\n",
    "matice.T"
   ]
  },
  {
   "cell_type": "markdown",
   "metadata": {},
   "source": [
    "#### 11: Inverzní matice\n",
    "\n",
    "$$\n",
    "\\text{Pro čtvercovou matici } A \\text{ platí: } A^{-1} \\text{ je inverzní matice, pokud } A \\cdot A^{-1} = A^{-1} \\cdot A = E\n",
    "$$\n",
    "\n",
    "<!--img src=\"MS4_soubory/inverzni_matice.png\" alt=\"Drawing\" style=\"width: 600px;\"/-->"
   ]
  },
  {
   "cell_type": "code",
   "execution_count": 18,
   "metadata": {},
   "outputs": [],
   "source": [
    "A = np.array([\n",
    "    [1, 2, -1], \n",
    "    [2, 0, 1],\n",
    "    [1, -2, 1]\n",
    "])"
   ]
  },
  {
   "cell_type": "code",
   "execution_count": 42,
   "metadata": {},
   "outputs": [
    {
     "name": "stdout",
     "output_type": "stream",
     "text": [
      "[[1. 0. 0.]\n",
      " [0. 1. 0.]\n",
      " [0. 0. 1.]]\n"
     ]
    }
   ],
   "source": [
    "#jednotkova matice\n",
    "E = np.eye(3)\n",
    "print(E)"
   ]
  },
  {
   "cell_type": "code",
   "execution_count": 19,
   "metadata": {},
   "outputs": [
    {
     "name": "stdout",
     "output_type": "stream",
     "text": [
      "[[ 0.5   0.    0.5 ]\n",
      " [-0.25  0.5  -0.75]\n",
      " [-1.    1.   -1.  ]]\n"
     ]
    }
   ],
   "source": [
    "# inverzní matice\n",
    "X = np.linalg.inv(A)\n",
    "print(X)"
   ]
  },
  {
   "cell_type": "code",
   "execution_count": 22,
   "metadata": {},
   "outputs": [
    {
     "name": "stdout",
     "output_type": "stream",
     "text": [
      "[[1. 0. 0.]\n",
      " [0. 1. 0.]\n",
      " [0. 0. 1.]]\n"
     ]
    },
    {
     "data": {
      "text/plain": [
       "array([[1., 0., 0.],\n",
       "       [0., 1., 0.],\n",
       "       [0., 0., 1.]])"
      ]
     },
     "execution_count": 22,
     "metadata": {},
     "output_type": "execute_result"
    }
   ],
   "source": [
    "# kontrola\n",
    "print(np.matmul(A, X))\n",
    "A @ X"
   ]
  },
  {
   "cell_type": "markdown",
   "metadata": {},
   "source": [
    "Výpočet pomocí Gaussovy eliminace"
   ]
  },
  {
   "cell_type": "code",
   "execution_count": 23,
   "metadata": {},
   "outputs": [
    {
     "name": "stdout",
     "output_type": "stream",
     "text": [
      "Inverzní matice:\n",
      "[[-0.29299363  0.29936306  0.25477707]\n",
      " [ 0.08917197  0.08280255 -0.12101911]\n",
      " [ 0.17197452 -0.19745223 -0.01910828]]\n",
      "[[-0.29299363  0.29936306  0.25477707]\n",
      " [ 0.08917197  0.08280255 -0.12101911]\n",
      " [ 0.17197452 -0.19745223 -0.01910828]]\n"
     ]
    }
   ],
   "source": [
    "import numpy as np\n",
    "\n",
    "def gaussian_elimination(A):\n",
    "    n = len(A)\n",
    "    AE = np.hstack((A, np.eye(n)))      # rozšíření matice A o jednotkovou matici\n",
    "\n",
    "    # redukce matice na horní trojúhelníkovou matici\n",
    "    for i in range(n):\n",
    "        pivot_row = i\n",
    "        for j in range(i+1, n):\n",
    "            if abs(AE[j, i]) > abs(AE[pivot_row, i]):\n",
    "                pivot_row = j\n",
    "        AE[[i, pivot_row]] = AE[[pivot_row, i]]     # zamění řádky\n",
    "\n",
    "        for j in range(i+1, n):\n",
    "            factor = AE[j, i] / AE[i, i]\n",
    "            AE[j] -= factor * AE[i]\n",
    "\n",
    "    # normalizace řádků matice na jednotkovou diagonálu\n",
    "    for i in range(n-1, -1, -1):\n",
    "        AE[i] /= AE[i, i]\n",
    "        for j in range(i-1, -1, -1):\n",
    "            factor = AE[j, i] / AE[i, i]\n",
    "            AE[j] -= factor * AE[i]\n",
    "\n",
    "    inverse_matrix = AE[:, n:]      # extrahování inverzní matice z rozšířené matice\n",
    "    return inverse_matrix\n",
    "\n",
    "# Příklad použití\n",
    "A = np.array([[4, 7, 9],\n",
    "              [3, 6, 2],\n",
    "              [5, 1, 8]], dtype=float)\n",
    "\n",
    "inverse = gaussian_elimination(A)\n",
    "\n",
    "print(\"Inverzní matice:\")\n",
    "print(inverse)\n",
    "print(np.linalg.inv(A))             # kontrola výsledku pomocí numpy funkce\n"
   ]
  },
  {
   "cell_type": "markdown",
   "metadata": {},
   "source": [
    "## Determinanty"
   ]
  },
  {
   "cell_type": "markdown",
   "metadata": {},
   "source": [
    "#### 12: Determinant\n",
    "\n",
    "Pro čtvercovou matici $A = [a_{ij}]$ řádu $n$ je determinant definován jako:\n",
    "$$\n",
    "\\det(A) = \\sum_{\\sigma \\in S_n} \\text{sgn}(\\sigma) \\cdot a_{1\\sigma(1)} \\cdot a_{2\\sigma(2)} \\cdot \\ldots \\cdot a_{n\\sigma(n)}\n",
    "$$\n",
    "- kde $\\sigma$ jsou permutace indexů $1, 2, \\ldots, n$ (závorka značí odpovídající prvek)\n",
    "- $S_n$ je množina všech těchto permutací $\\sigma$\n",
    "- $\\text{sgn}(\\sigma) = (-1)^r$ je znaménko permutace $\\sigma $ ($r$ je počet inverzí v permutaci)\n",
    "\n",
    "Pro matici $3×3$:\n",
    "\n",
    "$$\n",
    "\\begin{align}\n",
    "\\det(A) &= \\left| \\begin{matrix}\n",
    "a_{11} & a_{12} & a_{13} \\\\\n",
    "a_{21} & a_{22} & a_{23} \\\\\n",
    "a_{31} & a_{32} & a_{33} \\\\\n",
    "\\end{matrix} \\right|\n",
    "\n",
    "\n",
    "= \\sum_{\\sigma \\in S_3} \\text{sgn}(\\sigma) \\cdot a_{1\\sigma(1)} \\cdot a_{2\\sigma(2)} \\cdot a_{3\\sigma(3)}\n",
    "\\\\\n",
    "\\det(A) &= \n",
    "a_{11} a_{22} a_{33} + a_{12} a_{23} a_{31} + a_{13} a_{21} a_{32} - a_{13} a_{22} a_{31} - a_{11} a_{23} a_{32} - a_{12} a_{21} a_{33}\n",
    "\\end{align}\n",
    "$$\n",
    "\n",
    "<!--img src=\"MS4_soubory/determinant.png\" alt=\"Drawing\" style=\"width: 600px;\"/-->"
   ]
  },
  {
   "cell_type": "markdown",
   "metadata": {},
   "source": [
    "##### Příklad\n",
    "\n",
    "<font color=\"green\">Máme tři body v rovině - A, B a C. Určete, zda tyto body leží na jedné přímce nebo ne.</font>\n",
    "$$\n"
   ]
  },
  {
   "cell_type": "code",
   "execution_count": 24,
   "metadata": {},
   "outputs": [
    {
     "name": "stdout",
     "output_type": "stream",
     "text": [
      "Body A, B a C nejsou kolineární.\n"
     ]
    }
   ],
   "source": [
    "import numpy as np\n",
    "\n",
    "A = np.array([1, 2])                                            # Souřadnice bodů A, B a C\n",
    "B = np.array([3, 4])\n",
    "C = np.array([5, 6])\n",
    "\n",
    "points_matrix = np.vstack((A, B, C))                            # Vytvoření matice z bodů A, B a C (matice 3×2)\n",
    "\n",
    "points_matrix = np.hstack((points_matrix, np.ones((3, 1))))     # Doplnění třetího sloupce matice, aby byla čtvercová (jako homogenní souřadnice)\n",
    "\n",
    "determinant = np.linalg.det(points_matrix)                      # Výpočet determinantu matice\n",
    "\n",
    "if determinant == 0:                                            # Určení, zda body A, B a C leží na jedné přímce\n",
    "    print(\"Body A, B a C jsou kolineární.\")\n",
    "else:\n",
    "    print(\"Body A, B a C nejsou kolineární.\")\n"
   ]
  },
  {
   "cell_type": "code",
   "execution_count": 47,
   "metadata": {},
   "outputs": [
    {
     "name": "stdout",
     "output_type": "stream",
     "text": [
      "0.0\n"
     ]
    }
   ],
   "source": [
    "A = np.array([\n",
    "    [1, 2, 3], \n",
    "    [4, 5, 6],\n",
    "    [7, 8, 9]\n",
    "])\n",
    "\n",
    "det = np.linalg.det(A)\n",
    "print(det)"
   ]
  },
  {
   "cell_type": "markdown",
   "metadata": {},
   "source": [
    "#### 13: Cramerovo pravidlo\n",
    "\n",
    "Cramerovo pravidlo:\n",
    "1. Mějme soustavu $n$ lineárních rovnic s $n$ neznámými: \n",
    "\n",
    "\n",
    "\\begin{align*}\n",
    "a_{11}x_1 + a_{12}x_2 + \\ldots + a_{1n}x_n &= b_1 \\\\\n",
    "a_{21}x_1 + a_{22}x_2 + \\ldots + a_{2n}x_n &= b_2 \\\\\n",
    "&\\vdots \\\\\n",
    "a_{n1}x_1 + a_{n2}x_2 + \\ldots + a_{nn}x_n &= b_n \\\\\n",
    "\\end{align*}\n",
    "\n",
    "\n",
    "2. Definujeme determinant matice soustavy jako $D$, a to tak, že každý prvek $a_{ij}$ matice odpovídá koeficientu u příslušné neznámé v $i$-té rovnici soustavy.\n",
    "\n",
    "3. Pro každou neznámou $x_i$ vypočítáme determinant $D_i$, který získáme tak, že v matici $D$ nahradíme $i$-tý sloupec pravými stranami soustavy ($b_1, b_2, \\ldots, b_n$).\n",
    "\n",
    "4. Pokud je $D≠0$, má soustava právě jedno řešení $x_1, ..., x_n$. Hodnoty řešení $x_i$ jsou dány podílem $D_i$ a $D$: \n",
    "\n",
    "$$\n",
    "x_i = \\frac{D_i}{D}\n",
    "$$\n",
    "\n",
    "\n",
    "<!--img src=\"MS4_soubory/cramerovo_pravidlo.png\" alt=\"Drawing\" style=\"width: 500px;\"/-->"
   ]
  },
  {
   "cell_type": "markdown",
   "metadata": {},
   "source": [
    "##### Příklad\n",
    "\n",
    "<font color=\"green\">Pomocí Cramerova pravidla spočítejte řešení</font> $x_1, x_2, x_3$ <font color=\"green\">následující soustavy:</font>\n",
    "$$\n",
    "\\begin{align}\n",
    "3x_1 &+2x_2 +x_3 &=5 \\\\\n",
    "2x_1 &+3x_2 +x_3 &=1 \\\\\n",
    "2x_1 &+x_2 +3x_3 &=11\n",
    "\\end{align}\n",
    "$$"
   ]
  },
  {
   "cell_type": "code",
   "execution_count": 25,
   "metadata": {},
   "outputs": [
    {
     "name": "stdout",
     "output_type": "stream",
     "text": [
      "Řešení soustavy: [ 2. -2.  3.]\n"
     ]
    }
   ],
   "source": [
    "import numpy as np\n",
    "\n",
    "def cramer_rule(A, b):\n",
    "    n = len(b)                              # Počet neznámých\n",
    "    x = np.zeros(n)                         # Inicializace vektoru neznámých\n",
    "    det_A = np.linalg.det(A)                # Výpočet determinantu původní matice A\n",
    "    \n",
    "    for i in range(n):                      # Pro každou neznámou použijeme Cramerovo pravidlo\n",
    "        Ai = A.copy()                       # Kopie původní matice A (vysvětlete, proč)\n",
    "        Ai[:, i] = b                        # Nahrazení i-tého sloupce vektorem pravých stran\n",
    "        det_Ai = np.linalg.det(Ai)          # Výpočet determinantu matice Ai\n",
    "        x[i] = det_Ai / det_A               # Výpočet i-té neznámé pomocí Cramerova pravidla\n",
    "    return x\n",
    "\n",
    "# Příklad: soustava rovnic\n",
    "A = np.array([                              # matice soustavy\n",
    "    [3, 2, 1], \n",
    "    [2, 3, 1],\n",
    "    [2, 1, 3]\n",
    "])\n",
    "b = np.array([5, 1, 11])                    # vektor pravých stran\n",
    "\n",
    "\n",
    "x = cramer_rule(A, b)                       # Řešení soustavy rovnic pomocí Cramerova pravidla\n",
    "print(\"Řešení soustavy:\", x)\n"
   ]
  },
  {
   "cell_type": "markdown",
   "metadata": {},
   "source": [
    "Jiný způsob: \n",
    "- chceme prohazovat sloupce; vytvoříme tedy masku pro jednotlivé sloupce\n",
    "- vyjádříme vektory obsahující v jednotlivých sloupcích jedničky"
   ]
  },
  {
   "cell_type": "code",
   "execution_count": 26,
   "metadata": {},
   "outputs": [
    {
     "name": "stdout",
     "output_type": "stream",
     "text": [
      "[[1 0 0]\n",
      " [0 1 0]\n",
      " [0 0 1]]\n"
     ]
    },
    {
     "data": {
      "text/plain": [
       "array([[[1, 0, 0],\n",
       "        [0, 1, 0],\n",
       "        [0, 0, 1]],\n",
       "\n",
       "       [[1, 0, 0],\n",
       "        [0, 1, 0],\n",
       "        [0, 0, 1]],\n",
       "\n",
       "       [[1, 0, 0],\n",
       "        [0, 1, 0],\n",
       "        [0, 0, 1]]])"
      ]
     },
     "metadata": {},
     "output_type": "display_data"
    },
    {
     "data": {
      "text/plain": [
       "array([[[1, 0, 0],\n",
       "        [1, 0, 0],\n",
       "        [1, 0, 0]],\n",
       "\n",
       "       [[0, 1, 0],\n",
       "        [0, 1, 0],\n",
       "        [0, 1, 0]],\n",
       "\n",
       "       [[0, 0, 1],\n",
       "        [0, 0, 1],\n",
       "        [0, 0, 1]]])"
      ]
     },
     "metadata": {},
     "output_type": "display_data"
    }
   ],
   "source": [
    "# Vytvoření masky\n",
    "E = np.diag([1,1,1])\n",
    "print(E)                                 # vytvoření jednotkové matice\n",
    "krychle = np.broadcast_to(E, [3,3,3])    # rozšíření na matici 3x3x3 (vektor 3 jednotkových matic)\n",
    "display(krychle)\n",
    "# představíme si jako krychli; při přehození os můžeme mít sloupcové vektory jedniček a nul\n",
    "display(krychle.swapaxes(0, 1))\n",
    "# krychle.swapaxes(0, 2)                  # maska pro řádky (nepotřebujeme)\n",
    "\n",
    "# celý postup zapsaný pomocí kompaktně:\n",
    "mask = np.broadcast_to(np.diag([1,1,1]), [3, 3, 3]).swapaxes(0, 1)"
   ]
  },
  {
   "cell_type": "code",
   "execution_count": 27,
   "metadata": {},
   "outputs": [
    {
     "name": "stdout",
     "output_type": "stream",
     "text": [
      "[1 1 1 2 2 2 3 3 3]\n",
      "[[1 1 1]\n",
      " [2 2 2]\n",
      " [3 3 3]]\n",
      "[[1 1 1]\n",
      " [2 2 2]\n",
      " [3 3 3]]\n"
     ]
    }
   ],
   "source": [
    "# Vektor pravých stran rozšíříme na matici 3×3\n",
    "def rozsir(b, n):\n",
    "    print(np.repeat(b, n))                      # opakuje jednotlivé prvky vektoru b (3x)\n",
    "    print(np.repeat(b, n).reshape(n, n))\n",
    "    #print(np.tile(b, (1, n)).reshape(n, n))     # podobný postup pro řádky\n",
    "    print(np.broadcast_to(b, [n, n]).T)         # jiný postup\n",
    "# Vyzkoušíme na příkladu\n",
    "vect = np.array([1, 2, 3])\n",
    "rozsir(vect, 3)"
   ]
  },
  {
   "cell_type": "code",
   "execution_count": 28,
   "metadata": {},
   "outputs": [
    {
     "name": "stdout",
     "output_type": "stream",
     "text": [
      "[[[ 5  2  1]\n",
      "  [ 1  3  1]\n",
      "  [11  1  3]]\n",
      "\n",
      " [[ 3  5  1]\n",
      "  [ 2  1  1]\n",
      "  [ 2 11  3]]\n",
      "\n",
      " [[ 3  2  5]\n",
      "  [ 2  3  1]\n",
      "  [ 2  1 11]]]\n"
     ]
    }
   ],
   "source": [
    "A = np.array([                          # matice soustavy\n",
    "    [3, 2, 1], \n",
    "    [2, 3, 1],\n",
    "    [2, 1, 3]\n",
    "])\n",
    "b = np.array([5, 1, 11])                # vektor pravých stran\n",
    "\n",
    "n = A.shape[1]                          # počet sloupců\n",
    "\n",
    "# nejdříve vytvoříme matici rozšířením vektoru pravých stran\n",
    "b3x3 = np.repeat(b, n).reshape(n, n)\n",
    "\n",
    "# zkombinujeme obě matice podle podmínky (masky)\n",
    "Ai = np.where(mask, b3x3, A)              # mask jsou 3 matice 3x3\n",
    "print(Ai)"
   ]
  },
  {
   "cell_type": "code",
   "execution_count": 29,
   "metadata": {},
   "outputs": [],
   "source": [
    "# Kompaktní zápis téhož\n",
    "mask = np.broadcast_to(np.diag([1,1,1]), [3, 3, 3]).swapaxes(0, 1)\n",
    "b3x3 = np.repeat(b, n).reshape(n, n)\n",
    "Ai = np.where(mask, b3x3, A)"
   ]
  },
  {
   "cell_type": "code",
   "execution_count": 30,
   "metadata": {},
   "outputs": [
    {
     "name": "stdout",
     "output_type": "stream",
     "text": [
      "Řešení: [ 2. -2.  3.]\n"
     ]
    }
   ],
   "source": [
    "# Výpočet řešení\n",
    "x = np.linalg.det(Ai) / np.linalg.det(A)\n",
    "print(\"Řešení:\", x)"
   ]
  },
  {
   "cell_type": "markdown",
   "metadata": {},
   "source": [
    "#### 14: Gaussova eliminační metoda"
   ]
  },
  {
   "cell_type": "markdown",
   "metadata": {},
   "source": [
    "1. **Zápis matice rozšířené soustavy**: Ve formátu $ [A | \\mathbf{b}] $, kde $ A $ je matice koeficientů a $ \\mathbf{b} $ vektor pravých stran\n",
    "\n",
    "2. **Přímá eliminace**: Postupné elementární úpravy matice pro převedení na horní trojúhelníkový tvar. Požadujeme nejprve nuly v 1. sloupci pod 1. prvkem, potom podobně pro ostatní sloupce\n",
    "\n",
    "3. **Zpětná substituce**: Nalezení hodnot neznámých, začneme poslední rovnicí a pokračujeme nahoru"
   ]
  },
  {
   "cell_type": "code",
   "execution_count": 31,
   "metadata": {},
   "outputs": [
    {
     "data": {
      "text/plain": [
       "array([[  2.,   1.,  -1.,   8.],\n",
       "       [ -3.,  -1.,   2., -11.],\n",
       "       [ -2.,   1.,   2.,  -3.]])"
      ]
     },
     "metadata": {},
     "output_type": "display_data"
    },
    {
     "data": {
      "text/plain": [
       "array([[ 2. ,  1. , -1. ,  8. ],\n",
       "       [ 0. ,  0.5,  0.5,  1. ],\n",
       "       [ 0. ,  0. , -1. ,  1. ]])"
      ]
     },
     "metadata": {},
     "output_type": "display_data"
    },
    {
     "name": "stdout",
     "output_type": "stream",
     "text": [
      "Řešení soustavy: [ 2.  3. -1.]\n",
      "Ověření: [ 2.  3. -1.]\n"
     ]
    }
   ],
   "source": [
    "import numpy as np\n",
    "\n",
    "def gaussian_elimination(A, b):\n",
    "    n = len(A)\n",
    "    \n",
    "    # Rozšířená matice - kmbinace matice A s vektorem b\n",
    "    Ab = np.column_stack((A, b)).astype(np.float64)  # Přetypování na float64\n",
    "    display(Ab)                     # původní rozšířená matice\n",
    "\n",
    "    # Přímá eliminace\n",
    "    for i in range(n):\n",
    "        # Eliminace prvků pod pivotem\n",
    "        if Ab[i, i] == 0.0:\n",
    "            print('Dělení nulou!')\n",
    "        for j in range(i + 1, n):\n",
    "            ratio = Ab[j, i] / Ab[i, i]\n",
    "            Ab[j] -= ratio * Ab[i]  # for k in range(n+1): Ab[j][k] = Ab[j][k] - ratio * Ab[i][k]\n",
    "    display(Ab)                     # rozšířená matice v horním trojúhelníkovém tvaru\n",
    "\n",
    "    # Zpětná substituce\n",
    "    x = np.zeros(n)\n",
    "    for i in range(n - 1, -1, -1):\n",
    "        x[i] = (Ab[i, -1] - np.dot(Ab[i, :-1], x)) / Ab[i, i]\n",
    "    \n",
    "    return x\n",
    "\n",
    "# Příklad použití\n",
    "A = np.array([[2, 1, -1],\n",
    "              [-3, -1, 2],\n",
    "              [-2, 1, 2]])\n",
    "b = np.array([8, -11, -3])\n",
    "\n",
    "solution = gaussian_elimination(A, b)\n",
    "print(\"Řešení soustavy:\", solution)\n",
    "print(\"Ověření:\", np.linalg.solve(A, b))"
   ]
  },
  {
   "cell_type": "markdown",
   "metadata": {},
   "source": [
    "##### LU dekompozice\n",
    "LU dekompozice (Lower-Upper), rozložení čtvercové matice $A$ na součin dvou matic $L$ a $U$, kde $L$ je dolní trojúhelníková matice s jednotkovou diagonálou a $U$ je horní trojúhelníková matice\n",
    "\n",
    "Jediná přímá iterační metoda v modulech pythonu, komplikovanější verze Gaussovy eliminační metody.\n",
    "\n",
    "- Matice $A$ se postupně transformuje na tvar horní trojúhelníkové matice $U$ pomocí Gaussovy eliminace\n",
    "- Současně se ukládají faktory, které byly použity pro transformaci, do dolní trojúhelníkové matice $L$\n"
   ]
  },
  {
   "cell_type": "code",
   "execution_count": 32,
   "metadata": {},
   "outputs": [
    {
     "name": "stdout",
     "output_type": "stream",
     "text": [
      "Permutační matice P:\n",
      "[[0. 0. 1.]\n",
      " [1. 0. 0.]\n",
      " [0. 1. 0.]]\n",
      "\n",
      "Dolní trojúhelníková matice L:\n",
      "[[ 1.          0.          0.        ]\n",
      " [ 0.66666667  1.          0.        ]\n",
      " [-0.66666667  0.2         1.        ]]\n",
      "\n",
      "Horní trojúhelníková matice U:\n",
      "[[-3.         -1.          2.        ]\n",
      " [ 0.          1.66666667  0.66666667]\n",
      " [ 0.          0.          0.2       ]]\n",
      "[[-3. -1.  2.]\n",
      " [-2.  1.  2.]\n",
      " [ 2.  1. -1.]]\n"
     ]
    }
   ],
   "source": [
    "import numpy as np\n",
    "from scipy.linalg import lu\n",
    "\n",
    "# Příklad matice\n",
    "A = np.array([[2, 1, -1],\n",
    "              [-3, -1, 2],\n",
    "              [-2, 1, 2]])\n",
    "\n",
    "# LU dekompozice\n",
    "P, L, U = lu(A)\n",
    "\n",
    "print(\"Permutační matice P:\")\n",
    "print(P)\n",
    "print(\"\\nDolní trojúhelníková matice L:\")\n",
    "print(L)\n",
    "print(\"\\nHorní trojúhelníková matice U:\")\n",
    "print(U)\n",
    "print(L@U)"
   ]
  },
  {
   "cell_type": "code",
   "execution_count": 56,
   "metadata": {},
   "outputs": [
    {
     "name": "stdout",
     "output_type": "stream",
     "text": [
      "Původní matice A:\n",
      "[[ 2  1 -1]\n",
      " [-3 -1  2]\n",
      " [-2  1  2]]\n",
      "\n",
      "Zrekonstruovaná matice A:\n",
      "[[ 2.  1. -1.]\n",
      " [-3. -1.  2.]\n",
      " [-2.  1.  2.]]\n"
     ]
    }
   ],
   "source": [
    "# Získání původní matice A\n",
    "print(\"Původní matice A:\")\n",
    "print(A)\n",
    "print(\"\\nZrekonstruovaná matice A:\")\n",
    "print(P @ L @ U)"
   ]
  },
  {
   "cell_type": "code",
   "execution_count": 33,
   "metadata": {},
   "outputs": [
    {
     "name": "stdout",
     "output_type": "stream",
     "text": [
      "[ 7.11111111 -3.22222222]\n"
     ]
    }
   ],
   "source": [
    "#LU dekompozice - zakladni metoda linalg.solve\n",
    "A = np.array([\n",
    "    [2, 1], \n",
    "    [5, 7]\n",
    "])\n",
    "b = np.array([11, 13])\n",
    "\n",
    "x = np.linalg.solve(A, b)\n",
    "print(x)"
   ]
  },
  {
   "cell_type": "markdown",
   "metadata": {},
   "source": [
    "#### 15: Iterační metody\n",
    "##### Rozložení matice na diagonální a trojúhelníkové"
   ]
  },
  {
   "cell_type": "code",
   "execution_count": 34,
   "metadata": {},
   "outputs": [],
   "source": [
    "import numpy as np\n",
    "A = np.array([\n",
    "    [3, 2, 1], \n",
    "    [2, 3, 1],\n",
    "    [2, 1, 3]\n",
    "])"
   ]
  },
  {
   "cell_type": "code",
   "execution_count": 59,
   "metadata": {},
   "outputs": [
    {
     "name": "stdout",
     "output_type": "stream",
     "text": [
      "[3 3 3]\n"
     ]
    }
   ],
   "source": [
    "D = np.diag(A)\n",
    "print(D)"
   ]
  },
  {
   "cell_type": "code",
   "execution_count": 60,
   "metadata": {},
   "outputs": [
    {
     "name": "stdout",
     "output_type": "stream",
     "text": [
      "[[3 0 0]\n",
      " [2 3 0]\n",
      " [2 1 3]]\n"
     ]
    }
   ],
   "source": [
    "L = np.tril(A)\n",
    "print(L)"
   ]
  },
  {
   "cell_type": "code",
   "execution_count": 36,
   "metadata": {},
   "outputs": [
    {
     "name": "stdout",
     "output_type": "stream",
     "text": [
      "[[0 0]\n",
      " [5 0]]\n"
     ]
    }
   ],
   "source": [
    "L = np.tril(A, k = -1)\n",
    "# k určuje úroveň, nad kterou se provede výběr prvků (hlavní = 0)\n",
    "# záporné hodnoty umožňují výběr pod hlavní diagonálou\n",
    "print(L)"
   ]
  },
  {
   "cell_type": "code",
   "execution_count": 37,
   "metadata": {},
   "outputs": [
    {
     "name": "stdout",
     "output_type": "stream",
     "text": [
      "[[0 1]\n",
      " [0 0]]\n"
     ]
    }
   ],
   "source": [
    "U = np.triu(A, k = 1)\n",
    "print(U)"
   ]
  },
  {
   "cell_type": "markdown",
   "metadata": {},
   "source": [
    "Jacobiho metoda: \n",
    "$$\n",
    "\\Large\n",
    "x^{i+1}=D^{-1}[b-(L+U)x^i]\n",
    "$$\n",
    "<!--img src=\"MS4_soubory/jacobi_iterace.png\" alt=\"Drawing\" style=\"width: 300px;\"/-->"
   ]
  },
  {
   "cell_type": "code",
   "execution_count": 38,
   "metadata": {},
   "outputs": [
    {
     "name": "stdout",
     "output_type": "stream",
     "text": [
      "iterace: 0 x= [5.         1.14285714]\n",
      "iterace: 1 x= [ 4.92857143 -1.71428571]\n",
      "iterace: 2 x= [ 6.35714286 -1.66326531]\n",
      "iterace: 3 x= [ 6.33163265 -2.68367347]\n",
      "iterace: 4 x= [ 6.84183673 -2.6654519 ]\n",
      "iterace: 5 x= [ 6.83272595 -3.02988338]\n",
      "iterace: 6 x= [ 7.01494169 -3.02337568]\n",
      "iterace: 7 x= [ 7.01168784 -3.15352978]\n",
      "iterace: 8 x= [ 7.07676489 -3.1512056 ]\n",
      "iterace: 9 x= [ 7.0756028  -3.19768921]\n",
      "iterace: 10 x= [ 7.0988446  -3.19685914]\n",
      "iterace: 11 x= [ 7.09842957 -3.21346043]\n",
      "iterace: 12 x= [ 7.10673022 -3.21316398]\n",
      "iterace: 13 x= [ 7.10658199 -3.21909301]\n",
      "iterace: 14 x= [ 7.10954651 -3.21898714]\n",
      "iterace: 15 x= [ 7.10949357 -3.22110465]\n",
      "iterace: 16 x= [ 7.11055232 -3.22106683]\n",
      "iterace: 17 x= [ 7.11053342 -3.22182309]\n",
      "iterace: 18 x= [ 7.11091154 -3.22180958]\n",
      "iterace: 19 x= [ 7.11090479 -3.22207967]\n",
      "řešení:  [ 7.11090479 -3.22207967]\n"
     ]
    }
   ],
   "source": [
    "def jacobi(A, b, niteraci, x0=np.ones(len(A))):\n",
    "    x = x0\n",
    "    D = np.diag(A)\n",
    "    L = np.tril(A, k = -1)\n",
    "    U = np.triu(A, k = 1)\n",
    "    for i in range(niteraci):\n",
    "        x = (b - (L + U) @ x)/D         # nebo x = (b - np.matmul((L + U),x))/D\n",
    "        print(\"iterace:\", i, \"x=\", x)\n",
    "    return x\n",
    "\n",
    "A = np.array([\n",
    "    [2, 1], \n",
    "    [5, 7]\n",
    "])\n",
    "b = np.array([11, 13])\n",
    "\n",
    "x = jacobi(A, b, 20)\n",
    "print(\"řešení: \", x)"
   ]
  },
  {
   "cell_type": "markdown",
   "metadata": {},
   "source": [
    "Gaussovo-Seidelova metoda: \n",
    "$$\n",
    "\\Large\n",
    "\\begin{align}\n",
    "x^{i+1}=&(D+L)^{-1}[b-Ux^i] \\\\\n",
    "x^{i+1}=&L_0^{-1}[b-Ux^i]\n",
    "\\end{align}\n",
    "\n",
    "$$\n",
    "<!--img src=\"MS4_soubory/gauss_seidel_iterace.png\" alt=\"Drawing\" style=\"width: 300px;\"/-->"
   ]
  },
  {
   "cell_type": "code",
   "execution_count": 39,
   "metadata": {},
   "outputs": [
    {
     "name": "stdout",
     "output_type": "stream",
     "text": [
      "iterace: 0 x= [ 0.5        -0.86363636]\n",
      "iterace: 1 x= [ 0.84943182 -0.64127066]\n",
      "iterace: 2 x= [ 0.80773825 -0.66780293]\n",
      "iterace: 3 x= [ 0.81271305 -0.66463715]\n",
      "iterace: 4 x= [ 0.81211947 -0.66501489]\n",
      "iterace: 5 x= [ 0.81219029 -0.66496981]\n",
      "iterace: 6 x= [ 0.81218184 -0.66497519]\n",
      "iterace: 7 x= [ 0.81218285 -0.66497455]\n",
      "iterace: 8 x= [ 0.81218273 -0.66497463]\n",
      "iterace: 9 x= [ 0.81218274 -0.66497462]\n",
      "iterace: 10 x= [ 0.81218274 -0.66497462]\n",
      "iterace: 11 x= [ 0.81218274 -0.66497462]\n",
      "iterace: 12 x= [ 0.81218274 -0.66497462]\n",
      "iterace: 13 x= [ 0.81218274 -0.66497462]\n",
      "iterace: 14 x= [ 0.81218274 -0.66497462]\n",
      "iterace: 15 x= [ 0.81218274 -0.66497462]\n",
      "iterace: 16 x= [ 0.81218274 -0.66497462]\n",
      "iterace: 17 x= [ 0.81218274 -0.66497462]\n",
      "iterace: 18 x= [ 0.81218274 -0.66497462]\n",
      "iterace: 19 x= [ 0.81218274 -0.66497462]\n",
      "[ 0.81218274 -0.66497462]\n"
     ]
    }
   ],
   "source": [
    "def gauss_seidel(A, b, niteraci, x0=np.ones(len(A))):\n",
    "    x = x0\n",
    "    U = np.triu(A, k = 1)\n",
    "    L0 = np.tril(A, k = 0)                  # D + L\n",
    "    L0i = np.linalg.inv(L0)\n",
    "    T = -L0i @ U                            # T = -inv(L0) . U\n",
    "    C =  L0i @ b                            # C =  inv(L0) . b\n",
    "    for i in range(niteraci):\n",
    "        x = T @ x + C                       # x = inv(D+L).(b-U.x) => x = Tx + C\n",
    "        print(\"iterace:\",i, \"x=\",x)\n",
    "    return x\n",
    "\n",
    "A = np.array([\n",
    "    [16, 3], \n",
    "    [7, -11]\n",
    "])\n",
    "b = np.array([11, 13])\n",
    "\n",
    "x = gauss_seidel(A, b, 20)\n",
    "print(x)"
   ]
  },
  {
   "cell_type": "markdown",
   "metadata": {},
   "source": [
    "SOR metoda (Successive Over-Relaxation): \n",
    "- iterace zlepšena použitím předchozího odhadu a průběžného korekčního faktoru (superrelaxační parametr $\\omega$)\n",
    "- matice rozdělena na dvě části: diagonální matice a matici zbytku\n",
    "- pro výpočet nového řešení použity předchozí hodnoty a členy matice zbytku\n",
    "$$\n",
    "\\Large\n",
    "x^{i+1}=(1-\\omega)x^i+\\omega F(x^i)\n",
    "$$\n",
    "<!--img src=\"MS4_soubory/sor_iterace.png\" alt=\"Drawing\" style=\"width: 300px;\"/-->"
   ]
  },
  {
   "cell_type": "code",
   "execution_count": 40,
   "metadata": {},
   "outputs": [
    {
     "name": "stdout",
     "output_type": "stream",
     "text": [
      "iterace: 0 x= [ 0.5        -0.86363636]\n",
      "iterace: 1 x= [ 0.84943182 -0.64127066]\n",
      "iterace: 2 x= [ 0.80773825 -0.66780293]\n",
      "iterace: 3 x= [ 0.81271305 -0.66463715]\n",
      "iterace: 4 x= [ 0.81211947 -0.66501489]\n",
      "iterace: 5 x= [ 0.81219029 -0.66496981]\n",
      "iterace: 6 x= [ 0.81218184 -0.66497519]\n",
      "iterace: 7 x= [ 0.81218285 -0.66497455]\n",
      "iterace: 8 x= [ 0.81218273 -0.66497463]\n",
      "iterace: 9 x= [ 0.81218274 -0.66497462]\n",
      "[ 0.81218274 -0.66497462]\n",
      "iterace: 0 x= [ 0.55       -0.67727273]\n",
      "iterace: 1 x= [ 0.78803977 -0.66488378]\n",
      "iterace: 2 x= [ 0.80975312 -0.66497529]\n",
      "iterace: 3 x= [ 0.81193989 -0.66497461]\n",
      "iterace: 4 x= [ 0.81215846 -0.66497462]\n",
      "iterace: 5 x= [ 0.81218031 -0.66497462]\n",
      "iterace: 6 x= [ 0.8121825  -0.66497462]\n",
      "iterace: 7 x= [ 0.81218272 -0.66497462]\n",
      "iterace: 8 x= [ 0.81218274 -0.66497462]\n",
      "iterace: 9 x= [ 0.81218274 -0.66497462]\n",
      "[ 0.81218274 -0.66497462]\n"
     ]
    }
   ],
   "source": [
    "def sor(A, b, omega, niteraci, x0=np.ones(len(A))):\n",
    "    x = x0\n",
    "    U = np.triu(A, k = 1)\n",
    "    L0 = np.tril(A, k = 0)\n",
    "    L0i = np.linalg.inv(L0)          \n",
    "    T = -L0i @ U \n",
    "    C =  L0i @ b\n",
    "    for i in range(niteraci):\n",
    "        Fx = T @ x + C\n",
    "        delta_x = Fx - x\n",
    "        x = x + omega*delta_x\n",
    "        print(\"iterace:\", i, \"x=\",x)\n",
    "    return x\n",
    "\n",
    "\n",
    "A = np.array([\n",
    "    [16, 3], \n",
    "    [7, -11]\n",
    "])\n",
    "b = np.array([11, 13])\n",
    "\n",
    "x = gauss_seidel(A, b, 10, np.ones(len(A)))\n",
    "print(x)\n",
    "x = sor(A, b, 0.9, 10, np.ones(len(A)))\n",
    "print(x)"
   ]
  },
  {
   "cell_type": "markdown",
   "metadata": {},
   "source": [
    "## Symbolické výpočty"
   ]
  },
  {
   "cell_type": "markdown",
   "metadata": {},
   "source": [
    "#### 16: Symbolická matematika a matice"
   ]
  },
  {
   "cell_type": "code",
   "execution_count": null,
   "metadata": {},
   "outputs": [],
   "source": [
    "!python -m pip install sympy"
   ]
  },
  {
   "cell_type": "code",
   "execution_count": 41,
   "metadata": {},
   "outputs": [],
   "source": [
    "import sympy"
   ]
  },
  {
   "cell_type": "code",
   "execution_count": 42,
   "metadata": {},
   "outputs": [
    {
     "name": "stdout",
     "output_type": "stream",
     "text": [
      "⎡1  -1⎤\n",
      "⎢     ⎥\n",
      "⎣3  4 ⎦\n"
     ]
    },
    {
     "data": {
      "text/latex": [
       "$\\displaystyle \\left[\\begin{matrix}1 & -1\\\\3 & 4\\end{matrix}\\right]$"
      ],
      "text/plain": [
       "Matrix([\n",
       "[1, -1],\n",
       "[3,  4]])"
      ]
     },
     "metadata": {},
     "output_type": "display_data"
    }
   ],
   "source": [
    "#reprezentace matic v sympy\n",
    "A = sympy.Matrix([\n",
    "    [1, -1],\n",
    "    [3, 4]\n",
    "])\n",
    "sympy.pprint(A)             # \"pretty\" print (text)\n",
    "display(A)"
   ]
  },
  {
   "cell_type": "code",
   "execution_count": 43,
   "metadata": {},
   "outputs": [
    {
     "data": {
      "text/latex": [
       "$\\displaystyle \\left[\\begin{matrix}1 & 0 & 0\\\\0 & 2 & 0\\\\0 & 0 & 3\\end{matrix}\\right]$"
      ],
      "text/plain": [
       "Matrix([\n",
       "[1, 0, 0],\n",
       "[0, 2, 0],\n",
       "[0, 0, 3]])"
      ]
     },
     "execution_count": 43,
     "metadata": {},
     "output_type": "execute_result"
    }
   ],
   "source": [
    "# speciální matice\n",
    "D = sympy.diag(1,2,3)           # diagonální\n",
    "D"
   ]
  },
  {
   "cell_type": "code",
   "execution_count": 44,
   "metadata": {},
   "outputs": [
    {
     "data": {
      "text/latex": [
       "$\\displaystyle \\left[\\begin{matrix}\\frac{4}{7} & \\frac{1}{7}\\\\- \\frac{3}{7} & \\frac{1}{7}\\end{matrix}\\right]$"
      ],
      "text/plain": [
       "Matrix([\n",
       "[ 4/7, 1/7],\n",
       "[-3/7, 1/7]])"
      ]
     },
     "metadata": {},
     "output_type": "display_data"
    },
    {
     "data": {
      "text/latex": [
       "$\\displaystyle \\left[\\begin{matrix}\\frac{4}{7} & \\frac{1}{7}\\\\- \\frac{3}{7} & \\frac{1}{7}\\end{matrix}\\right]$"
      ],
      "text/plain": [
       "Matrix([\n",
       "[ 4/7, 1/7],\n",
       "[-3/7, 1/7]])"
      ]
     },
     "metadata": {},
     "output_type": "display_data"
    }
   ],
   "source": [
    "# operace nad maticí, inverze\n",
    "A = sympy.Matrix([\n",
    "    [1, -1],\n",
    "    [3, 4]\n",
    "])\n",
    "display(A.inv())\n",
    "display(A**-1)"
   ]
  },
  {
   "cell_type": "code",
   "execution_count": null,
   "metadata": {},
   "outputs": [
    {
     "data": {
      "text/latex": [
       "$\\displaystyle \\left[\\begin{matrix}1 & 3 & 0\\\\-1 & 4 & 2\\end{matrix}\\right]$"
      ],
      "text/plain": [
       "Matrix([\n",
       "[ 1, 3, 0],\n",
       "[-1, 4, 2]])"
      ]
     },
     "execution_count": 46,
     "metadata": {},
     "output_type": "execute_result"
    }
   ],
   "source": [
    "# transpozice\n",
    "A = sympy.Matrix([\n",
    "    [1, -1],\n",
    "    [3, 4],\n",
    "    [0, 2]\n",
    "])\n",
    "A.T"
   ]
  },
  {
   "cell_type": "code",
   "execution_count": null,
   "metadata": {},
   "outputs": [
    {
     "data": {
      "text/latex": [
       "$\\displaystyle \\left[\\begin{matrix}1 & -1\\\\10 & 10\\\\3 & 4\\\\0 & 2\\end{matrix}\\right]$"
      ],
      "text/plain": [
       "Matrix([\n",
       "[ 1, -1],\n",
       "[10, 10],\n",
       "[ 3,  4],\n",
       "[ 0,  2]])"
      ]
     },
     "execution_count": 48,
     "metadata": {},
     "output_type": "execute_result"
    }
   ],
   "source": [
    "# vložení vektoru do matice\n",
    "A = sympy.Matrix([\n",
    "    [1, -1],\n",
    "    [3, 4],\n",
    "    [0, 2]\n",
    "])\n",
    "v = sympy.Matrix([[10, 10]])        # musí to být řádek\n",
    "A = A.row_insert(1, v)              # na 2. pozici\n",
    "A"
   ]
  },
  {
   "cell_type": "code",
   "execution_count": 45,
   "metadata": {},
   "outputs": [
    {
     "data": {
      "text/latex": [
       "$\\displaystyle 7$"
      ],
      "text/plain": [
       "7"
      ]
     },
     "execution_count": 45,
     "metadata": {},
     "output_type": "execute_result"
    }
   ],
   "source": [
    "# determinant\n",
    "A = sympy.Matrix([\n",
    "    [1, -1],\n",
    "    [3, 4],\n",
    "])\n",
    "A.det()"
   ]
  },
  {
   "cell_type": "markdown",
   "metadata": {},
   "source": [
    "##### Diagonalizace matice\n",
    "čtvercové matici $A$ se říká diagonizovatelná, pokud je podobná diagonální matici $D$ \n",
    "- tj. pokud existuje taková regulární matice $P$, pro kterou $A = PDP^−1$\n",
    "\n",
    "Vlastnosti $P$:\n",
    "- každý sloupec odpovídá vlastnímu vektoru\n",
    "\n",
    "Vlastnosti $D$:\n",
    "- na diagonále obsahuje vlastní čísla\n",
    "  - v tom řádku a sloupci, kde odpovídající sloupec v $P$ obsahuje příslušný vlastní vektor"
   ]
  },
  {
   "cell_type": "code",
   "execution_count": 46,
   "metadata": {},
   "outputs": [
    {
     "data": {
      "text/latex": [
       "$\\displaystyle \\left[\\begin{matrix}-1 & 1 & 1\\\\0 & - \\sqrt{2} & \\sqrt{2}\\\\1 & 1 & 1\\end{matrix}\\right]$"
      ],
      "text/plain": [
       "Matrix([\n",
       "[-1,        1,       1],\n",
       "[ 0, -sqrt(2), sqrt(2)],\n",
       "[ 1,        1,       1]])"
      ]
     },
     "metadata": {},
     "output_type": "display_data"
    },
    {
     "data": {
      "text/latex": [
       "$\\displaystyle \\left[\\begin{matrix}-1 & 0 & 0\\\\0 & 1 - \\sqrt{2} & 0\\\\0 & 0 & 1 + \\sqrt{2}\\end{matrix}\\right]$"
      ],
      "text/plain": [
       "Matrix([\n",
       "[-1,           0,           0],\n",
       "[ 0, 1 - sqrt(2),           0],\n",
       "[ 0,           0, 1 + sqrt(2)]])"
      ]
     },
     "metadata": {},
     "output_type": "display_data"
    },
    {
     "data": {
      "text/latex": [
       "$\\displaystyle \\left[\\begin{matrix}0 & - \\frac{\\sqrt{2} \\left(1 - \\sqrt{2}\\right)}{4} + \\frac{\\sqrt{2} \\left(1 + \\sqrt{2}\\right)}{4} & 1\\\\- \\frac{\\sqrt{2} \\left(1 - \\sqrt{2}\\right)}{4} + \\frac{\\sqrt{2} \\left(1 + \\sqrt{2}\\right)}{4} & 1 & - \\frac{\\sqrt{2} \\left(1 - \\sqrt{2}\\right)}{4} + \\frac{\\sqrt{2} \\left(1 + \\sqrt{2}\\right)}{4}\\\\1 & - \\frac{\\sqrt{2} \\left(1 - \\sqrt{2}\\right)}{4} + \\frac{\\sqrt{2} \\left(1 + \\sqrt{2}\\right)}{4} & 0\\end{matrix}\\right]$"
      ],
      "text/plain": [
       "Matrix([\n",
       "[                                                 0, -sqrt(2)*(1 - sqrt(2))/4 + sqrt(2)*(1 + sqrt(2))/4,                                                  1],\n",
       "[-sqrt(2)*(1 - sqrt(2))/4 + sqrt(2)*(1 + sqrt(2))/4,                                                  1, -sqrt(2)*(1 - sqrt(2))/4 + sqrt(2)*(1 + sqrt(2))/4],\n",
       "[                                                 1, -sqrt(2)*(1 - sqrt(2))/4 + sqrt(2)*(1 + sqrt(2))/4,                                                  0]])"
      ]
     },
     "metadata": {},
     "output_type": "display_data"
    },
    {
     "data": {
      "text/latex": [
       "$\\displaystyle \\left[\\begin{matrix}0 & 1 & 1\\\\1 & 1 & 1\\\\1 & 1 & 0\\end{matrix}\\right]$"
      ],
      "text/plain": [
       "Matrix([\n",
       "[0, 1, 1],\n",
       "[1, 1, 1],\n",
       "[1, 1, 0]])"
      ]
     },
     "execution_count": 46,
     "metadata": {},
     "output_type": "execute_result"
    }
   ],
   "source": [
    "# diagonalizace - vrací n-tici P, D, kde D je diagonální a A = P.D.P-1\n",
    "A = sympy.Matrix([\n",
    "    [0, 1, 1],\n",
    "    [1, 1, 1],\n",
    "    [1, 1, 0],\n",
    "])\n",
    "P, D = A.diagonalize()\n",
    "B = P*D*P**-1\n",
    "display(P)\n",
    "display(D)              # diagonální\n",
    "display(B)              # má být původní\n",
    "sympy.simplify(B)       # po zjednodušení je původní"
   ]
  },
  {
   "cell_type": "code",
   "execution_count": 47,
   "metadata": {},
   "outputs": [
    {
     "data": {
      "text/latex": [
       "$\\displaystyle \\left[\\begin{matrix}1 & 0 & 0 & 0\\\\0 & \\frac{2}{3} + \\left(- \\frac{1}{2} - \\frac{\\sqrt{3} i}{2}\\right) \\sqrt[3]{\\frac{7}{54} + \\frac{7 \\sqrt{3} i}{18}} + \\frac{7}{9 \\left(- \\frac{1}{2} - \\frac{\\sqrt{3} i}{2}\\right) \\sqrt[3]{\\frac{7}{54} + \\frac{7 \\sqrt{3} i}{18}}} & 0 & 0\\\\0 & 0 & \\frac{2}{3} + \\frac{7}{9 \\left(- \\frac{1}{2} + \\frac{\\sqrt{3} i}{2}\\right) \\sqrt[3]{\\frac{7}{54} + \\frac{7 \\sqrt{3} i}{18}}} + \\left(- \\frac{1}{2} + \\frac{\\sqrt{3} i}{2}\\right) \\sqrt[3]{\\frac{7}{54} + \\frac{7 \\sqrt{3} i}{18}} & 0\\\\0 & 0 & 0 & \\frac{2}{3} + \\frac{7}{9 \\sqrt[3]{\\frac{7}{54} + \\frac{7 \\sqrt{3} i}{18}}} + \\sqrt[3]{\\frac{7}{54} + \\frac{7 \\sqrt{3} i}{18}}\\end{matrix}\\right]$"
      ],
      "text/plain": [
       "Matrix([\n",
       "[1,                                                                                                                     0,                                                                                                                     0,                                                                           0],\n",
       "[0, 2/3 + (-1/2 - sqrt(3)*I/2)*(7/54 + 7*sqrt(3)*I/18)**(1/3) + 7/(9*(-1/2 - sqrt(3)*I/2)*(7/54 + 7*sqrt(3)*I/18)**(1/3)),                                                                                                                     0,                                                                           0],\n",
       "[0,                                                                                                                     0, 2/3 + 7/(9*(-1/2 + sqrt(3)*I/2)*(7/54 + 7*sqrt(3)*I/18)**(1/3)) + (-1/2 + sqrt(3)*I/2)*(7/54 + 7*sqrt(3)*I/18)**(1/3),                                                                           0],\n",
       "[0,                                                                                                                     0,                                                                                                                     0, 2/3 + 7/(9*(7/54 + 7*sqrt(3)*I/18)**(1/3)) + (7/54 + 7*sqrt(3)*I/18)**(1/3)]])"
      ]
     },
     "metadata": {},
     "output_type": "display_data"
    },
    {
     "data": {
      "text/latex": [
       "$\\displaystyle \\left[\\begin{matrix}1 & \\frac{- \\sqrt{3} - \\frac{13 \\sqrt[3]{2} i \\left(7 + 21 \\sqrt{3} i\\right)^{\\frac{2}{3}}}{18} - \\frac{2 \\sqrt{3} \\sqrt[3]{98} \\left(1 + 3 \\sqrt{3} i\\right)^{\\frac{2}{3}}}{9} - \\frac{5 \\cdot 2^{\\frac{2}{3}} \\sqrt{3} \\sqrt[3]{7 + 21 \\sqrt{3} i}}{6} - \\frac{2^{\\frac{2}{3}} i \\sqrt[3]{7 + 21 \\sqrt{3} i}}{2} + \\frac{2 \\sqrt[3]{98} i \\left(1 + 3 \\sqrt{3} i\\right)^{\\frac{2}{3}}}{9} + 5 i + \\frac{7 \\sqrt[3]{2} \\sqrt{3} \\left(7 + 21 \\sqrt{3} i\\right)^{\\frac{2}{3}}}{18}}{\\sqrt{3} - 5 i} & \\frac{- \\sqrt{3} - \\frac{5 \\sqrt[3]{2} \\sqrt{3} \\left(7 + 21 \\sqrt{3} i\\right)^{\\frac{2}{3}}}{18} - 2 i - \\frac{5 \\cdot 2^{\\frac{2}{3}} \\sqrt{3} \\sqrt[3]{7 + 21 \\sqrt{3} i}}{12} - \\frac{2^{\\frac{2}{3}} i \\sqrt[3]{7 + 21 \\sqrt{3} i}}{4} - \\frac{\\sqrt[3]{2} i \\left(7 + 21 \\sqrt{3} i\\right)^{\\frac{2}{3}}}{9} + \\frac{\\sqrt[3]{98} i \\left(1 + 3 \\sqrt{3} i\\right)^{\\frac{2}{3}}}{9} + \\frac{\\sqrt{3} \\sqrt[3]{98} \\left(1 + 3 \\sqrt{3} i\\right)^{\\frac{2}{3}}}{9}}{\\sqrt{3} + 2 i} & 1 + \\frac{7}{3 \\sqrt[3]{\\frac{7}{54} + \\frac{7 \\sqrt{3} i}{18}}} - \\left(\\frac{2}{3} + \\frac{7}{9 \\sqrt[3]{\\frac{7}{54} + \\frac{7 \\sqrt{3} i}{18}}} + \\sqrt[3]{\\frac{7}{54} + \\frac{7 \\sqrt{3} i}{18}}\\right)^{2} + 3 \\sqrt[3]{\\frac{7}{54} + \\frac{7 \\sqrt{3} i}{18}}\\\\-1 & \\frac{\\frac{2 \\sqrt{3}}{3} - \\frac{2 \\sqrt[3]{2} \\sqrt{3} \\left(7 + 21 \\sqrt{3} i\\right)^{\\frac{2}{3}}}{9} - \\frac{10 i}{3} - \\frac{2 \\sqrt[3]{98} i \\left(1 + 3 \\sqrt{3} i\\right)^{\\frac{2}{3}}}{9} + \\frac{2^{\\frac{2}{3}} \\sqrt{3} \\sqrt[3]{7 + 21 \\sqrt{3} i}}{3} + \\frac{2 \\cdot 2^{\\frac{2}{3}} i \\sqrt[3]{7 + 21 \\sqrt{3} i}}{3} + \\frac{2 \\sqrt{3} \\sqrt[3]{98} \\left(1 + 3 \\sqrt{3} i\\right)^{\\frac{2}{3}}}{9} + \\frac{5 \\sqrt[3]{2} i \\left(7 + 21 \\sqrt{3} i\\right)^{\\frac{2}{3}}}{9}}{\\sqrt{3} - 5 i} & \\frac{\\frac{2 \\sqrt{3}}{3} - \\frac{\\sqrt{3} \\sqrt[3]{98} \\left(1 + 3 \\sqrt{3} i\\right)^{\\frac{2}{3}}}{9} - \\frac{\\sqrt[3]{98} i \\left(1 + 3 \\sqrt{3} i\\right)^{\\frac{2}{3}}}{9} + \\frac{\\sqrt[3]{2} i \\left(7 + 21 \\sqrt{3} i\\right)^{\\frac{2}{3}}}{36} + \\frac{2^{\\frac{2}{3}} \\sqrt{3} \\sqrt[3]{7 + 21 \\sqrt{3} i}}{6} + \\frac{4 i}{3} + \\frac{2^{\\frac{2}{3}} i \\sqrt[3]{7 + 21 \\sqrt{3} i}}{3} + \\frac{7 \\sqrt[3]{2} \\sqrt{3} \\left(7 + 21 \\sqrt{3} i\\right)^{\\frac{2}{3}}}{36}}{\\sqrt{3} + 2 i} & - \\frac{4}{3} - 2 \\sqrt[3]{\\frac{7}{54} + \\frac{7 \\sqrt{3} i}{18}} + \\left(\\frac{2}{3} + \\frac{7}{9 \\sqrt[3]{\\frac{7}{54} + \\frac{7 \\sqrt{3} i}{18}}} + \\sqrt[3]{\\frac{7}{54} + \\frac{7 \\sqrt{3} i}{18}}\\right)^{2} - \\frac{14}{9 \\sqrt[3]{\\frac{7}{54} + \\frac{7 \\sqrt{3} i}{18}}}\\\\2 & 1 & 1 & 1\\\\3 & 1 & 1 & 1\\end{matrix}\\right]$"
      ],
      "text/plain": [
       "Matrix([\n",
       "[ 1,    (-sqrt(3) - 13*2**(1/3)*I*(7 + 21*sqrt(3)*I)**(2/3)/18 - 2*sqrt(3)*98**(1/3)*(1 + 3*sqrt(3)*I)**(2/3)/9 - 5*2**(2/3)*sqrt(3)*(7 + 21*sqrt(3)*I)**(1/3)/6 - 2**(2/3)*I*(7 + 21*sqrt(3)*I)**(1/3)/2 + 2*98**(1/3)*I*(1 + 3*sqrt(3)*I)**(2/3)/9 + 5*I + 7*2**(1/3)*sqrt(3)*(7 + 21*sqrt(3)*I)**(2/3)/18)/(sqrt(3) - 5*I),    (-sqrt(3) - 5*2**(1/3)*sqrt(3)*(7 + 21*sqrt(3)*I)**(2/3)/18 - 2*I - 5*2**(2/3)*sqrt(3)*(7 + 21*sqrt(3)*I)**(1/3)/12 - 2**(2/3)*I*(7 + 21*sqrt(3)*I)**(1/3)/4 - 2**(1/3)*I*(7 + 21*sqrt(3)*I)**(2/3)/9 + 98**(1/3)*I*(1 + 3*sqrt(3)*I)**(2/3)/9 + sqrt(3)*98**(1/3)*(1 + 3*sqrt(3)*I)**(2/3)/9)/(sqrt(3) + 2*I),     1 + 7/(3*(7/54 + 7*sqrt(3)*I/18)**(1/3)) - (2/3 + 7/(9*(7/54 + 7*sqrt(3)*I/18)**(1/3)) + (7/54 + 7*sqrt(3)*I/18)**(1/3))**2 + 3*(7/54 + 7*sqrt(3)*I/18)**(1/3)],\n",
       "[-1, (2*sqrt(3)/3 - 2*2**(1/3)*sqrt(3)*(7 + 21*sqrt(3)*I)**(2/3)/9 - 10*I/3 - 2*98**(1/3)*I*(1 + 3*sqrt(3)*I)**(2/3)/9 + 2**(2/3)*sqrt(3)*(7 + 21*sqrt(3)*I)**(1/3)/3 + 2*2**(2/3)*I*(7 + 21*sqrt(3)*I)**(1/3)/3 + 2*sqrt(3)*98**(1/3)*(1 + 3*sqrt(3)*I)**(2/3)/9 + 5*2**(1/3)*I*(7 + 21*sqrt(3)*I)**(2/3)/9)/(sqrt(3) - 5*I), (2*sqrt(3)/3 - sqrt(3)*98**(1/3)*(1 + 3*sqrt(3)*I)**(2/3)/9 - 98**(1/3)*I*(1 + 3*sqrt(3)*I)**(2/3)/9 + 2**(1/3)*I*(7 + 21*sqrt(3)*I)**(2/3)/36 + 2**(2/3)*sqrt(3)*(7 + 21*sqrt(3)*I)**(1/3)/6 + 4*I/3 + 2**(2/3)*I*(7 + 21*sqrt(3)*I)**(1/3)/3 + 7*2**(1/3)*sqrt(3)*(7 + 21*sqrt(3)*I)**(2/3)/36)/(sqrt(3) + 2*I), -4/3 - 2*(7/54 + 7*sqrt(3)*I/18)**(1/3) + (2/3 + 7/(9*(7/54 + 7*sqrt(3)*I/18)**(1/3)) + (7/54 + 7*sqrt(3)*I/18)**(1/3))**2 - 14/(9*(7/54 + 7*sqrt(3)*I/18)**(1/3))],\n",
       "[ 2,                                                                                                                                                                                                                                                                                                                        1,                                                                                                                                                                                                                                                                                                                 1,                                                                                                                                                                  1],\n",
       "[ 3,                                                                                                                                                                                                                                                                                                                        1,                                                                                                                                                                                                                                                                                                                 1,                                                                                                                                                                  1]])"
      ]
     },
     "metadata": {},
     "output_type": "display_data"
    },
    {
     "name": "stdout",
     "output_type": "stream",
     "text": [
      "\n",
      "Matrix([[1, (-sqrt(3) - 13*2**(1/3)*I*(7 + 21*sqrt(3)*I)**(2/3)/18 - 2*sqrt(3)*98**(1/3)*(1 + 3*sqrt(3)*I)**(2/3)/9 - 5*2**(2/3)*sqrt(3)*(7 + 21*sqrt(3)*I)**(1/3)/6 - 2**(2/3)*I*(7 + 21*sqrt(3)*I)**(1/3)/2 + 2*98**(1/3)*I*(1 + 3*sqrt(3)*I)**(2/3)/9 + 5*I + 7*2**(1/3)*sqrt(3)*(7 + 21*sqrt(3)*I)**(2/3)/18)/(sqrt(3) - 5*I), (-sqrt(3) - 5*2**(1/3)*sqrt(3)*(7 + 21*sqrt(3)*I)**(2/3)/18 - 2*I - 5*2**(2/3)*sqrt(3)*(7 + 21*sqrt(3)*I)**(1/3)/12 - 2**(2/3)*I*(7 + 21*sqrt(3)*I)**(1/3)/4 - 2**(1/3)*I*(7 + 21*sqrt(3)*I)**(2/3)/9 + 98**(1/3)*I*(1 + 3*sqrt(3)*I)**(2/3)/9 + sqrt(3)*98**(1/3)*(1 + 3*sqrt(3)*I)**(2/3)/9)/(sqrt(3) + 2*I), 1 + 7/(3*(7/54 + 7*sqrt(3)*I/18)**(1/3)) - (2/3 + 7/(9*(7/54 + 7*sqrt(3)*I/18)**(1/3)) + (7/54 + 7*sqrt(3)*I/18)**(1/3))**2 + 3*(7/54 + 7*sqrt(3)*I/18)**(1/3)], [-1, (2*sqrt(3)/3 - 2*2**(1/3)*sqrt(3)*(7 + 21*sqrt(3)*I)**(2/3)/9 - 10*I/3 - 2*98**(1/3)*I*(1 + 3*sqrt(3)*I)**(2/3)/9 + 2**(2/3)*sqrt(3)*(7 + 21*sqrt(3)*I)**(1/3)/3 + 2*2**(2/3)*I*(7 + 21*sqrt(3)*I)**(1/3)/3 + 2*sqrt(3)*98**(1/3)*(1 + 3*sqrt(3)*I)**(2/3)/9 + 5*2**(1/3)*I*(7 + 21*sqrt(3)*I)**(2/3)/9)/(sqrt(3) - 5*I), (2*sqrt(3)/3 - sqrt(3)*98**(1/3)*(1 + 3*sqrt(3)*I)**(2/3)/9 - 98**(1/3)*I*(1 + 3*sqrt(3)*I)**(2/3)/9 + 2**(1/3)*I*(7 + 21*sqrt(3)*I)**(2/3)/36 + 2**(2/3)*sqrt(3)*(7 + 21*sqrt(3)*I)**(1/3)/6 + 4*I/3 + 2**(2/3)*I*(7 + 21*sqrt(3)*I)**(1/3)/3 + 7*2**(1/3)*sqrt(3)*(7 + 21*sqrt(3)*I)**(2/3)/36)/(sqrt(3) + 2*I), -4/3 - 2*(7/54 + 7*sqrt(3)*I/18)**(1/3) + (2/3 + 7/(9*(7/54 + 7*sqrt(3)*I/18)**(1/3)) + (7/54 + 7*sqrt(3)*I/18)**(1/3))**2 - 14/(9*(7/54 + 7*sqrt(3)*I/18)**(1/3))], [2, 1, 1, 1], [3, 1, 1, 1]])\n",
      "Matrix([[1, 0, 0, 0], [0, 2/3 + (-1/2 - sqrt(3)*I/2)*(7/54 + 7*sqrt(3)*I/18)**(1/3) + 7/(9*(-1/2 - sqrt(3)*I/2)*(7/54 + 7*sqrt(3)*I/18)**(1/3)), 0, 0], [0, 0, 2/3 + 7/(9*(-1/2 + sqrt(3)*I/2)*(7/54 + 7*sqrt(3)*I/18)**(1/3)) + (-1/2 + sqrt(3)*I/2)*(7/54 + 7*sqrt(3)*I/18)**(1/3), 0], [0, 0, 0, 2/3 + 7/(9*(7/54 + 7*sqrt(3)*I/18)**(1/3)) + (7/54 + 7*sqrt(3)*I/18)**(1/3)]])\n",
      "(Matrix([\n",
      "[ 1,    (-sqrt(3) - 13*2**(1/3)*I*(7 + 21*sqrt(3)*I)**(2/3)/18 - 2*sqrt(3)*98**(1/3)*(1 + 3*sqrt(3)*I)**(2/3)/9 - 5*2**(2/3)*sqrt(3)*(7 + 21*sqrt(3)*I)**(1/3)/6 - 2**(2/3)*I*(7 + 21*sqrt(3)*I)**(1/3)/2 + 2*98**(1/3)*I*(1 + 3*sqrt(3)*I)**(2/3)/9 + 5*I + 7*2**(1/3)*sqrt(3)*(7 + 21*sqrt(3)*I)**(2/3)/18)/(sqrt(3) - 5*I),    (-sqrt(3) - 5*2**(1/3)*sqrt(3)*(7 + 21*sqrt(3)*I)**(2/3)/18 - 2*I - 5*2**(2/3)*sqrt(3)*(7 + 21*sqrt(3)*I)**(1/3)/12 - 2**(2/3)*I*(7 + 21*sqrt(3)*I)**(1/3)/4 - 2**(1/3)*I*(7 + 21*sqrt(3)*I)**(2/3)/9 + 98**(1/3)*I*(1 + 3*sqrt(3)*I)**(2/3)/9 + sqrt(3)*98**(1/3)*(1 + 3*sqrt(3)*I)**(2/3)/9)/(sqrt(3) + 2*I),     1 + 7/(3*(7/54 + 7*sqrt(3)*I/18)**(1/3)) - (2/3 + 7/(9*(7/54 + 7*sqrt(3)*I/18)**(1/3)) + (7/54 + 7*sqrt(3)*I/18)**(1/3))**2 + 3*(7/54 + 7*sqrt(3)*I/18)**(1/3)],\n",
      "[-1, (2*sqrt(3)/3 - 2*2**(1/3)*sqrt(3)*(7 + 21*sqrt(3)*I)**(2/3)/9 - 10*I/3 - 2*98**(1/3)*I*(1 + 3*sqrt(3)*I)**(2/3)/9 + 2**(2/3)*sqrt(3)*(7 + 21*sqrt(3)*I)**(1/3)/3 + 2*2**(2/3)*I*(7 + 21*sqrt(3)*I)**(1/3)/3 + 2*sqrt(3)*98**(1/3)*(1 + 3*sqrt(3)*I)**(2/3)/9 + 5*2**(1/3)*I*(7 + 21*sqrt(3)*I)**(2/3)/9)/(sqrt(3) - 5*I), (2*sqrt(3)/3 - sqrt(3)*98**(1/3)*(1 + 3*sqrt(3)*I)**(2/3)/9 - 98**(1/3)*I*(1 + 3*sqrt(3)*I)**(2/3)/9 + 2**(1/3)*I*(7 + 21*sqrt(3)*I)**(2/3)/36 + 2**(2/3)*sqrt(3)*(7 + 21*sqrt(3)*I)**(1/3)/6 + 4*I/3 + 2**(2/3)*I*(7 + 21*sqrt(3)*I)**(1/3)/3 + 7*2**(1/3)*sqrt(3)*(7 + 21*sqrt(3)*I)**(2/3)/36)/(sqrt(3) + 2*I), -4/3 - 2*(7/54 + 7*sqrt(3)*I/18)**(1/3) + (2/3 + 7/(9*(7/54 + 7*sqrt(3)*I/18)**(1/3)) + (7/54 + 7*sqrt(3)*I/18)**(1/3))**2 - 14/(9*(7/54 + 7*sqrt(3)*I/18)**(1/3))],\n",
      "[ 2,                                                                                                                                                                                                                                                                                                                        1,                                                                                                                                                                                                                                                                                                                 1,                                                                                                                                                                  1],\n",
      "[ 3,                                                                                                                                                                                                                                                                                                                        1,                                                                                                                                                                                                                                                                                                                 1,                                                                                                                                                                  1]]), Matrix([\n",
      "[1,                                                                                                                     0,                                                                                                                     0,                                                                           0],\n",
      "[0, 2/3 + (-1/2 - sqrt(3)*I/2)*(7/54 + 7*sqrt(3)*I/18)**(1/3) + 7/(9*(-1/2 - sqrt(3)*I/2)*(7/54 + 7*sqrt(3)*I/18)**(1/3)),                                                                                                                     0,                                                                           0],\n",
      "[0,                                                                                                                     0, 2/3 + 7/(9*(-1/2 + sqrt(3)*I/2)*(7/54 + 7*sqrt(3)*I/18)**(1/3)) + (-1/2 + sqrt(3)*I/2)*(7/54 + 7*sqrt(3)*I/18)**(1/3),                                                                           0],\n",
      "[0,                                                                                                                     0,                                                                                                                     0, 2/3 + 7/(9*(7/54 + 7*sqrt(3)*I/18)**(1/3)) + (7/54 + 7*sqrt(3)*I/18)**(1/3)]]))\n"
     ]
    }
   ],
   "source": [
    "# diagonalizace (4x4)\n",
    "A = sympy.Matrix([\n",
    "    [0, 1, 1, 0],\n",
    "    [1, 1, 1, -1],\n",
    "    [1, 1, 1, 0],\n",
    "    [1, 1, 0, 1]\n",
    "])\n",
    "P, D = A.diagonalize()\n",
    "display(D)              # diagonální\n",
    "display(P)\n",
    "\n",
    "# Textový výstup\n",
    "print()\n",
    "print(P)\n",
    "print(D)\n",
    "print((P,D))            # výpis v n-tici\n"
   ]
  },
  {
   "cell_type": "markdown",
   "metadata": {},
   "source": [
    "#### Řešení rovnic"
   ]
  },
  {
   "cell_type": "code",
   "execution_count": 48,
   "metadata": {},
   "outputs": [
    {
     "name": "stdout",
     "output_type": "stream",
     "text": [
      "a: [-b]\n",
      "b: [-a]\n",
      "\n",
      "n-tice: (a, b)\n",
      "[(-b, b)]\n",
      "[{a: -b}]\n"
     ]
    }
   ],
   "source": [
    "y=\"a+b\"                                 # výraz zadaný jako řetězec\n",
    "a, b = sympy.symbols('a b')             # definice proměnných (symbolů)\n",
    "print(\"a:\", sympy.solve(y,  a))         # vyjádřit a\n",
    "print(\"b:\", sympy.solve(y,  b))         # vyjádřit b\n",
    "\n",
    "vars = sympy.var(\"a b\")                 # definice n-tice proměnných\n",
    "print(\"\\nn-tice:\", vars)\n",
    "print(sympy.solve(y,  vars))            # totéž jako sympy.solve(y, a, b)\n",
    "# dvojice; 1. prvek řešení výrazu pro dané symboly, 2. prvek seznam symbolů, pro které nebylo možné najít řešení\n",
    "\n",
    "print(sympy.solve(y,  vars, dict=True)) # vrátí slovník\n"
   ]
  },
  {
   "cell_type": "markdown",
   "metadata": {},
   "source": [
    "#### Kvadratická rovnice\n",
    "\n",
    "<!--img src=\"MS10_soubory/symkvadr.png\" alt=\"Drawing\" style=\"width: 650px;\"/-->"
   ]
  },
  {
   "cell_type": "markdown",
   "metadata": {},
   "source": [
    "<font color='green'>Pomocí symbolických manipulací vyřešte kvadratickou rovnici</font>\n",
    "$$ax^2+bx+c=0$$\n",
    "Uvažujte takové sady koeficientů $(a,b,c)$, aby byly zohledněny všechny možnosti řešení rovnice."
   ]
  },
  {
   "cell_type": "code",
   "execution_count": 49,
   "metadata": {},
   "outputs": [
    {
     "name": "stdout",
     "output_type": "stream",
     "text": [
      "[(x, (-b*x - c)/x**2, b, c)]\n",
      "[(-b - sqrt(-4*a*c + b**2))/(2*a), (-b + sqrt(-4*a*c + b**2))/(2*a)]\n"
     ]
    }
   ],
   "source": [
    "y = 'a * x ** 2 + b * x + c'\n",
    "vars = sympy.var('x a b c')         # všechny symboly jako proměnné\n",
    "\n",
    "print(sympy.solve(y,  vars))        # řeší y(a,b,c,x) pro všechny proměnné a, b, c, x\n",
    "print(sympy.solve(y,  x))           # řeší y(a,b,c,x) pro x, ostatní považuje za konstanty"
   ]
  },
  {
   "cell_type": "markdown",
   "metadata": {},
   "source": [
    "#### Soustava lineárních rovnic a nerovnic\n",
    "\n",
    "<!--img src=\"MS10_soubory/soustava.png\" alt=\"Drawing\" style=\"width: 500px;\"/-->"
   ]
  },
  {
   "cell_type": "code",
   "execution_count": 50,
   "metadata": {},
   "outputs": [
    {
     "name": "stdout",
     "output_type": "stream",
     "text": [
      "(x < sqrt(10)) & (-10**(1/3) < x)\n"
     ]
    },
    {
     "data": {
      "text/latex": [
       "$\\displaystyle - \\sqrt[3]{10} < x \\wedge x < \\sqrt{10}$"
      ],
      "text/plain": [
       "(x < sqrt(10)) & (-10**(1/3) < x)"
      ]
     },
     "execution_count": 50,
     "metadata": {},
     "output_type": "execute_result"
    }
   ],
   "source": [
    "x = sympy.symbols('x')\n",
    " \n",
    "f1 = x**2 < 10\n",
    "f2 = x**3 > -10\n",
    " \n",
    "solution = sympy.solve((f1, f2), x)\n",
    "print(solution)\n",
    "solution"
   ]
  },
  {
   "cell_type": "markdown",
   "metadata": {},
   "source": [
    "## Vlastní čísla a vlastní vektory\n",
    "\n",
    "Vlastní vektor matice $A$ je takový nenulový vektor $ \\mathbf{v} $, pro který existuje číslo $ \\lambda $ tak, že platí\n",
    "\n",
    "$ A\\mathbf{v} = \\lambda\\mathbf{v} $\n",
    "\n",
    "Aplikací operátoru se se nemění směr vektoru - jen velikost či orientace\n",
    "- široké využití v matematice a aplikovaných vědách\n",
    "- klíčové koncepty pro analýzu lineárních systémů a transformací\n"
   ]
  },
  {
   "cell_type": "code",
   "execution_count": 51,
   "metadata": {},
   "outputs": [
    {
     "name": "stdout",
     "output_type": "stream",
     "text": [
      "Vlastní čísla:\n",
      "[4. 2.]\n",
      "\n",
      "Vlastní vektory:\n",
      "[[ 0.70710678 -0.70710678]\n",
      " [ 0.70710678  0.70710678]]\n"
     ]
    }
   ],
   "source": [
    "import numpy as np\n",
    "A = np.array([[3, 1],\n",
    "              [1, 3]])\n",
    "\n",
    "eigenvalues, eigenvectors = np.linalg.eig(A)\n",
    "\n",
    "print(\"Vlastní čísla:\")\n",
    "print(eigenvalues)\n",
    "\n",
    "print(\"\\nVlastní vektory:\")\n",
    "print(eigenvectors)"
   ]
  },
  {
   "cell_type": "markdown",
   "metadata": {},
   "source": [
    "### Příklad využití vlastních čísel a vektorů\n",
    "#### Návrh mostu\n",
    "Jak bude reagovat na různé typy vibrací?\n",
    "- od provozu vozidel, větru, deště, zemětřesení, ...\n",
    "\n",
    "Vibrace mostu závisí na jeho vlastnostech\n",
    "- hmotnost, tuhost, tlumení\n",
    "\n",
    "Tyto vlastnosti lze modelovat pomocí matice tuhosti (K) a matice hmotnosti (M)\n",
    "$$Ku=λMu$$"
   ]
  },
  {
   "cell_type": "code",
   "execution_count": 52,
   "metadata": {},
   "outputs": [
    {
     "name": "stdout",
     "output_type": "stream",
     "text": [
      "Vlastní čísla (rezonanční frekvence): [3.41421356 0.58578644]\n",
      "Vlastní vektory (módy vibrací):\n",
      "[[ 0.57735027  0.57735027]\n",
      " [-0.81649658  0.81649658]]\n"
     ]
    }
   ],
   "source": [
    "import numpy as np\n",
    "\n",
    "# Matice tuhosti (K) a hmotnosti (M)\n",
    "K = np.array([[4, -2], \n",
    "              [-2, 2]])\n",
    "M = np.array([[2, 0], \n",
    "              [0, 1]])\n",
    "\n",
    "# Výpočet vlastních čísel a vektorů\n",
    "eigvals, eigvecs = np.linalg.eig(np.linalg.inv(M) @ K)\n",
    "\n",
    "print(\"Vlastní čísla (rezonanční frekvence):\", eigvals)\n",
    "print(\"Vlastní vektory (módy vibrací):\")\n",
    "print(eigvecs)\n"
   ]
  },
  {
   "cell_type": "markdown",
   "metadata": {},
   "source": [
    "\n",
    "Vlastní čísla $λ$:\n",
    "\n",
    "odpovídají rezonančním frekvencím mostu (čtverce vlastních frekvencí)\n",
    "- pokud nějaký vnější podnět působí s frekvencí blízkou, může dojít k rezonanci a kolapsu\n",
    "\n",
    "Vlastní vektory $u$:\n",
    "\n",
    "módy vibrací - způsoby, jakými se most pohybuje při každé z těchto přirozených frekvencí\n",
    "- např. most se může při jedné frekvenci kývat svisle, při jiné torzně"
   ]
  },
  {
   "cell_type": "markdown",
   "metadata": {},
   "source": [
    "#### Harmonický oscilátor\n",
    "Zvažme situaci, kdy máme soustavu lineárních diferenciálních rovnic popisující dynamiku systému. Předpokládejme, že máme harmonický oscilátor, který je popsán následující soustavou:\n",
    "\n",
    "$$\n",
    "\\frac{dx}{dt} = ax + by \\\\\n",
    "\\frac{dy}{dt} = cx + dy\n",
    "$$\n",
    "\n",
    "Kde $x$ a $y$ jsou parametry dvou hmotných bodů, $a$, $b$, $c$ a $d$ jsou konstanty charakterizující systém.\n",
    "\n",
    "\n",
    "Tato soustava diferenciálních rovnic lze přepsat do maticového tvaru jako:\n",
    "\n",
    "$$\n",
    "\\frac{d\\mathbf{x}}{dt} = A\\mathbf{x}\n",
    "$$\n",
    "\n",
    "kde $\\mathbf{x} = \\begin{pmatrix} x \\\\ y \\end{pmatrix}$ a $A$ je matice koeficientů: $A = \\begin{pmatrix} a & b \\\\ c & d \\end{pmatrix}$"
   ]
  },
  {
   "cell_type": "markdown",
   "metadata": {},
   "source": [
    "\n",
    "#### Příklad tělesa oscilujícího na pružině\n",
    "\n",
    "Uvažujme těleso na pružině, které se pohybuje ve směru osy $x$. Pohyb tělesa je popsán druhým Newtonovým zákonem:\n",
    "\n",
    "$$\n",
    "m\\frac{d^2x}{dt^2} = -kx\n",
    "$$\n",
    "\n",
    "Kde $m$ je hmotnost tělesa, $k$ je tuhost pružiny a $x$ je poloha tělesa v čase $t$.\n",
    "\n",
    "Tuto diferenciální rovnici můžeme přepsat do maticového tvaru:\n",
    "\n",
    "$$\n",
    "\\frac{d\\mathbf{x}}{dt} = A\\mathbf{x}\n",
    "$$\n",
    "\n",
    "kde $\\mathbf{x} = \\begin{pmatrix} x \\\\ \\dot{x} \\end{pmatrix}$ a $A$ je matice koeficientů:\n",
    "\n",
    "$$\n",
    "A = \\begin{pmatrix} 0 & 1 \\\\ -\\frac{k}{m} & 0 \\end{pmatrix}\n",
    "$$\n",
    "\n",
    "1. Vlastní čísla (eigenvalues): jaké jsou charakteristické frekvence oscilátoru.\n",
    "2. Vlastní vektory (eigenvectors) popisují směr a amplitudu pohybu v rámci oscilace\n"
   ]
  },
  {
   "cell_type": "markdown",
   "metadata": {},
   "source": [
    "Uvažujme těleso na pružině, které se pohybuje ve směru osy $x$. Pohyb tělesa je popsán druhým Newtonovým zákonem:\n",
    "\n",
    "$$\n",
    "m\\frac{d^2x}{dt^2} = -kx\n",
    "$$\n",
    "\n",
    "Kde $m$ je hmotnost tělesa, $k$ je tuhost pružiny a $x$ je poloha tělesa v čase $t$.\n",
    "\n",
    "Tuto diferenciální rovnici můžeme přepsat do maticového tvaru:\n",
    "\n",
    "$$\n",
    "\\frac{d\\mathbf{x}}{dt} = A\\mathbf{x}\n",
    "$$\n",
    "\n",
    "kde $\\mathbf{x} = \\begin{pmatrix} x \\\\ \\dot{x} \\end{pmatrix}$ a $A$ je matice koeficientů:\n",
    "\n",
    "$$\n",
    "A = \\begin{pmatrix} 0 & 1 \\\\ -\\frac{k}{m} & 0 \\end{pmatrix}\n",
    "$$\n",
    "\n",
    "1. Vlastní čísla (eigenvalues): jaké jsou charakteristické frekvence oscilátoru.\n",
    "2. Vlastní vektory (eigenvectors) popisují směr a amplitudu pohybu v rámci oscilace\n"
   ]
  },
  {
   "cell_type": "code",
   "execution_count": 53,
   "metadata": {},
   "outputs": [
    {
     "name": "stdout",
     "output_type": "stream",
     "text": [
      "Vlastní čísla: {-I*omega: 1, I*omega: 1}\n",
      "\n",
      "Vlastní vektory:"
     ]
    },
    {
     "data": {
      "text/plain": [
       "[(-I*omega,\n",
       "  1,\n",
       "  [Matrix([\n",
       "   [I/omega],\n",
       "   [      1]])]),\n",
       " (I*omega,\n",
       "  1,\n",
       "  [Matrix([\n",
       "   [-I/omega],\n",
       "   [       1]])])]"
      ]
     },
     "metadata": {},
     "output_type": "display_data"
    },
    {
     "data": {
      "text/latex": [
       "$\\displaystyle \\omega^{2}$"
      ],
      "text/plain": [
       "omega**2"
      ]
     },
     "execution_count": 53,
     "metadata": {},
     "output_type": "execute_result"
    }
   ],
   "source": [
    "from sympy import symbols, Matrix\n",
    "k, m, o = symbols('k m omega')\n",
    "\n",
    "A = Matrix([[0, 1], [-o*o, 0]])\n",
    "\n",
    "# Vlastní čísla\n",
    "eigenvalues = A.eigenvals()\n",
    "print(\"Vlastní čísla:\", eigenvalues)\n",
    "\n",
    "# Vlastní vektory\n",
    "eigenvectors = A.eigenvects()\n",
    "print(\"\\nVlastní vektory:\", end = \"\")\n",
    "display(eigenvectors)\n",
    "\n",
    "# Výpočet charakteristického polynomu\n",
    "char_poly = A.det()\n",
    "char_poly"
   ]
  },
  {
   "cell_type": "markdown",
   "metadata": {},
   "source": [
    "## Samostatná cvičení"
   ]
  },
  {
   "cell_type": "markdown",
   "metadata": {},
   "source": [
    "#### Cv.4.1: Levi-Cituv symbol\n",
    "<font color=\"green\">Napište program pro vektorový součin dvou vektorů </font>\n",
    "$\\color{green} 𝒂=(𝑎_1,𝑎_2,𝑎_3 )$ <font color=\"green\">a</font> $\\color{green} 𝒃=(𝑏_1,𝑏_2,𝑏_3 ) $\n",
    "<font color=\"green\">pomocí Levi-Civitova symbolu</font>\n",
    "$$\n",
    "\\mathbf{c} = \\mathbf{a} \\times \\mathbf{b} = \n",
    "\\left| \\begin{matrix}\n",
    "\\mathbf{e_1} & \\mathbf{e_2} & \\mathbf{e_3} \\\\\n",
    "a_{1} & a_{2} & a_{3} \\\\\n",
    "b_{1} & b_{2} & b_{3} \\\\\n",
    "\\end{matrix} \\right| =\n",
    "\\sum_{i=1}^{3} \\sum_{j=1}^{3} \\sum_{k=1}^{3} \\varepsilon_{ijk} \\mathbf{e}_i a_j b_k\n",
    "$$\n",
    "$$\n",
    "c_i = \\sum_{j=1}^{3} \\sum_{k=1}^{3} \\varepsilon_{ijk} a_j b_k\n",
    "$$\n",
    "\n",
    "kde\n",
    "$$\n",
    "\\varepsilon_{ijk} = \\begin{cases}\n",
    "+1, & \\text{pro sudé permutace (1,2,3), tedy } (i,j,k) ∈ \\{(1,2,3), (2,3,1), (3,1,2)\\}\\text{} \\\\\n",
    "-1, & \\text{pro liché permutace (1,2,3), tedy } (i,j,k) ∈ \\{(1,3,2), (2,1,3), (3,2,1)\\}\\text{} \\\\\n",
    "0, & \\text{pro opakující se indexy}\n",
    "\\end{cases}\n",
    "$$\n",
    "Výsledek srovnejte s vestavěnou funkcí pro výpočet vektorového součinu dvou vektorů\n",
    "<!--img src=\"MS4_soubory/levicit.png\" alt=\"Drawing\" style=\"width: 600px;\"/-->"
   ]
  },
  {
   "cell_type": "code",
   "execution_count": null,
   "metadata": {},
   "outputs": [],
   "source": []
  },
  {
   "cell_type": "markdown",
   "metadata": {},
   "source": [
    "#### Cv.4.2: Laplaceův rozvoj\n"
   ]
  },
  {
   "cell_type": "markdown",
   "metadata": {},
   "source": [
    "Dle Laplaceova rozvoje lze determinant čtvercové matice $𝐴$ o rozměrech $(𝑁,𝑁)$ a prvky $a_{ij}$ získat následovně:\n",
    "$$\n",
    "\\begin{align}\n",
    "\\left|A\\right|&=\\sum_{j=1}^{N}(-1)^{i+j}a_{ij}M_{ij} \\\\\n",
    "M_{ij} &= \\left|S_{ij}^{A}\\right|\n",
    "\\end{align}\n",
    "$$\n",
    "kde $S_{ij}^{A}$ je submatice vzniklá vynecháním 𝑖-tého řádku a 𝑗-tého sloupce matice $A$\n",
    "\n",
    "$M_{ij} = \\left|S_{ij}^{A}\\right|$ ... minor matice A\n",
    "\n",
    "Rozvoj lze provádět přes sloupec nebo řádek\n",
    "<!--img src=\"MS4_soubory/laplace2.png\" alt=\"Drawing\" style=\"width: 600px;\"/-->"
   ]
  },
  {
   "cell_type": "markdown",
   "metadata": {},
   "source": [
    "<font color=green>Pomocí Laplaceova rozvoje spočítejte determinant matice</font> $A$\n",
    "\n",
    "- Nagenerujte náhodnou matici celých čísel o rozměru $(𝑁,𝑁)$\n",
    "- Zkontrolujte, zda je matice čtvercová\n",
    "- Spočítejte determinant pomocí Laplaceova rozvoje\n",
    "- Zkuste změnit velikost matice $𝐴$ v rozmezí $𝑁∈(5,200)$ a vykreslete časovou náročnost výpočtů\n",
    "    - dejte pozor na reprezentaci čísel\n",
    "<!--img src=\"MS4_soubory/laplace.png\" alt=\"Drawing\" style=\"width: 600px;\"/-->"
   ]
  },
  {
   "cell_type": "code",
   "execution_count": null,
   "metadata": {},
   "outputs": [],
   "source": []
  },
  {
   "cell_type": "markdown",
   "metadata": {},
   "source": [
    "#### Cv.4.3: Cramerovo pravidlo\n",
    "\n",
    "\n",
    "<font color=\"green\">Pomocí Cramerova pravidla spočítejte řešení</font> $x_1, x_2, x_3$ <font color=\"green\">následující soustavy:</font>\n",
    "$$\n",
    "\\begin{align}\n",
    "5x_1 &-6x_2 &+4x_3 &=3 \\\\\n",
    "3x_1 & &+2x_3 &=5 \\\\\n",
    "4x_1 &-5x_2 &+2x_3 &=1\n",
    "\\end{align}\n",
    "$$\n",
    "\n",
    "<!--img src=\"MS4_soubory/cramer_priklad.png\" alt=\"Drawing\" style=\"width: 600px;\"/-->"
   ]
  },
  {
   "cell_type": "code",
   "execution_count": 54,
   "metadata": {},
   "outputs": [
    {
     "name": "stdout",
     "output_type": "stream",
     "text": [
      "[ 2. -2.  3.]\n"
     ]
    }
   ],
   "source": [
    "def cramer2(A, b):\n",
    "    Ai = np.array([np.copy(A), np.copy(A), np.copy(A)])\n",
    "    for i in range(len(A)):\n",
    "        Ai[i][:,i] = b\n",
    "    x = np.linalg.det(Ai) / np.linalg.det(A)\n",
    "    return x\n",
    "\n",
    "A = np.array([\n",
    "    [3, 2, 1], \n",
    "    [2, 3, 1],\n",
    "    [2, 1, 3]\n",
    "])\n",
    "b = np.array([5, 1, 11])\n",
    "print(cramer2(A, b))"
   ]
  },
  {
   "cell_type": "code",
   "execution_count": 55,
   "metadata": {},
   "outputs": [
    {
     "name": "stdout",
     "output_type": "stream",
     "text": [
      "mask:\n",
      " [[[1 0 0]\n",
      "  [1 0 0]\n",
      "  [1 0 0]]\n",
      "\n",
      " [[0 1 0]\n",
      "  [0 1 0]\n",
      "  [0 1 0]]\n",
      "\n",
      " [[0 0 1]\n",
      "  [0 0 1]\n",
      "  [0 0 1]]]\n",
      "A:\n",
      " [[3 2 1]\n",
      " [2 3 1]\n",
      " [2 1 3]]\n",
      "Ai:\n",
      " [[[ 5  2  1]\n",
      "  [ 1  3  1]\n",
      "  [11  1  3]]\n",
      "\n",
      " [[ 3  5  1]\n",
      "  [ 2  1  1]\n",
      "  [ 2 11  3]]\n",
      "\n",
      " [[ 3  2  5]\n",
      "  [ 2  3  1]\n",
      "  [ 2  1 11]]]\n",
      "[ 2. -2.  3.]\n"
     ]
    }
   ],
   "source": [
    "def cramer(A, b):\n",
    "    N = A.shape[1]\n",
    "    mask = np.broadcast_to(np.diag([1,1,1]), [N, N, N]).swapaxes(0, 1)\n",
    "    Ai = np.where(mask, np.repeat(b, N).reshape(N, N), A)\n",
    "    print(\"mask:\\n\", mask)\n",
    "    print(\"A:\\n\", A)\n",
    "    print(\"Ai:\\n\", Ai)\n",
    "    x = np.linalg.det(Ai) / np.linalg.det(A)\n",
    "    return x\n",
    "\n",
    "A = np.array([\n",
    "    [3, 2, 1], \n",
    "    [2, 3, 1],\n",
    "    [2, 1, 3]\n",
    "])\n",
    "b = np.array([5, 1, 11])\n",
    "print(cramer(A, b))"
   ]
  },
  {
   "cell_type": "markdown",
   "metadata": {},
   "source": [
    "#### Cv.4.4: Jacobiho metoda\n",
    "\n",
    "<!--img src=\"MS4_soubory/jacobi_priklad.png\" alt=\"Drawing\" style=\"width: 600px;\"/-->"
   ]
  },
  {
   "cell_type": "markdown",
   "metadata": {},
   "source": [
    "<font color=\"green\">Pomocí Jacobiho iterační metody spočítejte následující soustavu rovnic:</font>\n",
    "\n",
    "$$\n",
    "\\color{green}\n",
    "x^{i+1}=D^{-1}[b-(L+U)x^i]\n",
    "$$\n",
    "\n",
    "$$\n",
    "\\begin{align}\n",
    "6x_1 &+2x_2 -3x_3 &=10 \\\\\n",
    "x_1 &+4x_2 -2x_3 &=6 \\\\\n",
    "3x_1 &+2x_2 -7x_3 &=-4\n",
    "\\end{align}\n",
    "$$\n"
   ]
  },
  {
   "cell_type": "code",
   "execution_count": 56,
   "metadata": {},
   "outputs": [
    {
     "name": "stdout",
     "output_type": "stream",
     "text": [
      "iterace: 0 x= [1.83333333 1.75       1.28571429]\n",
      "iterace: 1 x= [1.72619048 1.68452381 1.85714286]\n",
      "iterace: 2 x= [2.03373016 1.99702381 1.79251701]\n",
      "iterace: 3 x= [1.89725057 1.88782596 2.01360544]\n",
      "iterace: 4 x= [2.04419407 2.03249008 1.9239148 ]\n",
      "iterace: 5 x= [1.95112738 1.95090889 2.02822319]\n",
      "iterace: 6 x= [2.0304753  2.02632975 1.96502856]\n",
      "iterace: 7 x= [1.97373769 1.97489545 2.02058363]\n",
      "iterace: 8 x= [2.01866    2.01685739 1.981572  ]\n",
      "iterace: 9 x= [1.98516687 1.986121   2.01281354]\n",
      "reseni:  [1.98516687 1.986121   2.01281354]\n"
     ]
    }
   ],
   "source": [
    "import numpy as np\n",
    "def jacobi(A, b, niteraci, x0=np.ones(len(A))):\n",
    "    x = x0\n",
    "    D = np.diag(A)\n",
    "    L = np.tril(A, k = -1)\n",
    "    U = np.triu(A, k = 1)\n",
    "    for i in range(niteraci):\n",
    "        x = (b - np.matmul((L + U),x))/D    # inverzní matice diagonální je diagonální a má převrácené hodnoty\n",
    "        print(\"iterace:\",i, \"x=\",x)\n",
    "    return x\n",
    "\n",
    "A = np.array([\n",
    "    [6, 2, -3], \n",
    "    [1, 4, -2],\n",
    "    [3, 2, -7]\n",
    "])\n",
    "b = np.array([10, 6, -4])\n",
    "\n",
    "x = jacobi(A, b, 10)\n",
    "print(\"reseni: \", x)"
   ]
  },
  {
   "cell_type": "markdown",
   "metadata": {},
   "source": [
    "#### Cv. 4.5: Porovnání metod\n",
    "<font color='green'>Nagenerujte náhodně soustavu N rovnic a vyřešte ji pomocí:</font>\n",
    "* Iterační metody\n",
    "* Cramerova pravidla\n",
    "* Symbolické matematiky\n",
    "<p><font color='green'>Jednotlivá řešení porovnejte z hlediska rychlosti a stability</font>"
   ]
  },
  {
   "cell_type": "code",
   "execution_count": 57,
   "metadata": {},
   "outputs": [
    {
     "name": "stdout",
     "output_type": "stream",
     "text": [
      "Matrix A:\n",
      "[14.  3. -6.]\n",
      "[ 1. 11.  3.]\n",
      "[-10.  -4.   7.]\n",
      "RHS b:\n",
      " [ 0  6 -4]\n",
      "Determinant: 499.00000000000006\n",
      "\n",
      "\n",
      "Iteracni reseni (t = 0.0005476474761962891s):\n",
      "[-0.56058086  0.83876759 -0.89146369]\n",
      "\n",
      "\n",
      "Cramer reseni: (t = 0.00025463104248046875s):\n",
      "[-0.56513026  0.84168337 -0.89779559]\n",
      "\n",
      "\n",
      "Symbolicke reseni: (t = 0.06902909278869629s):\n",
      "{a: -0.565130260521042, b: 0.841683366733467, c: -0.897795591182365}\n",
      "\n"
     ]
    }
   ],
   "source": [
    "import random\n",
    "import numpy as np\n",
    "import sympy\n",
    "import string\n",
    "import time\n",
    "\n",
    "def print_matrix(A, b):                                     # vytiskne matici A a vektor b\n",
    "    print(\"Matrix A:\")\n",
    "    for row in A:\n",
    "        print(row)\n",
    "    print(\"RHS b:\\n\", b)\n",
    "\n",
    "def jacobi(A, b, niteraci, x0=None):                        # Jacobiho iterační metoda\n",
    "    x = x0 if x0 else np.ones(len(A))                       # pokud není zadáno x0, samé jedničky\n",
    "    D = np.diag(A)\n",
    "    #L = np.tril(A, k = -1)\n",
    "    #U = np.triu(A, k = 1)\n",
    "    R = A - np.diagflat(D)                                  # R totéž jako L + U\n",
    "    for i in range(niteraci):\n",
    "        x = (b - np.dot(R,x))/D                             # totéž jako dot\n",
    "    return x\n",
    "\n",
    "def cramer(A, b):                                           # Cramerovo pravidlo\n",
    "    N = A.shape[1]\n",
    "    mask = np.broadcast_to(np.diag([1 for i in range(N)]), [N, N, N]).swapaxes(0, 1)\n",
    "    Ai = np.where(mask, np.repeat(b, N).reshape(N, N), A)\n",
    "    x = np.linalg.det(Ai) / np.linalg.det(A)\n",
    "    return x\n",
    "\n",
    "def symbolicke_reseni(A, b):                                # pomocí SymPy\n",
    "    N = A.shape[1]\n",
    "    s = sympy.symbols(','.join(string.ascii_lowercase[0:N]))\n",
    "    rows = []\n",
    "    for i in range(N):\n",
    "        str_expr = \"+\".join([f\"{A[i,j]}*{s[j]}\" for j in range(N)])\n",
    "        sympy_eq = sympy.sympify(str_expr)\n",
    "        rows.append(sympy.Eq(sympy_eq, b[i]))\n",
    "    x = sympy.solve(rows, s)\n",
    "    return x\n",
    "\n",
    "def generate_random_matrix(n, amin, amax):                  # generuje matici A a vektor b\n",
    "    A = np.array([[random.randint(amin, amax) for j in range(n)] for i in range(n)])\n",
    "    b = np.array([random.randint(amin, amax) for i in range(n)])\n",
    "    A = A + 10*np.eye(n)             # diagonálně dominantní pro konvergenci iterační metody\n",
    "    return A, b\n",
    "\n",
    "def testcase():\n",
    "    A = np.array([[4, -2, 1],[1, -3, 2],[-1, 2, 6]])\n",
    "    b = np.array([1, 2, 3])\n",
    "    return A, b\n",
    "\n",
    "dim = 3                                                     # vyzkoušejte i další případy\n",
    "A, b = generate_random_matrix(n=dim, amin=-10, amax=10)     # generuje matici A a vektor b\n",
    "#A, b = testcase()\n",
    "print_matrix(A, b)                                          # vytiskne matici A a vektor b\n",
    "print(\"Determinant:\", np.linalg.det(A))\n",
    "\n",
    "start = time.time()\n",
    "x_iter = jacobi(A, b, 20)                                   # Jacobiho iterační metoda\n",
    "end = time.time()\n",
    "print(f\"\\n\\nIteracni reseni (t = {end-start}s):\\n{x_iter}\\n\\n\")\n",
    "\n",
    "start = time.time()\n",
    "x_cramer = cramer(A, b)                                     # Cramerovo pravidlo\n",
    "end = time.time()\n",
    "print(f\"Cramer reseni: (t = {end-start}s):\\n{x_cramer}\\n\\n\")\n",
    "\n",
    "start = time.time()\n",
    "x_symbolicky = symbolicke_reseni(A, b)                      # pomocí SymPy\n",
    "end = time.time()\n",
    "print(f\"Symbolicke reseni: (t = {end-start}s):\\n{x_symbolicky}\\n\")"
   ]
  }
 ],
 "metadata": {
  "kernelspec": {
   "display_name": "Python 3",
   "language": "python",
   "name": "python3"
  },
  "language_info": {
   "codemirror_mode": {
    "name": "ipython",
    "version": 3
   },
   "file_extension": ".py",
   "mimetype": "text/x-python",
   "name": "python",
   "nbconvert_exporter": "python",
   "pygments_lexer": "ipython3",
   "version": "3.13.1"
  },
  "orig_nbformat": 4
 },
 "nbformat": 4,
 "nbformat_minor": 2
}
