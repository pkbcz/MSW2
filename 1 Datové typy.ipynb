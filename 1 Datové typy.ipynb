{
 "cells": [
  {
   "cell_type": "markdown",
   "metadata": {},
   "source": [
    "## Základní datové typy\n",
    "1. Boolean (booleovský typ)  \n",
    "    nabývá buď hodnoty True nebo False\n",
    "2. Čísla \n",
    "    - celá (integer; 1 a 2)\n",
    "    - reálná (float; 1.1 a 1.2)\n",
    "    - zlomky (fraction; 1/2 and 2/3)\n",
    "    - komplexní čísla\n",
    "3. Řetězce  \n",
    "    posloupnosti Unicode znaků  \n",
    "    např. html dokument\n",
    "4. Bajty a pole bajtů  \n",
    "    např. soubor s obrázkem ve formátu JpEG\n",
    "5. Seznamy  \n",
    "    uspořádané posloupnosti hodnot\n",
    "6. N-tice  \n",
    "    uspořádané, neměnné posloupnosti hodnot\n",
    "7. Množiny  \n",
    "    neuspořádané kolekce hodnot\n",
    "8. Slovníky  \n",
    "    neuspořádané kolekce dvojic klíč-hodnota"
   ]
  },
  {
   "cell_type": "markdown",
   "metadata": {},
   "source": [
    "#### Booleovský typ"
   ]
  },
  {
   "cell_type": "code",
   "execution_count": 2,
   "metadata": {},
   "outputs": [
    {
     "name": "stdout",
     "output_type": "stream",
     "text": [
      "False\n",
      "False\n",
      "True\n"
     ]
    }
   ],
   "source": [
    "size = 1\n",
    "print(size < 0)\n",
    "size = 0\n",
    "print(size < 0)\n",
    "size = -1\n",
    "print(size < 0)"
   ]
  },
  {
   "cell_type": "markdown",
   "metadata": {},
   "source": [
    "#### Čísla"
   ]
  },
  {
   "cell_type": "markdown",
   "metadata": {},
   "source": [
    "Integer\n",
    "- místo přetečení Python vyhradí pro číslo větší množství paměti\n",
    "- ve skutečnosti ukazatel na strukturu C s několika hodnotami"
   ]
  },
  {
   "cell_type": "code",
   "execution_count": 5,
   "metadata": {},
   "outputs": [
    {
     "name": "stdout",
     "output_type": "stream",
     "text": [
      "<class 'int'>\n",
      "True\n",
      "2\n",
      "2.0\n"
     ]
    }
   ],
   "source": [
    "print(type(1))              # ověření typu libovolné hodnoty nebo proměnné\n",
    "print(isinstance(1, int))   # ověření, zda hodnota odpovídá zadanému typu\n",
    "print(1 + 1)                # int\n",
    "print(1 + 1.0)              # vynucení převodu int na float, vrácení float"
   ]
  },
  {
   "cell_type": "code",
   "execution_count": 10,
   "metadata": {},
   "outputs": [
    {
     "name": "stdout",
     "output_type": "stream",
     "text": [
      "<class 'int'>\n",
      "28\n",
      "<class 'int'>\n",
      "40\n"
     ]
    }
   ],
   "source": [
    "import sys    \n",
    "print(type(1))\n",
    "print(sys.getsizeof(1))\n",
    "a = 1000000000000000000000000000000     # celá čísla mohou být libovolně velká\n",
    "print(type(a))\n",
    "print(sys.getsizeof(a))\n"
   ]
  },
  {
   "cell_type": "markdown",
   "metadata": {},
   "source": [
    "Float"
   ]
  },
  {
   "cell_type": "code",
   "execution_count": 17,
   "metadata": {},
   "outputs": [
    {
     "name": "stdout",
     "output_type": "stream",
     "text": [
      "<class 'float'>\n",
      "24\n",
      "1.2345678901234568e+25\n",
      "<class 'float'>\n",
      "24\n"
     ]
    }
   ],
   "source": [
    "import sys    \n",
    "print(type(1.0))\n",
    "print(sys.getsizeof(1.0))\n",
    "a = 1.2345678901234567890123456789E25\n",
    "print(a)\n",
    "print(type(a))\n",
    "print(sys.getsizeof(a))"
   ]
  },
  {
   "cell_type": "code",
   "execution_count": 21,
   "metadata": {},
   "outputs": [
    {
     "name": "stdout",
     "output_type": "stream",
     "text": [
      "False\n",
      "0.30000000000000004441\n",
      "0.29999999999999998890\n",
      "True\n",
      "True\n"
     ]
    }
   ],
   "source": [
    "x = 0.1 + 0.1 + 0.1\n",
    "y = 0.3\n",
    "print(x == y)                       # zaokrouhlovací chyba\n",
    "print(format(x, '.20f'))\n",
    "print(format(y, '.20f'))\n",
    "print(round(x, 3) == round(y, 3))\n",
    "\n",
    "import math\n",
    "print(math.isclose(x,y))            # další parametry rel_tol=1e-9, abs_tol=0.0"
   ]
  },
  {
   "cell_type": "markdown",
   "metadata": {},
   "source": [
    "Převody"
   ]
  },
  {
   "cell_type": "code",
   "execution_count": 8,
   "metadata": {},
   "outputs": [
    {
     "name": "stdout",
     "output_type": "stream",
     "text": [
      "2.0\n",
      "2\n",
      "2\n",
      "-2\n",
      "1.1234567890123457\n",
      "<class 'int'>\n"
     ]
    }
   ],
   "source": [
    "print(float(2))                 # int -> float\n",
    "print(int(2.0))                 # float -> int\n",
    "print(int(2.5))                 # odsekávání (ne zaokrouhlení)\n",
    "print(int(-2.5))\n",
    "print(1.12345678901234567890)   # přesnost 15 desetinných míst\n",
    "print(type(1000000000000000))   # celá čísla mohou být libovolně velká"
   ]
  },
  {
   "cell_type": "markdown",
   "metadata": {},
   "source": [
    "Běžné operace s čísly"
   ]
  },
  {
   "cell_type": "code",
   "execution_count": 10,
   "metadata": {},
   "outputs": [
    {
     "name": "stdout",
     "output_type": "stream",
     "text": [
      "5.5\n",
      "5.0\n",
      "5\n",
      "-6\n",
      "5.0\n",
      "121\n",
      "1\n"
     ]
    }
   ],
   "source": [
    "print(11 / 2)           # dělení\n",
    "print(10 / 2)           # vždy vrací float\n",
    "print(11 // 2)          # celočíselné dělení\n",
    "print(-11 // 2)         # záporná čísla zaokrouhlena dolů        \n",
    "print(11.0 // 2)        # je float (!)\n",
    "print(11 ** 2)          # umocňování\n",
    "print(11 % 2)           # zbytek po celočíselném dělení\n"
   ]
  },
  {
   "cell_type": "markdown",
   "metadata": {},
   "source": [
    "Zlomky"
   ]
  },
  {
   "cell_type": "code",
   "execution_count": 12,
   "metadata": {},
   "outputs": [
    {
     "name": "stdout",
     "output_type": "stream",
     "text": [
      "1/3\n",
      "2/3\n"
     ]
    }
   ],
   "source": [
    "import fractions\n",
    "x = fractions.Fraction(1, 3)        # čitatel, jmenovatel\n",
    "print(x)\n",
    "print(x * 2)                        # opět typ Fraction"
   ]
  },
  {
   "cell_type": "code",
   "execution_count": 14,
   "metadata": {},
   "outputs": [
    {
     "data": {
      "text/plain": [
       "Fraction(3, 2)"
      ]
     },
     "execution_count": 14,
     "metadata": {},
     "output_type": "execute_result"
    }
   ],
   "source": [
    "fractions.Fraction(6, 4)            # automatické krácení"
   ]
  },
  {
   "cell_type": "code",
   "execution_count": 13,
   "metadata": {},
   "outputs": [
    {
     "ename": "ZeroDivisionError",
     "evalue": "Fraction(0, 0)",
     "output_type": "error",
     "traceback": [
      "\u001b[1;31m---------------------------------------------------------------------------\u001b[0m",
      "\u001b[1;31mZeroDivisionError\u001b[0m                         Traceback (most recent call last)",
      "\u001b[1;32m~\\AppData\\Local\\Temp/ipykernel_3176/1650752050.py\u001b[0m in \u001b[0;36m<module>\u001b[1;34m\u001b[0m\n\u001b[1;32m----> 1\u001b[1;33m \u001b[0mfractions\u001b[0m\u001b[1;33m.\u001b[0m\u001b[0mFraction\u001b[0m\u001b[1;33m(\u001b[0m\u001b[1;36m0\u001b[0m\u001b[1;33m,\u001b[0m \u001b[1;36m0\u001b[0m\u001b[1;33m)\u001b[0m\u001b[1;33m\u001b[0m\u001b[1;33m\u001b[0m\u001b[0m\n\u001b[0m",
      "\u001b[1;32m~\\AppData\\Local\\Programs\\Python\\Python39\\lib\\fractions.py\u001b[0m in \u001b[0;36m__new__\u001b[1;34m(cls, numerator, denominator, _normalize)\u001b[0m\n\u001b[0;32m    154\u001b[0m \u001b[1;33m\u001b[0m\u001b[0m\n\u001b[0;32m    155\u001b[0m         \u001b[1;32mif\u001b[0m \u001b[0mdenominator\u001b[0m \u001b[1;33m==\u001b[0m \u001b[1;36m0\u001b[0m\u001b[1;33m:\u001b[0m\u001b[1;33m\u001b[0m\u001b[1;33m\u001b[0m\u001b[0m\n\u001b[1;32m--> 156\u001b[1;33m             \u001b[1;32mraise\u001b[0m \u001b[0mZeroDivisionError\u001b[0m\u001b[1;33m(\u001b[0m\u001b[1;34m'Fraction(%s, 0)'\u001b[0m \u001b[1;33m%\u001b[0m \u001b[0mnumerator\u001b[0m\u001b[1;33m)\u001b[0m\u001b[1;33m\u001b[0m\u001b[1;33m\u001b[0m\u001b[0m\n\u001b[0m\u001b[0;32m    157\u001b[0m         \u001b[1;32mif\u001b[0m \u001b[0m_normalize\u001b[0m\u001b[1;33m:\u001b[0m\u001b[1;33m\u001b[0m\u001b[1;33m\u001b[0m\u001b[0m\n\u001b[0;32m    158\u001b[0m             \u001b[0mg\u001b[0m \u001b[1;33m=\u001b[0m \u001b[0mmath\u001b[0m\u001b[1;33m.\u001b[0m\u001b[0mgcd\u001b[0m\u001b[1;33m(\u001b[0m\u001b[0mnumerator\u001b[0m\u001b[1;33m,\u001b[0m \u001b[0mdenominator\u001b[0m\u001b[1;33m)\u001b[0m\u001b[1;33m\u001b[0m\u001b[1;33m\u001b[0m\u001b[0m\n",
      "\u001b[1;31mZeroDivisionError\u001b[0m: Fraction(0, 0)"
     ]
    }
   ],
   "source": [
    "fractions.Fraction(0, 0)            # chyba"
   ]
  },
  {
   "cell_type": "markdown",
   "metadata": {},
   "source": [
    "Komplexní čísla"
   ]
  },
  {
   "cell_type": "markdown",
   "metadata": {},
   "source": [
    "\"(Re + Im $j$)\" nebo pomocí interní funkce \"complex(Re, Im)\""
   ]
  },
  {
   "cell_type": "code",
   "execution_count": 44,
   "metadata": {},
   "outputs": [
    {
     "name": "stdout",
     "output_type": "stream",
     "text": [
      "(5+7j)\n",
      "5.0 7.0\n",
      "8.602325267042627\n"
     ]
    }
   ],
   "source": [
    "z = 5 + 7j           # nebo velkým písmenem: 5 + 7J\n",
    "print(z)\n",
    "print(z.real, z.imag)\n",
    "print(abs(z))"
   ]
  },
  {
   "cell_type": "code",
   "execution_count": 42,
   "metadata": {},
   "outputs": [
    {
     "name": "stdout",
     "output_type": "stream",
     "text": [
      "(-1+0j)\n",
      "(1.5+0.5j)\n"
     ]
    }
   ],
   "source": [
    "print(1j * complex(0,1))\n",
    "print((1+2j)/(1+1j))"
   ]
  },
  {
   "cell_type": "code",
   "execution_count": 36,
   "metadata": {},
   "outputs": [
    {
     "ename": "ValueError",
     "evalue": "math domain error",
     "output_type": "error",
     "traceback": [
      "\u001b[1;31m---------------------------------------------------------------------------\u001b[0m",
      "\u001b[1;31mValueError\u001b[0m                                Traceback (most recent call last)",
      "\u001b[1;32m~\\AppData\\Local\\Temp/ipykernel_3176/420012812.py\u001b[0m in \u001b[0;36m<module>\u001b[1;34m\u001b[0m\n\u001b[0;32m      1\u001b[0m \u001b[1;32mimport\u001b[0m \u001b[0mmath\u001b[0m\u001b[1;33m\u001b[0m\u001b[1;33m\u001b[0m\u001b[0m\n\u001b[1;32m----> 2\u001b[1;33m \u001b[0mprint\u001b[0m\u001b[1;33m(\u001b[0m\u001b[0mmath\u001b[0m\u001b[1;33m.\u001b[0m\u001b[0msqrt\u001b[0m\u001b[1;33m(\u001b[0m\u001b[1;33m-\u001b[0m\u001b[1;36m1\u001b[0m\u001b[1;33m)\u001b[0m\u001b[1;33m)\u001b[0m\u001b[1;33m\u001b[0m\u001b[1;33m\u001b[0m\u001b[0m\n\u001b[0m",
      "\u001b[1;31mValueError\u001b[0m: math domain error"
     ]
    }
   ],
   "source": [
    "import math\n",
    "print(math.sqrt(-1))            # chyba (vrací float)"
   ]
  },
  {
   "cell_type": "code",
   "execution_count": 2,
   "metadata": {},
   "outputs": [
    {
     "name": "stdout",
     "output_type": "stream",
     "text": [
      "(6.123233995736766e-17+1j)\n",
      "(6.123233995736766e-17+1j)\n"
     ]
    }
   ],
   "source": [
    "print((-1) ** 0.5)\n",
    "print((-1) ** (1/2))"
   ]
  },
  {
   "cell_type": "markdown",
   "metadata": {},
   "source": [
    "#### Seznamy\n",
    "- uspořádaná kolekce položek"
   ]
  },
  {
   "cell_type": "code",
   "execution_count": 21,
   "metadata": {},
   "outputs": [
    {
     "name": "stdout",
     "output_type": "stream",
     "text": [
      "['a', 'b', 'prvek3', 'z', 'poslední-5']\n",
      "5\n"
     ]
    }
   ],
   "source": [
    "seznam = ['a', 'b', 'prvek3', 'z', 'poslední-5']\n",
    "print(seznam)               # seznam\n",
    "print(len(seznam))          # počet prvků"
   ]
  },
  {
   "cell_type": "code",
   "execution_count": 32,
   "metadata": {},
   "outputs": [
    {
     "name": "stdout",
     "output_type": "stream",
     "text": [
      "a\n",
      "poslední-5\n",
      "poslední-5\n",
      "prvek3\n"
     ]
    }
   ],
   "source": [
    "print(seznam[0])            # první prvek\n",
    "print(seznam[4])\n",
    "print(seznam[-1])           # poslední prvek\n",
    "print(seznam[-3])"
   ]
  },
  {
   "cell_type": "markdown",
   "metadata": {},
   "source": [
    "Podseznamy"
   ]
  },
  {
   "cell_type": "code",
   "execution_count": 34,
   "metadata": {},
   "outputs": [
    {
     "name": "stdout",
     "output_type": "stream",
     "text": [
      "['a', 'b', 'prvek3', 'z', 'poslední-5']\n",
      "['b', 'prvek3']\n",
      "['b', 'prvek3', 'z']\n",
      "['a', 'b', 'prvek3']\n",
      "['z', 'poslední-5']\n",
      "['a', 'b', 'prvek3', 'z', 'poslední-5']\n"
     ]
    }
   ],
   "source": [
    "print(seznam)\n",
    "print(seznam[1:3])          # nový seznam od 2. prvku do 4. (bez 4.)\n",
    "print(seznam[1:-1])         # bez 1. a posledního\n",
    "print(seznam[:3])           # jako seznam[0:3] (od začátku)\n",
    "print(seznam[3:])           # až do konce\n",
    "print(seznam[:])            # nový seznam (kopie)"
   ]
  },
  {
   "cell_type": "markdown",
   "metadata": {},
   "source": [
    "Přidání položky"
   ]
  },
  {
   "cell_type": "code",
   "execution_count": 8,
   "metadata": {},
   "outputs": [
    {
     "name": "stdout",
     "output_type": "stream",
     "text": [
      "['a', True]\n",
      "['zacatek', 'a', True]\n",
      "['zacatek', 'a', True, 'p1', 'p2']\n",
      "['zacatek', 'a', True, 'p1', 'p2', 2.0, 3]\n"
     ]
    }
   ],
   "source": [
    "seznam = ['a']\n",
    "seznam.append(True)             # přidání položky na konec seznamu\n",
    "print(seznam)\n",
    "seznam.insert(0, \"zacatek\")     # přidání položky na libovolnou pozici\n",
    "print(seznam)\n",
    "seznam.extend([\"p1\", \"p2\"])     # přidání položek (podseznamu) na konec seznamu\n",
    "print(seznam)\n",
    "seznam = seznam + [2.0, 3]      # spojení dvou seznamů\n",
    "print(seznam)"
   ]
  },
  {
   "cell_type": "markdown",
   "metadata": {},
   "source": [
    "Poznámka: pokud metodě append dáme jako parametr podseznam, vloží se jako prvek"
   ]
  },
  {
   "cell_type": "code",
   "execution_count": 9,
   "metadata": {},
   "outputs": [
    {
     "data": {
      "text/plain": [
       "['zacatek', 'a', True, 'p1', 'p2', 2.0, 3, ['g', 'h', 'i']]"
      ]
     },
     "execution_count": 9,
     "metadata": {},
     "output_type": "execute_result"
    }
   ],
   "source": [
    "a_list = ['a', 'b', 'c']\n",
    "seznam.append(['g', 'h', 'i'])\n",
    "seznam"
   ]
  },
  {
   "cell_type": "markdown",
   "metadata": {},
   "source": [
    "Hledání v seznamu"
   ]
  },
  {
   "cell_type": "code",
   "execution_count": 13,
   "metadata": {},
   "outputs": [
    {
     "name": "stdout",
     "output_type": "stream",
     "text": [
      "2\n",
      "True\n",
      "1\n"
     ]
    },
    {
     "ename": "ValueError",
     "evalue": "'k' is not in list",
     "output_type": "error",
     "traceback": [
      "\u001b[1;31m---------------------------------------------------------------------------\u001b[0m",
      "\u001b[1;31mValueError\u001b[0m                                Traceback (most recent call last)",
      "\u001b[1;32m~\\AppData\\Local\\Temp/ipykernel_14712/110332672.py\u001b[0m in \u001b[0;36m<module>\u001b[1;34m\u001b[0m\n\u001b[0;32m      3\u001b[0m \u001b[0mprint\u001b[0m\u001b[1;33m(\u001b[0m\u001b[1;34m'z'\u001b[0m \u001b[1;32min\u001b[0m \u001b[0mseznam\u001b[0m\u001b[1;33m)\u001b[0m                \u001b[1;31m# obsahuje hodnotu\u001b[0m\u001b[1;33m\u001b[0m\u001b[1;33m\u001b[0m\u001b[0m\n\u001b[0;32m      4\u001b[0m \u001b[0mprint\u001b[0m\u001b[1;33m(\u001b[0m\u001b[0mseznam\u001b[0m\u001b[1;33m.\u001b[0m\u001b[0mindex\u001b[0m\u001b[1;33m(\u001b[0m\u001b[1;34m'b'\u001b[0m\u001b[1;33m)\u001b[0m\u001b[1;33m)\u001b[0m            \u001b[1;31m# index prvního výskytu\u001b[0m\u001b[1;33m\u001b[0m\u001b[1;33m\u001b[0m\u001b[0m\n\u001b[1;32m----> 5\u001b[1;33m \u001b[0mprint\u001b[0m\u001b[1;33m(\u001b[0m\u001b[0mseznam\u001b[0m\u001b[1;33m.\u001b[0m\u001b[0mindex\u001b[0m\u001b[1;33m(\u001b[0m\u001b[1;34m'k'\u001b[0m\u001b[1;33m)\u001b[0m\u001b[1;33m)\u001b[0m            \u001b[1;31m# index prvního výskytu\u001b[0m\u001b[1;33m\u001b[0m\u001b[1;33m\u001b[0m\u001b[0m\n\u001b[0m",
      "\u001b[1;31mValueError\u001b[0m: 'k' is not in list"
     ]
    }
   ],
   "source": [
    "seznam = ['a', 'b', 'prvek3', 'z', 'b']\n",
    "print(seznam.count('b'))            # počet výskytů hodnoty\n",
    "print('z' in seznam)                # obsahuje hodnotu\n",
    "print(seznam.index('b'))            # index prvního výskytu\n",
    "print(seznam.index('k'))            # v případě nenalezení výjimka"
   ]
  },
  {
   "cell_type": "markdown",
   "metadata": {},
   "source": [
    "Odstraňování položek"
   ]
  },
  {
   "cell_type": "code",
   "execution_count": 16,
   "metadata": {},
   "outputs": [
    {
     "name": "stdout",
     "output_type": "stream",
     "text": [
      "['a', 'b', 'z', 'b']\n",
      "['a', 'z', 'b']\n"
     ]
    },
    {
     "ename": "ValueError",
     "evalue": "list.remove(x): x not in list",
     "output_type": "error",
     "traceback": [
      "\u001b[1;31m---------------------------------------------------------------------------\u001b[0m",
      "\u001b[1;31mValueError\u001b[0m                                Traceback (most recent call last)",
      "\u001b[1;32m~\\AppData\\Local\\Temp/ipykernel_14712/122756057.py\u001b[0m in \u001b[0;36m<module>\u001b[1;34m\u001b[0m\n\u001b[0;32m      4\u001b[0m \u001b[0mseznam\u001b[0m\u001b[1;33m.\u001b[0m\u001b[0mremove\u001b[0m\u001b[1;33m(\u001b[0m\u001b[1;34m'b'\u001b[0m\u001b[1;33m)\u001b[0m                  \u001b[1;31m# smazání prvku s hodnotou 'b'\u001b[0m\u001b[1;33m\u001b[0m\u001b[1;33m\u001b[0m\u001b[0m\n\u001b[0;32m      5\u001b[0m \u001b[0mprint\u001b[0m\u001b[1;33m(\u001b[0m\u001b[0mseznam\u001b[0m\u001b[1;33m)\u001b[0m                       \u001b[1;31m# smaže se jen první výskyt\u001b[0m\u001b[1;33m\u001b[0m\u001b[1;33m\u001b[0m\u001b[0m\n\u001b[1;32m----> 6\u001b[1;33m \u001b[0mseznam\u001b[0m\u001b[1;33m.\u001b[0m\u001b[0mremove\u001b[0m\u001b[1;33m(\u001b[0m\u001b[1;34m'k'\u001b[0m\u001b[1;33m)\u001b[0m                  \u001b[1;31m# v případě nenalezení výjimka\u001b[0m\u001b[1;33m\u001b[0m\u001b[1;33m\u001b[0m\u001b[0m\n\u001b[0m\u001b[0;32m      7\u001b[0m \u001b[0mprint\u001b[0m\u001b[1;33m(\u001b[0m\u001b[0mseznam\u001b[0m\u001b[1;33m)\u001b[0m\u001b[1;33m\u001b[0m\u001b[1;33m\u001b[0m\u001b[0m\n",
      "\u001b[1;31mValueError\u001b[0m: list.remove(x): x not in list"
     ]
    }
   ],
   "source": [
    "seznam = ['a', 'b', 'prvek3', 'z', 'b']\n",
    "del seznam[2]                       # smazání 3. prvku\n",
    "print(seznam)\n",
    "seznam.remove('b')                  # smazání prvku s hodnotou 'b'\n",
    "print(seznam)                       # smaže se jen první výskyt, ostatní zůstávají\n",
    "seznam.remove('k')                  # v případě nenalezení výjimka\n",
    "print(seznam)"
   ]
  },
  {
   "cell_type": "code",
   "execution_count": 20,
   "metadata": {},
   "outputs": [
    {
     "name": "stdout",
     "output_type": "stream",
     "text": [
      "b\n",
      "['a', 'b', 'prvek3', 'z']\n",
      "a\n",
      "['b', 'prvek3', 'z']\n"
     ]
    }
   ],
   "source": [
    "seznam = ['a', 'b', 'prvek3', 'z', 'b']\n",
    "odebrany = seznam.pop()             # vrátí poslední a odstraní ho ze seznamu\n",
    "print(odebrany)\n",
    "print(seznam)\n",
    "odebrany = seznam.pop(0)            # vrátí libovolný a odstraní ho ze seznamu\n",
    "print(odebrany)\n",
    "print(seznam)"
   ]
  },
  {
   "cell_type": "markdown",
   "metadata": {},
   "source": [
    "Příklad"
   ]
  },
  {
   "cell_type": "code",
   "execution_count": 3,
   "metadata": {},
   "outputs": [
    {
     "name": "stdout",
     "output_type": "stream",
     "text": [
      "4.0\n",
      "[2, 2, 3, 4, 4, 4, 5, 6, 6, 6]\n"
     ]
    }
   ],
   "source": [
    "def median(seznam):\n",
    "    seznam.sort()\n",
    "    delka = len(seznam)\n",
    "    mid = delka // 2            # celočíselné dělení\n",
    "    if (delka % 2 == 0):\n",
    "        return (seznam[mid] + seznam[mid-1]) / 2.0\n",
    "    else:\n",
    "        return seznam[mid]\n",
    "\n",
    "a = [6, 4, 4, 6, 5, 3, 6, 4, 2, 2]\n",
    "print(median(a))\n",
    "print(a)"
   ]
  },
  {
   "cell_type": "markdown",
   "metadata": {},
   "source": [
    "Vnořené seznamy"
   ]
  },
  {
   "cell_type": "code",
   "execution_count": 4,
   "metadata": {},
   "outputs": [
    {
     "name": "stdout",
     "output_type": "stream",
     "text": [
      "[[1, 2, 3], [4, 5, 6], [7, 8, 9]]\n",
      "6\n"
     ]
    }
   ],
   "source": [
    "mat = [ [1, 2, 3],\n",
    "        [4, 5, 6],\n",
    "        [7, 8, 9] ]\n",
    "print(mat)\n",
    "print(mat[1][2]);"
   ]
  },
  {
   "cell_type": "markdown",
   "metadata": {},
   "source": [
    "#### N-tice\n",
    "- neměnitelný seznam\n",
    "- nemají metody append, remove ap.\n",
    "- rychlejší než seznamy"
   ]
  },
  {
   "cell_type": "code",
   "execution_count": 24,
   "metadata": {},
   "outputs": [
    {
     "name": "stdout",
     "output_type": "stream",
     "text": [
      "('a', 'b', 'prvek3', 'z', 'b')\n",
      "a\n",
      "b\n",
      "b\n",
      "('b', 'prvek3')\n"
     ]
    }
   ],
   "source": [
    "ntice = ('a', 'b', 'prvek3', 'z', 'b')\n",
    "print(ntice)\n",
    "print(ntice[0])             # první prvek\n",
    "print(ntice[4])\n",
    "print(ntice[-1])            # poslední prvek\n",
    "print(ntice[1:3])           # výřez (nová n-tice)"
   ]
  },
  {
   "cell_type": "markdown",
   "metadata": {},
   "source": [
    "Přiřazení více hodnot najednou"
   ]
  },
  {
   "cell_type": "code",
   "execution_count": 27,
   "metadata": {},
   "outputs": [
    {
     "name": "stdout",
     "output_type": "stream",
     "text": [
      "a\n",
      "2\n",
      "True\n"
     ]
    }
   ],
   "source": [
    "v = ('a', 2, True)\n",
    "(x, y, z) = v           # přiřazení hodnot n-tice do proměnných v uvedeném pořadí\n",
    "print(x)\n",
    "print(y)\n",
    "print(z)"
   ]
  },
  {
   "cell_type": "code",
   "execution_count": 31,
   "metadata": {},
   "outputs": [
    {
     "data": {
      "text/plain": [
       "2"
      ]
     },
     "execution_count": 31,
     "metadata": {},
     "output_type": "execute_result"
    }
   ],
   "source": [
    "(MONDAY, TUESDAY, WEDNESDAY, THURSDAY, FRIDAY, SATURDAY, SUNDAY) = range(7) \n",
    "WEDNESDAY"
   ]
  },
  {
   "cell_type": "markdown",
   "metadata": {},
   "source": [
    "#### Množiny\n",
    "- neuspořádaná kolekce jedinečných hodnot"
   ]
  },
  {
   "cell_type": "code",
   "execution_count": 59,
   "metadata": {},
   "outputs": [
    {
     "name": "stdout",
     "output_type": "stream",
     "text": [
      "{'a', 'prvek3', 'b', 'z'}\n",
      "{}\n"
     ]
    },
    {
     "ename": "TypeError",
     "evalue": "'set' object is not subscriptable",
     "output_type": "error",
     "traceback": [
      "\u001b[1;31m---------------------------------------------------------------------------\u001b[0m",
      "\u001b[1;31mTypeError\u001b[0m                                 Traceback (most recent call last)",
      "\u001b[1;32m~\\AppData\\Local\\Temp/ipykernel_14712/4019476662.py\u001b[0m in \u001b[0;36m<module>\u001b[1;34m\u001b[0m\n\u001b[0;32m      3\u001b[0m \u001b[0mprint\u001b[0m\u001b[1;33m(\u001b[0m\u001b[0msetA\u001b[0m\u001b[1;33m)\u001b[0m\u001b[1;33m\u001b[0m\u001b[1;33m\u001b[0m\u001b[0m\n\u001b[0;32m      4\u001b[0m \u001b[0mprint\u001b[0m\u001b[1;33m(\u001b[0m\u001b[0msetB\u001b[0m\u001b[1;33m)\u001b[0m\u001b[1;33m\u001b[0m\u001b[1;33m\u001b[0m\u001b[0m\n\u001b[1;32m----> 5\u001b[1;33m \u001b[0mprint\u001b[0m\u001b[1;33m(\u001b[0m\u001b[0msetA\u001b[0m\u001b[1;33m[\u001b[0m\u001b[1;36m0\u001b[0m\u001b[1;33m]\u001b[0m\u001b[1;33m)\u001b[0m\u001b[1;33m\u001b[0m\u001b[1;33m\u001b[0m\u001b[0m\n\u001b[0m",
      "\u001b[1;31mTypeError\u001b[0m: 'set' object is not subscriptable"
     ]
    }
   ],
   "source": [
    "setA = {'a', 'b', 'prvek3', 'z', 'b'}   # každý prvek jedinečný (další výskyt se ignoruje)\n",
    "setB = {}                               # prázdná množina\n",
    "print(setA)\n",
    "print(setB)"
   ]
  },
  {
   "cell_type": "markdown",
   "metadata": {},
   "source": [
    "Editace množin"
   ]
  },
  {
   "cell_type": "code",
   "execution_count": 49,
   "metadata": {},
   "outputs": [
    {
     "name": "stdout",
     "output_type": "stream",
     "text": [
      "{1, 2}\n",
      "{1, 2, 3}\n",
      "3\n",
      "{1, 2, 3}\n"
     ]
    }
   ],
   "source": [
    "A = {1, 2}\n",
    "print(A)\n",
    "A.add(3)                # přidání prvku\n",
    "print(A)\n",
    "print(len(A))           # počet prvků\n",
    "A.add(1)                # nezmění se\n",
    "print(A)"
   ]
  },
  {
   "cell_type": "code",
   "execution_count": 58,
   "metadata": {},
   "outputs": [
    {
     "name": "stdout",
     "output_type": "stream",
     "text": [
      "{1, 2, 3, 4, 6}\n",
      "{1, 2, 3, 4, 6, 8, 9, 13}\n",
      "{1, 2, 3, 4, 6, 8, 9, 13, 20, 30}\n"
     ]
    }
   ],
   "source": [
    "A = {1, 2, 3}\n",
    "A.update({2, 4, 6})             # přidá všechny členy do původní množiny\n",
    "print(A)\n",
    "A.update({6, 9}, {3, 8, 13})    # může mít více parametrů\n",
    "print(A)\n",
    "A.update([20, 30])              # umí pracovat s dalšími datovými typy\n",
    "print(A)"
   ]
  },
  {
   "cell_type": "markdown",
   "metadata": {},
   "source": [
    "Odstraňování položek"
   ]
  },
  {
   "cell_type": "code",
   "execution_count": 64,
   "metadata": {},
   "outputs": [
    {
     "name": "stdout",
     "output_type": "stream",
     "text": [
      "{1, 3, 36, 6, 10, 45, 15, 21, 28}\n",
      "{1, 3, 36, 6, 45, 15, 21, 28}\n",
      "{1, 3, 36, 6, 45, 15, 21, 28}\n",
      "{1, 3, 36, 45, 15, 21, 28}\n"
     ]
    },
    {
     "ename": "KeyError",
     "evalue": "6",
     "output_type": "error",
     "traceback": [
      "\u001b[1;31m---------------------------------------------------------------------------\u001b[0m",
      "\u001b[1;31mKeyError\u001b[0m                                  Traceback (most recent call last)",
      "\u001b[1;32m~\\AppData\\Local\\Temp/ipykernel_14712/2687503195.py\u001b[0m in \u001b[0;36m<module>\u001b[1;34m\u001b[0m\n\u001b[0;32m      7\u001b[0m \u001b[0mA\u001b[0m\u001b[1;33m.\u001b[0m\u001b[0mremove\u001b[0m\u001b[1;33m(\u001b[0m\u001b[1;36m6\u001b[0m\u001b[1;33m)\u001b[0m                 \u001b[1;31m# odstranění hodnoty 6\u001b[0m\u001b[1;33m\u001b[0m\u001b[1;33m\u001b[0m\u001b[0m\n\u001b[0;32m      8\u001b[0m \u001b[0mprint\u001b[0m\u001b[1;33m(\u001b[0m\u001b[0mA\u001b[0m\u001b[1;33m)\u001b[0m\u001b[1;33m\u001b[0m\u001b[1;33m\u001b[0m\u001b[0m\n\u001b[1;32m----> 9\u001b[1;33m \u001b[0mA\u001b[0m\u001b[1;33m.\u001b[0m\u001b[0mremove\u001b[0m\u001b[1;33m(\u001b[0m\u001b[1;36m6\u001b[0m\u001b[1;33m)\u001b[0m                 \u001b[1;31m# pokud už není, výjimka\u001b[0m\u001b[1;33m\u001b[0m\u001b[1;33m\u001b[0m\u001b[0m\n\u001b[0m",
      "\u001b[1;31mKeyError\u001b[0m: 6"
     ]
    }
   ],
   "source": [
    "A = {1, 3, 6, 10, 15, 21, 28, 36, 45}\n",
    "print(A)\n",
    "A.discard(10)               # odstranění hodnoty 10\n",
    "print(A)\n",
    "A.discard(10)               # pokud už není, neprovede se nic\n",
    "print(A)\n",
    "A.remove(6)                 # odstranění hodnoty 6\n",
    "print(A)\n",
    "A.remove(6)                 # pokud už není, výjimka\n"
   ]
  },
  {
   "cell_type": "code",
   "execution_count": 66,
   "metadata": {},
   "outputs": [
    {
     "name": "stdout",
     "output_type": "stream",
     "text": [
      "1\n",
      "{3, 36, 6, 10, 45, 15, 21, 28}\n"
     ]
    }
   ],
   "source": [
    "A = {1, 3, 6, 10, 15, 21, 28, 36, 45}\n",
    "odebrany = A.pop()          # vybere se libovolný (množiny neuspořádané)\n",
    "print(odebrany)\n",
    "print(A)"
   ]
  },
  {
   "cell_type": "markdown",
   "metadata": {},
   "source": [
    "Množinové operace"
   ]
  },
  {
   "cell_type": "code",
   "execution_count": 74,
   "metadata": {},
   "outputs": [
    {
     "name": "stdout",
     "output_type": "stream",
     "text": [
      "True False\n",
      "{1, 2, 195, 4, 5, 3, 6, 8, 9, 12, 76, 15, 17, 18, 21, 30, 51, 127}\n",
      "{2, 5, 9, 12, 21}\n",
      "{195, 4, 76, 51, 30, 127}\n",
      "{1, 3, 195, 6, 4, 8, 76, 15, 17, 18, 51, 30, 127}\n"
     ]
    }
   ],
   "source": [
    "A = {2, 4, 5, 9, 12, 21, 30, 51, 76, 127, 195}\n",
    "print(5 in A, 6 in A)\n",
    "B = {1, 2, 3, 5, 6, 8, 9, 12, 15, 17, 18, 21}\n",
    "print(A.union(B))                   # sjednocení\n",
    "print(A.intersection(B))            # průnik\n",
    "print(A.difference(B))              # rozdíl\n",
    "print(A.symmetric_difference(B))    # prvky, které jsou právě v jedné"
   ]
  },
  {
   "cell_type": "code",
   "execution_count": 76,
   "metadata": {},
   "outputs": [
    {
     "name": "stdout",
     "output_type": "stream",
     "text": [
      "True\n",
      "True\n"
     ]
    }
   ],
   "source": [
    "A = {1, 2, 3}\n",
    "B = {1, 2, 3, 4}\n",
    "print(A.issubset(B))\n",
    "print(B.issuperset(A))"
   ]
  },
  {
   "cell_type": "markdown",
   "metadata": {},
   "source": [
    "#### Slovníky\n",
    "- neuspořádaná kolekce dvojic klíč-hodnota"
   ]
  },
  {
   "cell_type": "code",
   "execution_count": 91,
   "metadata": {},
   "outputs": [
    {
     "name": "stdout",
     "output_type": "stream",
     "text": [
      "{'server': 'www.ujep.cz', 'kniha': 'Python'}\n",
      "www.ujep.cz\n",
      "Python\n"
     ]
    }
   ],
   "source": [
    "dict  = {'server': 'www.ujep.cz', 'kniha': 'Python'}\n",
    "print(dict)\n",
    "print(dict['server'])           # položka s klíčem 'server'\n",
    "print(dict['kniha'])            # položka s klíčem 'kniha'"
   ]
  },
  {
   "cell_type": "code",
   "execution_count": 90,
   "metadata": {},
   "outputs": [
    {
     "name": "stdout",
     "output_type": "stream",
     "text": [
      "{'server': 'www.ujep.cz', 'kniha': 'Python', 'budova': 'CPTO'}\n",
      "{'server': 'www.ujep.cz', 'kniha': 'Python', 'budova': 'REK'}\n",
      "{'server': 'www.ujep.cz', 'kniha': 'Python', 'budova': 'CPTO'}\n"
     ]
    }
   ],
   "source": [
    "print(dict)\n",
    "dict['budova'] = 'REK'          # vložení nové dvojice\n",
    "print(dict)\n",
    "dict['budova'] = 'CPTO'         # pokud klíč existuje, editace\n",
    "print(dict)"
   ]
  },
  {
   "cell_type": "code",
   "execution_count": 95,
   "metadata": {},
   "outputs": [
    {
     "name": "stdout",
     "output_type": "stream",
     "text": [
      "2\n",
      "True\n",
      "['KB', 'MB', 'GB', 'TB', 'pB', 'EB', 'ZB', 'YB']\n",
      "GiB\n"
     ]
    }
   ],
   "source": [
    "SUFFIXES = {1000: ['KB', 'MB', 'GB', 'TB', 'pB', 'EB', 'ZB', 'YB'],\n",
    "1024: ['KiB', 'MiB', 'GiB', 'TiB', 'piB', 'EiB', 'ZiB', 'YiB']}\n",
    "print(len(SUFFIXES))            # počet klíčů ve slovníku\n",
    "print(1000 in SUFFIXES)         # je klíč 1000 definován?\n",
    "print(SUFFIXES[1000])           # hodnota klíče je seznam\n",
    "print(SUFFIXES[1024][2])        # přístup k položkám"
   ]
  },
  {
   "cell_type": "markdown",
   "metadata": {},
   "source": [
    "#### Typ None"
   ]
  },
  {
   "cell_type": "code",
   "execution_count": 97,
   "metadata": {},
   "outputs": [
    {
     "name": "stdout",
     "output_type": "stream",
     "text": [
      "<class 'NoneType'>\n",
      "True\n"
     ]
    }
   ],
   "source": [
    "print(type(None))   # samostatný typ\n",
    "a = None            # možno přiřadit do libovolné  proměnné\n",
    "b = None\n",
    "print(a == b)       # všechny proměnné typu None jsou vzájemně shodné"
   ]
  },
  {
   "cell_type": "markdown",
   "metadata": {},
   "source": [
    "#### Změna typu"
   ]
  },
  {
   "cell_type": "code",
   "execution_count": null,
   "metadata": {},
   "outputs": [
    {
     "name": "stdout",
     "output_type": "stream",
     "text": [
      "[1, 2, 3]\n",
      "{1, 2, 3}\n",
      "[1, 2, 3]\n",
      "[0, 1, 2, 3, 4, 5, 6, 7, 8, 9]\n",
      "[]\n",
      "set()\n",
      "<class 'list'> <class 'set'>\n"
     ]
    }
   ],
   "source": [
    "s = list((1,2,3))           # n-tice -> seznam\n",
    "print(s)\n",
    "m = set(s)                  # seznam -> množina\n",
    "print(m)\n",
    "s2 = list(s)                # kopie seznamu\n",
    "print(s2)\n",
    "s3 = list(range(10))        # rozsah (iterátor) -> seznam\n",
    "print(s3)\n",
    "s4 = list()                 # prázdný seznam\n",
    "print(s4)\n",
    "m4 = set()                  # prázdná množina\n",
    "print(m4)\n",
    "print(type(s4), type(m4))   # datový typ"
   ]
  }
 ],
 "metadata": {
  "interpreter": {
   "hash": "e83efde216936fbdf4bb348948dbe705ca6754d4c0e093cc59b59a9bd47ce075"
  },
  "kernelspec": {
   "display_name": "Python 3.9.9 64-bit",
   "language": "python",
   "name": "python3"
  },
  "language_info": {
   "codemirror_mode": {
    "name": "ipython",
    "version": 3
   },
   "file_extension": ".py",
   "mimetype": "text/x-python",
   "name": "python",
   "nbconvert_exporter": "python",
   "pygments_lexer": "ipython3",
   "version": "3.9.9"
  },
  "orig_nbformat": 4
 },
 "nbformat": 4,
 "nbformat_minor": 2
}
