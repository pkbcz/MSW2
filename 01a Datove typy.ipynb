{
 "cells": [
  {
   "attachments": {},
   "cell_type": "markdown",
   "metadata": {},
   "source": [
    "# Python\n",
    "## Základní datové typy\n",
    "1. Boolean (booleovský typ)  \n",
    "    nabývá buď hodnoty True nebo False\n",
    "2. Čísla \n",
    "    - celá (integer; 1 a 2)\n",
    "    - reálná (float; 1.1 a 1.2)\n",
    "    - zlomky (fraction; 1/2 and 2/3)\n",
    "    - komplexní čísla\n",
    "3. Řetězce  \n",
    "    posloupnosti Unicode znaků  \n",
    "    např. html dokument\n",
    "4. Seznamy  \n",
    "    uspořádané posloupnosti hodnot\n",
    "5. N-tice  \n",
    "    uspořádané, neměnné posloupnosti hodnot\n",
    "6. Množiny  \n",
    "    neuspořádané kolekce hodnot\n",
    "7. Slovníky  \n",
    "    neuspořádané kolekce dvojic klíč-hodnota\n",
    "8. Bajty a pole bajtů  \n",
    "    např. soubor s obrázkem ve formátu JpEG"
   ]
  },
  {
   "attachments": {},
   "cell_type": "markdown",
   "metadata": {},
   "source": [
    "#### Booleovský typ"
   ]
  },
  {
   "cell_type": "code",
   "execution_count": 2,
   "metadata": {},
   "outputs": [
    {
     "name": "stdout",
     "output_type": "stream",
     "text": [
      "False\n",
      "False\n",
      "True\n",
      "False True\n"
     ]
    }
   ],
   "source": [
    "size = 1\n",
    "print(size < 0)\n",
    "size = 0\n",
    "print(size < 0)\n",
    "size = -1\n",
    "print(size < 0)\n",
    "\n",
    "x = [\"a\", \"b\", \"c\"]\n",
    "y = [\"a\", \"b\", \"c\"]\n",
    "z = x\n",
    "print(x is y, x is z) "
   ]
  },
  {
   "attachments": {},
   "cell_type": "markdown",
   "metadata": {},
   "source": [
    "#### Čísla"
   ]
  },
  {
   "attachments": {},
   "cell_type": "markdown",
   "metadata": {},
   "source": [
    "Integer\n",
    "- místo přetečení Python vyhradí pro číslo větší množství paměti\n",
    "- ve skutečnosti ukazatel na strukturu C s několika hodnotami"
   ]
  },
  {
   "cell_type": "code",
   "execution_count": 3,
   "metadata": {},
   "outputs": [
    {
     "name": "stdout",
     "output_type": "stream",
     "text": [
      "<class 'int'>\n",
      "True\n",
      "2\n",
      "2.0\n"
     ]
    }
   ],
   "source": [
    "print(type(1))              # ověření typu libovolné hodnoty nebo proměnné\n",
    "print(isinstance(1, int))   # ověření, zda hodnota odpovídá zadanému typu\n",
    "print(1 + 1)                # int\n",
    "print(1 + 1.0)              # vynucení převodu int na float, vrácení float"
   ]
  },
  {
   "cell_type": "code",
   "execution_count": 4,
   "metadata": {},
   "outputs": [
    {
     "name": "stdout",
     "output_type": "stream",
     "text": [
      "<class 'int'> 28\n",
      "<class 'int'> 28\n",
      "<class 'int'> 40\n",
      "<class 'int'> 72\n",
      "<class 'int'> 468\n"
     ]
    }
   ],
   "source": [
    "import sys\n",
    "a = 0\n",
    "print(type(a), sys.getsizeof(a))                # velikost v B - vše je režie\n",
    "a = 1\n",
    "print(type(a), sys.getsizeof(a))                # velikost v B (odečteme-li režii, jsou to 4 B)\n",
    "a = 1_000_000_000_000_000_000_000_000_000_000   # celá čísla mohou být libovolně velká\n",
    "print(type(a), sys.getsizeof(a))\n",
    "a = 10**100                                     # celá čísla mohou být libovolně velká\n",
    "print(type(a), sys.getsizeof(a))\n",
    "a = 10**1000                                    # celá čísla mohou být libovolně velká\n",
    "print(type(a), sys.getsizeof(a))"
   ]
  },
  {
   "attachments": {},
   "cell_type": "markdown",
   "metadata": {},
   "source": [
    "Float"
   ]
  },
  {
   "attachments": {},
   "cell_type": "markdown",
   "metadata": {},
   "source": [
    "ve formátu $sign * mantisa * 2 ** e$\n",
    "\n",
    "- sign:       1 b\n",
    "- mantisa:   52 b\n",
    "- exponent:  11 b"
   ]
  },
  {
   "cell_type": "code",
   "execution_count": 5,
   "metadata": {},
   "outputs": [
    {
     "name": "stdout",
     "output_type": "stream",
     "text": [
      "<class 'float'> 24\n",
      "1.2345678901234568e+25\n",
      "<class 'float'> 24\n",
      "sys.float_info(max=1.7976931348623157e+308, max_exp=1024, max_10_exp=308, min=2.2250738585072014e-308, min_exp=-1021, min_10_exp=-307, dig=15, mant_dig=53, epsilon=2.220446049250313e-16, radix=2, rounds=1)\n"
     ]
    }
   ],
   "source": [
    "import sys\n",
    "print(type(1.0), sys.getsizeof(1.0))\n",
    "a = 1.2345678901234567890123456789E25\n",
    "print(a)\n",
    "print(type(a), sys.getsizeof(a))\n",
    "print(sys.float_info)"
   ]
  },
  {
   "cell_type": "code",
   "execution_count": 6,
   "metadata": {},
   "outputs": [
    {
     "name": "stdout",
     "output_type": "stream",
     "text": [
      "0.30000000000000004\n",
      "0.3\n",
      "False\n",
      "0.30000000000000004441\n",
      "0.29999999999999998890\n",
      "True\n",
      "0.3\n",
      "True\n"
     ]
    }
   ],
   "source": [
    "x = 0.1 + 0.1 + 0.1\n",
    "y = 0.3\n",
    "print(x)\n",
    "print(y)\n",
    "print(x == y)                       # zaokrouhlovací chyba\n",
    "print(format(x, '.20f'))\n",
    "print(format(y, '.20f'))\n",
    "print(round(x, 3) == round(y, 3))\n",
    "\n",
    "print(round(x, 3))\n",
    "import math\n",
    "print(math.isclose(x,y))            # další parametry rel_tol=1e-9, abs_tol=0.0"
   ]
  },
  {
   "attachments": {},
   "cell_type": "markdown",
   "metadata": {},
   "source": [
    "Převody"
   ]
  },
  {
   "cell_type": "code",
   "execution_count": 17,
   "metadata": {},
   "outputs": [
    {
     "name": "stdout",
     "output_type": "stream",
     "text": [
      "2.0\n",
      "2\n",
      "2\n",
      "-2\n",
      "1.1234567890123457\n",
      "<class 'int'>\n"
     ]
    }
   ],
   "source": [
    "print(float(2))                 # int -> float\n",
    "print(int(2.0))                 # float -> int\n",
    "print(int(2.5))                 # odsekávání (ne zaokrouhlení)\n",
    "print(int(-2.5))\n",
    "print(1.12345678901234567890)   # přesnost 15 desetinných míst\n",
    "print(type(1000000000000000))   # celá čísla mohou být libovolně velká"
   ]
  },
  {
   "attachments": {},
   "cell_type": "markdown",
   "metadata": {},
   "source": [
    "Běžné operace s čísly"
   ]
  },
  {
   "cell_type": "code",
   "execution_count": 10,
   "metadata": {},
   "outputs": [
    {
     "name": "stdout",
     "output_type": "stream",
     "text": [
      "5.5\n",
      "5.0\n",
      "5\n",
      "-6\n",
      "5.0\n",
      "121\n",
      "1\n"
     ]
    }
   ],
   "source": [
    "print(11 / 2)           # dělení\n",
    "print(10 / 2)           # vždy vrací float\n",
    "print(11 // 2)          # celočíselné dělení\n",
    "print(-11 // 2)         # záporná čísla zaokrouhlena dolů        \n",
    "print(11.0 // 2)        # je float (!)\n",
    "print(11 ** 2)          # umocňování\n",
    "print(11 % 2)           # zbytek po celočíselném dělení\n"
   ]
  },
  {
   "attachments": {},
   "cell_type": "markdown",
   "metadata": {},
   "source": [
    "Zlomky"
   ]
  },
  {
   "cell_type": "code",
   "execution_count": 8,
   "metadata": {},
   "outputs": [
    {
     "name": "stdout",
     "output_type": "stream",
     "text": [
      "1/3\n",
      "2/3\n"
     ]
    }
   ],
   "source": [
    "import fractions\n",
    "x = fractions.Fraction(1, 3)        # čitatel, jmenovatel\n",
    "print(x)\n",
    "print(x * 2)                        # opět typ Fraction"
   ]
  },
  {
   "cell_type": "code",
   "execution_count": 9,
   "metadata": {},
   "outputs": [
    {
     "data": {
      "text/plain": [
       "Fraction(3, 2)"
      ]
     },
     "execution_count": 9,
     "metadata": {},
     "output_type": "execute_result"
    }
   ],
   "source": [
    "fractions.Fraction(6, 4)            # automatické krácení"
   ]
  },
  {
   "cell_type": "code",
   "execution_count": 10,
   "metadata": {},
   "outputs": [
    {
     "ename": "ZeroDivisionError",
     "evalue": "Fraction(0, 0)",
     "output_type": "error",
     "traceback": [
      "\u001b[1;31m---------------------------------------------------------------------------\u001b[0m",
      "\u001b[1;31mZeroDivisionError\u001b[0m                         Traceback (most recent call last)",
      "\u001b[1;32m~\\AppData\\Local\\Temp/ipykernel_9220/3066785647.py\u001b[0m in \u001b[0;36m<module>\u001b[1;34m\u001b[0m\n\u001b[1;32m----> 1\u001b[1;33m \u001b[0mfractions\u001b[0m\u001b[1;33m.\u001b[0m\u001b[0mFraction\u001b[0m\u001b[1;33m(\u001b[0m\u001b[1;36m0\u001b[0m\u001b[1;33m,\u001b[0m \u001b[1;36m0\u001b[0m\u001b[1;33m)\u001b[0m            \u001b[1;31m# chyba\u001b[0m\u001b[1;33m\u001b[0m\u001b[1;33m\u001b[0m\u001b[0m\n\u001b[0m",
      "\u001b[1;32mC:\\Program Files\\WindowsApps\\PythonSoftwareFoundation.Python.3.9_3.9.2800.0_x64__qbz5n2kfra8p0\\lib\\fractions.py\u001b[0m in \u001b[0;36m__new__\u001b[1;34m(cls, numerator, denominator, _normalize)\u001b[0m\n\u001b[0;32m    154\u001b[0m \u001b[1;33m\u001b[0m\u001b[0m\n\u001b[0;32m    155\u001b[0m         \u001b[1;32mif\u001b[0m \u001b[0mdenominator\u001b[0m \u001b[1;33m==\u001b[0m \u001b[1;36m0\u001b[0m\u001b[1;33m:\u001b[0m\u001b[1;33m\u001b[0m\u001b[1;33m\u001b[0m\u001b[0m\n\u001b[1;32m--> 156\u001b[1;33m             \u001b[1;32mraise\u001b[0m \u001b[0mZeroDivisionError\u001b[0m\u001b[1;33m(\u001b[0m\u001b[1;34m'Fraction(%s, 0)'\u001b[0m \u001b[1;33m%\u001b[0m \u001b[0mnumerator\u001b[0m\u001b[1;33m)\u001b[0m\u001b[1;33m\u001b[0m\u001b[1;33m\u001b[0m\u001b[0m\n\u001b[0m\u001b[0;32m    157\u001b[0m         \u001b[1;32mif\u001b[0m \u001b[0m_normalize\u001b[0m\u001b[1;33m:\u001b[0m\u001b[1;33m\u001b[0m\u001b[1;33m\u001b[0m\u001b[0m\n\u001b[0;32m    158\u001b[0m             \u001b[0mg\u001b[0m \u001b[1;33m=\u001b[0m \u001b[0mmath\u001b[0m\u001b[1;33m.\u001b[0m\u001b[0mgcd\u001b[0m\u001b[1;33m(\u001b[0m\u001b[0mnumerator\u001b[0m\u001b[1;33m,\u001b[0m \u001b[0mdenominator\u001b[0m\u001b[1;33m)\u001b[0m\u001b[1;33m\u001b[0m\u001b[1;33m\u001b[0m\u001b[0m\n",
      "\u001b[1;31mZeroDivisionError\u001b[0m: Fraction(0, 0)"
     ]
    }
   ],
   "source": [
    "fractions.Fraction(0, 0)            # chyba"
   ]
  },
  {
   "attachments": {},
   "cell_type": "markdown",
   "metadata": {},
   "source": [
    "Komplexní čísla"
   ]
  },
  {
   "attachments": {},
   "cell_type": "markdown",
   "metadata": {},
   "source": [
    "\"(Re + Im $j$)\" nebo pomocí interní funkce \"complex(Re, Im)\""
   ]
  },
  {
   "cell_type": "code",
   "execution_count": 7,
   "metadata": {},
   "outputs": [
    {
     "name": "stdout",
     "output_type": "stream",
     "text": [
      "(5+7j)\n",
      "5.0 7.0\n",
      "8.602325267042627\n"
     ]
    }
   ],
   "source": [
    "z = 5 + 7j           # nebo velkým písmenem: 5 + 7J, příp. complex(5, 7)\n",
    "# nutno např. q = 5 + 1j\n",
    "print(z)\n",
    "print(z.real, z.imag)\n",
    "print(abs(z))"
   ]
  },
  {
   "cell_type": "code",
   "execution_count": 42,
   "metadata": {},
   "outputs": [
    {
     "name": "stdout",
     "output_type": "stream",
     "text": [
      "(-1+0j)\n",
      "(1.5+0.5j)\n"
     ]
    }
   ],
   "source": [
    "print(1j * complex(0,1))\n",
    "print((1+2j)/(1+1j))"
   ]
  },
  {
   "cell_type": "code",
   "execution_count": 8,
   "metadata": {},
   "outputs": [
    {
     "ename": "TypeError",
     "evalue": "must be real number, not complex",
     "output_type": "error",
     "traceback": [
      "\u001b[1;31m---------------------------------------------------------------------------\u001b[0m",
      "\u001b[1;31mTypeError\u001b[0m                                 Traceback (most recent call last)",
      "Cell \u001b[1;32mIn[8], line 2\u001b[0m\n\u001b[0;32m      1\u001b[0m \u001b[38;5;28;01mimport\u001b[39;00m\u001b[38;5;250m \u001b[39m\u001b[38;5;21;01mmath\u001b[39;00m\n\u001b[1;32m----> 2\u001b[0m \u001b[38;5;28mprint\u001b[39m(\u001b[43mmath\u001b[49m\u001b[38;5;241;43m.\u001b[39;49m\u001b[43msqrt\u001b[49m\u001b[43m(\u001b[49m\u001b[38;5;241;43m-\u001b[39;49m\u001b[38;5;241;43m1\u001b[39;49m\u001b[38;5;241;43m+\u001b[39;49m\u001b[38;5;241;43m0\u001b[39;49m\u001b[43mj\u001b[49m\u001b[43m)\u001b[49m)            \u001b[38;5;66;03m# chyba (vrací float)\u001b[39;00m\n",
      "\u001b[1;31mTypeError\u001b[0m: must be real number, not complex"
     ]
    }
   ],
   "source": [
    "import math\n",
    "print(math.sqrt(-1+0j))            # chyba (vrací float)"
   ]
  },
  {
   "cell_type": "code",
   "execution_count": 14,
   "metadata": {},
   "outputs": [
    {
     "name": "stdout",
     "output_type": "stream",
     "text": [
      "(6.123233995736766e-17+1j)\n",
      "(6.123233995736766e-17+1j)\n"
     ]
    }
   ],
   "source": [
    "print((-1) ** 0.5)\n",
    "print((-1) ** (1/2))"
   ]
  },
  {
   "attachments": {},
   "cell_type": "markdown",
   "metadata": {},
   "source": [
    "#### Seznamy\n",
    "- uspořádaná kolekce položek"
   ]
  },
  {
   "cell_type": "code",
   "execution_count": 1,
   "metadata": {},
   "outputs": [
    {
     "name": "stdout",
     "output_type": "stream",
     "text": [
      "['a', 'b', 'prvek3', 'z', 'poslední-5']\n",
      "5\n"
     ]
    }
   ],
   "source": [
    "seznam = ['a', 'b', 'prvek3', 'z', 'poslední-5']\n",
    "print(seznam)               # seznam\n",
    "print(len(seznam))          # počet prvků"
   ]
  },
  {
   "cell_type": "code",
   "execution_count": 32,
   "metadata": {},
   "outputs": [
    {
     "name": "stdout",
     "output_type": "stream",
     "text": [
      "a\n",
      "poslední-5\n",
      "poslední-5\n",
      "prvek3\n"
     ]
    }
   ],
   "source": [
    "print(seznam[0])            # první prvek\n",
    "print(seznam[4])\n",
    "print(seznam[-1])           # poslední prvek\n",
    "print(seznam[-3])"
   ]
  },
  {
   "attachments": {},
   "cell_type": "markdown",
   "metadata": {},
   "source": [
    "Podseznamy (řezy, slicing)"
   ]
  },
  {
   "cell_type": "code",
   "execution_count": 2,
   "metadata": {},
   "outputs": [
    {
     "name": "stdout",
     "output_type": "stream",
     "text": [
      "['a', 'b', 'prvek3', 'z', 'poslední-5']\n",
      "['b', 'prvek3']\n",
      "['b', 'prvek3', 'z']\n",
      "['a', 'b', 'prvek3']\n",
      "['z', 'poslední-5']\n",
      "['a', 'b', 'prvek3', 'z', 'poslední-5']\n"
     ]
    }
   ],
   "source": [
    "print(seznam)\n",
    "print(seznam[1:3])          # seznam od 2. prvku do 4. (bez 4.)\n",
    "print(seznam[1:-1])         # bez 1. a posledního\n",
    "print(seznam[:3])           # jako seznam[0:3] (od začátku)\n",
    "print(seznam[3:])           # až do konce\n",
    "print(seznam[:])            # nový seznam (kopie)"
   ]
  },
  {
   "cell_type": "markdown",
   "metadata": {},
   "source": [
    "Řezy jsou mutable: pokud je editujeme, projeví se to na původním objektu"
   ]
  },
  {
   "cell_type": "code",
   "execution_count": 8,
   "metadata": {},
   "outputs": [
    {
     "data": {
      "text/plain": [
       "[1, -2, -3, 4, 5]"
      ]
     },
     "execution_count": 8,
     "metadata": {},
     "output_type": "execute_result"
    }
   ],
   "source": [
    "seznam = [1,2,3,4,5]\n",
    "seznam[1:3] = [-2, -3]\n",
    "seznam"
   ]
  },
  {
   "cell_type": "markdown",
   "metadata": {},
   "source": [
    "Řezy s jiným krokem"
   ]
  },
  {
   "cell_type": "code",
   "execution_count": 8,
   "metadata": {},
   "outputs": [
    {
     "name": "stdout",
     "output_type": "stream",
     "text": [
      "[0, 3, 6, 9]\n",
      "[1, 3, 5, 7, 9]\n",
      "[1, 3, 5, 7]\n"
     ]
    }
   ],
   "source": [
    "seznam = list(range(11))\n",
    "print(seznam[::3])          # krok 3\n",
    "print(seznam[1::2])         # krok 2, od 2. prvku\n",
    "print(seznam[1:-2:2])       # totéž, ale bez posledních dvou"
   ]
  },
  {
   "attachments": {},
   "cell_type": "markdown",
   "metadata": {},
   "source": [
    "Přidání položky"
   ]
  },
  {
   "cell_type": "code",
   "execution_count": 8,
   "metadata": {},
   "outputs": [
    {
     "name": "stdout",
     "output_type": "stream",
     "text": [
      "['a', True]\n",
      "['zacatek', 'a', True]\n",
      "['zacatek', 'a', True, 'p1', 'p2']\n",
      "['zacatek', 'a', True, 'p1', 'p2', 2.0, 3]\n"
     ]
    }
   ],
   "source": [
    "seznam = ['a']\n",
    "seznam.append(True)             # přidání položky na konec seznamu\n",
    "print(seznam)\n",
    "seznam.insert(0, \"zacatek\")     # přidání položky na libovolnou pozici\n",
    "print(seznam)\n",
    "seznam.extend([\"p1\", \"p2\"])     # přidání položek (podseznamu) na konec seznamu\n",
    "print(seznam)\n",
    "seznam = seznam + [2.0, 3]      # spojení dvou seznamů\n",
    "print(seznam)"
   ]
  },
  {
   "attachments": {},
   "cell_type": "markdown",
   "metadata": {},
   "source": [
    "Poznámka: pokud metodě append dáme jako parametr podseznam, vloží se jako prvek"
   ]
  },
  {
   "cell_type": "code",
   "execution_count": 9,
   "metadata": {},
   "outputs": [
    {
     "data": {
      "text/plain": [
       "['zacatek', 'a', True, 'p1', 'p2', 2.0, 3, ['g', 'h', 'i']]"
      ]
     },
     "execution_count": 9,
     "metadata": {},
     "output_type": "execute_result"
    }
   ],
   "source": [
    "a_list = ['a', 'b', 'c']\n",
    "seznam.append(['g', 'h', 'i'])\n",
    "seznam"
   ]
  },
  {
   "attachments": {},
   "cell_type": "markdown",
   "metadata": {},
   "source": [
    "Hledání v seznamu"
   ]
  },
  {
   "cell_type": "code",
   "execution_count": 10,
   "metadata": {},
   "outputs": [
    {
     "name": "stdout",
     "output_type": "stream",
     "text": [
      "2\n",
      "True\n",
      "1\n"
     ]
    },
    {
     "ename": "ValueError",
     "evalue": "'k' is not in list",
     "output_type": "error",
     "traceback": [
      "\u001b[1;31m---------------------------------------------------------------------------\u001b[0m",
      "\u001b[1;31mValueError\u001b[0m                                Traceback (most recent call last)",
      "\u001b[1;32m~\\AppData\\Local\\Temp/ipykernel_15284/2652337533.py\u001b[0m in \u001b[0;36m<module>\u001b[1;34m\u001b[0m\n\u001b[0;32m      3\u001b[0m \u001b[0mprint\u001b[0m\u001b[1;33m(\u001b[0m\u001b[1;34m'z'\u001b[0m \u001b[1;32min\u001b[0m \u001b[0mseznam\u001b[0m\u001b[1;33m)\u001b[0m                \u001b[1;31m# obsahuje hodnotu\u001b[0m\u001b[1;33m\u001b[0m\u001b[1;33m\u001b[0m\u001b[0m\n\u001b[0;32m      4\u001b[0m \u001b[0mprint\u001b[0m\u001b[1;33m(\u001b[0m\u001b[0mseznam\u001b[0m\u001b[1;33m.\u001b[0m\u001b[0mindex\u001b[0m\u001b[1;33m(\u001b[0m\u001b[1;34m'b'\u001b[0m\u001b[1;33m)\u001b[0m\u001b[1;33m)\u001b[0m            \u001b[1;31m# index prvního výskytu\u001b[0m\u001b[1;33m\u001b[0m\u001b[1;33m\u001b[0m\u001b[0m\n\u001b[1;32m----> 5\u001b[1;33m \u001b[0mprint\u001b[0m\u001b[1;33m(\u001b[0m\u001b[0mseznam\u001b[0m\u001b[1;33m.\u001b[0m\u001b[0mindex\u001b[0m\u001b[1;33m(\u001b[0m\u001b[1;34m'k'\u001b[0m\u001b[1;33m)\u001b[0m\u001b[1;33m)\u001b[0m            \u001b[1;31m# v případě nenalezení výjimka\u001b[0m\u001b[1;33m\u001b[0m\u001b[1;33m\u001b[0m\u001b[0m\n\u001b[0m",
      "\u001b[1;31mValueError\u001b[0m: 'k' is not in list"
     ]
    }
   ],
   "source": [
    "seznam = ['a', 'b', 'prvek3', 'z', 'b']\n",
    "print(seznam.count('b'))            # počet výskytů hodnoty\n",
    "print('z' in seznam)                # obsahuje hodnotu\n",
    "print(seznam.index('b'))            # index prvního výskytu\n",
    "print(seznam.index('k'))            # v případě nenalezení výjimka"
   ]
  },
  {
   "attachments": {},
   "cell_type": "markdown",
   "metadata": {},
   "source": [
    "Odstraňování položek"
   ]
  },
  {
   "cell_type": "code",
   "execution_count": 10,
   "metadata": {},
   "outputs": [
    {
     "name": "stdout",
     "output_type": "stream",
     "text": [
      "['a', 'b', 'z', 'b']\n",
      "['a', 'z', 'b']\n"
     ]
    },
    {
     "ename": "ValueError",
     "evalue": "list.remove(x): x not in list",
     "output_type": "error",
     "traceback": [
      "\u001b[1;31m---------------------------------------------------------------------------\u001b[0m",
      "\u001b[1;31mValueError\u001b[0m                                Traceback (most recent call last)",
      "Cell \u001b[1;32mIn[10], line 6\u001b[0m\n\u001b[0;32m      4\u001b[0m seznam\u001b[38;5;241m.\u001b[39mremove(\u001b[38;5;124m'\u001b[39m\u001b[38;5;124mb\u001b[39m\u001b[38;5;124m'\u001b[39m)                  \u001b[38;5;66;03m# smazání prvku s hodnotou 'b'\u001b[39;00m\n\u001b[0;32m      5\u001b[0m \u001b[38;5;28mprint\u001b[39m(seznam)                       \u001b[38;5;66;03m# smaže se jen první výskyt, ostatní zůstávají\u001b[39;00m\n\u001b[1;32m----> 6\u001b[0m \u001b[43mseznam\u001b[49m\u001b[38;5;241;43m.\u001b[39;49m\u001b[43mremove\u001b[49m\u001b[43m(\u001b[49m\u001b[38;5;124;43m'\u001b[39;49m\u001b[38;5;124;43mk\u001b[39;49m\u001b[38;5;124;43m'\u001b[39;49m\u001b[43m)\u001b[49m                  \u001b[38;5;66;03m# v případě nenalezení výjimka\u001b[39;00m\n\u001b[0;32m      7\u001b[0m \u001b[38;5;28mprint\u001b[39m(seznam)\n",
      "\u001b[1;31mValueError\u001b[0m: list.remove(x): x not in list"
     ]
    }
   ],
   "source": [
    "seznam = ['a', 'b', 'prvek3', 'z', 'b']\n",
    "del seznam[2]                       # smazání 3. prvku\n",
    "print(seznam)\n",
    "seznam.remove('b')                  # smazání prvku s hodnotou 'b'\n",
    "print(seznam)                       # smaže se jen první výskyt, ostatní zůstávají\n",
    "seznam.remove('k')                  # v případě nenalezení výjimka\n",
    "print(seznam)"
   ]
  },
  {
   "attachments": {},
   "cell_type": "markdown",
   "metadata": {},
   "source": [
    "Další způsoby odstraňování položek"
   ]
  },
  {
   "cell_type": "code",
   "execution_count": 11,
   "metadata": {},
   "outputs": [
    {
     "name": "stdout",
     "output_type": "stream",
     "text": [
      "['a', 'b', 'Novy prvek', 'z', 'b']\n",
      "[]\n"
     ]
    }
   ],
   "source": [
    "seznam = ['a', 'b', 'prvek3', 'z', 'b']\n",
    "seznam[2:3] = [\"Novy prvek\"]\n",
    "print(seznam)\n",
    "seznam.clear()\n",
    "print(seznam)"
   ]
  },
  {
   "cell_type": "code",
   "execution_count": 20,
   "metadata": {},
   "outputs": [
    {
     "name": "stdout",
     "output_type": "stream",
     "text": [
      "b\n",
      "['a', 'b', 'prvek3', 'z']\n",
      "a\n",
      "['b', 'prvek3', 'z']\n"
     ]
    }
   ],
   "source": [
    "seznam = ['a', 'b', 'prvek3', 'z', 'b']\n",
    "odebrany = seznam.pop()             # vrátí poslední a odstraní ho ze seznamu\n",
    "print(odebrany)\n",
    "print(seznam)\n",
    "odebrany = seznam.pop(0)            # vrátí libovolný a odstraní ho ze seznamu\n",
    "print(odebrany)\n",
    "print(seznam)"
   ]
  },
  {
   "attachments": {},
   "cell_type": "markdown",
   "metadata": {},
   "source": [
    "Příklad\n",
    "- Medián - 50% kvantil, dělí řadu seřazených výsledků na dvě stejně početné poloviny"
   ]
  },
  {
   "cell_type": "code",
   "execution_count": 12,
   "metadata": {},
   "outputs": [
    {
     "name": "stdout",
     "output_type": "stream",
     "text": [
      "4.0\n",
      "[2, 2, 3, 4, 4, 4, 5, 6, 6, 6]\n"
     ]
    }
   ],
   "source": [
    "def median(seznam):\n",
    "    seznam.sort()\n",
    "    delka = len(seznam)\n",
    "    mid = delka // 2            # celočíselné dělení\n",
    "    if (delka % 2 == 0):        # když sudý počet prvků, průměr dvou prostředních\n",
    "        return (seznam[mid] + seznam[mid-1]) / 2.0\n",
    "    else:\n",
    "        return seznam[mid]\n",
    "\n",
    "a = [6, 4, 4, 6, 5, 3, 6, 4, 2, 2]\n",
    "print(median(a))\n",
    "print(a)"
   ]
  },
  {
   "attachments": {},
   "cell_type": "markdown",
   "metadata": {},
   "source": [
    "Vnořené seznamy"
   ]
  },
  {
   "cell_type": "code",
   "execution_count": 1,
   "metadata": {},
   "outputs": [
    {
     "name": "stdout",
     "output_type": "stream",
     "text": [
      "[[1, 2, 3], [4, 5, 6], [7, 8, 9]]\n",
      "2. řádek, 3. sloupec: 6\n"
     ]
    }
   ],
   "source": [
    "mat = [ [1, 2, 3],\n",
    "        [4, 5, 6],\n",
    "        [7, 8, 9] ]\n",
    "print(mat)\n",
    "print(\"2. řádek, 3. sloupec:\", mat[1][2]);"
   ]
  },
  {
   "attachments": {},
   "cell_type": "markdown",
   "metadata": {},
   "source": [
    "Možnost tvorby seznamu pomocí for (List comprehension)"
   ]
  },
  {
   "cell_type": "code",
   "execution_count": 34,
   "metadata": {},
   "outputs": [
    {
     "name": "stdout",
     "output_type": "stream",
     "text": [
      "[0, 1, 4, 9, 16, 25, 36, 49, 64, 81]\n"
     ]
    }
   ],
   "source": [
    "squares = [x**2 for x in range(10)]\n",
    "print(squares)"
   ]
  },
  {
   "cell_type": "code",
   "execution_count": 13,
   "metadata": {},
   "outputs": [
    {
     "name": "stdout",
     "output_type": "stream",
     "text": [
      "[2, 3, 10, 1, 5]\n",
      "[4, 6, 20, 2, 10]\n",
      "[20, 10] [20, 10]\n"
     ]
    }
   ],
   "source": [
    "L = [2, 3, 10, 1, 5]\n",
    "L2 = [2*x for x in L]                       # [4, 6, 20, 2, 10]\n",
    "L3a = [2*x for x in L if 4 < x <= 10]       # [20, 10]\n",
    "L3b = [x for x in L2 if 8 < x <= 20]        # [20, 10]\n",
    "print(L)\n",
    "print(L2)\n",
    "print(L3a, L3b)"
   ]
  },
  {
   "cell_type": "code",
   "execution_count": 10,
   "metadata": {},
   "outputs": [
    {
     "data": {
      "text/plain": [
       "[[0, 1, 2, 3, 4],\n",
       " [10, 11, 12, 13, 14],\n",
       " [20, 21, 22, 23, 24],\n",
       " [30, 31, 32, 33, 34],\n",
       " [40, 41, 42, 43, 44]]"
      ]
     },
     "execution_count": 10,
     "metadata": {},
     "output_type": "execute_result"
    }
   ],
   "source": [
    "mat = [[n + m * 10 for n in range(5)] for m in range(5)]\n",
    "mat"
   ]
  },
  {
   "attachments": {},
   "cell_type": "markdown",
   "metadata": {},
   "source": [
    "#### N-tice\n",
    "- neměnitelný seznam\n",
    "- nemají metody append, remove ap.\n",
    "- rychlejší než seznamy"
   ]
  },
  {
   "cell_type": "code",
   "execution_count": 14,
   "metadata": {},
   "outputs": [
    {
     "name": "stdout",
     "output_type": "stream",
     "text": [
      "('a', 'b', 'prvek3', 'z', 'b')\n",
      "a\n",
      "b\n",
      "b\n",
      "('b', 'prvek3')\n"
     ]
    }
   ],
   "source": [
    "ntice = ('a', 'b', 'prvek3', 'z', 'b')\n",
    "print(ntice)\n",
    "print(ntice[0])             # první prvek\n",
    "print(ntice[4])\n",
    "print(ntice[-1])            # poslední prvek\n",
    "print(ntice[1:3])           # výřez (nová n-tice)"
   ]
  },
  {
   "attachments": {},
   "cell_type": "markdown",
   "metadata": {},
   "source": [
    "Přiřazení více hodnot najednou"
   ]
  },
  {
   "cell_type": "code",
   "execution_count": 8,
   "metadata": {},
   "outputs": [
    {
     "name": "stdout",
     "output_type": "stream",
     "text": [
      "(0, 1)\n",
      "(1, 0)\n"
     ]
    }
   ],
   "source": [
    "a, b = 0, 1     # přiřadí a = 0 a b = 1 (vlevo i vpravo mohou být závorky () nebo [])\n",
    "print((a, b))\n",
    "a, b = b, a     # výměna obou hodnot\n",
    "print((a, b))"
   ]
  },
  {
   "cell_type": "code",
   "execution_count": null,
   "metadata": {},
   "outputs": [
    {
     "name": "stdout",
     "output_type": "stream",
     "text": [
      "a\n",
      "2\n",
      "True\n"
     ]
    }
   ],
   "source": [
    "v = ('a', 2, True)\n",
    "(x, y, z) = v           # přiřazení hodnot n-tice do proměnných v uvedeném pořadí\n",
    "print(x)\n",
    "print(y)\n",
    "print(z)"
   ]
  },
  {
   "cell_type": "code",
   "execution_count": 31,
   "metadata": {},
   "outputs": [
    {
     "data": {
      "text/plain": [
       "2"
      ]
     },
     "execution_count": 31,
     "metadata": {},
     "output_type": "execute_result"
    }
   ],
   "source": [
    "(MONDAY, TUESDAY, WEDNESDAY, THURSDAY, FRIDAY, SATURDAY, SUNDAY) = range(7) \n",
    "WEDNESDAY"
   ]
  },
  {
   "attachments": {},
   "cell_type": "markdown",
   "metadata": {},
   "source": [
    "Slučování seznamů - zip"
   ]
  },
  {
   "cell_type": "code",
   "execution_count": 13,
   "metadata": {},
   "outputs": [
    {
     "data": {
      "text/plain": [
       "[(0, 'red'), (1, 'green'), (2, 'blue'), (3, 'alpha')]"
      ]
     },
     "execution_count": 13,
     "metadata": {},
     "output_type": "execute_result"
    }
   ],
   "source": [
    "indexy = [0, 1, 2, 3, 4, 5, 6, 7]\n",
    "barvy  = [\"red\", \"green\", \"blue\", \"alpha\"]\n",
    "list(zip(indexy, barvy))        # velikost podle menšího"
   ]
  },
  {
   "attachments": {},
   "cell_type": "markdown",
   "metadata": {},
   "source": [
    "#### Množiny\n",
    "- neuspořádaná kolekce jedinečných hodnot"
   ]
  },
  {
   "cell_type": "code",
   "execution_count": 15,
   "metadata": {},
   "outputs": [
    {
     "name": "stdout",
     "output_type": "stream",
     "text": [
      "{'a', 'b', 'z', 'prvek3'}\n",
      "{}\n"
     ]
    }
   ],
   "source": [
    "setA = {'a', 'b', 'prvek3', 'z', 'b'}   # každý prvek jedinečný (další výskyt se ignoruje)\n",
    "setB = {}                               # prázdná množina\n",
    "print(setA)\n",
    "print(setB)"
   ]
  },
  {
   "attachments": {},
   "cell_type": "markdown",
   "metadata": {},
   "source": [
    "Editace množin"
   ]
  },
  {
   "cell_type": "code",
   "execution_count": 2,
   "metadata": {},
   "outputs": [
    {
     "name": "stdout",
     "output_type": "stream",
     "text": [
      "{1, 2}\n",
      "{1, 2, 3}\n",
      "3\n",
      "{1, 2, 3}\n"
     ]
    }
   ],
   "source": [
    "A = {1, 2}\n",
    "print(A)\n",
    "A.add(3)                # přidání prvku\n",
    "print(A)\n",
    "print(len(A))           # počet prvků\n",
    "A.add(1)                # nezmění se\n",
    "print(A)"
   ]
  },
  {
   "cell_type": "code",
   "execution_count": 6,
   "metadata": {},
   "outputs": [
    {
     "name": "stdout",
     "output_type": "stream",
     "text": [
      "{1, 2, 3, 4, 6}\n",
      "{1, 2, 3, 4, 6, 8, 9, 13}\n",
      "{1, 2, 3, 4, 6, 8, 9, 13, 20, 30}\n"
     ]
    }
   ],
   "source": [
    "A = {1, 2, 3}\n",
    "A.update({2, 4, 6})             # přidá všechny členy do původní množiny\n",
    "print(A)\n",
    "A.update({6, 9}, {3, 8, 13})    # může mít více parametrů\n",
    "print(A)\n",
    "A.update([20, 30])              # umí pracovat s dalšími datovými typy\n",
    "print(A)"
   ]
  },
  {
   "attachments": {},
   "cell_type": "markdown",
   "metadata": {},
   "source": [
    "Odstraňování položek"
   ]
  },
  {
   "cell_type": "code",
   "execution_count": 19,
   "metadata": {},
   "outputs": [
    {
     "name": "stdout",
     "output_type": "stream",
     "text": [
      "{1, 3, 36, 6, 10, 45, 15, 21, 28}\n",
      "{1, 3, 36, 6, 45, 15, 21, 28}\n",
      "{1, 3, 36, 6, 45, 15, 21, 28}\n",
      "{1, 3, 36, 45, 15, 21, 28}\n"
     ]
    },
    {
     "ename": "KeyError",
     "evalue": "6",
     "output_type": "error",
     "traceback": [
      "\u001b[1;31m---------------------------------------------------------------------------\u001b[0m",
      "\u001b[1;31mKeyError\u001b[0m                                  Traceback (most recent call last)",
      "\u001b[1;32m~\\AppData\\Local\\Temp/ipykernel_16176/2687503195.py\u001b[0m in \u001b[0;36m<module>\u001b[1;34m\u001b[0m\n\u001b[0;32m      7\u001b[0m \u001b[0mA\u001b[0m\u001b[1;33m.\u001b[0m\u001b[0mremove\u001b[0m\u001b[1;33m(\u001b[0m\u001b[1;36m6\u001b[0m\u001b[1;33m)\u001b[0m                 \u001b[1;31m# odstranění hodnoty 6\u001b[0m\u001b[1;33m\u001b[0m\u001b[1;33m\u001b[0m\u001b[0m\n\u001b[0;32m      8\u001b[0m \u001b[0mprint\u001b[0m\u001b[1;33m(\u001b[0m\u001b[0mA\u001b[0m\u001b[1;33m)\u001b[0m\u001b[1;33m\u001b[0m\u001b[1;33m\u001b[0m\u001b[0m\n\u001b[1;32m----> 9\u001b[1;33m \u001b[0mA\u001b[0m\u001b[1;33m.\u001b[0m\u001b[0mremove\u001b[0m\u001b[1;33m(\u001b[0m\u001b[1;36m6\u001b[0m\u001b[1;33m)\u001b[0m                 \u001b[1;31m# pokud už není, výjimka\u001b[0m\u001b[1;33m\u001b[0m\u001b[1;33m\u001b[0m\u001b[0m\n\u001b[0m",
      "\u001b[1;31mKeyError\u001b[0m: 6"
     ]
    }
   ],
   "source": [
    "A = {1, 3, 6, 10, 15, 21, 28, 36, 45}\n",
    "print(A)\n",
    "A.discard(10)               # odstranění hodnoty 10\n",
    "print(A)\n",
    "A.discard(10)               # pokud už není, neprovede se nic\n",
    "print(A)\n",
    "A.remove(6)                 # odstranění hodnoty 6\n",
    "print(A)\n",
    "A.remove(6)                 # pokud už není, výjimka"
   ]
  },
  {
   "cell_type": "code",
   "execution_count": 66,
   "metadata": {},
   "outputs": [
    {
     "name": "stdout",
     "output_type": "stream",
     "text": [
      "1\n",
      "{3, 36, 6, 10, 45, 15, 21, 28}\n"
     ]
    }
   ],
   "source": [
    "A = {1, 3, 6, 10, 15, 21, 28, 36, 45}\n",
    "odebrany = A.pop()          # vybere se libovolný (množiny neuspořádané)\n",
    "print(odebrany)\n",
    "print(A)"
   ]
  },
  {
   "attachments": {},
   "cell_type": "markdown",
   "metadata": {},
   "source": [
    "Množinové operace"
   ]
  },
  {
   "cell_type": "code",
   "execution_count": 16,
   "metadata": {},
   "outputs": [
    {
     "name": "stdout",
     "output_type": "stream",
     "text": [
      "True False\n",
      "sjedn.\t {1, 2, 195, 4, 5, 3, 6, 8, 9, 12, 76, 15, 17, 18, 21, 30, 51, 127}\n",
      "průnik\t {2, 5, 9, 12, 21}\n",
      "rozdíl\t {195, 4, 76, 51, 30, 127}\n",
      "sym.df.\t {1, 3, 195, 6, 4, 8, 76, 15, 17, 18, 51, 30, 127}\n"
     ]
    }
   ],
   "source": [
    "A = {2, 4, 5, 9, 12, 21, 30, 51, 76, 127, 195}\n",
    "print(5 in A, 6 in A)\n",
    "B = {1, 2, 3, 5, 6, 8, 9, 12, 15, 17, 18, 21}\n",
    "print(\"sjedn.\\t\", A.union(B))                   # sjednocení\n",
    "print(\"průnik\\t\", A.intersection(B))            # průnik\n",
    "print(\"rozdíl\\t\", A.difference(B))              # rozdíl\n",
    "print(\"sym.df.\\t\", A.symmetric_difference(B))    # prvky, které jsou právě v jedné"
   ]
  },
  {
   "cell_type": "code",
   "execution_count": 76,
   "metadata": {},
   "outputs": [
    {
     "name": "stdout",
     "output_type": "stream",
     "text": [
      "True\n",
      "True\n"
     ]
    }
   ],
   "source": [
    "A = {1, 2, 3}\n",
    "B = {1, 2, 3, 4}\n",
    "print(A.issubset(B))\n",
    "print(B.issuperset(A))"
   ]
  },
  {
   "attachments": {},
   "cell_type": "markdown",
   "metadata": {},
   "source": [
    "#### Slovníky\n",
    "- neuspořádaná kolekce dvojic klíč-hodnota"
   ]
  },
  {
   "cell_type": "code",
   "execution_count": 18,
   "metadata": {},
   "outputs": [
    {
     "name": "stdout",
     "output_type": "stream",
     "text": [
      "{'server': 'www.ujep.cz', 'kniha': 'Python'}\n",
      "www.ujep.cz\n",
      "Python\n"
     ]
    }
   ],
   "source": [
    "dict  = {'server': 'www.ujep.cz', 'kniha': 'Python'}\n",
    "print(dict)\n",
    "print(dict['server'])           # položka s klíčem 'server'\n",
    "print(dict['kniha'])            # položka s klíčem 'kniha'"
   ]
  },
  {
   "cell_type": "code",
   "execution_count": 19,
   "metadata": {},
   "outputs": [
    {
     "name": "stdout",
     "output_type": "stream",
     "text": [
      "{'server': 'www.ujep.cz', 'kniha': 'Python'}\n",
      "{'server': 'www.ujep.cz', 'kniha': 'Python', 'budova': 'REK'}\n",
      "{'server': 'www.ujep.cz', 'kniha': 'Python', 'budova': 'CPTO'}\n"
     ]
    }
   ],
   "source": [
    "print(dict)\n",
    "dict['budova'] = 'REK'          # vložení nové dvojice\n",
    "print(dict)\n",
    "dict['budova'] = 'CPTO'         # pokud klíč existuje, editace\n",
    "print(dict)"
   ]
  },
  {
   "attachments": {},
   "cell_type": "markdown",
   "metadata": {},
   "source": [
    "Přístup k položkám"
   ]
  },
  {
   "cell_type": "code",
   "execution_count": 22,
   "metadata": {},
   "outputs": [
    {
     "name": "stdout",
     "output_type": "stream",
     "text": [
      "server\n",
      "kniha\n",
      "budova\n",
      "www.ujep.cz\n",
      "Python\n",
      "CPTO\n",
      "('server', 'www.ujep.cz')\n",
      "('kniha', 'Python')\n",
      "('budova', 'CPTO')\n"
     ]
    }
   ],
   "source": [
    "for key in dict.keys():         # nebo pouze for key in dict\n",
    "    print(key)\n",
    "for value in dict.values():\n",
    "    print(value)\n",
    "for item in dict.items():\n",
    "    print(item)"
   ]
  },
  {
   "attachments": {},
   "cell_type": "markdown",
   "metadata": {},
   "source": [
    "Hodnota může být jakéhokoliv typu"
   ]
  },
  {
   "cell_type": "code",
   "execution_count": 1,
   "metadata": {},
   "outputs": [
    {
     "name": "stdout",
     "output_type": "stream",
     "text": [
      "2\n",
      "True\n",
      "['KB', 'MB', 'GB', 'TB', 'pB', 'EB', 'ZB', 'YB']\n",
      "GiB\n"
     ]
    }
   ],
   "source": [
    "SUFFIXES = {1000: ['KB', 'MB', 'GB', 'TB', 'pB', 'EB', 'ZB', 'YB'],\n",
    "1024: ['KiB', 'MiB', 'GiB', 'TiB', 'piB', 'EiB', 'ZiB', 'YiB']}\n",
    "print(len(SUFFIXES))            # počet klíčů ve slovníku\n",
    "print(1000 in SUFFIXES)         # je klíč 1000 definován?\n",
    "print(SUFFIXES[1000])           # hodnota klíče je seznam\n",
    "print(SUFFIXES[1024][2])        # přístup k položkám"
   ]
  },
  {
   "attachments": {},
   "cell_type": "markdown",
   "metadata": {},
   "source": [
    "#### Typ None"
   ]
  },
  {
   "cell_type": "code",
   "execution_count": 97,
   "metadata": {},
   "outputs": [
    {
     "name": "stdout",
     "output_type": "stream",
     "text": [
      "<class 'NoneType'>\n",
      "True\n"
     ]
    }
   ],
   "source": [
    "print(type(None))   # samostatný typ\n",
    "a = None            # možno přiřadit do libovolné  proměnné\n",
    "b = None\n",
    "print(a == b)       # všechny proměnné typu None jsou vzájemně shodné"
   ]
  },
  {
   "attachments": {},
   "cell_type": "markdown",
   "metadata": {},
   "source": [
    "#### Změna typu"
   ]
  },
  {
   "cell_type": "code",
   "execution_count": 20,
   "metadata": {},
   "outputs": [
    {
     "name": "stdout",
     "output_type": "stream",
     "text": [
      "Seznam: [1, 2, 3]\n",
      "Množina: {1, 2, 3}\n",
      "Kopie: [1, 2, 3]\n",
      "Seznam z rozsahu: [0, 1, 2, 3, 4, 5, 6, 7, 8, 9]\n",
      "Prázdný seznam: []\n",
      "Množina: {1, 2}\n",
      "Prázdná množina: set()\n",
      "<class 'list'> <class 'set'>\n"
     ]
    }
   ],
   "source": [
    "s = list((1,2,3))               # n-tice -> seznam\n",
    "print(\"Seznam:\", s)\n",
    "m = set(s)                      # seznam -> množina\n",
    "print(\"Množina:\", m)\n",
    "s2 = list(s)                    # kopie seznamu\n",
    "print(\"Kopie:\", s2)\n",
    "s3 = list(range(10))            # rozsah (iterátor) -> seznam\n",
    "print(\"Seznam z rozsahu:\", s3)\n",
    "s4 = list()                     # prázdný seznam\n",
    "print(\"Prázdný seznam:\", s4)\n",
    "m4 = set((1,2))                 # množina z n-tice\n",
    "print(\"Množina:\", m4)\n",
    "m5 = set()                      # prázdná množina\n",
    "print(\"Prázdná množina:\", m5)\n",
    "print(type(s4), type(m5))       # datový typ"
   ]
  },
  {
   "attachments": {},
   "cell_type": "markdown",
   "metadata": {},
   "source": [
    "Zjištění typu"
   ]
  },
  {
   "cell_type": "code",
   "execution_count": 21,
   "metadata": {},
   "outputs": [
    {
     "name": "stdout",
     "output_type": "stream",
     "text": [
      "<class 'str'>\n",
      "True\n",
      "True\n",
      "<class 'list'>\n"
     ]
    }
   ],
   "source": [
    "S = 'local error'\n",
    "print(type(S))              # str\n",
    "print(type(S) == str)       # True\n",
    "print(isinstance(S, str))   # True\n",
    "x = [1, 2]                  # list\n",
    "print(type(x))              # returns list"
   ]
  },
  {
   "cell_type": "markdown",
   "metadata": {},
   "source": [
    "#### Modul Decimal\n",
    "Třída decimal.Decimal pro přesnou práci s desetinnými čísly"
   ]
  },
  {
   "cell_type": "code",
   "execution_count": 3,
   "metadata": {},
   "outputs": [
    {
     "name": "stdout",
     "output_type": "stream",
     "text": [
      "0.30000000000000004\n"
     ]
    }
   ],
   "source": [
    "z_float = 0.1 + 0.2\n",
    "print(z_float)"
   ]
  },
  {
   "cell_type": "code",
   "execution_count": 2,
   "metadata": {},
   "outputs": [
    {
     "name": "stdout",
     "output_type": "stream",
     "text": [
      "0.3\n"
     ]
    }
   ],
   "source": [
    "from decimal import Decimal\n",
    "\n",
    "x = Decimal('0.1')  # Přesná reprezentace čísla 0.1\n",
    "y = Decimal('0.2')\n",
    "z = x + y\n",
    "print(z)"
   ]
  },
  {
   "cell_type": "code",
   "execution_count": 22,
   "metadata": {},
   "outputs": [
    {
     "name": "stdout",
     "output_type": "stream",
     "text": [
      "0.14286\n"
     ]
    }
   ],
   "source": [
    "from decimal import Decimal, getcontext\n",
    "\n",
    "getcontext().prec = 5  # Nastavení přesnosti na 5 desetinných míst\n",
    "a = Decimal('1') / Decimal('7')\n",
    "print(a)"
   ]
  },
  {
   "cell_type": "markdown",
   "metadata": {},
   "source": [
    "Zaokrouhlování"
   ]
  },
  {
   "cell_type": "code",
   "execution_count": 5,
   "metadata": {},
   "outputs": [
    {
     "name": "stdout",
     "output_type": "stream",
     "text": [
      "2.68\n"
     ]
    }
   ],
   "source": [
    "from decimal import Decimal, ROUND_HALF_UP\n",
    "\n",
    "value = Decimal('2.675')\n",
    "rounded = value.quantize(Decimal('0.01'), rounding=ROUND_HALF_UP)\n",
    "print(rounded)\n"
   ]
  },
  {
   "cell_type": "code",
   "execution_count": 23,
   "metadata": {},
   "outputs": [
    {
     "name": "stdout",
     "output_type": "stream",
     "text": [
      "ROUND_CEILING:   1.6\n",
      "ROUND_FLOOR:     1.5\n",
      "ROUND_DOWN:      1.5\n",
      "ROUND_UP:        1.6\n",
      "ROUND_HALF_UP:   1.6\n",
      "ROUND_HALF_DOWN: 1.5\n",
      "ROUND_HALF_EVEN: 1.6\n"
     ]
    }
   ],
   "source": [
    "from decimal import Decimal, ROUND_CEILING, ROUND_FLOOR, ROUND_DOWN, ROUND_UP, ROUND_HALF_UP, ROUND_HALF_DOWN, ROUND_HALF_EVEN\n",
    "# běžné zaokrouhlování ROUND_HALF_UP\n",
    "value = Decimal('1.55')\n",
    "\n",
    "print(\"ROUND_CEILING:  \", value.quantize(Decimal('0.1'), rounding=ROUND_CEILING))   # 1.6\n",
    "print(\"ROUND_FLOOR:    \", value.quantize(Decimal('0.1'), rounding=ROUND_FLOOR))     # 1.5\n",
    "print(\"ROUND_DOWN:     \", value.quantize(Decimal('0.1'), rounding=ROUND_DOWN))      # 1.5\n",
    "print(\"ROUND_UP:       \", value.quantize(Decimal('0.1'), rounding=ROUND_UP))        # 1.6\n",
    "print(\"ROUND_HALF_UP:  \", value.quantize(Decimal('0.1'), rounding=ROUND_HALF_UP))   # 1.6\n",
    "print(\"ROUND_HALF_DOWN:\", value.quantize(Decimal('0.1'), rounding=ROUND_HALF_DOWN)) # 1.5\n",
    "print(\"ROUND_HALF_EVEN:\", value.quantize(Decimal('0.1'), rounding=ROUND_HALF_EVEN)) # 1.6\n"
   ]
  },
  {
   "cell_type": "code",
   "execution_count": null,
   "metadata": {},
   "outputs": [],
   "source": []
  },
  {
   "cell_type": "markdown",
   "metadata": {},
   "source": [
    "## Lambda funkce\n",
    "Vlastnosti lambda funkcí\n",
    "- nemusejí mít jméno\n",
    "- krátká funkce, která nebude opakovaně volána\n",
    "- ne více než jeden příkaz v těle funkce"
   ]
  },
  {
   "cell_type": "code",
   "execution_count": 7,
   "metadata": {},
   "outputs": [
    {
     "name": "stdout",
     "output_type": "stream",
     "text": [
      "2\n",
      "6\n"
     ]
    }
   ],
   "source": [
    "fce1 = lambda x: x + 1\n",
    "print(fce1(1))\n",
    "print((lambda x: x + 1)(5))"
   ]
  },
  {
   "cell_type": "code",
   "execution_count": 4,
   "metadata": {},
   "outputs": [
    {
     "name": "stdout",
     "output_type": "stream",
     "text": [
      "3\n",
      "3\n"
     ]
    }
   ],
   "source": [
    "fce2 = lambda x, y: x + y\n",
    "print(fce2(1, 2))\n",
    "print((lambda x, y: x + y)(1,2))"
   ]
  },
  {
   "cell_type": "code",
   "execution_count": 24,
   "metadata": {},
   "outputs": [
    {
     "name": "stdout",
     "output_type": "stream",
     "text": [
      "x = -2.0, y = 4.00\n",
      "x = -1.5, y = 2.25\n",
      "x = -1.0, y = 1.00\n",
      "x = -0.5, y = 0.25\n",
      "x =  0.0, y = 0.00\n",
      "x =  0.5, y = 0.25\n",
      "x =  1.0, y = 1.00\n",
      "x =  1.5, y = 2.25\n",
      "x =  2.0, y = 4.00\n",
      "x =  2.5, y = 6.25\n",
      "x =  3.0, y = 9.00\n"
     ]
    }
   ],
   "source": [
    "x = -2\n",
    "while x < 3.1:\n",
    "    print(f\"x = {x:4.1f}, y = {(lambda x: x**2)(x):4.2f}\")\n",
    "    x += 0.5"
   ]
  }
 ],
 "metadata": {
  "kernelspec": {
   "display_name": "Python 3",
   "language": "python",
   "name": "python3"
  },
  "language_info": {
   "codemirror_mode": {
    "name": "ipython",
    "version": 3
   },
   "file_extension": ".py",
   "mimetype": "text/x-python",
   "name": "python",
   "nbconvert_exporter": "python",
   "pygments_lexer": "ipython3",
   "version": "3.13.2"
  },
  "orig_nbformat": 4
 },
 "nbformat": 4,
 "nbformat_minor": 2
}
