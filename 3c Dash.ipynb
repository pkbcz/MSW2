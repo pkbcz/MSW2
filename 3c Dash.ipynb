{
 "cells": [
  {
   "cell_type": "code",
   "execution_count": null,
   "metadata": {},
   "outputs": [],
   "source": [
    "! pip install dash   \n",
    "! pip install dash-html-components                                         \n",
    "! pip install dash-core-components                                     \n",
    "! pip install plotly"
   ]
  },
  {
   "cell_type": "markdown",
   "metadata": {},
   "source": [
    "# Dash\n",
    "framework pro psaní interaktivních webových aplikací\n",
    "- založen na plotly"
   ]
  },
  {
   "cell_type": "code",
   "execution_count": null,
   "metadata": {},
   "outputs": [],
   "source": [
    "import dash\n",
    "import dash_html_components as html\n",
    "import dash_core_components as dcc\n",
    "import plotly.graph_objects as go\n",
    "import plotly.express as px"
   ]
  },
  {
   "cell_type": "markdown",
   "metadata": {},
   "source": [
    "#### Jednoduchý příklad"
   ]
  },
  {
   "cell_type": "markdown",
   "metadata": {},
   "source": [
    "nejdříve připravíme data"
   ]
  },
  {
   "cell_type": "code",
   "execution_count": null,
   "metadata": {},
   "outputs": [],
   "source": [
    "# assume you have a \"long-form\" data frame\n",
    "df = pd.DataFrame({\n",
    "    \"Ovoce\": [\"Jablka\", \"Hrušky\", \"Broskve\", \"Jablka\", \"Hrušky\", \"Broskve\"],\n",
    "    \"Množství\": [4, 1, 2, 2, 4, 5],\n",
    "    \"Město\": [\"Praha\", \"Praha\", \"Praha\", \"Brno\", \"Brno\", \"Brno\"]\n",
    "})\n",
    "df"
   ]
  },
  {
   "cell_type": "code",
   "execution_count": null,
   "metadata": {},
   "outputs": [],
   "source": [
    "import dash\n",
    "import dash_html_components as html\n",
    "import plotly.graph_objects as go\n",
    "import dash_core_components as dcc\n",
    "import plotly.express as px\n",
    "from dash.dependencies import Input, Output\n",
    "\n",
    "app = dash.Dash()\n",
    "\n",
    "fig = px.bar(df, x=\"Ovoce\", y=\"Množství\", color=\"Město\", barmode=\"group\")\n",
    "\n",
    "app.layout = html.Div(children=[\n",
    "    html.H1(children='Hlavní nadpis'),\n",
    "\n",
    "    html.Div(children='''\n",
    "        Dash: webový framework pro vaše data.\n",
    "    '''),\n",
    "\n",
    "    dcc.Graph(\n",
    "        id='example-graph',\n",
    "        figure=fig\n",
    "    )\n",
    "])\n",
    "\n",
    "if __name__ == '__main__':\n",
    "    app.run_server()"
   ]
  },
  {
   "cell_type": "markdown",
   "metadata": {},
   "source": [
    "#### Složitější případ"
   ]
  },
  {
   "cell_type": "markdown",
   "metadata": {},
   "source": [
    "Vytvoření rozložení stránky"
   ]
  },
  {
   "cell_type": "code",
   "execution_count": null,
   "metadata": {},
   "outputs": [],
   "source": [
    "import dash\n",
    "import dash_html_components as html\n",
    "import plotly.graph_objects as go\n",
    "import dash_core_components as dcc\n",
    "import plotly.express as px\n",
    "from dash.dependencies import Input, Output\n",
    "\n",
    "app = dash.Dash()\n",
    "\n",
    "# vytvoření bloku s rozložením\n",
    "app.layout = html.Div(id = 'parent', children = [\n",
    "    html.H1(id = 'H1', children = 'Hlavní nadpis',\\\n",
    "                    style = {'textAlign':'center',\\\n",
    "                    'marginTop':40,'marginBottom':40}),\n",
    "\n",
    "        dcc.Dropdown( id = 'dropdown',\n",
    "        options = [\n",
    "            {'label': 'Položka 1', 'value':'p1'},\n",
    "            {'label': 'Položka 2', 'value':'p2'},\n",
    "            {'label': 'Položka 3', 'value':'p3'},\n",
    "            ],\n",
    "        value = 'p1'),\n",
    "        dcc.Graph(id = 'bar_plot')              # zatím nic neobsahuje\n",
    "    ])\n",
    "\n",
    "\n",
    "if __name__ == '__main__': \n",
    "    app.run_server()"
   ]
  },
  {
   "cell_type": "markdown",
   "metadata": {},
   "source": [
    "Vytvoření vzorových dat"
   ]
  },
  {
   "cell_type": "code",
   "execution_count": null,
   "metadata": {},
   "outputs": [],
   "source": [
    "import pandas as pd\n",
    "f = {\"a\": \"p1\", \"b\": 1.0, \"c\": 2.0}\n",
    "print(f)\n",
    "pd.Series(f)\n",
    "\n",
    "d = {\n",
    "    \"x\": pd.Series([1.0, 2.0, 3.0, 4.0]),\n",
    "    \"p1\": pd.Series([1.0, 2.0, 3.0, 4.0]),\n",
    "    \"p2\": pd.Series([1.0, 4.0, 9.0, 16.0]),\n",
    "    \"p3\": pd.Series([5.0, 4.0, 2.0, 1.0]),\n",
    "}\n",
    "dframe = pd.DataFrame(d)\n",
    "dframe"
   ]
  },
  {
   "cell_type": "markdown",
   "metadata": {},
   "source": [
    "Vytvoření a naplnění grafu"
   ]
  },
  {
   "cell_type": "code",
   "execution_count": null,
   "metadata": {},
   "outputs": [],
   "source": [
    "# funkce zpětného volání: \n",
    "# automaticky volány, kdykoli se změní vlastnost vstupní komponenty, \n",
    "# aby se aktualizovala výstupní komponenta\n",
    "@app.callback(Output(component_id='bar_plot', component_property= 'figure'),\n",
    "              [Input(component_id='dropdown', component_property= 'value')])\n",
    "# funkce, která vrací spojnicový graf (data df)\n",
    "def graph_update(dropdown_value):\n",
    "    print(dropdown_value)                   # položka z ComboBoxu\n",
    "   \n",
    "    fig = go.Figure([go.Scatter(x = dframe['x'], y = dframe['{}'.format(dropdown_value)],\\\n",
    "                     line = dict(color = 'blue', width = 4))\n",
    "                     ])\n",
    "    \n",
    "    fig.update_layout(title = 'Graf',       # popis grafu\n",
    "                      xaxis_title = 'x',\n",
    "                      yaxis_title = 'y'\n",
    "                      )\n",
    "    return fig\n",
    "\n",
    "\n",
    "if __name__ == '__main__':\n",
    "    app.run_server()"
   ]
  },
  {
   "cell_type": "markdown",
   "metadata": {},
   "source": [
    "Příklad s předdefinovanými hodnotami"
   ]
  },
  {
   "cell_type": "code",
   "execution_count": null,
   "metadata": {},
   "outputs": [],
   "source": [
    "print(px.data.stocks().dtypes)\n",
    "print(type(px.data.stocks()))\n",
    "px.data.stocks()"
   ]
  },
  {
   "cell_type": "code",
   "execution_count": null,
   "metadata": {},
   "outputs": [],
   "source": [
    "import dash\n",
    "import dash_html_components as html\n",
    "import plotly.graph_objects as go\n",
    "import dash_core_components as dcc\n",
    "import plotly.express as px\n",
    "from dash.dependencies import Input, Output\n",
    "\n",
    "\n",
    "app = dash.Dash()\n",
    "df = px.data.stocks()\n",
    "\n",
    "# vytvoření bloku s rozložením\n",
    "app.layout = html.Div(id = 'parent', children = [\n",
    "    html.H1(id = 'H1', children = 'Styling using html components',\\\n",
    "                    style = {'textAlign':'center',\\\n",
    "                    'marginTop':40,'marginBottom':40}),\n",
    "\n",
    "        dcc.Dropdown( id = 'dropdown',\n",
    "        options = [\n",
    "            {'label':'Google', 'value':'GOOG' },\n",
    "            {'label': 'Apple', 'value':'AAPL'},\n",
    "            {'label': 'Amazon', 'value':'AMZN'},\n",
    "            ],\n",
    "        value = 'GOOG'),\n",
    "        dcc.Graph(id = 'bar_plot')\n",
    "    ])\n",
    "    \n",
    "    \n",
    "@app.callback(Output(component_id='bar_plot', component_property= 'figure'),\n",
    "              [Input(component_id='dropdown', component_property= 'value')])\n",
    "# funkce, která vrací spojnicový graf (data df)\n",
    "def graph_update(dropdown_value):           \n",
    "    print(dropdown_value)\n",
    "    fig = go.Figure([go.Scatter(x = df['date'], y = df['{}'.format(dropdown_value)],\\\n",
    "                     line = dict(color = 'firebrick', width = 4))\n",
    "                     ])\n",
    "    \n",
    "    fig.update_layout(title = 'Stock prices over time',\n",
    "                      xaxis_title = 'Dates',\n",
    "                      yaxis_title = 'Prices'\n",
    "                      )\n",
    "    return fig  \n",
    "\n",
    "\n",
    "if __name__ == '__main__': \n",
    "    app.run_server()"
   ]
  }
 ],
 "metadata": {
  "interpreter": {
   "hash": "e83efde216936fbdf4bb348948dbe705ca6754d4c0e093cc59b59a9bd47ce075"
  },
  "kernelspec": {
   "display_name": "Python 3.9.9 64-bit",
   "language": "python",
   "name": "python3"
  },
  "language_info": {
   "codemirror_mode": {
    "name": "ipython",
    "version": 3
   },
   "file_extension": ".py",
   "mimetype": "text/x-python",
   "name": "python",
   "nbconvert_exporter": "python",
   "pygments_lexer": "ipython3",
   "version": "3.9.9"
  },
  "orig_nbformat": 4
 },
 "nbformat": 4,
 "nbformat_minor": 2
}
