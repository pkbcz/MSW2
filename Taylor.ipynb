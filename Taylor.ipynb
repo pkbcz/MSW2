{
 "cells": [
  {
   "cell_type": "markdown",
   "metadata": {},
   "source": [
    "Rozvoj funkce $f(x)$ v bodě c\n",
    "$$f(x)=f(c)+\\frac{f'(c)}{1!}(x-c)+...+\\frac{f^n(c)}{n!}(x-c)^n+...$$"
   ]
  },
  {
   "cell_type": "markdown",
   "metadata": {},
   "source": [
    "Rozvoj funkce $e^x$ v bodě 0\n",
    "$$\\begin{align*}e^x&=e^0+\\frac{e^0}{1!}(x-0)+...+\\frac{e^0}{n!}(x-0)^n+...\\\\\n",
    "e^x&=1+\\frac{1}{1!}x+...+\\frac{1}{n!}x^n+...\\end{align*}$$"
   ]
  },
  {
   "cell_type": "code",
   "execution_count": 11,
   "metadata": {},
   "outputs": [
    {
     "name": "stdout",
     "output_type": "stream",
     "text": [
      "e^2 přesně:\t 7.38905609893065\n",
      "do řádu 0 \t 1.0\n",
      "do řádu 1 \t 3.0\n",
      "do řádu 2 \t 5.0\n",
      "do řádu 3 \t 6.333333333333333\n",
      "do řádu 4 \t 7.0\n",
      "do řádu 5 \t 7.266666666666667\n",
      "do řádu 6 \t 7.355555555555555\n",
      "do řádu 7 \t 7.3809523809523805\n",
      "do řádu 8 \t 7.387301587301587\n",
      "do řádu 9 \t 7.3887125220458545\n",
      "do řádu 10 \t 7.388994708994708\n",
      "do řádu 11 \t 7.389046015712681\n"
     ]
    }
   ],
   "source": [
    "import math\n",
    "# počítáme např. e^2\n",
    "print(\"e^2 přesně:\\t\", math.exp(2))\n",
    "# pomocí rozvoje\n",
    "x = 2\n",
    "e2 = 0\n",
    "for i in range(12):\n",
    "    e2 += x**i/math.factorial(i)\n",
    "    print(\"do řádu\", i, \"\\t\", e2)"
   ]
  },
  {
   "cell_type": "markdown",
   "metadata": {},
   "source": [
    "Rozvoj funkce $f(x)$ v bodě c\n",
    "$$f(x)=f(c)+\\frac{f'(c)}{1!}(x-c)+...+\\frac{f^n(c)}{n!}(x-c)^n+...$$"
   ]
  },
  {
   "cell_type": "markdown",
   "metadata": {},
   "source": [
    "Rozvoj funkce $cos(x)$ v bodě 0\n",
    "$$\\begin{align*}cos(x)&=cos(0)-\\frac{sin(0)}{1!}x-\\frac{cos(0)}{2!}x^2+\\frac{sin(0)}{3!}x^3+\\frac{cos(0)}{4!}x^4+...\\\\\n",
    "cos(x)&=1-\\frac{1}{2}x^2+\\frac{1}{4!}x^4-\\frac{1}{6!}x^6+...\\end{align*}$$"
   ]
  },
  {
   "cell_type": "code",
   "execution_count": 14,
   "metadata": {},
   "outputs": [
    {
     "name": "stdout",
     "output_type": "stream",
     "text": [
      "cos(2) přesně:\t -0.4161468365471424\n",
      "do řádu 0 \t 1.0\n",
      "do řádu 2 \t -1.0\n",
      "do řádu 4 \t -0.33333333333333337\n",
      "do řádu 6 \t -0.4222222222222223\n",
      "do řádu 8 \t -0.41587301587301595\n",
      "do řádu 10 \t -0.4161552028218696\n"
     ]
    }
   ],
   "source": [
    "import math\n",
    "# počítáme např. cos(2)\n",
    "print(\"cos(2) přesně:\\t\", math.cos(2))\n",
    "# podle rozvoje\n",
    "x = 2\n",
    "cos2 = 0\n",
    "for i in range(6):\n",
    "    znamenko = (-1)**i\n",
    "    citatel = x**(2*i)\n",
    "    jmenovatel = math.factorial(2*i)\n",
    "    cos2 += znamenko * citatel/jmenovatel\n",
    "    print(\"do řádu\", 2*i, \"\\t\", cos2)"
   ]
  },
  {
   "cell_type": "code",
   "execution_count": 31,
   "metadata": {},
   "outputs": [
    {
     "data": {
      "image/png": "[encoded data removed]",
      "text/plain": [
       "<Figure size 432x288 with 1 Axes>"
      ]
     },
     "metadata": {
      "needs_background": "light"
     },
     "output_type": "display_data"
    }
   ],
   "source": [
    "import math\n",
    "import numpy as np\n",
    "import matplotlib.pyplot as plt\n",
    "\n",
    "def func_cos(x, n):\n",
    "    cos2 = 0\n",
    "    for i in range(n):\n",
    "        znamenko = (-1)**i\n",
    "        citatel = x**(2*i)\n",
    "        jmenovatel = math.factorial(2*i)\n",
    "        cos2 += znamenko * citatel/jmenovatel\n",
    "    return cos2\n",
    "\n",
    "angles = np.arange(-2*np.pi,2*np.pi,0.1)\n",
    "p_cos = np.cos(angles)\n",
    "t_cos = [func_cos(angle,3) for angle in angles]\n",
    "\n",
    "fig, ax = plt.subplots()\n",
    "ax.plot(angles,p_cos)\n",
    "ax.plot(angles,t_cos)\n",
    "ax.set_ylim([-5,5])\n",
    "ax.legend(['cos() function','Taylor Series - 3 terms'])\n",
    "\n",
    "plt.show()"
   ]
  }
 ],
 "metadata": {
  "interpreter": {
   "hash": "e83efde216936fbdf4bb348948dbe705ca6754d4c0e093cc59b59a9bd47ce075"
  },
  "kernelspec": {
   "display_name": "Python 3.9.9 64-bit",
   "language": "python",
   "name": "python3"
  },
  "language_info": {
   "codemirror_mode": {
    "name": "ipython",
    "version": 3
   },
   "file_extension": ".py",
   "mimetype": "text/x-python",
   "name": "python",
   "nbconvert_exporter": "python",
   "pygments_lexer": "ipython3",
   "version": "3.9.9"
  },
  "orig_nbformat": 4
 },
 "nbformat": 4,
 "nbformat_minor": 2
}
