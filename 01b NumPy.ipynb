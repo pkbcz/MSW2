{
 "cells": [
  {
   "attachments": {},
   "cell_type": "markdown",
   "metadata": {},
   "source": [
    "# NumPy\n",
    "\n",
    "Základní vědecká a analytická knihovna pro vědecké výpočty a manipulaci s daty\n",
    "\n",
    "- n-rozměrné homogenní pole\n",
    "- API pro práci s ním\n",
    "- operace přímo nad poli bez nutnosti iterací\n",
    "- jednoduché použití\n",
    "\n",
    "implementace v jazyce C\n",
    "- efektivnější operace\n",
    "- vysoký výkon\n",
    "\n",
    "základ pro mnoho dalších knihoven:\n",
    "- Pandas: Pro analýzu dat\n",
    "- SciPy: Pro pokročilé vědecké výpočty\n",
    "- Matplotlib: Pro vizualizaci dat\n",
    "- TensorFlow a PyTorch: Pro strojové učení"
   ]
  },
  {
   "attachments": {},
   "cell_type": "markdown",
   "metadata": {},
   "source": [
    "Instalace"
   ]
  },
  {
   "cell_type": "code",
   "execution_count": 7,
   "metadata": {},
   "outputs": [
    {
     "name": "stdout",
     "output_type": "stream",
     "text": [
      "Defaulting to user installation because normal site-packages is not writeable\n",
      "Requirement already satisfied: numpy in c:\\users\\p\\appdata\\roaming\\python\\python313\\site-packages (2.2.2)\n"
     ]
    }
   ],
   "source": [
    "!python -m pip install numpy"
   ]
  },
  {
   "attachments": {},
   "cell_type": "markdown",
   "metadata": {},
   "source": [
    "V případě potřeby aktualizace Pip Package Installer"
   ]
  },
  {
   "cell_type": "code",
   "execution_count": 8,
   "metadata": {},
   "outputs": [
    {
     "name": "stdout",
     "output_type": "stream",
     "text": [
      "Defaulting to user installation because normal site-packages is not writeable\n",
      "Requirement already satisfied: pip in c:\\users\\p\\appdata\\roaming\\python\\python313\\site-packages (25.0)\n"
     ]
    }
   ],
   "source": [
    "!python -m pip install --upgrade pip"
   ]
  },
  {
   "attachments": {},
   "cell_type": "markdown",
   "metadata": {},
   "source": [
    "## Jednoduché datové typy\n",
    "např. int64, int16, float16, float128, complex128, ap."
   ]
  },
  {
   "cell_type": "code",
   "execution_count": 3,
   "metadata": {},
   "outputs": [
    {
     "name": "stdout",
     "output_type": "stream",
     "text": [
      "<class 'int'>\n",
      "<class 'float'>\n",
      "<class 'complex'>\n",
      "<class 'bool'>\n",
      "<class 'bytes'>\n",
      "<class 'str'>\n",
      "<class 'memoryview'>\n",
      "<class 'numpy.bool'>\n",
      "<class 'numpy.complex64'>\n",
      "<class 'numpy.complex128'>\n",
      "<class 'numpy.clongdouble'>\n",
      "<class 'numpy.float16'>\n",
      "<class 'numpy.float32'>\n",
      "<class 'numpy.float64'>\n",
      "<class 'numpy.longdouble'>\n",
      "<class 'numpy.int8'>\n",
      "<class 'numpy.int16'>\n",
      "<class 'numpy.intc'>\n",
      "<class 'numpy.int32'>\n",
      "<class 'numpy.int64'>\n",
      "<class 'numpy.datetime64'>\n",
      "<class 'numpy.timedelta64'>\n",
      "<class 'numpy.object_'>\n",
      "<class 'numpy.bytes_'>\n",
      "<class 'numpy.str_'>\n",
      "<class 'numpy.uint8'>\n",
      "<class 'numpy.uint16'>\n",
      "<class 'numpy.uintc'>\n",
      "<class 'numpy.uint32'>\n",
      "<class 'numpy.uint64'>\n",
      "<class 'numpy.void'>\n"
     ]
    }
   ],
   "source": [
    "import numpy as np\n",
    "for typ in np.ScalarType: print(typ)"
   ]
  },
  {
   "cell_type": "code",
   "execution_count": 10,
   "metadata": {},
   "outputs": [
    {
     "name": "stdout",
     "output_type": "stream",
     "text": [
      "Math: 1.4142135623730951 <class 'float'> 24 B\n",
      "Numpy:\n",
      "1.4142135623730951 <class 'numpy.float64'> 32 B\n",
      "1.4142135623730951 <class 'numpy.longdouble'> 32 B\n"
     ]
    }
   ],
   "source": [
    "import numpy as np\n",
    "import sys, math\n",
    "a = math.sqrt(2)                    # klasická math\n",
    "print(\"Math:\", a, type(a), sys.getsizeof(a), \"B\")\n",
    "print(\"Numpy:\")\n",
    "b = np.sqrt(2)                      # nebo b = np.double(np.sqrt(2))\n",
    "print(b, type(b), sys.getsizeof(b), \"B\")\n",
    "\n",
    "c = np.longdouble(np.sqrt(2))       # může mít vyšší přesnost (až 80 b)\n",
    "print(c, type(c), sys.getsizeof(c), \"B\")"
   ]
  },
  {
   "attachments": {},
   "cell_type": "markdown",
   "metadata": {},
   "source": [
    "## Definice polí"
   ]
  },
  {
   "attachments": {},
   "cell_type": "markdown",
   "metadata": {},
   "source": [
    "Numpy pole \n",
    "- pole hodnot\n",
    "- všechny stejného typu (staticky typovaná, homogenní)\n",
    "- indexováno n-ticí nezáporných celých čísel\n",
    "\n",
    "Seznam \n",
    "- pythonovský ekvivalent pole\n",
    "- lze měnit jeho velikost\n",
    "- může obsahovat prvky různých typů"
   ]
  },
  {
   "attachments": {},
   "cell_type": "markdown",
   "metadata": {},
   "source": [
    "Výhody NumPy pole\n",
    "- menší velikost v paměti\n",
    "- vyšší výkon (optimalizace)\n",
    "    - výpočty prováděny v kompilovaném jazyce (C/Fortran)\n",
    "- další implementované funkce (sčítání, násobení, ...)"
   ]
  },
  {
   "cell_type": "markdown",
   "metadata": {},
   "source": [
    "#### Způsoby vytvoření numpy pole\n",
    "* z nějakého kontejneru (seznam, n-tice, ...)\n",
    "* pomocí funkce numpy (arange, linspace, zeros, full, ...)\n",
    "* načtením ze souboru"
   ]
  },
  {
   "cell_type": "code",
   "execution_count": 11,
   "metadata": {},
   "outputs": [
    {
     "data": {
      "text/plain": [
       "array([1, 2, 3, 4])"
      ]
     },
     "metadata": {},
     "output_type": "display_data"
    },
    {
     "data": {
      "text/plain": [
       "array([[1, 2, 3],\n",
       "       [4, 5, 6],\n",
       "       [7, 8, 9]])"
      ]
     },
     "metadata": {},
     "output_type": "display_data"
    }
   ],
   "source": [
    "import numpy as np\n",
    "vector = np.array([1, 2, 3, 4])                   # vektor int (ze seznamu)\n",
    "a1 = np.array([[1, 2, 3], [4, 5, 6], [7, 8, 9]])  # pole 3 × 3\n",
    "display(vector)\n",
    "display(a1)"
   ]
  },
  {
   "attachments": {},
   "cell_type": "markdown",
   "metadata": {},
   "source": [
    "Srovnání se seznamem (list)"
   ]
  },
  {
   "cell_type": "code",
   "execution_count": 12,
   "metadata": {},
   "outputs": [
    {
     "data": {
      "text/plain": [
       "[[1, 2, 3], [4, 5, 6], [7, 8, 9]]"
      ]
     },
     "execution_count": 12,
     "metadata": {},
     "output_type": "execute_result"
    }
   ],
   "source": [
    "seznam = [[1, 2, 3], [4, 5, 6], [7, 8, 9]]      # seznam (list)\n",
    "seznam"
   ]
  },
  {
   "attachments": {},
   "cell_type": "markdown",
   "metadata": {},
   "source": [
    "Srovnání velikostí seznamu a pole"
   ]
  },
  {
   "cell_type": "code",
   "execution_count": 13,
   "metadata": {},
   "outputs": [
    {
     "name": "stdout",
     "output_type": "stream",
     "text": [
      "[[1 2 3]\n",
      " [4 5 6]\n",
      " [7 8 9]]\n",
      "[[1, 2, 3], [4, 5, 6], [7, 8, 9]]\n",
      "Pole:   200\n",
      "Seznam: 80\n"
     ]
    }
   ],
   "source": [
    "import sys\n",
    "a1 = np.array(seznam)                           # seznam -> pole\n",
    "print(a1)\n",
    "print(seznam)\n",
    "# velikosti\n",
    "print(\"Pole:  \", sys.getsizeof(a1))\n",
    "print(\"Seznam:\", sys.getsizeof(seznam))"
   ]
  },
  {
   "attachments": {},
   "cell_type": "markdown",
   "metadata": {},
   "source": [
    "Velikost menší pro větší seznamy"
   ]
  },
  {
   "cell_type": "code",
   "execution_count": 14,
   "metadata": {},
   "outputs": [
    {
     "name": "stdout",
     "output_type": "stream",
     "text": [
      "Pole:   912\n",
      "Seznam: 856\n"
     ]
    }
   ],
   "source": [
    "seznam = list(range(100))\n",
    "a1 = np.array(seznam)\n",
    "print(\"Pole:  \", sys.getsizeof(a1))\n",
    "print(\"Seznam:\", sys.getsizeof(seznam))"
   ]
  },
  {
   "attachments": {},
   "cell_type": "markdown",
   "metadata": {},
   "source": [
    "#### Vlastnosti pole\n",
    "- tvar (velikost) pole - **shape** (např. matice 3×3)\n",
    "- datový typ pole - **dtype** (typ prvků)"
   ]
  },
  {
   "cell_type": "markdown",
   "metadata": {},
   "source": [
    "Pole celých čísel"
   ]
  },
  {
   "cell_type": "code",
   "execution_count": 15,
   "metadata": {},
   "outputs": [
    {
     "name": "stdout",
     "output_type": "stream",
     "text": [
      "(3, 3)\n",
      "9\n",
      "200\n"
     ]
    },
    {
     "data": {
      "text/plain": [
       "dtype('int64')"
      ]
     },
     "execution_count": 15,
     "metadata": {},
     "output_type": "execute_result"
    }
   ],
   "source": [
    "a1 = np.array([             # pole intererů\n",
    "    [1, 2, 3],\n",
    "    [4, 5, 6],\n",
    "    [7, 8, 9]])             # pole 3 × 3\n",
    "print(a1.shape)             # tvar (-> n-tice)\n",
    "print(a1.size)              # počet prvků\n",
    "print(sys.getsizeof(a1))    # velikost\n",
    "a1.dtype                    # typ"
   ]
  },
  {
   "cell_type": "markdown",
   "metadata": {},
   "source": [
    "Pole čísel s pohyblivou řádovou čárkou"
   ]
  },
  {
   "cell_type": "code",
   "execution_count": 16,
   "metadata": {},
   "outputs": [
    {
     "name": "stdout",
     "output_type": "stream",
     "text": [
      "(3, 3)\n",
      "9\n",
      "200\n"
     ]
    },
    {
     "data": {
      "text/plain": [
       "dtype('float64')"
      ]
     },
     "execution_count": 16,
     "metadata": {},
     "output_type": "execute_result"
    }
   ],
   "source": [
    "a1 = np.array([             # pole floatů\n",
    "    [1, 2, 3.0],\n",
    "    [4, 5, 6],\n",
    "    [7, 8, 9]])             # pole 3 × 3\n",
    "print(a1.shape)             # tvar (-> n-tice)\n",
    "print(a1.size)              # počet prvků\n",
    "print(sys.getsizeof(a1))    # velikost\n",
    "a1.dtype      "
   ]
  },
  {
   "cell_type": "markdown",
   "metadata": {},
   "source": [
    "Datový typ můžeme specifikovat už při vytváření pole"
   ]
  },
  {
   "cell_type": "code",
   "execution_count": 17,
   "metadata": {},
   "outputs": [
    {
     "data": {
      "text/plain": [
       "dtype('complex128')"
      ]
     },
     "metadata": {},
     "output_type": "display_data"
    },
    {
     "data": {
      "text/plain": [
       "array([[1.+0.j, 2.+0.j],\n",
       "       [3.+0.j, 4.+0.j]])"
      ]
     },
     "execution_count": 17,
     "metadata": {},
     "output_type": "execute_result"
    }
   ],
   "source": [
    "matice = np.array([[1, 2], [3, 4]], dtype=complex)\n",
    "display(matice.dtype)\n",
    "matice"
   ]
  },
  {
   "attachments": {},
   "cell_type": "markdown",
   "metadata": {},
   "source": [
    "Pole větších řádů"
   ]
  },
  {
   "cell_type": "code",
   "execution_count": 18,
   "metadata": {},
   "outputs": [
    {
     "name": "stdout",
     "output_type": "stream",
     "text": [
      "Shape: (2, 2, 2)\n",
      "Size:  8\n",
      "ndim:  3\n"
     ]
    },
    {
     "data": {
      "text/plain": [
       "array([[[1, 2],\n",
       "        [3, 4]],\n",
       "\n",
       "       [[5, 6],\n",
       "        [7, 8]]])"
      ]
     },
     "metadata": {},
     "output_type": "display_data"
    }
   ],
   "source": [
    "krychle = np.array([[[1, 2], [3, 4]], [[5, 6], [7, 8]]])\n",
    "print(\"Shape:\", krychle.shape)        # tvar\n",
    "print(\"Size: \", krychle.size)         # počet prvků\n",
    "print(\"ndim: \", krychle.ndim)         # dimenze\n",
    "display(krychle)\n"
   ]
  },
  {
   "attachments": {},
   "cell_type": "markdown",
   "metadata": {},
   "source": [
    "## Základní operace s poli\n",
    "- probíhá po všech prvcích"
   ]
  },
  {
   "cell_type": "code",
   "execution_count": 19,
   "metadata": {},
   "outputs": [
    {
     "data": {
      "text/plain": [
       "array([[1, 2, 3],\n",
       "       [4, 5, 6],\n",
       "       [7, 8, 9]])"
      ]
     },
     "execution_count": 19,
     "metadata": {},
     "output_type": "execute_result"
    }
   ],
   "source": [
    "a1 = np.array([[1, 2, 3], [4, 5, 6], [7, 8, 9]])    # vytvoření pole 3 × 3\n",
    "a1                                                  # výpis pole"
   ]
  },
  {
   "attachments": {},
   "cell_type": "markdown",
   "metadata": {},
   "source": [
    "Přičtení skalární hodnoty"
   ]
  },
  {
   "cell_type": "code",
   "execution_count": 20,
   "metadata": {},
   "outputs": [
    {
     "data": {
      "text/plain": [
       "array([[0, 1, 2],\n",
       "       [3, 4, 5],\n",
       "       [6, 7, 8]])"
      ]
     },
     "metadata": {},
     "output_type": "display_data"
    },
    {
     "data": {
      "text/plain": [
       "array([[-1, -2, -3],\n",
       "       [-4, -5, -6],\n",
       "       [-7, -8, -9]])"
      ]
     },
     "metadata": {},
     "output_type": "display_data"
    }
   ],
   "source": [
    "display(a1 - 1)             # přičtení skaláru\n",
    "display(-a1)                # změna znamének"
   ]
  },
  {
   "attachments": {},
   "cell_type": "markdown",
   "metadata": {},
   "source": [
    "Násobení skalární hodnotou"
   ]
  },
  {
   "cell_type": "code",
   "execution_count": 21,
   "metadata": {},
   "outputs": [
    {
     "data": {
      "text/plain": [
       "array([[ 2,  4,  6],\n",
       "       [ 8, 10, 12],\n",
       "       [14, 16, 18]])"
      ]
     },
     "metadata": {},
     "output_type": "display_data"
    },
    {
     "data": {
      "text/plain": [
       "array([[0.5, 1. , 1.5],\n",
       "       [2. , 2.5, 3. ],\n",
       "       [3.5, 4. , 4.5]])"
      ]
     },
     "metadata": {},
     "output_type": "display_data"
    }
   ],
   "source": [
    "display(a1 * 2)             # násobení skalárem\n",
    "display(a1 / 2)             # dělení skalárem (float)"
   ]
  },
  {
   "attachments": {},
   "cell_type": "markdown",
   "metadata": {},
   "source": [
    "Celočíselné dělení"
   ]
  },
  {
   "cell_type": "code",
   "execution_count": 22,
   "metadata": {},
   "outputs": [
    {
     "data": {
      "text/plain": [
       "array([[0, 1, 1],\n",
       "       [2, 2, 3],\n",
       "       [3, 4, 4]])"
      ]
     },
     "metadata": {},
     "output_type": "display_data"
    },
    {
     "data": {
      "text/plain": [
       "array([[1, 0, 1],\n",
       "       [0, 1, 0],\n",
       "       [1, 0, 1]])"
      ]
     },
     "metadata": {},
     "output_type": "display_data"
    }
   ],
   "source": [
    "display(a1 // 2)            # celočíselné\n",
    "display(a1 % 2)             # zbytek"
   ]
  },
  {
   "attachments": {},
   "cell_type": "markdown",
   "metadata": {},
   "source": [
    "Porovnání"
   ]
  },
  {
   "cell_type": "code",
   "execution_count": 23,
   "metadata": {},
   "outputs": [
    {
     "data": {
      "text/plain": [
       "array([[False, False, False],\n",
       "       [ True,  True,  True],\n",
       "       [ True,  True,  True]])"
      ]
     },
     "execution_count": 23,
     "metadata": {},
     "output_type": "execute_result"
    }
   ],
   "source": [
    "a1 > 3                      # porovnání se skalárem"
   ]
  },
  {
   "attachments": {},
   "cell_type": "markdown",
   "metadata": {},
   "source": [
    "Logické spojení operací přes bitové operátory \"&\" (*a*) a \"|\" (*nebo*)\n",
    "- neintuitivní priorita - <font color=\"red\">nutno závorkovat!</font>\n",
    "- (Python neumožňuje předefinovat chování operátorů and a or)"
   ]
  },
  {
   "cell_type": "code",
   "execution_count": 24,
   "metadata": {},
   "outputs": [
    {
     "data": {
      "text/plain": [
       "array([[False, False, False],\n",
       "       [ True,  True,  True],\n",
       "       [False, False, False]])"
      ]
     },
     "execution_count": 24,
     "metadata": {},
     "output_type": "execute_result"
    }
   ],
   "source": [
    "(a1 > 3) & (a1 < 7)"
   ]
  },
  {
   "attachments": {},
   "cell_type": "markdown",
   "metadata": {},
   "source": [
    "## Operace s více poli\n",
    "opět po prvcích"
   ]
  },
  {
   "attachments": {},
   "cell_type": "markdown",
   "metadata": {},
   "source": [
    "definujeme druhé pole"
   ]
  },
  {
   "cell_type": "code",
   "execution_count": 25,
   "metadata": {},
   "outputs": [
    {
     "data": {
      "text/plain": [
       "(array([[1, 2, 3],\n",
       "        [4, 5, 6],\n",
       "        [7, 8, 9]]),\n",
       " array([[0, 1, 0],\n",
       "        [1, 0, 1],\n",
       "        [0, 1, 0]]))"
      ]
     },
     "execution_count": 25,
     "metadata": {},
     "output_type": "execute_result"
    }
   ],
   "source": [
    "a1 = np.array([[1, 2, 3], [4, 5, 6], [7, 8, 9]])    # pole 3 × 3\n",
    "a2 = np.array([[0, 1, 0], [1, 0, 1], [0, 1, 0]])    # pole 3 × 3\n",
    "a1, a2                  # výpis obou polí"
   ]
  },
  {
   "attachments": {},
   "cell_type": "markdown",
   "metadata": {},
   "source": [
    "Sčítání polí"
   ]
  },
  {
   "cell_type": "code",
   "execution_count": 26,
   "metadata": {},
   "outputs": [
    {
     "data": {
      "text/plain": [
       "array([[1, 3, 3],\n",
       "       [5, 5, 7],\n",
       "       [7, 9, 9]])"
      ]
     },
     "execution_count": 26,
     "metadata": {},
     "output_type": "execute_result"
    }
   ],
   "source": [
    "a1 + a2                 # sčítání po prvcích"
   ]
  },
  {
   "attachments": {},
   "cell_type": "markdown",
   "metadata": {},
   "source": [
    "Násobení (po prvcích)\n",
    "- neodpovídá maticovému násobení"
   ]
  },
  {
   "cell_type": "code",
   "execution_count": 27,
   "metadata": {},
   "outputs": [
    {
     "data": {
      "text/plain": [
       "array([[0, 2, 0],\n",
       "       [4, 0, 6],\n",
       "       [0, 8, 0]])"
      ]
     },
     "execution_count": 27,
     "metadata": {},
     "output_type": "execute_result"
    }
   ],
   "source": [
    "a1 * a2                 # násobení po prvcích"
   ]
  },
  {
   "attachments": {},
   "cell_type": "markdown",
   "metadata": {},
   "source": [
    "Seznam převeden na pole automaticky"
   ]
  },
  {
   "cell_type": "code",
   "execution_count": 28,
   "metadata": {},
   "outputs": [
    {
     "name": "stdout",
     "output_type": "stream",
     "text": [
      "[[1, 2, 3], [4, 5, 6], [7, 8, 9]]\n"
     ]
    },
    {
     "data": {
      "text/plain": [
       "array([[ 1,  4,  9],\n",
       "       [16, 25, 36],\n",
       "       [49, 64, 81]])"
      ]
     },
     "metadata": {},
     "output_type": "display_data"
    },
    {
     "data": {
      "text/plain": [
       "array([[ 2,  4,  6],\n",
       "       [ 8, 10, 12],\n",
       "       [14, 16, 18]])"
      ]
     },
     "execution_count": 28,
     "metadata": {},
     "output_type": "execute_result"
    }
   ],
   "source": [
    "seznam = [[1, 2, 3], [4, 5, 6], [7, 8, 9]]          # seznam (list)\n",
    "print(seznam)\n",
    "display(a1 * seznam)            # pole * seznam je pole\n",
    "a1 + seznam                     # pole + seznam je pole"
   ]
  },
  {
   "attachments": {},
   "cell_type": "markdown",
   "metadata": {},
   "source": [
    "## Indexování, výběr"
   ]
  },
  {
   "cell_type": "code",
   "execution_count": 29,
   "metadata": {},
   "outputs": [
    {
     "data": {
      "text/plain": [
       "array([[1, 2, 3],\n",
       "       [4, 5, 6],\n",
       "       [7, 8, 9]])"
      ]
     },
     "execution_count": 29,
     "metadata": {},
     "output_type": "execute_result"
    }
   ],
   "source": [
    "a1 = np.array([[1, 2, 3], [4, 5, 6], [7, 8, 9]])    # pole 3 × 3\n",
    "a1"
   ]
  },
  {
   "attachments": {},
   "cell_type": "markdown",
   "metadata": {},
   "source": [
    "Pole se chová jako sekvence menších polí\n",
    "- 1. řádek"
   ]
  },
  {
   "cell_type": "code",
   "execution_count": 30,
   "metadata": {},
   "outputs": [
    {
     "data": {
      "text/plain": [
       "array([1, 2, 3])"
      ]
     },
     "execution_count": 30,
     "metadata": {},
     "output_type": "execute_result"
    }
   ],
   "source": [
    "a1[0]            # 1. řádek"
   ]
  },
  {
   "cell_type": "markdown",
   "metadata": {},
   "source": [
    "- poslední řádek"
   ]
  },
  {
   "cell_type": "code",
   "execution_count": 31,
   "metadata": {},
   "outputs": [
    {
     "data": {
      "text/plain": [
       "array([7, 8, 9])"
      ]
     },
     "execution_count": 31,
     "metadata": {},
     "output_type": "execute_result"
    }
   ],
   "source": [
    "a1[-1]           # poslední řádek"
   ]
  },
  {
   "cell_type": "markdown",
   "metadata": {},
   "source": [
    "- rozsah"
   ]
  },
  {
   "cell_type": "code",
   "execution_count": 32,
   "metadata": {},
   "outputs": [
    {
     "data": {
      "text/plain": [
       "array([[1, 2, 3],\n",
       "       [4, 5, 6]])"
      ]
     },
     "execution_count": 32,
     "metadata": {},
     "output_type": "execute_result"
    }
   ],
   "source": [
    "a1[:-1]          # 1. až předposlední"
   ]
  },
  {
   "cell_type": "markdown",
   "metadata": {},
   "source": [
    "- prvek"
   ]
  },
  {
   "cell_type": "code",
   "execution_count": 33,
   "metadata": {},
   "outputs": [
    {
     "data": {
      "text/plain": [
       "np.int64(2)"
      ]
     },
     "execution_count": 33,
     "metadata": {},
     "output_type": "execute_result"
    }
   ],
   "source": [
    "a1[0][1]         # 1. řádek, 2. sloupec"
   ]
  },
  {
   "cell_type": "markdown",
   "metadata": {},
   "source": [
    "- přístup k prvku v NumPy lze i pomocí n-tice"
   ]
  },
  {
   "cell_type": "code",
   "execution_count": 34,
   "metadata": {},
   "outputs": [
    {
     "data": {
      "text/plain": [
       "np.int64(2)"
      ]
     },
     "execution_count": 34,
     "metadata": {},
     "output_type": "execute_result"
    }
   ],
   "source": [
    "a1[0, 1]         # 1. řádek, 2. sloupec"
   ]
  },
  {
   "cell_type": "code",
   "execution_count": 35,
   "metadata": {},
   "outputs": [
    {
     "data": {
      "text/plain": [
       "array([[2, 3],\n",
       "       [5, 6]])"
      ]
     },
     "execution_count": 35,
     "metadata": {},
     "output_type": "execute_result"
    }
   ],
   "source": [
    "a1[:-1, 1:]      # 1. až předposlední řádek, od 2. sloupce"
   ]
  },
  {
   "cell_type": "markdown",
   "metadata": {},
   "source": [
    "Výběr řádku a sloupce\n",
    "- pomocí \":\""
   ]
  },
  {
   "cell_type": "code",
   "execution_count": 36,
   "metadata": {},
   "outputs": [
    {
     "data": {
      "text/plain": [
       "array([7, 8, 9])"
      ]
     },
     "metadata": {},
     "output_type": "display_data"
    },
    {
     "data": {
      "text/plain": [
       "array([7, 8, 9])"
      ]
     },
     "execution_count": 36,
     "metadata": {},
     "output_type": "execute_result"
    }
   ],
   "source": [
    "display(a1[2])      # 3. řádek\n",
    "a1[2, :]            # 3. řádek (totéž jako a1[2])"
   ]
  },
  {
   "cell_type": "code",
   "execution_count": 37,
   "metadata": {},
   "outputs": [
    {
     "data": {
      "text/plain": [
       "array([3, 6, 9])"
      ]
     },
     "execution_count": 37,
     "metadata": {},
     "output_type": "execute_result"
    }
   ],
   "source": [
    "a1[:, 2]     # 3. sloupec"
   ]
  },
  {
   "cell_type": "markdown",
   "metadata": {},
   "source": [
    "Pozor na editaci!\n",
    "- jedná se o stejné pole"
   ]
  },
  {
   "cell_type": "code",
   "execution_count": 38,
   "metadata": {},
   "outputs": [
    {
     "data": {
      "text/plain": [
       "array([4, 5, 6])"
      ]
     },
     "metadata": {},
     "output_type": "display_data"
    },
    {
     "data": {
      "text/plain": [
       "array([[1, 2, 3],\n",
       "       [4, 5, 0],\n",
       "       [7, 8, 9]])"
      ]
     },
     "execution_count": 38,
     "metadata": {},
     "output_type": "execute_result"
    }
   ],
   "source": [
    "a1 = np.array([[1, 2, 3], [4, 5, 6], [7, 8, 9]])  # pole 3 × 3\n",
    "v = a1[1, :]        # 2. řádek (totéž jako a1[1])\n",
    "display(v)\n",
    "v[-1] = 0           # editujeme vektor\n",
    "a1                  # ovlivní to matici"
   ]
  },
  {
   "cell_type": "markdown",
   "metadata": {},
   "source": [
    "odkaz na původní objekt, ze kterého bylo pole vytvořeno"
   ]
  },
  {
   "cell_type": "code",
   "execution_count": 39,
   "metadata": {},
   "outputs": [
    {
     "data": {
      "text/plain": [
       "array([[1, 2, 3],\n",
       "       [4, 5, 0],\n",
       "       [7, 8, 9]])"
      ]
     },
     "metadata": {},
     "output_type": "display_data"
    },
    {
     "name": "stdout",
     "output_type": "stream",
     "text": [
      "True\n",
      "None\n"
     ]
    }
   ],
   "source": [
    "display(v.base)         # původní objekt\n",
    "print(v.base is a1)     # True\n",
    "print(a1.copy().base)   # kopie nemá žádný vztah k pův. objektu"
   ]
  },
  {
   "cell_type": "markdown",
   "metadata": {},
   "source": [
    "Řezy pomocí indexů"
   ]
  },
  {
   "cell_type": "code",
   "execution_count": 40,
   "metadata": {},
   "outputs": [
    {
     "name": "stdout",
     "output_type": "stream",
     "text": [
      "[  0  10  20  30  40  50  60  70  80  90 100 110 120 130 140 150 160 170\n",
      " 180 190 200]\n"
     ]
    },
    {
     "data": {
      "text/plain": [
       "array([ 10,  30, 100])"
      ]
     },
     "execution_count": 40,
     "metadata": {},
     "output_type": "execute_result"
    }
   ],
   "source": [
    "import numpy as np\n",
    "v = np.array(range(21))         # čísla od 0 do 20\n",
    "v *= 10                         # [0, 10 ... 200]\n",
    "print(v)\n",
    "indexy = [1,3,10]\n",
    "v[indexy]                       # neboli v[[1,3,10]]"
   ]
  },
  {
   "cell_type": "markdown",
   "metadata": {},
   "source": [
    "Výběr prvků pomocí pole logických hodnot"
   ]
  },
  {
   "cell_type": "code",
   "execution_count": 41,
   "metadata": {},
   "outputs": [
    {
     "data": {
      "text/plain": [
       "array([[1, 2, 3],\n",
       "       [4, 5, 0],\n",
       "       [7, 8, 9]])"
      ]
     },
     "metadata": {},
     "output_type": "display_data"
    },
    {
     "data": {
      "text/plain": [
       "array([[False, False, False],\n",
       "       [False,  True, False],\n",
       "       [ True,  True,  True]])"
      ]
     },
     "metadata": {},
     "output_type": "display_data"
    },
    {
     "data": {
      "text/plain": [
       "array([5, 7, 8, 9])"
      ]
     },
     "execution_count": 41,
     "metadata": {},
     "output_type": "execute_result"
    }
   ],
   "source": [
    "display(a1)\n",
    "vetsi = a1 > 4          # vpravo matice, obsahuje True a False\n",
    "display(vetsi)          # pole logických hodnot\n",
    "a1[vetsi]               # pole prvků (jednorozměrné)"
   ]
  },
  {
   "cell_type": "markdown",
   "metadata": {},
   "source": [
    "Změna pořadí řádků a sloupců, kopie řádků a sloupců"
   ]
  },
  {
   "cell_type": "code",
   "execution_count": 42,
   "metadata": {},
   "outputs": [
    {
     "data": {
      "text/plain": [
       "array([4, 5, 0])"
      ]
     },
     "metadata": {},
     "output_type": "display_data"
    },
    {
     "data": {
      "text/plain": [
       "array([[4, 5, 0]])"
      ]
     },
     "metadata": {},
     "output_type": "display_data"
    },
    {
     "data": {
      "text/plain": [
       "array([[1, 2, 3],\n",
       "       [7, 8, 9],\n",
       "       [4, 5, 0],\n",
       "       [4, 5, 0]])"
      ]
     },
     "execution_count": 42,
     "metadata": {},
     "output_type": "execute_result"
    }
   ],
   "source": [
    "display(a1[1])          # 2. řádek\n",
    "display(a1[[1]])        # pole obsahující 2. řádek\n",
    "a1[[0, 2, 1, 1]]        # řádky 0, 2, 1 a 1 (pole obsahující tyto řádky)"
   ]
  },
  {
   "cell_type": "code",
   "execution_count": 43,
   "metadata": {},
   "outputs": [
    {
     "data": {
      "text/plain": [
       "array([[3, 3, 1, 1],\n",
       "       [0, 0, 4, 4],\n",
       "       [9, 9, 7, 7]])"
      ]
     },
     "execution_count": 43,
     "metadata": {},
     "output_type": "execute_result"
    }
   ],
   "source": [
    "a1[:, [2, 2, 0, 0]]      # sloupce 2, 2, 0, 0"
   ]
  },
  {
   "cell_type": "markdown",
   "metadata": {},
   "source": [
    "## Operace s různě velkými poli\n",
    "- odpovídající dimenze se \"rozšíří\" (jako u skaláru) - broadcasting"
   ]
  },
  {
   "cell_type": "markdown",
   "metadata": {},
   "source": [
    "Přičtení vektoru"
   ]
  },
  {
   "cell_type": "code",
   "execution_count": 44,
   "metadata": {},
   "outputs": [
    {
     "data": {
      "text/plain": [
       "array([[1, 2, 3],\n",
       "       [4, 5, 0],\n",
       "       [7, 8, 9]])"
      ]
     },
     "metadata": {},
     "output_type": "display_data"
    },
    {
     "data": {
      "text/plain": [
       "array([ 1,  0, 10])"
      ]
     },
     "metadata": {},
     "output_type": "display_data"
    },
    {
     "data": {
      "text/plain": [
       "array([[ 2,  2, 13],\n",
       "       [ 5,  5, 10],\n",
       "       [ 8,  8, 19]])"
      ]
     },
     "metadata": {},
     "output_type": "display_data"
    },
    {
     "ename": "ValueError",
     "evalue": "operands could not be broadcast together with shapes (3,) (2,) ",
     "output_type": "error",
     "traceback": [
      "\u001b[1;31m---------------------------------------------------------------------------\u001b[0m",
      "\u001b[1;31mValueError\u001b[0m                                Traceback (most recent call last)",
      "Cell \u001b[1;32mIn[44], line 8\u001b[0m\n\u001b[0;32m      5\u001b[0m \u001b[38;5;66;03m#display(a1 + b[:,np.newaxis])  # kdybychom chtěli přičíst ke sloupcům\u001b[39;00m\n\u001b[0;32m      7\u001b[0m c \u001b[38;5;241m=\u001b[39m np\u001b[38;5;241m.\u001b[39marray([\u001b[38;5;241m1\u001b[39m, \u001b[38;5;241m0\u001b[39m])            \u001b[38;5;66;03m# (jiné velikosti) - chyba\u001b[39;00m\n\u001b[1;32m----> 8\u001b[0m \u001b[43mb\u001b[49m\u001b[43m \u001b[49m\u001b[38;5;241;43m+\u001b[39;49m\u001b[43m \u001b[49m\u001b[43mc\u001b[49m\n",
      "\u001b[1;31mValueError\u001b[0m: operands could not be broadcast together with shapes (3,) (2,) "
     ]
    }
   ],
   "source": [
    "b = np.array([1, 0, 10])        # velikost 3 (stejná jako matice a1)\n",
    "display(a1)\n",
    "display(b)\n",
    "display(a1 + b)                 # přičtení vektoru ke všem řádkům\n",
    "#display(a1 + b[:,np.newaxis])  # kdybychom chtěli přičíst ke sloupcům\n",
    "\n",
    "c = np.array([1, 0])            # (jiné velikosti) - chyba\n",
    "b + c"
   ]
  },
  {
   "cell_type": "code",
   "execution_count": null,
   "metadata": {},
   "outputs": [
    {
     "name": "stdout",
     "output_type": "stream",
     "text": [
      "Původní:\n",
      " [[1 2 3]\n",
      " [4 5 6]\n",
      " [7 8 9]]\n",
      "Přičtení řádkového vektoru:\n",
      " [[ 2  2 13]\n",
      " [ 5  5 16]\n",
      " [ 8  8 19]]\n",
      "Násobení řádkovým vektorem:\n",
      " [[ 1  0 30]\n",
      " [ 4  0 60]\n",
      " [ 7  0 90]]\n",
      "Násobení sloupcovým vektorem:\n",
      " [[ 1  2  3]\n",
      " [ 0  0  0]\n",
      " [70 80 90]]\n"
     ]
    }
   ],
   "source": [
    "print(\"Původní:\\n\", a1)\n",
    "print(\"Přičtení řádkového vektoru:\\n\", a1 + [1, 0, 10])\n",
    "print(\"Násobení řádkovým vektorem:\\n\", a1 * [1, 0, 10])\n",
    "print(\"Násobení sloupcovým vektorem:\\n\", a1 * [[1], [0], [10]])"
   ]
  },
  {
   "cell_type": "markdown",
   "metadata": {},
   "source": [
    "## Editace polí"
   ]
  },
  {
   "cell_type": "code",
   "execution_count": null,
   "metadata": {},
   "outputs": [
    {
     "data": {
      "text/plain": [
       "array([[100,   2,   3],\n",
       "       [  4, 200,   6],\n",
       "       [  7,   8,   9]])"
      ]
     },
     "metadata": {},
     "output_type": "display_data"
    }
   ],
   "source": [
    "a1[0, 0] = 100               # jedna z možností\n",
    "a1[1][1] = 200               # jiný způsob\n",
    "a1"
   ]
  },
  {
   "cell_type": "markdown",
   "metadata": {},
   "source": [
    "lze měnit jakýkoliv výběr, funguje rozšiřování (broadcasting)"
   ]
  },
  {
   "cell_type": "code",
   "execution_count": null,
   "metadata": {},
   "outputs": [
    {
     "name": "stdout",
     "output_type": "stream",
     "text": [
      "[[100 100 100]\n",
      " [  4 200   6]\n",
      " [  7   8   9]]\n",
      "[[100 500 100]\n",
      " [  4 500   6]\n",
      " [  7 500   9]]\n"
     ]
    },
    {
     "data": {
      "text/plain": [
       "array([[100, 100, 100],\n",
       "       [100, 100, 100],\n",
       "       [100, 100, 100]])"
      ]
     },
     "metadata": {},
     "output_type": "display_data"
    }
   ],
   "source": [
    "a1[0] = 100          # první řádek\n",
    "print(a1)\n",
    "a1[:, 1] = 500       # druhý sloupec\n",
    "print(a1)\n",
    "a1[:] = 100          # všechny prvky\n",
    "a1"
   ]
  },
  {
   "cell_type": "markdown",
   "metadata": {},
   "source": [
    "Editace rozšířeným přiřazením"
   ]
  },
  {
   "cell_type": "code",
   "execution_count": null,
   "metadata": {},
   "outputs": [
    {
     "data": {
      "text/plain": [
       "array([[200, 200, 200],\n",
       "       [200, 200, 200],\n",
       "       [200, 200, 200]])"
      ]
     },
     "metadata": {},
     "output_type": "display_data"
    }
   ],
   "source": [
    "a1 *= 2\n",
    "a1"
   ]
  },
  {
   "cell_type": "markdown",
   "metadata": {},
   "source": [
    "Operace array = array * 2 dává stejný výsledek, ale vytvoří nové pole, které pak přiřadí do původní proměnné"
   ]
  },
  {
   "cell_type": "markdown",
   "metadata": {},
   "source": [
    "## Tvoření matic pomocí funkcí"
   ]
  },
  {
   "cell_type": "markdown",
   "metadata": {},
   "source": [
    "Naplnění matice m × n libovolným stejným číslem"
   ]
  },
  {
   "cell_type": "code",
   "execution_count": null,
   "metadata": {},
   "outputs": [
    {
     "data": {
      "text/plain": [
       "array([[3.14, 3.14, 3.14, 3.14],\n",
       "       [3.14, 3.14, 3.14, 3.14],\n",
       "       [3.14, 3.14, 3.14, 3.14],\n",
       "       [3.14, 3.14, 3.14, 3.14]])"
      ]
     },
     "metadata": {},
     "output_type": "display_data"
    }
   ],
   "source": [
    "np.full((4, 4), 3.14)                    # tvar, hodnota"
   ]
  },
  {
   "cell_type": "markdown",
   "metadata": {},
   "source": [
    "Naplnění matice m × n nulami (jedničkami)"
   ]
  },
  {
   "cell_type": "code",
   "execution_count": null,
   "metadata": {},
   "outputs": [
    {
     "data": {
      "text/plain": [
       "(array([[0., 0., 0., 0.],\n",
       "        [0., 0., 0., 0.],\n",
       "        [0., 0., 0., 0.],\n",
       "        [0., 0., 0., 0.]]),\n",
       " array([[1., 1., 1., 1.],\n",
       "        [1., 1., 1., 1.],\n",
       "        [1., 1., 1., 1.],\n",
       "        [1., 1., 1., 1.]]))"
      ]
     },
     "metadata": {},
     "output_type": "display_data"
    }
   ],
   "source": [
    "np.zeros((4, 4)), np.ones((4, 4))     # nuly, jedničky"
   ]
  },
  {
   "cell_type": "markdown",
   "metadata": {},
   "source": [
    "Jednotková a diagonální matice (vždy čtvercové)"
   ]
  },
  {
   "cell_type": "code",
   "execution_count": null,
   "metadata": {},
   "outputs": [
    {
     "data": {
      "text/plain": [
       "array([[1., 0., 0., 0.],\n",
       "       [0., 1., 0., 0.],\n",
       "       [0., 0., 1., 0.],\n",
       "       [0., 0., 0., 1.]])"
      ]
     },
     "metadata": {},
     "output_type": "display_data"
    },
    {
     "data": {
      "text/plain": [
       "array([[1, 0, 0, 0],\n",
       "       [0, 2, 0, 0],\n",
       "       [0, 0, 3, 0],\n",
       "       [0, 0, 0, 4]])"
      ]
     },
     "metadata": {},
     "output_type": "display_data"
    },
    {
     "data": {
      "text/plain": [
       "array([9, 8, 7])"
      ]
     },
     "metadata": {},
     "output_type": "display_data"
    }
   ],
   "source": [
    "display(np.eye(4))                  # dimenze\n",
    "display(np.diag([1, 2, 3, 4]))      # prvky diagonály\n",
    "np.diagonal(np.diag([9,8,7]))       # vrátí diagonálu jako vektor"
   ]
  },
  {
   "cell_type": "markdown",
   "metadata": {},
   "source": [
    "Vždy lze specifikovat datový typ"
   ]
  },
  {
   "cell_type": "code",
   "execution_count": null,
   "metadata": {},
   "outputs": [
    {
     "name": "stdout",
     "output_type": "stream",
     "text": [
      "int8\n"
     ]
    },
    {
     "data": {
      "text/plain": [
       "array([[0, 0, 0, 0],\n",
       "       [0, 0, 0, 0],\n",
       "       [0, 0, 0, 0],\n",
       "       [0, 0, 0, 0]], dtype=int8)"
      ]
     },
     "metadata": {},
     "output_type": "display_data"
    }
   ],
   "source": [
    "int_zeros = np.zeros((4, 4), dtype='int8')\n",
    "print(int_zeros.dtype)\n",
    "int_zeros"
   ]
  },
  {
   "cell_type": "markdown",
   "metadata": {},
   "source": [
    "### Generování jednorozměrného pole"
   ]
  },
  {
   "cell_type": "markdown",
   "metadata": {},
   "source": [
    "arange(start, stop, step)\n",
    "- začátek, konec, přírůstek\n",
    "- pod. jako range()"
   ]
  },
  {
   "cell_type": "code",
   "execution_count": null,
   "metadata": {},
   "outputs": [
    {
     "name": "stdout",
     "output_type": "stream",
     "text": [
      "[ 0  1  2  3  4  5  6  7  8  9 10 11 12 13 14 15 16 17 18 19]\n",
      "[ 4  6  8 10 12 14 16 18]\n"
     ]
    }
   ],
   "source": [
    "print(np.arange(20))             # 0 až 19\n",
    "print(np.arange(4, 20, 2))       # od, do, přírůstek"
   ]
  },
  {
   "cell_type": "markdown",
   "metadata": {},
   "source": [
    "Jdou i reálná čísla, ale pozor na chyby"
   ]
  },
  {
   "cell_type": "code",
   "execution_count": null,
   "metadata": {},
   "outputs": [
    {
     "name": "stdout",
     "output_type": "stream",
     "text": [
      "[ 0.   0.3  0.6  0.9  1.2  1.5  1.8  2.1  2.4  2.7  3.   3.3  3.6  3.9\n",
      "  4.2  4.5  4.8  5.1  5.4  5.7  6.   6.3  6.6  6.9  7.2  7.5  7.8  8.1\n",
      "  8.4  8.7  9.   9.3  9.6  9.9 10.2 10.5 10.8 11.1 11.4 11.7 12.  12.3\n",
      " 12.6 12.9 13.2 13.5 13.8 14.1 14.4 14.7 15.  15.3 15.6 15.9 16.2 16.5\n",
      " 16.8 17.1 17.4 17.7 18.  18.3 18.6 18.9 19.2 19.5 19.8]\n",
      "67 20.099999999999998 19.8\n"
     ]
    }
   ],
   "source": [
    "pole = np.arange(0.0, 20.0, 0.3)\n",
    "print(pole)\n",
    "print(pole.size, pole.size*0.3, pole[-1])"
   ]
  },
  {
   "cell_type": "markdown",
   "metadata": {},
   "source": [
    "linspace\n",
    "- pro reálná čísla vhodnější - rovnoměrné dělení\n",
    "- začátek a konec intervalu plus počet prvků"
   ]
  },
  {
   "cell_type": "code",
   "execution_count": null,
   "metadata": {},
   "outputs": [
    {
     "data": {
      "text/plain": [
       "array([ 0.        ,  0.68965517,  1.37931034,  2.06896552,  2.75862069,\n",
       "        3.44827586,  4.13793103,  4.82758621,  5.51724138,  6.20689655,\n",
       "        6.89655172,  7.5862069 ,  8.27586207,  8.96551724,  9.65517241,\n",
       "       10.34482759, 11.03448276, 11.72413793, 12.4137931 , 13.10344828,\n",
       "       13.79310345, 14.48275862, 15.17241379, 15.86206897, 16.55172414,\n",
       "       17.24137931, 17.93103448, 18.62068966, 19.31034483, 20.        ])"
      ]
     },
     "metadata": {},
     "output_type": "display_data"
    }
   ],
   "source": [
    "np.linspace(0, 20, num=30)"
   ]
  },
  {
   "cell_type": "markdown",
   "metadata": {},
   "source": [
    "logspace\n",
    "- logaritmická stupnice"
   ]
  },
  {
   "cell_type": "code",
   "execution_count": null,
   "metadata": {},
   "outputs": [
    {
     "data": {
      "text/plain": [
       "array([1.e+00, 1.e+01, 1.e+02, 1.e+03, 1.e+04, 1.e+05, 1.e+06, 1.e+07,\n",
       "       1.e+08, 1.e+09, 1.e+10])"
      ]
     },
     "metadata": {},
     "output_type": "display_data"
    }
   ],
   "source": [
    "np.logspace(0, 10, 11, base=10)"
   ]
  },
  {
   "cell_type": "markdown",
   "metadata": {},
   "source": [
    "Pole s náhodnými hodnotami"
   ]
  },
  {
   "cell_type": "code",
   "execution_count": null,
   "metadata": {},
   "outputs": [
    {
     "data": {
      "text/plain": [
       "array([0.09454424, 0.28429209, 0.99011091, 0.38305256])"
      ]
     },
     "metadata": {},
     "output_type": "display_data"
    },
    {
     "data": {
      "text/plain": [
       "array([[ 0.95823235, -0.81872668,  1.12751329,  0.60382383],\n",
       "       [ 0.01791726,  0.69301244, -1.94585043,  0.14965595],\n",
       "       [-3.01436584, -0.50804579, -0.00866734,  1.76990919],\n",
       "       [ 0.45848994,  0.71082575, -1.02927885,  1.03992213]])"
      ]
     },
     "metadata": {},
     "output_type": "display_data"
    }
   ],
   "source": [
    "# několik náhodných čísel z <0, 1) s rovnoměrným rozdělením\n",
    "display(np.random.random_sample(4))\n",
    "# matice s náhodnými čísly s normálním rozdělením N(0,1)\n",
    "np.random.standard_normal((4, 4))"
   ]
  },
  {
   "cell_type": "markdown",
   "metadata": {},
   "source": [
    "## Změna tvaru pole"
   ]
  },
  {
   "cell_type": "code",
   "execution_count": null,
   "metadata": {},
   "outputs": [
    {
     "data": {
      "text/plain": [
       "array([ 0,  1,  2,  3,  4,  5,  6,  7,  8,  9, 10, 11])"
      ]
     },
     "metadata": {},
     "output_type": "display_data"
    },
    {
     "data": {
      "text/plain": [
       "(12,)"
      ]
     },
     "metadata": {},
     "output_type": "display_data"
    }
   ],
   "source": [
    "a1 = np.arange(12)            # výchozí pole\n",
    "display(a1)\n",
    "display(a1.shape)"
   ]
  },
  {
   "cell_type": "markdown",
   "metadata": {},
   "source": [
    "reshape\n",
    "- musí odpovídat velikost"
   ]
  },
  {
   "cell_type": "code",
   "execution_count": null,
   "metadata": {},
   "outputs": [
    {
     "data": {
      "text/plain": [
       "(array([[ 0,  1,  2,  3],\n",
       "        [ 4,  5,  6,  7],\n",
       "        [ 8,  9, 10, 11]]),\n",
       " array([[ 0,  1,  2],\n",
       "        [ 3,  4,  5],\n",
       "        [ 6,  7,  8],\n",
       "        [ 9, 10, 11]]))"
      ]
     },
     "execution_count": 12,
     "metadata": {},
     "output_type": "execute_result"
    }
   ],
   "source": [
    "a2 = a1.reshape((3, 4))         # řádky, sloupce\n",
    "a3 = a1.reshape((4, 3))\n",
    "a2, a3"
   ]
  },
  {
   "cell_type": "markdown",
   "metadata": {},
   "source": [
    "- nahradíme-li jedno z čísel -1, dopočítá se "
   ]
  },
  {
   "cell_type": "code",
   "execution_count": null,
   "metadata": {},
   "outputs": [
    {
     "data": {
      "text/plain": [
       "(array([[ 0,  1,  2,  3],\n",
       "        [ 4,  5,  6,  7],\n",
       "        [ 8,  9, 10, 11]]),\n",
       " array([[ 0,  1,  2],\n",
       "        [ 3,  4,  5],\n",
       "        [ 6,  7,  8],\n",
       "        [ 9, 10, 11]]))"
      ]
     },
     "execution_count": 13,
     "metadata": {},
     "output_type": "execute_result"
    }
   ],
   "source": [
    "a2 = a1.reshape((-1, 4))         # řádky, sloupce\n",
    "a3 = a1.reshape((4, 3))\n",
    "a3 = a1.reshape((-1, 3))\n",
    "a2, a3"
   ]
  },
  {
   "cell_type": "code",
   "execution_count": null,
   "metadata": {},
   "outputs": [
    {
     "name": "stdout",
     "output_type": "stream",
     "text": [
      "(2, 1) (1, 2)\n"
     ]
    },
    {
     "data": {
      "text/plain": [
       "array([[0],\n",
       "       [1]])"
      ]
     },
     "metadata": {},
     "output_type": "display_data"
    },
    {
     "data": {
      "text/plain": [
       "array([[0, 1]])"
      ]
     },
     "metadata": {},
     "output_type": "display_data"
    },
    {
     "data": {
      "text/plain": [
       "array([[0, 1],\n",
       "       [1, 2]])"
      ]
     },
     "execution_count": 14,
     "metadata": {},
     "output_type": "execute_result"
    }
   ],
   "source": [
    "C = np.arange(2).reshape(-1,1)   # sloupec 0,1\n",
    "R = np.arange(2).reshape(1,-1)   # řádek 0,1\n",
    "print(C.shape, R.shape)\n",
    "display(C)\n",
    "display(R)\n",
    "C + R                               # broadcasting"
   ]
  },
  {
   "cell_type": "markdown",
   "metadata": {},
   "source": [
    "Pozor na editaci!\n",
    "- jedná se o stejné pole"
   ]
  },
  {
   "cell_type": "code",
   "execution_count": null,
   "metadata": {},
   "outputs": [
    {
     "data": {
      "text/plain": [
       "(array([[  0,   1,   2,   3],\n",
       "        [  4,   5,   6,   7],\n",
       "        [  8,   9, 100,  11]]),\n",
       " array([  0,   1,   2,   3,   4,   5,   6,   7,   8,   9, 100,  11]),\n",
       " array([[  0,   1,   2],\n",
       "        [  3,   4,   5],\n",
       "        [  6,   7,   8],\n",
       "        [  9, 100,  11]]))"
      ]
     },
     "execution_count": 15,
     "metadata": {},
     "output_type": "execute_result"
    }
   ],
   "source": [
    "a2[2,2] = 100               # 3. řádek, 3. sloupec (pův. 10)\n",
    "a2, a1, a3               # editovalo se jen a2"
   ]
  },
  {
   "cell_type": "markdown",
   "metadata": {},
   "source": [
    "Pro kopii dat copy"
   ]
  },
  {
   "cell_type": "code",
   "execution_count": null,
   "metadata": {},
   "outputs": [
    {
     "data": {
      "text/plain": [
       "(array([[ 0,  1,  2,  3],\n",
       "        [ 4,  5,  6,  7],\n",
       "        [ 8,  9, 10, 11]]),\n",
       " array([[  0,   1,   2],\n",
       "        [  3,   4,   5],\n",
       "        [  6,   7,   8],\n",
       "        [  9, 100,  11]]))"
      ]
     },
     "execution_count": 16,
     "metadata": {},
     "output_type": "execute_result"
    }
   ],
   "source": [
    "a2 = a1.reshape((3, 4)).copy()\n",
    "a2[2, 2] = 10\n",
    "a2, a3"
   ]
  },
  {
   "cell_type": "markdown",
   "metadata": {},
   "source": [
    "Transpozice"
   ]
  },
  {
   "cell_type": "code",
   "execution_count": null,
   "metadata": {},
   "outputs": [
    {
     "data": {
      "text/plain": [
       "array([[ 0,  4,  8],\n",
       "       [ 1,  5,  9],\n",
       "       [ 2,  6, 10],\n",
       "       [ 3,  7, 11]])"
      ]
     },
     "execution_count": 17,
     "metadata": {},
     "output_type": "execute_result"
    }
   ],
   "source": [
    "a2.T"
   ]
  },
  {
   "cell_type": "code",
   "execution_count": null,
   "metadata": {},
   "outputs": [
    {
     "data": {
      "text/plain": [
       "array([1, 3, 7])"
      ]
     },
     "metadata": {},
     "output_type": "display_data"
    },
    {
     "data": {
      "text/plain": [
       "array([1, 3, 7])"
      ]
     },
     "metadata": {},
     "output_type": "display_data"
    },
    {
     "data": {
      "text/plain": [
       "array([ True,  True,  True])"
      ]
     },
     "execution_count": 20,
     "metadata": {},
     "output_type": "execute_result"
    }
   ],
   "source": [
    "v = np.array([1,3,7])\n",
    "display(v)\n",
    "display(v.T)        # transpozice vektoru je v numpy stejný vektor\n",
    "v == v.T"
   ]
  },
  {
   "cell_type": "markdown",
   "metadata": {},
   "source": [
    "Přidání další osy pomocí newaxis\n",
    "- rozšíření rozměrů pole o jednu novou osu (nová osa obvykle přidána na začátek pole)"
   ]
  },
  {
   "cell_type": "code",
   "execution_count": null,
   "metadata": {},
   "outputs": [
    {
     "data": {
      "text/plain": [
       "array([[1],\n",
       "       [2],\n",
       "       [3]])"
      ]
     },
     "execution_count": 22,
     "metadata": {},
     "output_type": "execute_result"
    }
   ],
   "source": [
    "import numpy as np\n",
    "arr = np.array([1, 2, 3])           # Původní pole (1D)\n",
    "arr_2d = arr[:, np.newaxis]         # Přidání nové osy, čímž vytvoříme 2D pole\n",
    "arr_2d"
   ]
  },
  {
   "cell_type": "code",
   "execution_count": null,
   "metadata": {},
   "outputs": [
    {
     "name": "stdout",
     "output_type": "stream",
     "text": [
      "(3, 3, 1)\n"
     ]
    },
    {
     "data": {
      "text/plain": [
       "array([[[1],\n",
       "        [2],\n",
       "        [3]],\n",
       "\n",
       "       [[4],\n",
       "        [5],\n",
       "        [6]],\n",
       "\n",
       "       [[7],\n",
       "        [8],\n",
       "        [9]]])"
      ]
     },
     "metadata": {},
     "output_type": "display_data"
    }
   ],
   "source": [
    "arr_2d = np.array([[1, 2, 3],       # Původní 2D pole (3x3)\n",
    "                   [4, 5, 6],\n",
    "                   [7, 8, 9]])\n",
    "arr_3d = arr_2d[:, :, np.newaxis]   # Přidání nové osy do druhé dimenze, čímž vytvoříme 3D pole\n",
    "print(arr_3d.shape)                 # Výstup: (3, 3, 1)\n",
    "arr_3d"
   ]
  },
  {
   "cell_type": "markdown",
   "metadata": {},
   "source": [
    "Skládání polí - stacking (concatenate)"
   ]
  },
  {
   "cell_type": "code",
   "execution_count": null,
   "metadata": {},
   "outputs": [
    {
     "name": "stdout",
     "output_type": "stream",
     "text": [
      "[[1 2 3]\n",
      " [4 5 6]\n",
      " [7 8 9]]\n",
      "[[ 2  4  6]\n",
      " [ 8 10 12]\n",
      " [14 16 18]]\n"
     ]
    }
   ],
   "source": [
    "arr1 = np.arange(1,10).reshape(3,3)     # příprava matic\n",
    "arr2 = 2*arr1\n",
    "print(arr1)\n",
    "print(arr2)"
   ]
  },
  {
   "cell_type": "code",
   "execution_count": null,
   "metadata": {},
   "outputs": [
    {
     "data": {
      "text/plain": [
       "array([ 4,  5,  6,  8, 10, 12])"
      ]
     },
     "execution_count": 81,
     "metadata": {},
     "output_type": "execute_result"
    }
   ],
   "source": [
    "arr3=np.hstack((arr1, arr2))        # horizontální skládání\n",
    "#arr3=np.concatenate((arr1, arr2), axis=1)\n",
    "arr3"
   ]
  },
  {
   "cell_type": "code",
   "execution_count": null,
   "metadata": {},
   "outputs": [
    {
     "name": "stdout",
     "output_type": "stream",
     "text": [
      "[[ 4  8]\n",
      " [ 5 10]\n",
      " [ 6 12]]\n"
     ]
    },
    {
     "data": {
      "text/plain": [
       "array([[ 4,  5,  6],\n",
       "       [ 8, 10, 12]])"
      ]
     },
     "execution_count": 82,
     "metadata": {},
     "output_type": "execute_result"
    }
   ],
   "source": [
    "arr3=np.vstack((arr1, arr2))        # vertikální skládání\n",
    "#arr3=np.concatenate((arr1, arr2), axis=0)\n",
    "arr3"
   ]
  },
  {
   "cell_type": "code",
   "execution_count": null,
   "metadata": {},
   "outputs": [
    {
     "name": "stdout",
     "output_type": "stream",
     "text": [
      "[[1 2 3]\n",
      " [4 5 6]\n",
      " [7 8 9]]\n",
      "[[ 2  4  6]\n",
      " [ 8 10 12]\n",
      " [14 16 18]]\n"
     ]
    },
    {
     "data": {
      "text/plain": [
       "array([[[ 1,  2],\n",
       "        [ 2,  4],\n",
       "        [ 3,  6]],\n",
       "\n",
       "       [[ 4,  8],\n",
       "        [ 5, 10],\n",
       "        [ 6, 12]],\n",
       "\n",
       "       [[ 7, 14],\n",
       "        [ 8, 16],\n",
       "        [ 9, 18]]])"
      ]
     },
     "metadata": {},
     "output_type": "display_data"
    }
   ],
   "source": [
    "print(arr1)\n",
    "print(arr2)\n",
    "\n",
    "arr3=np.dstack((arr1, arr2))    # složení přes osu z (depth)\n",
    "display(arr3)                   # dimenze 3, vnitřní vektor 1. složka arr1, 2. složka arr2"
   ]
  },
  {
   "cell_type": "markdown",
   "metadata": {},
   "source": [
    "Pro 1D pole můžeme použít funkce column_stack a row_stack"
   ]
  },
  {
   "cell_type": "code",
   "execution_count": null,
   "metadata": {},
   "outputs": [
    {
     "name": "stdout",
     "output_type": "stream",
     "text": [
      "[4 5 6]\n",
      "[ 8 10 12]\n",
      "\n",
      "[[ 4  5  6]\n",
      " [ 8 10 12]]\n",
      "[[ 4  8]\n",
      " [ 5 10]\n",
      " [ 6 12]]\n",
      "[ 4  5  6  8 10 12]\n",
      "[[ 4  5  6]\n",
      " [ 8 10 12]]\n",
      "[[ 4  5  6]\n",
      " [ 8 10 12]]\n"
     ]
    }
   ],
   "source": [
    "arr1 = np.arange(4,7) \n",
    "arr2 = 2 * arr1\n",
    "print(arr1)\n",
    "print(arr2)\n",
    "print()\n",
    "\n",
    "# column stack\n",
    "arr_col_stack = np.column_stack((arr1,arr2))\n",
    "print(arr_col_stack)\n",
    "print(np.hstack((arr1.T,arr2.T)))    # transpozice nemá vliv na 1D pole\n",
    "\n",
    "# row stack\n",
    "arr_row_stack = np.row_stack((arr1,arr2)) \n",
    "print(arr_row_stack)\n",
    "print(np.vstack((arr1,arr2)))\n"
   ]
  },
  {
   "cell_type": "markdown",
   "metadata": {},
   "source": [
    "Dělení matice (opačný proces): split \n",
    "- hsplit - pole sloupců\n",
    "- vsplit - pole řádků"
   ]
  },
  {
   "cell_type": "code",
   "execution_count": null,
   "metadata": {},
   "outputs": [
    {
     "name": "stdout",
     "output_type": "stream",
     "text": [
      "[[1 2 3]\n",
      " [4 5 6]\n",
      " [7 8 9]]\n"
     ]
    },
    {
     "data": {
      "text/plain": [
       "[array([[1],\n",
       "        [4],\n",
       "        [7]]),\n",
       " array([[2],\n",
       "        [5],\n",
       "        [8]]),\n",
       " array([[3],\n",
       "        [6],\n",
       "        [9]])]"
      ]
     },
     "execution_count": 85,
     "metadata": {},
     "output_type": "execute_result"
    }
   ],
   "source": [
    "arr=np.arange(1,10).reshape(3,3)\n",
    "print(arr)\n",
    "\n",
    "# vodorovné dělení (na sloupce)\n",
    "np.hsplit(arr, 3)    # nebo np.split(arr,3,axis=1)"
   ]
  },
  {
   "cell_type": "code",
   "execution_count": null,
   "metadata": {},
   "outputs": [
    {
     "data": {
      "text/plain": [
       "[array([[1, 2, 3]]), array([[4, 5, 6]]), array([[7, 8, 9]])]"
      ]
     },
     "execution_count": 48,
     "metadata": {},
     "output_type": "execute_result"
    }
   ],
   "source": [
    "# svislé dělení (na řádky)\n",
    "np.vsplit(arr, 3)    # nebo np.split(arr,3,axis=0)"
   ]
  },
  {
   "attachments": {},
   "cell_type": "markdown",
   "metadata": {},
   "source": [
    "## Datové typy polí"
   ]
  },
  {
   "cell_type": "code",
   "execution_count": null,
   "metadata": {},
   "outputs": [
    {
     "name": "stdout",
     "output_type": "stream",
     "text": [
      "[0 0 0 0]\n",
      "[0. 0. 0. 0.]\n",
      "[False False False False]\n"
     ]
    }
   ],
   "source": [
    "print(np.zeros(4, dtype=int))        # pro matici (4,4)\n",
    "print(np.zeros(4, dtype=float))\n",
    "print(np.zeros(4, dtype=bool))"
   ]
  },
  {
   "cell_type": "markdown",
   "metadata": {},
   "source": [
    "Změna datového typu"
   ]
  },
  {
   "cell_type": "code",
   "execution_count": null,
   "metadata": {},
   "outputs": [
    {
     "name": "stdout",
     "output_type": "stream",
     "text": [
      "[[1 2 3]\n",
      " [4 5 6]\n",
      " [7 8 9]]\n",
      "[[1. 2. 3.]\n",
      " [4. 5. 6.]\n",
      " [7. 8. 9.]]\n",
      "Změněný typ: float64\n"
     ]
    }
   ],
   "source": [
    "arr=np.arange(1,10).reshape(3,3)\n",
    "print(arr)\n",
    "\n",
    "arr=arr.astype(float)\n",
    "print(arr)\n",
    "print(\"Změněný typ:\", arr.dtype)"
   ]
  },
  {
   "attachments": {},
   "cell_type": "markdown",
   "metadata": {},
   "source": [
    "Pokud uložíme různé datové typy, výsledkem je defaultně string \n",
    "\n",
    "(zde little-endian 32 character string)"
   ]
  },
  {
   "cell_type": "code",
   "execution_count": null,
   "metadata": {},
   "outputs": [
    {
     "data": {
      "text/plain": [
       "array(['0', '3.14', 'ahoj'], dtype='<U32')"
      ]
     },
     "execution_count": 102,
     "metadata": {},
     "output_type": "execute_result"
    }
   ],
   "source": [
    "np.array([0, 3.14, \"ahoj\"])"
   ]
  },
  {
   "attachments": {},
   "cell_type": "markdown",
   "metadata": {},
   "source": [
    "Nejobecnější typ je object"
   ]
  },
  {
   "cell_type": "code",
   "execution_count": null,
   "metadata": {},
   "outputs": [
    {
     "data": {
      "text/plain": [
       "array([0, 3.14, 'ahoj'], dtype=object)"
      ]
     },
     "execution_count": 103,
     "metadata": {},
     "output_type": "execute_result"
    }
   ],
   "source": [
    "np.array([0, 3.14, \"ahoj\"], dtype=object)"
   ]
  },
  {
   "attachments": {},
   "cell_type": "markdown",
   "metadata": {},
   "source": [
    "Další možnosti: Klasické řetězcové specifikace, bytestring (ukončeny \\0), složené datové typy (records)"
   ]
  },
  {
   "attachments": {},
   "cell_type": "markdown",
   "metadata": {},
   "source": [
    "## Maticové násobení\n",
    "- původně funkce dot, od Pythonu 3.5 operátor @ (mATrix multiplication),"
   ]
  },
  {
   "cell_type": "markdown",
   "metadata": {},
   "source": [
    "Násobení matice vektorem"
   ]
  },
  {
   "cell_type": "code",
   "execution_count": null,
   "metadata": {},
   "outputs": [
    {
     "data": {
      "text/plain": [
       "(array([1, 4, 7]), array([1, 4, 7]), array([1, 4, 7]))"
      ]
     },
     "execution_count": 6,
     "metadata": {},
     "output_type": "execute_result"
    }
   ],
   "source": [
    "array1 = np.array([[1, 2, 3], [4, 5, 6], [7, 8, 9]])\n",
    "vector = np.array([1, 0, 0])\n",
    "array1 @ vector, np.dot(array1, vector), array1.dot(vector)"
   ]
  },
  {
   "cell_type": "markdown",
   "metadata": {},
   "source": [
    "Násobení dvou matic"
   ]
  },
  {
   "cell_type": "code",
   "execution_count": null,
   "metadata": {},
   "outputs": [
    {
     "data": {
      "text/plain": [
       "(array([[ 1,  4,  9],\n",
       "        [ 4, 10, 18],\n",
       "        [ 7, 16, 27]]),\n",
       " array([[ 1,  4,  9],\n",
       "        [ 4, 10, 18],\n",
       "        [ 7, 16, 27]]),\n",
       " array([[ 1,  4,  9],\n",
       "        [ 4, 10, 18],\n",
       "        [ 7, 16, 27]]))"
      ]
     },
     "execution_count": 4,
     "metadata": {},
     "output_type": "execute_result"
    }
   ],
   "source": [
    "array1 = np.array([[1, 2, 3], [4, 5, 6], [7, 8, 9]])\n",
    "array2 = np.array([[1, 0, 0], [0, 2, 0], [0, 0, 3]])\n",
    "array1 @ array2, np.dot(array1, array2), array1.dot(array2)"
   ]
  },
  {
   "cell_type": "markdown",
   "metadata": {},
   "source": [
    "Neodpovídající rozměry"
   ]
  },
  {
   "cell_type": "code",
   "execution_count": null,
   "metadata": {},
   "outputs": [
    {
     "data": {
      "text/plain": [
       "array([1, 2, 3])"
      ]
     },
     "execution_count": 7,
     "metadata": {},
     "output_type": "execute_result"
    }
   ],
   "source": [
    "array1 = np.array([[1, 2, 3], [4, 5, 6], [7, 8, 9]])\n",
    "vector = np.array([1, 0, 0])\n",
    "vector @ array1                         # automatická transpozice"
   ]
  },
  {
   "cell_type": "code",
   "execution_count": null,
   "metadata": {},
   "outputs": [
    {
     "ename": "ValueError",
     "evalue": "matmul: Input operand 1 has a mismatch in its core dimension 0, with gufunc signature (n?,k),(k,m?)->(n?,m?) (size 3 is different from 2)",
     "output_type": "error",
     "traceback": [
      "\u001b[1;31m---------------------------------------------------------------------------\u001b[0m",
      "\u001b[1;31mValueError\u001b[0m                                Traceback (most recent call last)",
      "Cell \u001b[1;32mIn[10], line 3\u001b[0m\n\u001b[0;32m      1\u001b[0m array1 \u001b[38;5;241m=\u001b[39m np\u001b[38;5;241m.\u001b[39marray([[\u001b[38;5;241m1\u001b[39m, \u001b[38;5;241m2\u001b[39m, \u001b[38;5;241m3\u001b[39m], [\u001b[38;5;241m4\u001b[39m, \u001b[38;5;241m5\u001b[39m, \u001b[38;5;241m6\u001b[39m], [\u001b[38;5;241m7\u001b[39m, \u001b[38;5;241m8\u001b[39m, \u001b[38;5;241m9\u001b[39m]])\n\u001b[0;32m      2\u001b[0m vector \u001b[38;5;241m=\u001b[39m np\u001b[38;5;241m.\u001b[39marray([\u001b[38;5;241m1\u001b[39m, \u001b[38;5;241m0\u001b[39m])            \u001b[38;5;66;03m# pouze 2 hodnoty - chyba\u001b[39;00m\n\u001b[1;32m----> 3\u001b[0m \u001b[43mvector\u001b[49m\u001b[43m \u001b[49m\u001b[38;5;241;43m@\u001b[39;49m\u001b[43m \u001b[49m\u001b[43marray1\u001b[49m\n",
      "\u001b[1;31mValueError\u001b[0m: matmul: Input operand 1 has a mismatch in its core dimension 0, with gufunc signature (n?,k),(k,m?)->(n?,m?) (size 3 is different from 2)"
     ]
    }
   ],
   "source": [
    "array1 = np.array([[1, 2, 3], [4, 5, 6], [7, 8, 9]])\n",
    "vector = np.array([1, 0])            # pouze 2 hodnoty - chyba\n",
    "vector @ array1"
   ]
  },
  {
   "attachments": {},
   "cell_type": "markdown",
   "metadata": {},
   "source": [
    "## Booleovské hodnoty polí"
   ]
  },
  {
   "cell_type": "code",
   "execution_count": null,
   "metadata": {},
   "outputs": [
    {
     "name": "stdout",
     "output_type": "stream",
     "text": [
      "Alespoň jeden prvek je nenulový\n",
      "9\n",
      "Pole obsahuje nějaké prvky\n"
     ]
    }
   ],
   "source": [
    "E = np.eye(3)\n",
    "if E.any():                         # obsahuje cokoliv nenulového\n",
    "    print('Alespoň jeden prvek je nenulový')\n",
    "if E.all():                         # všechny prvky nenulové\n",
    "    print('Všechny prvky jsou nenulové')\n",
    "print(E.size)\n",
    "if E.size:                          # počet prvků\n",
    "    print('Pole obsahuje nějaké prvky')"
   ]
  },
  {
   "cell_type": "markdown",
   "metadata": {},
   "source": [
    "## Iterace"
   ]
  },
  {
   "cell_type": "code",
   "execution_count": 2,
   "metadata": {},
   "outputs": [
    {
     "name": "stdout",
     "output_type": "stream",
     "text": [
      "1\n",
      "2\n",
      "3\n",
      "4\n"
     ]
    }
   ],
   "source": [
    "import numpy as np\n",
    "v = np.array([1, 2, 3, 4])\n",
    "\n",
    "for element in v:\n",
    "    print(element)"
   ]
  },
  {
   "cell_type": "markdown",
   "metadata": {},
   "source": [
    "Iteruje se přes první index (po řádcích)"
   ]
  },
  {
   "cell_type": "code",
   "execution_count": 30,
   "metadata": {},
   "outputs": [
    {
     "name": "stdout",
     "output_type": "stream",
     "text": [
      "row: [1 2]\n",
      "row: [3 4]\n"
     ]
    }
   ],
   "source": [
    "M = np.array([[1, 2], [3, 4]])\n",
    "\n",
    "for row in M:\n",
    "    print(f\"row: {row}\")"
   ]
  },
  {
   "cell_type": "markdown",
   "metadata": {},
   "source": [
    "Přístup k indexům přes enumerate"
   ]
  },
  {
   "cell_type": "code",
   "execution_count": 33,
   "metadata": {},
   "outputs": [
    {
     "name": "stdout",
     "output_type": "stream",
     "text": [
      "prvek č. 0: 1\n",
      "prvek č. 1: 2\n",
      "prvek č. 2: 3\n",
      "prvek č. 3: 4\n"
     ]
    }
   ],
   "source": [
    "v = np.array([1, 2, 3, 4])\n",
    "for i, p in enumerate(v):\n",
    "    print(f\"prvek č. {i}: {p}\")"
   ]
  },
  {
   "cell_type": "code",
   "execution_count": 35,
   "metadata": {},
   "outputs": [
    {
     "name": "stdout",
     "output_type": "stream",
     "text": [
      "řádek č. 0: [1 2]\n",
      "  prvek 1 ve sloupci 0\n",
      "  prvek 2 ve sloupci 1\n",
      "řádek č. 1: [3 4]\n",
      "  prvek 3 ve sloupci 0\n",
      "  prvek 4 ve sloupci 1\n"
     ]
    },
    {
     "data": {
      "text/plain": [
       "array([[ 1,  4],\n",
       "       [ 9, 16]])"
      ]
     },
     "execution_count": 35,
     "metadata": {},
     "output_type": "execute_result"
    }
   ],
   "source": [
    "M = np.array([[1, 2], [3, 4]])\n",
    "\n",
    "for row_idx, row in enumerate(M):\n",
    "    print(f\"řádek č. {row_idx}: {row}\")\n",
    "    \n",
    "    for col_idx, element in enumerate(row):\n",
    "        print(f\"  prvek {element} ve sloupci {col_idx}\")\n",
    "       \n",
    "        # update the matrix M: square each element\n",
    "        M[row_idx, col_idx] = element ** 2\n",
    "M"
   ]
  },
  {
   "attachments": {},
   "cell_type": "markdown",
   "metadata": {},
   "source": [
    "## Vektorové funkce\n",
    "např. vytvoříme hodnoty z intervalu 0 až $\\pi$ s dělením na 1000 dílků a spočítáme sinus "
   ]
  },
  {
   "cell_type": "code",
   "execution_count": null,
   "metadata": {},
   "outputs": [
    {
     "data": {
      "text/plain": [
       "array([0.        , 0.00314474, 0.00628947, 0.00943421, 0.01257895,\n",
       "       0.01572369, 0.01886842, 0.02201316, 0.0251579 , 0.02830264])"
      ]
     },
     "execution_count": 106,
     "metadata": {},
     "output_type": "execute_result"
    }
   ],
   "source": [
    "#                     od,       do,   dělení   \n",
    "a1 = np.linspace(0, np.pi, num=1000)   # vytvoření pole\n",
    "a1[:10]                                      # výpis prvních 10 prvků"
   ]
  },
  {
   "cell_type": "code",
   "execution_count": null,
   "metadata": {},
   "outputs": [
    {
     "data": {
      "text/plain": [
       "array([0.        , 0.00314473, 0.00628943, 0.00943407, 0.01257862,\n",
       "       0.01572304, 0.0188673 , 0.02201138, 0.02515525, 0.02829886])"
      ]
     },
     "execution_count": 107,
     "metadata": {},
     "output_type": "execute_result"
    }
   ],
   "source": [
    "sinus = np.sin(a1)                        # použití funkce sin\n",
    "sinus[:10]                                      # výpis prvních 10 prvků"
   ]
  },
  {
   "cell_type": "markdown",
   "metadata": {},
   "source": [
    "### Vektorizace funkcí\n",
    "požadujeme, aby argumentem i výsledkem funkce byl vektor"
   ]
  },
  {
   "cell_type": "code",
   "execution_count": 2,
   "metadata": {},
   "outputs": [],
   "source": [
    "def Theta(x):\n",
    "    \"\"\"\n",
    "    Scalar implemenation of the Heaviside step function.\n",
    "    \"\"\"\n",
    "    if x >= 0:\n",
    "        return 1\n",
    "    else:\n",
    "        return 0"
   ]
  },
  {
   "cell_type": "code",
   "execution_count": null,
   "metadata": {},
   "outputs": [],
   "source": [
    "# toto bychom chtěli, ale nebude fungovat\n",
    "Theta(np.array([-3, -2, -1, 0, 1, 2, 3]))"
   ]
  },
  {
   "cell_type": "code",
   "execution_count": 4,
   "metadata": {},
   "outputs": [
    {
     "data": {
      "text/plain": [
       "array([0, 0, 0, 1, 1, 1, 1])"
      ]
     },
     "execution_count": 4,
     "metadata": {},
     "output_type": "execute_result"
    }
   ],
   "source": [
    "import numpy as np\n",
    "Theta_vec = np.vectorize(Theta)\n",
    "Theta_vec(np.array([-3, -2, -1, 0, 1, 2, 3]))"
   ]
  },
  {
   "cell_type": "markdown",
   "metadata": {},
   "source": [
    "Vhodnější vektorová funkce"
   ]
  },
  {
   "cell_type": "code",
   "execution_count": 5,
   "metadata": {},
   "outputs": [],
   "source": [
    "def Theta_numpy(x):\n",
    "    \"\"\"\n",
    "    Vector-aware implemenation of the Heaviside step function.\n",
    "    \"\"\"\n",
    "    return 1 * (x >= 0)"
   ]
  },
  {
   "cell_type": "code",
   "execution_count": 6,
   "metadata": {},
   "outputs": [
    {
     "data": {
      "text/plain": [
       "array([0, 0, 0, 1, 1, 1, 1])"
      ]
     },
     "execution_count": 6,
     "metadata": {},
     "output_type": "execute_result"
    }
   ],
   "source": [
    "Theta_numpy(np.array([-3, -2, -1, 0, 1, 2, 3]))"
   ]
  },
  {
   "cell_type": "markdown",
   "metadata": {},
   "source": [
    "Porovnání rychlosti pomocí magického příkazu %timeit"
   ]
  },
  {
   "cell_type": "code",
   "execution_count": 7,
   "metadata": {},
   "outputs": [
    {
     "name": "stdout",
     "output_type": "stream",
     "text": [
      "1.89 ms ± 171 µs per loop (mean ± std. dev. of 7 runs, 100 loops each)\n",
      "21.4 µs ± 378 ns per loop (mean ± std. dev. of 7 runs, 10,000 loops each)\n"
     ]
    }
   ],
   "source": [
    "randvec = np.random.random_sample((10000)) * 2000 - 1000\n",
    "%timeit Theta_vec(randvec)\n",
    "%timeit Theta_numpy(randvec)"
   ]
  },
  {
   "attachments": {},
   "cell_type": "markdown",
   "metadata": {},
   "source": [
    "## Práce se soubory\n",
    "Nejdříve vytvoříme textový soubor s daty\n",
    "- writefile (file) - magický příkaz, vytvoří soubor a zapíše do něj to, co následuje"
   ]
  },
  {
   "cell_type": "code",
   "execution_count": 1,
   "metadata": {},
   "outputs": [
    {
     "name": "stdout",
     "output_type": "stream",
     "text": [
      "Writing tmp/ascii_data_1.txt\n"
     ]
    }
   ],
   "source": [
    "%%writefile tmp/ascii_data_1.txt         \n",
    " 1    -6.1    -6.1    -6.1 1\n",
    " 2   -15.4   -15.4   -15.4 1\n",
    " 3   -15.0   -15.0   -15.0 1\n",
    " 4   -19.3   -19.3   -19.3 1\n",
    " 5   -16.8   -16.8   -16.8 1\n",
    " 6   -11.4   -11.4   -11.4 1\n",
    " 7    -7.6    -7.6    -7.6 1\n",
    " 8    -7.1    -7.1    -7.1 1\n",
    " 9   -10.1   -10.1   -10.1 1\n",
    "10    -9.5    -9.5    -9.5 1"
   ]
  },
  {
   "attachments": {},
   "cell_type": "markdown",
   "metadata": {},
   "source": [
    "Pokusíme se načíst data ze souboru"
   ]
  },
  {
   "cell_type": "code",
   "execution_count": 4,
   "metadata": {},
   "outputs": [
    {
     "data": {
      "text/plain": [
       "(array([[  1. ,  -6.1,  -6.1,  -6.1,   1. ],\n",
       "        [  2. , -15.4, -15.4, -15.4,   1. ],\n",
       "        [  3. , -15. , -15. , -15. ,   1. ],\n",
       "        [  4. , -19.3, -19.3, -19.3,   1. ],\n",
       "        [  5. , -16.8, -16.8, -16.8,   1. ],\n",
       "        [  6. , -11.4, -11.4, -11.4,   1. ],\n",
       "        [  7. ,  -7.6,  -7.6,  -7.6,   1. ],\n",
       "        [  8. ,  -7.1,  -7.1,  -7.1,   1. ],\n",
       "        [  9. , -10.1, -10.1, -10.1,   1. ],\n",
       "        [ 10. ,  -9.5,  -9.5,  -9.5,   1. ]]),\n",
       " array([[  1. ,  -6.1,  -6.1,  -6.1,   1. ],\n",
       "        [  2. , -15.4, -15.4, -15.4,   1. ],\n",
       "        [  3. , -15. , -15. , -15. ,   1. ],\n",
       "        [  4. , -19.3, -19.3, -19.3,   1. ],\n",
       "        [  5. , -16.8, -16.8, -16.8,   1. ],\n",
       "        [  6. , -11.4, -11.4, -11.4,   1. ],\n",
       "        [  7. ,  -7.6,  -7.6,  -7.6,   1. ],\n",
       "        [  8. ,  -7.1,  -7.1,  -7.1,   1. ],\n",
       "        [  9. , -10.1, -10.1, -10.1,   1. ],\n",
       "        [ 10. ,  -9.5,  -9.5,  -9.5,   1. ]]))"
      ]
     },
     "execution_count": 4,
     "metadata": {},
     "output_type": "execute_result"
    }
   ],
   "source": [
    "data1 = np.genfromtxt('tmp/ascii_data_1.txt')\n",
    "data2 = np.loadtxt('tmp/ascii_data_1.txt')\n",
    "#print(data1 == data2)\n",
    "data1, data2"
   ]
  },
  {
   "attachments": {},
   "cell_type": "markdown",
   "metadata": {},
   "source": [
    "Opětovné uložení"
   ]
  },
  {
   "cell_type": "code",
   "execution_count": 5,
   "metadata": {},
   "outputs": [
    {
     "name": "stdout",
     "output_type": "stream",
     "text": [
      "     1   -6.1   -6.1   -6.1      1\n",
      "     2  -15.4  -15.4  -15.4      1\n",
      "     3    -15    -15    -15      1\n",
      "     4  -19.3  -19.3  -19.3      1\n",
      "     5  -16.8  -16.8  -16.8      1\n",
      "     6  -11.4  -11.4  -11.4      1\n",
      "     7   -7.6   -7.6   -7.6      1\n",
      "     8   -7.1   -7.1   -7.1      1\n",
      "     9  -10.1  -10.1  -10.1      1\n",
      "    10   -9.5   -9.5   -9.5      1\n",
      "\n"
     ]
    }
   ],
   "source": [
    "np.savetxt(\"tmp/ascii_data_1_new.txt\", data1, fmt=\"%6g\")     # uložíme pod jiným jménem\n",
    "print(open(\"tmp/ascii_data_1_new.txt\", \"r\").read())             # přesvědčíme se"
   ]
  },
  {
   "attachments": {},
   "cell_type": "markdown",
   "metadata": {},
   "source": [
    "Je možné používat i vlastní NumPy formát, příkazy jsou stejné bez txt (save, load)"
   ]
  },
  {
   "attachments": {},
   "cell_type": "markdown",
   "metadata": {},
   "source": [
    "## Cvičení: Srovnání rychlosti"
   ]
  },
  {
   "attachments": {},
   "cell_type": "markdown",
   "metadata": {},
   "source": [
    "#### Součet vektorů"
   ]
  },
  {
   "cell_type": "code",
   "execution_count": null,
   "metadata": {},
   "outputs": [
    {
     "name": "stdout",
     "output_type": "stream",
     "text": [
      "0.3661055564880371\n",
      "0.28478312492370605\n",
      "0.004105329513549805\n",
      "Numpy je rychlejší 69.37×\n"
     ]
    }
   ],
   "source": [
    "import time\n",
    "import numpy as np\n",
    "\n",
    "velikostVektoru = 1000000\n",
    "\n",
    "def SoucetSeznamy1():                   # klasické for\n",
    "    t1 = time.time()\n",
    "    X = range(velikostVektoru)\n",
    "    Y = range(velikostVektoru)\n",
    "    Z = []\n",
    "    for i in range(len(X)):\n",
    "        Z.append(X[i] + Y[i])\n",
    "    return time.time() - t1\n",
    "\n",
    "def SoucetSeznamy():\n",
    "    t1 = time.time()\n",
    "    X = range(velikostVektoru)\n",
    "    Y = range(velikostVektoru)\n",
    "    Z = [X[i] + Y[i] for i in range(len(X)) ]\n",
    "    return time.time() - t1\n",
    "\n",
    "def SoucetNumPy():                      # numpy\n",
    "    t1 = time.time()\n",
    "    X = np.arange(velikostVektoru)\n",
    "    Y = np.arange(velikostVektoru)\n",
    "    Z = X + Y\n",
    "    return time.time() - t1\n",
    "\n",
    "print(SoucetSeznamy1())\n",
    "t1 = SoucetSeznamy()\n",
    "t2 = SoucetNumPy()\n",
    "print(t1)\n",
    "print(t2)\n",
    "if t2 != 0:\n",
    "    print(\"Numpy je rychlejší {:.2f}×\".format(t1/t2))\n",
    "else:\n",
    "    print(\"Podíl nelze stanovit\")"
   ]
  },
  {
   "attachments": {},
   "cell_type": "markdown",
   "metadata": {},
   "source": [
    "#### Násobení vektorů"
   ]
  },
  {
   "attachments": {},
   "cell_type": "markdown",
   "metadata": {},
   "source": [
    "Klasicky (bez NumPy)"
   ]
  },
  {
   "cell_type": "code",
   "execution_count": 7,
   "metadata": {},
   "outputs": [
    {
     "name": "stdout",
     "output_type": "stream",
     "text": [
      "333328333350000\n",
      "<class 'int'>\n",
      "Čas: 1.375\n"
     ]
    }
   ],
   "source": [
    "from time import process_time\n",
    "mez = 100000                        # velikost vektoru\n",
    "opak = 100                          # počet opakování úkolu\n",
    "\n",
    "def nasobeni(l1, l2):\n",
    "    dot = 0\n",
    "    for i, j in zip(l1, l2):        # zip prochází oba seznamy a vezme odpovídající záznamy (se stejným indexem)\n",
    "        dot += i*j\n",
    "    #dot2 = 0\n",
    "    #for i in range(mez):\n",
    "    #    dot2 += l1[i]*l2[i]\n",
    "    return dot\n",
    "\n",
    "\n",
    "list1 = list(range(mez))            # čísla od 0 až do mez-1\n",
    "list2 = list(range(mez))\n",
    "\n",
    "start = process_time()              # začátek měření času\n",
    "for i in range(opak):\n",
    "    dot = nasobeni(list1, list2)\n",
    "end = process_time()                # konec měření času\n",
    "\n",
    "print(dot)\n",
    "print(type(dot))\n",
    "print(\"Čas:\", round(end - start, 10))"
   ]
  },
  {
   "attachments": {},
   "cell_type": "markdown",
   "metadata": {},
   "source": [
    "Pomocí NumPy"
   ]
  },
  {
   "cell_type": "code",
   "execution_count": 32,
   "metadata": {},
   "outputs": [
    {
     "name": "stdout",
     "output_type": "stream",
     "text": [
      "333328333350000\n",
      "<class 'numpy.int64'>\n",
      "Čas: 0.0\n"
     ]
    }
   ],
   "source": [
    "import numpy as np\n",
    "from time import process_time\n",
    "mez = 100000                        # velikost vektoru\n",
    "opak = 100                          # počet opakování úkolu\n",
    "arr1 = np.arange(mez, dtype=np.int64)\n",
    "arr2 = np.arange(mez, dtype=np.int64)\n",
    "\n",
    "start = process_time()              # začátek měření času\n",
    "for i in range(opak):\n",
    "    dot = arr1 @ arr2\n",
    "    #dot = np.dot(arr1, arr2)\n",
    "end = process_time()                # konec měření času\n",
    "\n",
    "print(dot)\n",
    "print(type(dot))\n",
    "print(\"Čas:\", round(end - start, 10))"
   ]
  },
  {
   "attachments": {},
   "cell_type": "markdown",
   "metadata": {},
   "source": [
    "#### Výpočet funkčních hodnot"
   ]
  },
  {
   "attachments": {},
   "cell_type": "markdown",
   "metadata": {},
   "source": [
    "Klasicky (bez NumPy)"
   ]
  },
  {
   "cell_type": "code",
   "execution_count": 3,
   "metadata": {},
   "outputs": [
    {
     "name": "stdout",
     "output_type": "stream",
     "text": [
      "[0, 1, 2, 3, 4, 5, 6, 7, 8, 9, 10, 11, 12, 13, 14, 15, 16, 17, 18, 19]\n",
      "[0.0, 0.8414709848078965, 0.9092974268256817, 0.1411200080598672, -0.7568024953079282, -0.9589242746631385, -0.27941549819892586, 0.6569865987187891, 0.9893582466233818, 0.4121184852417566]\n",
      "čas: 0.328125\n"
     ]
    }
   ],
   "source": [
    "import math\n",
    "mez = 1000000                       # velikost vektoru\n",
    "\n",
    "list1 = list(range(mez))            # první seznam\n",
    "list2=[0]*mez                       # vektor výsledků, zatím samé nuly\n",
    "print(list1[:20])                   # prvních 20 prvků\n",
    "\n",
    "start = process_time()\n",
    "for i in range(len(list2)):\n",
    "    list2[i]=math.sin(list1[i])\n",
    "print(list2[:10])                   # výsledky (prvních 10)\n",
    "end = process_time()\n",
    "print(\"Čas:\", round(end - start, 10))"
   ]
  },
  {
   "attachments": {},
   "cell_type": "markdown",
   "metadata": {},
   "source": [
    "Pomocí NumPy"
   ]
  },
  {
   "cell_type": "code",
   "execution_count": null,
   "metadata": {},
   "outputs": [
    {
     "name": "stdout",
     "output_type": "stream",
     "text": [
      "[ 0  1  2  3  4  5  6  7  8  9 10 11 12 13 14 15 16 17 18 19]\n",
      "[ 0.          0.84147098  0.90929743  0.14112001 -0.7568025  -0.95892427\n",
      " -0.2794155   0.6569866   0.98935825  0.41211849]\n",
      "0.8414709848078965\n",
      "čas: 0.015625\n"
     ]
    }
   ],
   "source": [
    "arr1 = np.arange(mez, dtype=np.int64)   # první seznam\n",
    "print(arr1[:20])                        # prvních 20 prvků\n",
    "\n",
    "start = process_time()\n",
    "arr2 = np.sin(arr1)                     # výpočet vektorově\n",
    "print(arr2[:10])                        # výpis v kompaktnější formě (prvních 10)\n",
    "print(format(arr2[1],'.16f'))           # přesnost stejná\n",
    "end = process_time()\n",
    "print(\"Čas:\", round(end - start, 10))"
   ]
  },
  {
   "cell_type": "code",
   "execution_count": 21,
   "metadata": {},
   "outputs": [
    {
     "name": "stdout",
     "output_type": "stream",
     "text": [
      "klas. for: 0.53125\n",
      "np-nepř.1: 0.59375\n",
      "np-nepř.2: 0.578125\n",
      "vektorově: 0.015625\n",
      "v. bez np: 2.375\n"
     ]
    }
   ],
   "source": [
    "import numpy as np\n",
    "from time import process_time\n",
    "\n",
    "def my_func(x):\n",
    "    y = x**3 - 2*x + 5\n",
    "    if y>0.5:\n",
    "        return y-0.5\n",
    "    else:\n",
    "        return 0\n",
    "\n",
    "r =  range(100000)              # velikost vektoru (např. 100 000)\n",
    "v = np.array(r)\n",
    "opak = 10\n",
    "t0 = process_time()\n",
    "\n",
    "for i in range(opak):           # bez numpy, cyklus for\n",
    "    a1 = [my_func(p) for p in r]\n",
    "t1 = process_time()\n",
    "\n",
    "for i in range(opak):           # s numpy, ale nepřímé provádění\n",
    "    a2 = np.vectorize(my_func)(v)\n",
    "t2 = process_time()\n",
    "\n",
    "my_func_vec = np.vectorize(my_func)\n",
    "for i in range(opak):           # totéž, nepomůže\n",
    "    a3 = my_func_vec(v)\n",
    "t3 = process_time()\n",
    "\n",
    "#---------------------------------------\n",
    "def my_func_vectorized(x):      # funkce pracující vektorově\n",
    "    y = x**3 - 2*x + 5\n",
    "    y = np.maximum(y - 0.5, 0)\n",
    "    return y\n",
    " \n",
    "for i in range(opak):           # vektorová funkce\n",
    "    a3 = my_func_vectorized(v)\n",
    "t4 = process_time()\n",
    "\n",
    "for i in range(opak):           # vektorová funkce bez numpy\n",
    "    a1 = [my_func_vectorized(p) for p in r]\n",
    "t5 = process_time()\n",
    "\n",
    "\n",
    "print(\"klas. for:\", t1-t0)\n",
    "print(\"np-nepř.1:\", t2-t1)\n",
    "print(\"np-nepř.2:\", t3-t2)\n",
    "print(\"vektorově:\", t4-t3)\n",
    "print(\"v. bez np:\", t5-t4)"
   ]
  },
  {
   "attachments": {},
   "cell_type": "markdown",
   "metadata": {},
   "source": [
    "#### Mazání"
   ]
  },
  {
   "attachments": {},
   "cell_type": "markdown",
   "metadata": {},
   "source": [
    "Klasicky (bez NumPy)"
   ]
  },
  {
   "cell_type": "code",
   "execution_count": null,
   "metadata": {},
   "outputs": [
    {
     "data": {
      "text/plain": [
       "0.015625"
      ]
     },
     "execution_count": 82,
     "metadata": {},
     "output_type": "execute_result"
    }
   ],
   "source": [
    "list1 = list(range(mez))\n",
    "start = process_time()\n",
    "del list1\n",
    "end = process_time()\n",
    "round(end - start, 10)"
   ]
  },
  {
   "attachments": {},
   "cell_type": "markdown",
   "metadata": {},
   "source": [
    "Pomocí NumPy"
   ]
  },
  {
   "cell_type": "code",
   "execution_count": null,
   "metadata": {},
   "outputs": [
    {
     "data": {
      "text/plain": [
       "0.0"
      ]
     },
     "execution_count": 83,
     "metadata": {},
     "output_type": "execute_result"
    }
   ],
   "source": [
    "arr1 = np.arange(mez, dtype=np.int64)\n",
    "start = process_time()\n",
    "del arr1\n",
    "end = process_time()\n",
    "round(end - start, 10)"
   ]
  },
  {
   "attachments": {},
   "cell_type": "markdown",
   "metadata": {},
   "source": [
    "## Lineární algebra s np.linalg\n",
    "Základní operace, doplněno v SciPy\n",
    "\n",
    "Několik příkladů:"
   ]
  },
  {
   "cell_type": "code",
   "execution_count": 47,
   "metadata": {},
   "outputs": [
    {
     "name": "stdout",
     "output_type": "stream",
     "text": [
      "[[1 2]\n",
      " [3 4]]\n",
      "<class 'numpy.ndarray'>\n"
     ]
    }
   ],
   "source": [
    "import numpy as np\n",
    "a = np.array([[1, 2], [3, 4]])           # a1\n",
    "print(a)\n",
    "print(type(a))"
   ]
  },
  {
   "attachments": {},
   "cell_type": "markdown",
   "metadata": {},
   "source": [
    "Výpočet determinantu"
   ]
  },
  {
   "cell_type": "code",
   "execution_count": 48,
   "metadata": {},
   "outputs": [
    {
     "data": {
      "text/plain": [
       "np.float64(-2.0000000000000004)"
      ]
     },
     "execution_count": 48,
     "metadata": {},
     "output_type": "execute_result"
    }
   ],
   "source": [
    "a = np.array([[1, 2], [3, 4]])\n",
    "np.linalg.det(a)"
   ]
  },
  {
   "attachments": {},
   "cell_type": "markdown",
   "metadata": {},
   "source": [
    "Výpočet hodnosti matice"
   ]
  },
  {
   "cell_type": "code",
   "execution_count": 49,
   "metadata": {},
   "outputs": [
    {
     "name": "stdout",
     "output_type": "stream",
     "text": [
      "[[1 2]\n",
      " [3 4]]\n",
      "Hodnost a: 2\n",
      "Hodnost jednotkové 4x4: 4\n"
     ]
    }
   ],
   "source": [
    "from numpy.linalg import matrix_rank\n",
    "print(a)\n",
    "print(\"Hodnost a:\", matrix_rank(a))\n",
    "print(\"Hodnost jednotkové 4x4:\", matrix_rank(np.eye(4)))"
   ]
  },
  {
   "cell_type": "code",
   "execution_count": 50,
   "metadata": {},
   "outputs": [
    {
     "data": {
      "text/plain": [
       "np.int64(3)"
      ]
     },
     "execution_count": 50,
     "metadata": {},
     "output_type": "execute_result"
    }
   ],
   "source": [
    "I=np.eye(4)\n",
    "I[-1,-1] = 0                # odstraníme poslední diag. hodnotu\n",
    "matrix_rank(I)              # hodnost je menší"
   ]
  },
  {
   "attachments": {},
   "cell_type": "markdown",
   "metadata": {},
   "source": [
    "Stopa matice"
   ]
  },
  {
   "cell_type": "code",
   "execution_count": 51,
   "metadata": {},
   "outputs": [
    {
     "data": {
      "text/plain": [
       "np.float64(3.0)"
      ]
     },
     "execution_count": 51,
     "metadata": {},
     "output_type": "execute_result"
    }
   ],
   "source": [
    "np.trace(np.eye(3))   # součet prvků na diagonále"
   ]
  },
  {
   "cell_type": "code",
   "execution_count": 52,
   "metadata": {},
   "outputs": [
    {
     "name": "stdout",
     "output_type": "stream",
     "text": [
      "[[[0 1]\n",
      "  [2 3]]\n",
      "\n",
      " [[4 5]\n",
      "  [6 7]]]\n"
     ]
    },
    {
     "data": {
      "text/plain": [
       "array([6, 8])"
      ]
     },
     "execution_count": 52,
     "metadata": {},
     "output_type": "execute_result"
    }
   ],
   "source": [
    "a = np.arange(8).reshape((2,2,2))        # 2×2×2\n",
    "print(a)\n",
    "np.trace(a)                              # 2 diagonály: 0+6, 1+7"
   ]
  },
  {
   "attachments": {},
   "cell_type": "markdown",
   "metadata": {},
   "source": [
    "Inverze matice"
   ]
  },
  {
   "cell_type": "code",
   "execution_count": 53,
   "metadata": {},
   "outputs": [
    {
     "name": "stdout",
     "output_type": "stream",
     "text": [
      "[[1. 2.]\n",
      " [3. 4.]]\n",
      "[[-2.   1. ]\n",
      " [ 1.5 -0.5]]\n",
      "[[1.0000000e+00 0.0000000e+00]\n",
      " [8.8817842e-16 1.0000000e+00]]\n"
     ]
    },
    {
     "data": {
      "text/plain": [
       "True"
      ]
     },
     "execution_count": 53,
     "metadata": {},
     "output_type": "execute_result"
    }
   ],
   "source": [
    "from numpy.linalg import inv\n",
    "a = np.array([[1., 2.], [3., 4.]])\n",
    "ainv = inv(a)           # inverzní\n",
    "print(a)\n",
    "print(ainv)\n",
    "print(a @ ainv)         # kontrola\n",
    "np.allclose(a @ ainv, np.eye(2))"
   ]
  },
  {
   "attachments": {},
   "cell_type": "markdown",
   "metadata": {},
   "source": [
    "## Třída Matice\n",
    "pohodlné, ale nepřináší nic nového"
   ]
  },
  {
   "cell_type": "code",
   "execution_count": 55,
   "metadata": {},
   "outputs": [
    {
     "data": {
      "text/plain": [
       "array([[1, 2],\n",
       "       [3, 4]])"
      ]
     },
     "metadata": {},
     "output_type": "display_data"
    },
    {
     "data": {
      "text/plain": [
       "matrix([[1, 2],\n",
       "        [3, 4]])"
      ]
     },
     "execution_count": 55,
     "metadata": {},
     "output_type": "execute_result"
    }
   ],
   "source": [
    "A1 = np.array([1, 2, 3, 4]).reshape(2, 2)   # array\n",
    "display(A1)\n",
    "\n",
    "A = np.asmatrix('[1 2;3 4]')                # matrix (pův. np.mat)\n",
    "A"
   ]
  },
  {
   "attachments": {},
   "cell_type": "markdown",
   "metadata": {},
   "source": [
    "Transpozice, inverze"
   ]
  },
  {
   "cell_type": "code",
   "execution_count": 56,
   "metadata": {},
   "outputs": [
    {
     "data": {
      "text/plain": [
       "array([[1, 3],\n",
       "       [2, 4]])"
      ]
     },
     "metadata": {},
     "output_type": "display_data"
    },
    {
     "data": {
      "text/plain": [
       "array([[-2. ,  1. ],\n",
       "       [ 1.5, -0.5]])"
      ]
     },
     "metadata": {},
     "output_type": "display_data"
    },
    {
     "data": {
      "text/plain": [
       "matrix([[1, 3],\n",
       "        [2, 4]])"
      ]
     },
     "metadata": {},
     "output_type": "display_data"
    },
    {
     "data": {
      "text/plain": [
       "matrix([[-2. ,  1. ],\n",
       "        [ 1.5, -0.5]])"
      ]
     },
     "metadata": {},
     "output_type": "display_data"
    }
   ],
   "source": [
    "display(A1.T, np.linalg.inv(A1))            # array\n",
    "display(A.T, A.I)                           # matrix"
   ]
  },
  {
   "attachments": {},
   "cell_type": "markdown",
   "metadata": {},
   "source": [
    "Násobení matic a vektorů"
   ]
  },
  {
   "cell_type": "code",
   "execution_count": 58,
   "metadata": {},
   "outputs": [
    {
     "data": {
      "text/plain": [
       "matrix([[23, 34]])"
      ]
     },
     "metadata": {},
     "output_type": "display_data"
    },
    {
     "data": {
      "text/plain": [
       "matrix([[17],\n",
       "        [39]])"
      ]
     },
     "metadata": {},
     "output_type": "display_data"
    },
    {
     "data": {
      "text/plain": [
       "matrix([[23, 34]])"
      ]
     },
     "metadata": {},
     "output_type": "display_data"
    },
    {
     "data": {
      "text/plain": [
       "matrix([[17],\n",
       "        [39]])"
      ]
     },
     "execution_count": 58,
     "metadata": {},
     "output_type": "execute_result"
    }
   ],
   "source": [
    "b = np.asmatrix('[5 6]')                     # vektor jako matice\n",
    "display(b*A)\n",
    "display(A*b.T)\n",
    "display(b@A)\n",
    "A@b.T"
   ]
  },
  {
   "cell_type": "code",
   "execution_count": 59,
   "metadata": {},
   "outputs": [
    {
     "data": {
      "text/plain": [
       "array([23, 34])"
      ]
     },
     "metadata": {},
     "output_type": "display_data"
    },
    {
     "data": {
      "text/plain": [
       "array([17, 39])"
      ]
     },
     "metadata": {},
     "output_type": "display_data"
    },
    {
     "data": {
      "text/plain": [
       "array([[ 5, 12],\n",
       "       [15, 24]])"
      ]
     },
     "execution_count": 59,
     "metadata": {},
     "output_type": "execute_result"
    }
   ],
   "source": [
    "b1 = np.array([5, 6])                   # vektor jako pole\n",
    "display(b1@A1)\n",
    "display(A1@b1.T)\n",
    "b1*A1                                   # násobení po prvcích (+ broadcasting)"
   ]
  },
  {
   "attachments": {},
   "cell_type": "markdown",
   "metadata": {},
   "source": [
    "https://numpy.org/devdocs/reference/routines.linalg.html"
   ]
  }
 ],
 "metadata": {
  "kernelspec": {
   "display_name": "Python 3",
   "language": "python",
   "name": "python3"
  },
  "language_info": {
   "codemirror_mode": {
    "name": "ipython",
    "version": 3
   },
   "file_extension": ".py",
   "mimetype": "text/x-python",
   "name": "python",
   "nbconvert_exporter": "python",
   "pygments_lexer": "ipython3",
   "version": "3.13.1"
  },
  "orig_nbformat": 4
 },
 "nbformat": 4,
 "nbformat_minor": 2
}
