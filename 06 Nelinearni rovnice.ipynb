{
 "cells": [
  {
   "attachments": {},
   "cell_type": "markdown",
   "metadata": {},
   "source": [
    "## Nelineární rovnice\n"
   ]
  },
  {
   "attachments": {},
   "cell_type": "markdown",
   "metadata": {},
   "source": [
    "### Numerické řešení rovnic\n",
    "\n",
    "V tomto cvičení si ukážeme 3 metody, které nám pomohou vyhledat kořen nelineární rovnice."
   ]
  },
  {
   "cell_type": "code",
   "execution_count": null,
   "metadata": {},
   "outputs": [],
   "source": [
    "!python -m pip install matplotlib"
   ]
  },
  {
   "cell_type": "code",
   "execution_count": null,
   "metadata": {},
   "outputs": [],
   "source": [
    "!python -m pip install numpy"
   ]
  },
  {
   "cell_type": "code",
   "execution_count": null,
   "metadata": {},
   "outputs": [],
   "source": [
    "!python -m pip install scipy"
   ]
  },
  {
   "cell_type": "code",
   "execution_count": 1,
   "metadata": {},
   "outputs": [],
   "source": [
    "import numpy as np\n",
    "import matplotlib.pyplot as plt\n",
    "import scipy"
   ]
  },
  {
   "cell_type": "markdown",
   "metadata": {},
   "source": [
    "#### Funkce"
   ]
  },
  {
   "cell_type": "code",
   "execution_count": 3,
   "metadata": {},
   "outputs": [
    {
     "data": {
      "image/png": "[encoded data removed]",
      "text/plain": [
       "<Figure size 432x288 with 1 Axes>"
      ]
     },
     "metadata": {
      "needs_background": "light"
     },
     "output_type": "display_data"
    }
   ],
   "source": [
    "def f(x):\n",
    "    return 10 - x**2\n",
    "\n",
    "a0 = 0\n",
    "b0 = 4\n",
    "x = np.linspace(a0, b0, 10)\n",
    "plt.plot(x, f(x), \"r.\")             # f(x), červeně\n",
    "#plt.plot(x, [0]*len(x), \"b-\")       # seznam o 100 prvcích, všechny nulové\n",
    "plt.axhline(0, color='cyan')        # osa x\n",
    "\n",
    "plt.show()"
   ]
  },
  {
   "cell_type": "markdown",
   "metadata": {},
   "source": [
    "#### Cv.6.1: Bisekce (půlení intervalu)\n",
    "Postup metody bisekce (krok 𝑖)\n",
    "- Rozpůlíme interval $⟨𝑎^𝑖,𝑏^𝑖⟩$ tak, že $𝑥^𝑖=\\frac{𝑎^𝑖+𝑏^𝑖}2$.\n",
    "- Dostaneme subintervaly $⟨𝑎^𝑖,𝑥^𝑖⟩$ a $⟨𝑥^𝑖,𝑏^𝑖⟩$.\n",
    "- Posoudíme podmínku $𝑓(𝑎^𝑖 )⋅𝑓(𝑥^𝑖 )<0$ a $𝑓(𝑥^𝑖 )⋅𝑓(𝑏^𝑖 )<0$\n",
    "- Vybereme interval vyhovující podmínce a dostaneme nový interval $⟨𝑎^{𝑖+1},𝑏^{𝑖+1}⟩$\n",
    "- Celý postup opakujeme.\n",
    "<!--img src=\"MS6_soubory/bisekce.png\" alt=\"Drawing\" style=\"width: 600px;\"/-->"
   ]
  },
  {
   "cell_type": "code",
   "execution_count": 5,
   "metadata": {},
   "outputs": [
    {
     "name": "stdout",
     "output_type": "stream",
     "text": [
      "krok: 0 \tstřed: 2.0\n",
      "krok: 1 \tstřed: 3.0\n",
      "krok: 2 \tstřed: 3.5\n",
      "krok: 3 \tstřed: 3.25\n",
      "krok: 4 \tstřed: 3.125\n",
      "krok: 5 \tstřed: 3.1875\n",
      "krok: 6 \tstřed: 3.15625\n",
      "krok: 7 \tstřed: 3.171875\n",
      "[2.       3.       3.5      3.25     3.125    3.1875   3.15625  3.171875]\n"
     ]
    },
    {
     "data": {
      "image/png": "[encoded data removed]",
      "text/plain": [
       "<Figure size 432x288 with 1 Axes>"
      ]
     },
     "metadata": {
      "needs_background": "light"
     },
     "output_type": "display_data"
    }
   ],
   "source": [
    "a = a0                          # 0\n",
    "b = b0                          # 4\n",
    "n = 8                           # počet kroků (např. 3)\n",
    "xs = np.empty(shape=[n])        # pole 3x1 bez inicializace prvků (pro dílčí iterace)\n",
    "\n",
    "for i in range(n):\n",
    "    x = (a + b)/2               # střed\n",
    "    if f(a)*f(x) < 0:\n",
    "        b = x                   # osu protne vlevo\n",
    "    else:\n",
    "        a = x                   # osu protne vpravo\n",
    "    print(\"krok:\", i, \"\\tstřed:\", x)\n",
    "    xs[i] = x\n",
    "\n",
    "print(xs)                       # vykreslení řešení (bod)\n",
    "plt.axhline(0, color='cyan')                    # osa x\n",
    "x = np.linspace(a0, b0, 100)\n",
    "plt.plot(x, f(x), \"r\")          # vykreslení pův. fce\n",
    "plt.plot(xs, f(xs), \"bo\")\n",
    "plt.show()"
   ]
  },
  {
   "cell_type": "markdown",
   "metadata": {},
   "source": [
    "Iterační proces končí STOP podmínkou, pokud\n",
    "\n",
    "- nalezneme kořen rovnice,\n",
    "- je splněna konvergenční podmínka $\\space\\space b^k - a^k < 2\\epsilon $\n",
    "- $\\epsilon$ je požadovaná přesnost\n",
    "\n"
   ]
  },
  {
   "cell_type": "code",
   "execution_count": 6,
   "metadata": {},
   "outputs": [
    {
     "name": "stdout",
     "output_type": "stream",
     "text": [
      "1 \t 2.0\n",
      "2 \t 3.0\n",
      "3 \t 3.5\n",
      "4 \t 3.25\n",
      "5 \t 3.125\n",
      "6 \t 3.1875\n",
      "7 \t 3.15625\n",
      "8 \t 3.171875\n",
      "9 \t 3.1640625\n",
      "10 \t 3.16015625\n",
      "11 \t 3.162109375\n",
      "Řešení x = 3.162109375\n"
     ]
    },
    {
     "data": {
      "image/png": "[encoded data removed]",
      "text/plain": [
       "<Figure size 432x288 with 1 Axes>"
      ]
     },
     "metadata": {
      "needs_background": "light"
     },
     "output_type": "display_data"
    }
   ],
   "source": [
    "a = a0\n",
    "b = b0\n",
    "eps = 0.001\n",
    "i = 0\n",
    "\n",
    "while b - a > 2*eps:\n",
    "    i += 1                          # počitadlo iterací\n",
    "    x = (a + b)/2\n",
    "    if f(a)*f(x) < 0:\n",
    "        b = x\n",
    "    else:\n",
    "        a = x\n",
    "    print(i,\"\\t\", x)\n",
    "\n",
    "print(\"Řešení x =\",x)\n",
    "plt.axhline(0, color='cyan')                    # osa x\n",
    "plt.plot(x, f(x), \"bo\")             # vykreslení řešení (bod)\n",
    "vect_x = np.linspace(a0, b0, 100)   # pro vykreslení fce\n",
    "plt.plot(vect_x, f(vect_x), \"r\")    # vykreslení pův. fce\n",
    "plt.show()"
   ]
  },
  {
   "cell_type": "code",
   "execution_count": 9,
   "metadata": {},
   "outputs": [
    {
     "name": "stdout",
     "output_type": "stream",
     "text": [
      "3.162277660167092\n"
     ]
    }
   ],
   "source": [
    "from scipy import optimize\n",
    "\n",
    "x = optimize.bisect(f, a0, b0)\n",
    "print(x)"
   ]
  },
  {
   "cell_type": "markdown",
   "metadata": {},
   "source": [
    "#### Cv.6.2: Regula falsi (metoda tětiv)\n",
    "Na intervalu $\\langle a^i,b^i \\rangle$ určíme průsečík jako $$x^i = a^i - f(a^i)\\frac{b^i-a^i}{f(b^i) - f(a^i)}$$\n",
    "Dle podmínky $f(a)\\cdot f(b) < 0$ určíme, který z intervalů $\\langle a^i,x^i \\rangle$ nebo $\\langle x^i,b^i \\rangle$ budeme dále používat a označíme\n",
    "\n",
    "- $f(a^i)\\cdot f(x^i) <0 \\rightarrow b^i=x^i$\n",
    "- $f(x^i)\\cdot f(b^i) <0 \\rightarrow a^i=x^i$\n",
    "\n",
    "\n",
    "Celý postup opakujeme až do splnění STOP podmínky\n",
    "\n",
    "- $f(a^i)\\cdot f(b^i) \\leq \\delta$\n",
    "- $|x^{i+1} - x^i| \\leq \\delta$\n"
   ]
  },
  {
   "cell_type": "code",
   "execution_count": 7,
   "metadata": {},
   "outputs": [
    {
     "name": "stdout",
     "output_type": "stream",
     "text": [
      "1 \t 2.5\n",
      "2 \t 3.0769230769230766\n",
      "3 \t 3.152173913043478\n",
      "4 \t 3.161094224924012\n",
      "5 \t 3.16213921901528\n",
      "6 \t 3.162261467346213\n",
      "Řešení: x = 3.162261467346213\n"
     ]
    }
   ],
   "source": [
    "a = a0\n",
    "b = b0\n",
    "delta = 1E-3\n",
    "i = 0\n",
    "\n",
    "xnew = a\n",
    "while True:                 # nebo while abs(xnew - xold) > delta\n",
    "    i += 1\n",
    "    xold = xnew\n",
    "    xnew = a - f(a)*(b-a)/(f(b)-f(a))\n",
    "    print(i, \"\\t\", xnew)\n",
    "    if f(a)*f(xnew) < 0:\n",
    "        b = xnew                        # vlevo\n",
    "    else:\n",
    "        a = xnew                        # vpravo\n",
    "    if abs(xnew - xold) <= delta:\n",
    "        break\n",
    "print(\"Řešení: x =\", xnew)"
   ]
  },
  {
   "cell_type": "markdown",
   "metadata": {},
   "source": [
    "#### Cv.6.3: Newtonova metoda (metoda tečen)\n",
    "$$x^{i+1} = x^i - \\frac{f(x^i)}{f^{\\prime}(x^i)}$$\n",
    "Provedeme odhad kořene $x^{i+1}$ pomocí derivace fukce $f^{\\prime}(x)$\n",
    "\n",
    "iterujeme až do splnění STOP podmínky $|x^{i+1} - x^i| < \\delta$\n",
    "\n",
    "$\\delta$ je přesnost, se kterou chceme kořen rovnice najít"
   ]
  },
  {
   "cell_type": "code",
   "execution_count": 8,
   "metadata": {},
   "outputs": [
    {
     "name": "stdout",
     "output_type": "stream",
     "text": [
      "1 \t 3.500000000000165\n",
      "2 \t 3.1785714285714137\n",
      "3 \t 3.1623194221508797\n",
      "4 \t 3.1622776604441363\n",
      "Řešení: x = 3.1622776604441363\n"
     ]
    }
   ],
   "source": [
    "#derivace pomoci centralni diference\n",
    "def df(x, h = 1E-3):\n",
    "    return (f(x+h)-f(x-h))/(2*h)\n",
    "\n",
    "a = a0\n",
    "b = b0\n",
    "delta = 1E-3\n",
    "i = 0\n",
    "\n",
    "xnew = (a+b)/2\n",
    "xold = a\n",
    "while abs(xnew - xold) > delta:\n",
    "    i += 1\n",
    "    xold = xnew\n",
    "    xnew = xold - f(xold)/df(xold)\n",
    "    print(i, \"\\t\", xnew)\n",
    "print(\"Řešení: x =\", xnew)"
   ]
  },
  {
   "cell_type": "code",
   "execution_count": 9,
   "metadata": {},
   "outputs": [
    {
     "name": "stdout",
     "output_type": "stream",
     "text": [
      "3.1622776601683795\n"
     ]
    }
   ],
   "source": [
    "from scipy import optimize\n",
    "\n",
    "x = optimize.newton(f, x0=(a0+b0/2))\n",
    "print(x)"
   ]
  },
  {
   "cell_type": "markdown",
   "metadata": {},
   "source": [
    "### Samostatná cvičení"
   ]
  },
  {
   "cell_type": "markdown",
   "metadata": {},
   "source": [
    "#### Cv.6.1: Nalezněte kořeny funkcí\n",
    "Pomocí výše uvedených metod najděte kořeny následujících rovnic.\n",
    "\\begin{align*}\n",
    "  0 = & x + \\ln x\\\\\n",
    "  0 = & \\sin x - \\frac{1}{2}x \\\\\n",
    "  0 = & e^x + x^2 - 3 \\\\\n",
    "  0 = & x - e^{-x}\\\\\n",
    "  0 = & x\\arctan x -1\n",
    "\\end{align*}\n"
   ]
  },
  {
   "cell_type": "code",
   "execution_count": 10,
   "metadata": {},
   "outputs": [],
   "source": [
    "# obecná funkce pro vykreslení výsledku\n",
    "import numpy as np\n",
    "import matplotlib.pyplot as plt\n",
    "def plot_result(f, a0, b0, x, title):               # fce, poč. a konc. x, řešení, nadpis\n",
    "    print(\"kořen: \", x)\n",
    "    plt.title(title)\n",
    "    plt.axhline(0, color='cyan')                    # osa x\n",
    "    plt.plot(x, f(x), \"bo\")                         # kořen\n",
    "    vect_x = np.linspace(a0, b0, 100)\n",
    "    plt.plot(vect_x, f(vect_x), \"r\")                # fce\n",
    "    plt.show()"
   ]
  },
  {
   "cell_type": "code",
   "execution_count": 11,
   "metadata": {},
   "outputs": [],
   "source": [
    "def bisekce(f, a0, b0, eps=1E-3):\n",
    "    a, b = a0, b0\n",
    "    while b - a > 2*eps:\n",
    "        x = (a + b)/2\n",
    "        if f(a)*f(x) < 0:\n",
    "            b = x\n",
    "        else:\n",
    "            a = x\n",
    "    return x            "
   ]
  },
  {
   "cell_type": "code",
   "execution_count": 12,
   "metadata": {},
   "outputs": [],
   "source": [
    "def regula_falsi(f, a0, b0, delta=1E-3):\n",
    "    a, b = a0, b0\n",
    "    xnew = (a+b)/2\n",
    "    xold = a\n",
    "    while abs(xnew - xold) > delta:\n",
    "        xold = xnew\n",
    "        xnew = a - f(a)*(b-a)/(f(b)-f(a))\n",
    "        if f(a)*f(xnew) < 0:\n",
    "            b = xnew\n",
    "        else:\n",
    "            a = xnew\n",
    "    return xnew"
   ]
  },
  {
   "cell_type": "code",
   "execution_count": 13,
   "metadata": {},
   "outputs": [],
   "source": [
    "def newton(f, a0, b0, delta=1E-3):\n",
    "    a, b = a0, b0\n",
    "    def df(x, h = 1E-3):\n",
    "        return (f(x+h)-f(x-h))/(2*h)\n",
    "    xnew = (a+b)/2\n",
    "    xold = a\n",
    "    while abs(xnew - xold) > delta:\n",
    "        xold = xnew\n",
    "        xnew = xold - f(xold)/df(xold)\n",
    "    return xnew"
   ]
  },
  {
   "cell_type": "code",
   "execution_count": 14,
   "metadata": {},
   "outputs": [
    {
     "name": "stdout",
     "output_type": "stream",
     "text": [
      "kořen:  0.5665527343750001\n"
     ]
    },
    {
     "data": {
      "image/png": "[encoded data removed]",
      "text/plain": [
       "<Figure size 432x288 with 1 Axes>"
      ]
     },
     "metadata": {
      "needs_background": "light"
     },
     "output_type": "display_data"
    },
    {
     "name": "stdout",
     "output_type": "stream",
     "text": [
      "kořen:  1.8951017515189241\n"
     ]
    },
    {
     "data": {
      "image/png": "[encoded data removed]",
      "text/plain": [
       "<Figure size 432x288 with 1 Axes>"
      ]
     },
     "metadata": {
      "needs_background": "light"
     },
     "output_type": "display_data"
    },
    {
     "name": "stdout",
     "output_type": "stream",
     "text": [
      "kořen:  0.8306590728485705\n"
     ]
    },
    {
     "data": {
      "image/png": "[encoded data removed]",
      "text/plain": [
       "<Figure size 432x288 with 1 Axes>"
      ]
     },
     "metadata": {
      "needs_background": "light"
     },
     "output_type": "display_data"
    },
    {
     "name": "stdout",
     "output_type": "stream",
     "text": [
      "kořen:  0.567143290364994\n"
     ]
    },
    {
     "data": {
      "image/png": "[encoded data removed]",
      "text/plain": [
       "<Figure size 432x288 with 1 Axes>"
      ]
     },
     "metadata": {
      "needs_background": "light"
     },
     "output_type": "display_data"
    },
    {
     "name": "stdout",
     "output_type": "stream",
     "text": [
      "kořen:  1.1623398356584347\n"
     ]
    },
    {
     "data": {
      "image/png": "[encoded data removed]",
      "text/plain": [
       "<Figure size 432x288 with 1 Axes>"
      ]
     },
     "metadata": {
      "needs_background": "light"
     },
     "output_type": "display_data"
    }
   ],
   "source": [
    "# funkci pro vykreslení plot_result dáme jako jeden z parametrů spočítané řešení x\n",
    "func = lambda x: x + np.log(x)\n",
    "plot_result(f=func, a0=0.1, b0=4, x=bisekce(f=func, a0=0.1, b0=4), title=\"x + ln(x), bisekce\")\n",
    "\n",
    "func = lambda x: np.sin(x) - 0.5*x\n",
    "plot_result(f=func, a0=0.1, b0=4, x=regula_falsi(f=func, a0=0.1, b0=4), title=\"sin(x) - 0.5*x, regula falsi\")\n",
    "\n",
    "func = lambda x: np.exp(x) + x**2 - 3\n",
    "plot_result(f=func, a0=0.1, b0=4, x=regula_falsi(f=func, a0=0.1, b0=4), title=\"exp(x) + x**2 - 3, regula falsi\")\n",
    "\n",
    "func = lambda x: x - np.exp(-x)\n",
    "plot_result(f=func, a0=0.1, b0=4, x=newton(f=func, a0=0.1, b0=4), title=\"x - exp(-x), newton\")\n",
    "\n",
    "func = lambda x: x*np.arctan(x) - 1\n",
    "plot_result(f=func, a0=0.1, b0=4, x=newton(f=func, a0=0.1, b0=4),  title=\"x*arctan(x) - 1, newton\")"
   ]
  }
 ],
 "metadata": {
  "interpreter": {
   "hash": "bb3f59eb9c7d53cb6c2b99d3c5d391d8b3618a198a44fa91b3bf4167c685e33a"
  },
  "kernelspec": {
   "display_name": "Python 3.10.1 64-bit ('.venv': venv)",
   "language": "python",
   "name": "python3"
  },
  "language_info": {
   "codemirror_mode": {
    "name": "ipython",
    "version": 3
   },
   "file_extension": ".py",
   "mimetype": "text/x-python",
   "name": "python",
   "nbconvert_exporter": "python",
   "pygments_lexer": "ipython3",
   "version": "3.9.13"
  },
  "orig_nbformat": 4
 },
 "nbformat": 4,
 "nbformat_minor": 2
}
